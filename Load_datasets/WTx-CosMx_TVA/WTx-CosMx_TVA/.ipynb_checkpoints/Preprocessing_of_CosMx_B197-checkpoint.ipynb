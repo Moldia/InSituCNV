{
 "cells": [
  {
   "cell_type": "code",
   "execution_count": 9,
   "id": "727089e9-07e8-40ce-8601-df48bbe5fae4",
   "metadata": {},
   "outputs": [],
   "source": [
    "import scanpy as sc\n",
    "import pandas as pd\n",
    "import infercnvpy as cnv"
   ]
  },
  {
   "cell_type": "code",
   "execution_count": 5,
   "id": "a1e147b3-8082-42b5-8ddb-56ebbfe70b87",
   "metadata": {},
   "outputs": [],
   "source": [
    "adata = sc.read_h5ad('/home/augusta/SSS_mount/insituCNV/data/WTx-CosMx_TVA/WTx-CosMx/adata_1970164_processed_metadata.h5ad')"
   ]
  },
  {
   "cell_type": "code",
   "execution_count": null,
   "id": "ba8476e5-54d1-4319-8562-84fe23e2aa04",
   "metadata": {},
   "outputs": [],
   "source": [
    "adata"
   ]
  },
  {
   "cell_type": "markdown",
   "id": "7245803e-7302-4ed7-8e7d-37df8a2a35d6",
   "metadata": {},
   "source": [
    "#### Add genomic positions"
   ]
  },
  {
   "cell_type": "code",
   "execution_count": 12,
   "id": "b89b18cf-71a8-4bf9-ac86-4a0832564cb3",
   "metadata": {},
   "outputs": [
    {
     "data": {
      "text/html": [
       "<div>\n",
       "<style scoped>\n",
       "    .dataframe tbody tr th:only-of-type {\n",
       "        vertical-align: middle;\n",
       "    }\n",
       "\n",
       "    .dataframe tbody tr th {\n",
       "        vertical-align: top;\n",
       "    }\n",
       "\n",
       "    .dataframe thead th {\n",
       "        text-align: right;\n",
       "    }\n",
       "</style>\n",
       "<table border=\"1\" class=\"dataframe\">\n",
       "  <thead>\n",
       "    <tr style=\"text-align: right;\">\n",
       "      <th></th>\n",
       "      <th>ensg</th>\n",
       "      <th>chromosome</th>\n",
       "      <th>start</th>\n",
       "      <th>end</th>\n",
       "    </tr>\n",
       "    <tr>\n",
       "      <th>symbol</th>\n",
       "      <th></th>\n",
       "      <th></th>\n",
       "      <th></th>\n",
       "      <th></th>\n",
       "    </tr>\n",
       "  </thead>\n",
       "  <tbody>\n",
       "    <tr>\n",
       "      <th>AL645933.5</th>\n",
       "      <td>ENSG00000288587.1</td>\n",
       "      <td>chr6</td>\n",
       "      <td>31400702</td>\n",
       "      <td>31463705</td>\n",
       "    </tr>\n",
       "    <tr>\n",
       "      <th>AC010184.1</th>\n",
       "      <td>ENSG00000288585.1</td>\n",
       "      <td>chr3</td>\n",
       "      <td>141449745</td>\n",
       "      <td>141456434</td>\n",
       "    </tr>\n",
       "    <tr>\n",
       "      <th>AC023296.1</th>\n",
       "      <td>ENSG00000288580.1</td>\n",
       "      <td>chr8</td>\n",
       "      <td>2923568</td>\n",
       "      <td>2926689</td>\n",
       "    </tr>\n",
       "    <tr>\n",
       "      <th>AL117334.2</th>\n",
       "      <td>ENSG00000288577.1</td>\n",
       "      <td>chr20</td>\n",
       "      <td>3406380</td>\n",
       "      <td>3410036</td>\n",
       "    </tr>\n",
       "    <tr>\n",
       "      <th>AC107294.4</th>\n",
       "      <td>ENSG00000288576.1</td>\n",
       "      <td>chr3</td>\n",
       "      <td>184778723</td>\n",
       "      <td>184780720</td>\n",
       "    </tr>\n",
       "  </tbody>\n",
       "</table>\n",
       "</div>"
      ],
      "text/plain": [
       "                         ensg chromosome      start        end\n",
       "symbol                                                        \n",
       "AL645933.5  ENSG00000288587.1       chr6   31400702   31463705\n",
       "AC010184.1  ENSG00000288585.1       chr3  141449745  141456434\n",
       "AC023296.1  ENSG00000288580.1       chr8    2923568    2926689\n",
       "AL117334.2  ENSG00000288577.1      chr20    3406380    3410036\n",
       "AC107294.4  ENSG00000288576.1       chr3  184778723  184780720"
      ]
     },
     "execution_count": 12,
     "metadata": {},
     "output_type": "execute_result"
    }
   ],
   "source": [
    "dat = cnv.datasets.maynard2020_3k()\n",
    "dat.var.loc[:, [\"ensg\", \"chromosome\", \"start\", \"end\"]].head()"
   ]
  },
  {
   "cell_type": "code",
   "execution_count": 13,
   "id": "df8be9e7-31b4-47f7-b12e-2cb7057cc885",
   "metadata": {},
   "outputs": [],
   "source": [
    "adata=adata[:,adata.var.index.isin(dat.var['gene_name'])]"
   ]
  },
  {
   "cell_type": "code",
   "execution_count": 14,
   "id": "9df3156a-c68a-4b44-8445-2431a5e0909f",
   "metadata": {},
   "outputs": [],
   "source": [
    "name2gid=dict(zip(dat.var['gene_name'],dat.var['gene_id']))\n",
    "name2symbol=dict(zip(dat.var['gene_name'],dat.var.index))"
   ]
  },
  {
   "cell_type": "code",
   "execution_count": 15,
   "id": "ec76258a-8b7e-4dbd-adca-5dad922f46ca",
   "metadata": {},
   "outputs": [
    {
     "name": "stderr",
     "output_type": "stream",
     "text": [
      "/tmp/ipykernel_1853516/4285209568.py:1: ImplicitModificationWarning: Trying to modify attribute `.var` of view, initializing view as actual.\n",
      "  adata.var['gene_id']=adata.var.index.map(name2gid)\n"
     ]
    }
   ],
   "source": [
    "adata.var['gene_id']=adata.var.index.map(name2gid)\n",
    "adata.var['symbol']=adata.var.index.map(name2symbol)"
   ]
  },
  {
   "cell_type": "code",
   "execution_count": 16,
   "id": "056ce7b0-a3e1-4026-bac7-aac63ee02cbf",
   "metadata": {},
   "outputs": [],
   "source": [
    "name2ensg=dict(zip(dat.var['gene_name'],dat.var['ensg']))\n",
    "name2chromosome=dict(zip(dat.var['gene_name'],dat.var['chromosome']))\n",
    "name2start=dict(zip(dat.var['gene_name'],dat.var['start']))\n",
    "name2end=dict(zip(dat.var['gene_name'],dat.var['end']))"
   ]
  },
  {
   "cell_type": "code",
   "execution_count": 17,
   "id": "ae237f76-b0f3-44b2-802a-362337cca381",
   "metadata": {},
   "outputs": [],
   "source": [
    "adata.var['ensg']=adata.var.index.map(name2ensg)\n",
    "adata.var['chromosome']=adata.var.index.map(name2chromosome)\n",
    "adata.var['start']=adata.var.index.map(name2start)\n",
    "adata.var['end']=adata.var.index.map(name2end)"
   ]
  },
  {
   "cell_type": "markdown",
   "id": "a52f8359-b3b2-4bb5-bf98-e57e154384ae",
   "metadata": {},
   "source": [
    "#### Pre-processing of data, PCA, UMAP"
   ]
  },
  {
   "cell_type": "code",
   "execution_count": 18,
   "id": "5d1e50b8-fa4b-4a8b-b5c4-f71495602873",
   "metadata": {},
   "outputs": [],
   "source": [
    "sc.pp.filter_cells(adata,min_counts=10)\n",
    "adata.layers['raw']=adata.X"
   ]
  },
  {
   "cell_type": "code",
   "execution_count": 19,
   "id": "6e9d7643-e5e9-492a-95da-5753be574c71",
   "metadata": {},
   "outputs": [],
   "source": [
    "sc.pp.normalize_total(adata)\n",
    "sc.pp.log1p(adata)"
   ]
  },
  {
   "cell_type": "code",
   "execution_count": 20,
   "id": "8233d705-6b03-4fc4-9a67-a4d583f8a366",
   "metadata": {},
   "outputs": [],
   "source": [
    "sc.pp.pca(adata)"
   ]
  },
  {
   "cell_type": "code",
   "execution_count": 21,
   "id": "c7cc1b96-0311-4679-b462-6ac03feece58",
   "metadata": {},
   "outputs": [],
   "source": [
    "sc.pp.neighbors(adata,n_pcs=40)"
   ]
  },
  {
   "cell_type": "code",
   "execution_count": 22,
   "id": "1078eab0-98b6-47c4-a432-64a49714c249",
   "metadata": {},
   "outputs": [
    {
     "name": "stderr",
     "output_type": "stream",
     "text": [
      "/tmp/ipykernel_1853516/3467744858.py:1: FutureWarning: In the future, the default backend for leiden will be igraph instead of leidenalg.\n",
      "\n",
      " To achieve the future defaults please pass: flavor=\"igraph\" and n_iterations=2.  directed must also be False to work with igraph's implementation.\n",
      "  sc.tl.leiden(adata)\n"
     ]
    }
   ],
   "source": [
    "sc.tl.leiden(adata, n_iterations=2)"
   ]
  },
  {
   "cell_type": "code",
   "execution_count": 23,
   "id": "817fbb5e-6a9d-4b96-b29f-7fa1434d9170",
   "metadata": {},
   "outputs": [],
   "source": [
    "sc.tl.umap(adata)"
   ]
  },
  {
   "cell_type": "markdown",
   "id": "3e7e837d-efa9-449e-b37b-82648c48e598",
   "metadata": {},
   "source": [
    "#### Save the processed data"
   ]
  },
  {
   "cell_type": "code",
   "execution_count": null,
   "id": "6ee6b0ff-50cc-4870-a909-6759e03957fa",
   "metadata": {},
   "outputs": [
    {
     "name": "stderr",
     "output_type": "stream",
     "text": [
      "... storing 'chromosome' as categorical\n"
     ]
    }
   ],
   "source": [
    "adata.write(\"/home/augusta/SSS_mount/insituCNV/data/WTx-CosMx_TVA/WTx-CosMx/adata_1970164_processed_metadata_processed.h5ad\", compression = 'gzip')"
   ]
  }
 ],
 "metadata": {
  "kernelspec": {
   "display_name": "Python3.12.4 (scanpy_env)",
   "language": "python",
   "name": "scanpy_env"
  },
  "language_info": {
   "codemirror_mode": {
    "name": "ipython",
    "version": 3
   },
   "file_extension": ".py",
   "mimetype": "text/x-python",
   "name": "python",
   "nbconvert_exporter": "python",
   "pygments_lexer": "ipython3",
   "version": "3.12.4"
  }
 },
 "nbformat": 4,
 "nbformat_minor": 5
}
