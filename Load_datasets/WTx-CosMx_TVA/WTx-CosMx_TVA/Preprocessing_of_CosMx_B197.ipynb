{
 "cells": [
  {
   "cell_type": "code",
   "execution_count": 1,
   "id": "727089e9-07e8-40ce-8601-df48bbe5fae4",
   "metadata": {},
   "outputs": [],
   "source": [
    "import scanpy as sc\n",
    "import pandas as pd\n",
    "import infercnvpy as cnv"
   ]
  },
  {
   "cell_type": "code",
   "execution_count": 2,
   "id": "a1e147b3-8082-42b5-8ddb-56ebbfe70b87",
   "metadata": {},
   "outputs": [],
   "source": [
    "adata = sc.read_h5ad('/home/augusta/SSS_mount/insituCNV/data/WTx-CosMx_TVA/WTx-CosMx/adata_1970164_processed_metadata.h5ad')"
   ]
  },
  {
   "cell_type": "code",
   "execution_count": 3,
   "id": "ba8476e5-54d1-4319-8562-84fe23e2aa04",
   "metadata": {},
   "outputs": [
    {
     "data": {
      "text/plain": [
       "AnnData object with n_obs × n_vars = 609305 × 18946\n",
       "    obs: 'Unnamed: 0', 'fov', 'Area', 'AspectRatio', 'CenterX_local_px', 'CenterY_local_px', 'Width', 'Height', 'Mean.PanCK', 'Max.PanCK', 'Mean.CD68_CK8_18', 'Max.CD68_CK8_18', 'Mean.CD298_B2M', 'Max.CD298_B2M', 'Mean.CD45', 'Max.CD45', 'Mean.DAPI', 'Max.DAPI', 'cell_id', 'version', 'Run_name', 'Run_Tissue_name', 'tissue', 'Panel', 'assay_type', 'slide_ID', 'CenterX_global_px', 'CenterY_global_px', 'cell_ID', 'unassignedTranscripts', 'nCount_RNA', 'nFeature_RNA', 'nCount_negprobes', 'nFeature_negprobes', 'nCount_falsecode', 'nFeature_falsecode', 'Area.um2', 'cell', 'sid', 'add_cell_id', 'add_ist', 'add_sub'\n",
       "    var: 'Unnamed: 0', 'start', 'end', 'width', 'names'"
      ]
     },
     "execution_count": 3,
     "metadata": {},
     "output_type": "execute_result"
    }
   ],
   "source": [
    "adata"
   ]
  },
  {
   "cell_type": "markdown",
   "id": "7245803e-7302-4ed7-8e7d-37df8a2a35d6",
   "metadata": {},
   "source": [
    "#### Add genomic positions"
   ]
  },
  {
   "cell_type": "code",
   "execution_count": 4,
   "id": "b89b18cf-71a8-4bf9-ac86-4a0832564cb3",
   "metadata": {},
   "outputs": [
    {
     "data": {
      "text/html": [
       "<div>\n",
       "<style scoped>\n",
       "    .dataframe tbody tr th:only-of-type {\n",
       "        vertical-align: middle;\n",
       "    }\n",
       "\n",
       "    .dataframe tbody tr th {\n",
       "        vertical-align: top;\n",
       "    }\n",
       "\n",
       "    .dataframe thead th {\n",
       "        text-align: right;\n",
       "    }\n",
       "</style>\n",
       "<table border=\"1\" class=\"dataframe\">\n",
       "  <thead>\n",
       "    <tr style=\"text-align: right;\">\n",
       "      <th></th>\n",
       "      <th>ensg</th>\n",
       "      <th>chromosome</th>\n",
       "      <th>start</th>\n",
       "      <th>end</th>\n",
       "    </tr>\n",
       "    <tr>\n",
       "      <th>symbol</th>\n",
       "      <th></th>\n",
       "      <th></th>\n",
       "      <th></th>\n",
       "      <th></th>\n",
       "    </tr>\n",
       "  </thead>\n",
       "  <tbody>\n",
       "    <tr>\n",
       "      <th>AL645933.5</th>\n",
       "      <td>ENSG00000288587.1</td>\n",
       "      <td>chr6</td>\n",
       "      <td>31400702</td>\n",
       "      <td>31463705</td>\n",
       "    </tr>\n",
       "    <tr>\n",
       "      <th>AC010184.1</th>\n",
       "      <td>ENSG00000288585.1</td>\n",
       "      <td>chr3</td>\n",
       "      <td>141449745</td>\n",
       "      <td>141456434</td>\n",
       "    </tr>\n",
       "    <tr>\n",
       "      <th>AC023296.1</th>\n",
       "      <td>ENSG00000288580.1</td>\n",
       "      <td>chr8</td>\n",
       "      <td>2923568</td>\n",
       "      <td>2926689</td>\n",
       "    </tr>\n",
       "    <tr>\n",
       "      <th>AL117334.2</th>\n",
       "      <td>ENSG00000288577.1</td>\n",
       "      <td>chr20</td>\n",
       "      <td>3406380</td>\n",
       "      <td>3410036</td>\n",
       "    </tr>\n",
       "    <tr>\n",
       "      <th>AC107294.4</th>\n",
       "      <td>ENSG00000288576.1</td>\n",
       "      <td>chr3</td>\n",
       "      <td>184778723</td>\n",
       "      <td>184780720</td>\n",
       "    </tr>\n",
       "  </tbody>\n",
       "</table>\n",
       "</div>"
      ],
      "text/plain": [
       "                         ensg chromosome      start        end\n",
       "symbol                                                        \n",
       "AL645933.5  ENSG00000288587.1       chr6   31400702   31463705\n",
       "AC010184.1  ENSG00000288585.1       chr3  141449745  141456434\n",
       "AC023296.1  ENSG00000288580.1       chr8    2923568    2926689\n",
       "AL117334.2  ENSG00000288577.1      chr20    3406380    3410036\n",
       "AC107294.4  ENSG00000288576.1       chr3  184778723  184780720"
      ]
     },
     "execution_count": 4,
     "metadata": {},
     "output_type": "execute_result"
    }
   ],
   "source": [
    "dat = cnv.datasets.maynard2020_3k()\n",
    "dat.var.loc[:, [\"ensg\", \"chromosome\", \"start\", \"end\"]].head()"
   ]
  },
  {
   "cell_type": "code",
   "execution_count": 5,
   "id": "df8be9e7-31b4-47f7-b12e-2cb7057cc885",
   "metadata": {},
   "outputs": [],
   "source": [
    "adata=adata[:,adata.var.index.isin(dat.var['gene_name'])]"
   ]
  },
  {
   "cell_type": "code",
   "execution_count": 6,
   "id": "9df3156a-c68a-4b44-8445-2431a5e0909f",
   "metadata": {},
   "outputs": [],
   "source": [
    "name2gid=dict(zip(dat.var['gene_name'],dat.var['gene_id']))\n",
    "name2symbol=dict(zip(dat.var['gene_name'],dat.var.index))"
   ]
  },
  {
   "cell_type": "code",
   "execution_count": 7,
   "id": "ec76258a-8b7e-4dbd-adca-5dad922f46ca",
   "metadata": {},
   "outputs": [
    {
     "name": "stderr",
     "output_type": "stream",
     "text": [
      "/tmp/ipykernel_1967550/4285209568.py:1: ImplicitModificationWarning: Trying to modify attribute `.var` of view, initializing view as actual.\n",
      "  adata.var['gene_id']=adata.var.index.map(name2gid)\n"
     ]
    }
   ],
   "source": [
    "adata.var['gene_id']=adata.var.index.map(name2gid)\n",
    "adata.var['symbol']=adata.var.index.map(name2symbol)"
   ]
  },
  {
   "cell_type": "code",
   "execution_count": 8,
   "id": "056ce7b0-a3e1-4026-bac7-aac63ee02cbf",
   "metadata": {},
   "outputs": [],
   "source": [
    "name2ensg=dict(zip(dat.var['gene_name'],dat.var['ensg']))\n",
    "name2chromosome=dict(zip(dat.var['gene_name'],dat.var['chromosome']))\n",
    "name2start=dict(zip(dat.var['gene_name'],dat.var['start']))\n",
    "name2end=dict(zip(dat.var['gene_name'],dat.var['end']))"
   ]
  },
  {
   "cell_type": "code",
   "execution_count": 9,
   "id": "ae237f76-b0f3-44b2-802a-362337cca381",
   "metadata": {},
   "outputs": [],
   "source": [
    "adata.var['ensg']=adata.var.index.map(name2ensg)\n",
    "adata.var['chromosome']=adata.var.index.map(name2chromosome)\n",
    "adata.var['start']=adata.var.index.map(name2start)\n",
    "adata.var['end']=adata.var.index.map(name2end)"
   ]
  },
  {
   "cell_type": "markdown",
   "id": "a52f8359-b3b2-4bb5-bf98-e57e154384ae",
   "metadata": {},
   "source": [
    "#### Pre-processing of data, PCA, UMAP"
   ]
  },
  {
   "cell_type": "code",
   "execution_count": 15,
   "id": "3c7db030-7c44-43ab-9b84-5f00649433a6",
   "metadata": {
    "scrolled": true
   },
   "outputs": [
    {
     "name": "stdout",
     "output_type": "stream",
     "text": [
      "  (0, 122)\t1.0\n",
      "  (0, 201)\t1.0\n",
      "  (0, 305)\t1.0\n",
      "  (0, 435)\t1.0\n",
      "  (0, 535)\t1.0\n",
      "  (0, 592)\t1.0\n",
      "  (0, 605)\t1.0\n",
      "  (0, 724)\t1.0\n",
      "  (0, 806)\t1.0\n",
      "  (0, 913)\t1.0\n",
      "  (0, 994)\t1.0\n",
      "  (0, 1094)\t1.0\n",
      "  (0, 1160)\t1.0\n",
      "  (0, 1201)\t1.0\n",
      "  (0, 1363)\t1.0\n",
      "  (0, 1407)\t1.0\n",
      "  (0, 1444)\t1.0\n",
      "  (0, 1485)\t1.0\n",
      "  (0, 1546)\t1.0\n",
      "  (0, 1597)\t1.0\n",
      "  (0, 1770)\t1.0\n",
      "  (0, 1774)\t1.0\n",
      "  (0, 1841)\t1.0\n",
      "  (0, 1909)\t1.0\n",
      "  (0, 1923)\t1.0\n",
      "  :\t:\n",
      "  (609304, 16562)\t1.0\n",
      "  (609304, 16621)\t1.0\n",
      "  (609304, 16628)\t1.0\n",
      "  (609304, 16651)\t3.0\n",
      "  (609304, 16662)\t2.0\n",
      "  (609304, 16856)\t1.0\n",
      "  (609304, 16907)\t2.0\n",
      "  (609304, 16958)\t1.0\n",
      "  (609304, 16987)\t2.0\n",
      "  (609304, 17026)\t1.0\n",
      "  (609304, 17074)\t1.0\n",
      "  (609304, 17095)\t1.0\n",
      "  (609304, 17128)\t1.0\n",
      "  (609304, 17225)\t1.0\n",
      "  (609304, 17411)\t1.0\n",
      "  (609304, 17573)\t1.0\n",
      "  (609304, 17736)\t1.0\n",
      "  (609304, 17741)\t1.0\n",
      "  (609304, 17799)\t1.0\n",
      "  (609304, 18222)\t1.0\n",
      "  (609304, 18227)\t1.0\n",
      "  (609304, 18339)\t1.0\n",
      "  (609304, 18388)\t1.0\n",
      "  (609304, 18448)\t1.0\n",
      "  (609304, 18535)\t1.0\n"
     ]
    }
   ],
   "source": [
    "print(adata.layers['raw'])"
   ]
  },
  {
   "cell_type": "code",
   "execution_count": 14,
   "id": "ea36cd7b-dbc7-4f7e-9130-30838daa97f4",
   "metadata": {},
   "outputs": [],
   "source": [
    "sc.pp.filter_cells(adata,min_counts=10)\n",
    "adata.layers['raw']=adata.X.copy()"
   ]
  },
  {
   "cell_type": "code",
   "execution_count": 16,
   "id": "6e9d7643-e5e9-492a-95da-5753be574c71",
   "metadata": {},
   "outputs": [],
   "source": [
    "sc.pp.normalize_total(adata)\n",
    "sc.pp.log1p(adata)"
   ]
  },
  {
   "cell_type": "code",
   "execution_count": 18,
   "id": "4c5144c3-2aa8-4d42-b821-2e17bf7b934e",
   "metadata": {
    "scrolled": true
   },
   "outputs": [
    {
     "name": "stdout",
     "output_type": "stream",
     "text": [
      "  (0, 122)\t1.0\n",
      "  (0, 201)\t1.0\n",
      "  (0, 305)\t1.0\n",
      "  (0, 435)\t1.0\n",
      "  (0, 535)\t1.0\n",
      "  (0, 592)\t1.0\n",
      "  (0, 605)\t1.0\n",
      "  (0, 724)\t1.0\n",
      "  (0, 806)\t1.0\n",
      "  (0, 913)\t1.0\n",
      "  (0, 994)\t1.0\n",
      "  (0, 1094)\t1.0\n",
      "  (0, 1160)\t1.0\n",
      "  (0, 1201)\t1.0\n",
      "  (0, 1363)\t1.0\n",
      "  (0, 1407)\t1.0\n",
      "  (0, 1444)\t1.0\n",
      "  (0, 1485)\t1.0\n",
      "  (0, 1546)\t1.0\n",
      "  (0, 1597)\t1.0\n",
      "  (0, 1770)\t1.0\n",
      "  (0, 1774)\t1.0\n",
      "  (0, 1841)\t1.0\n",
      "  (0, 1909)\t1.0\n",
      "  (0, 1923)\t1.0\n",
      "  :\t:\n",
      "  (609304, 16562)\t1.0\n",
      "  (609304, 16621)\t1.0\n",
      "  (609304, 16628)\t1.0\n",
      "  (609304, 16651)\t3.0\n",
      "  (609304, 16662)\t2.0\n",
      "  (609304, 16856)\t1.0\n",
      "  (609304, 16907)\t2.0\n",
      "  (609304, 16958)\t1.0\n",
      "  (609304, 16987)\t2.0\n",
      "  (609304, 17026)\t1.0\n",
      "  (609304, 17074)\t1.0\n",
      "  (609304, 17095)\t1.0\n",
      "  (609304, 17128)\t1.0\n",
      "  (609304, 17225)\t1.0\n",
      "  (609304, 17411)\t1.0\n",
      "  (609304, 17573)\t1.0\n",
      "  (609304, 17736)\t1.0\n",
      "  (609304, 17741)\t1.0\n",
      "  (609304, 17799)\t1.0\n",
      "  (609304, 18222)\t1.0\n",
      "  (609304, 18227)\t1.0\n",
      "  (609304, 18339)\t1.0\n",
      "  (609304, 18388)\t1.0\n",
      "  (609304, 18448)\t1.0\n",
      "  (609304, 18535)\t1.0\n"
     ]
    }
   ],
   "source": [
    "print(adata.layers['raw'])"
   ]
  },
  {
   "cell_type": "code",
   "execution_count": 19,
   "id": "8233d705-6b03-4fc4-9a67-a4d583f8a366",
   "metadata": {},
   "outputs": [],
   "source": [
    "sc.pp.pca(adata)"
   ]
  },
  {
   "cell_type": "code",
   "execution_count": 20,
   "id": "c7cc1b96-0311-4679-b462-6ac03feece58",
   "metadata": {},
   "outputs": [],
   "source": [
    "sc.pp.neighbors(adata,n_pcs=40)"
   ]
  },
  {
   "cell_type": "code",
   "execution_count": 21,
   "id": "1078eab0-98b6-47c4-a432-64a49714c249",
   "metadata": {},
   "outputs": [],
   "source": [
    "sc.tl.leiden(adata, n_iterations=2)"
   ]
  },
  {
   "cell_type": "code",
   "execution_count": 22,
   "id": "817fbb5e-6a9d-4b96-b29f-7fa1434d9170",
   "metadata": {},
   "outputs": [],
   "source": [
    "sc.tl.umap(adata)"
   ]
  },
  {
   "cell_type": "markdown",
   "id": "3e7e837d-efa9-449e-b37b-82648c48e598",
   "metadata": {},
   "source": [
    "#### Save the processed data"
   ]
  },
  {
   "cell_type": "code",
   "execution_count": 23,
   "id": "6ee6b0ff-50cc-4870-a909-6759e03957fa",
   "metadata": {},
   "outputs": [
    {
     "name": "stderr",
     "output_type": "stream",
     "text": [
      "... storing 'chromosome' as categorical\n"
     ]
    }
   ],
   "source": [
    "adata.write(\"/home/augusta/SSS_mount/insituCNV/data/WTx-CosMx_TVA/WTx-CosMx/adata_1970164_processed_metadata_processed.h5ad\", compression = 'gzip')"
   ]
  }
 ],
 "metadata": {
  "kernelspec": {
   "display_name": "scanpy_env",
   "language": "python",
   "name": "scanpy_env"
  },
  "language_info": {
   "codemirror_mode": {
    "name": "ipython",
    "version": 3
   },
   "file_extension": ".py",
   "mimetype": "text/x-python",
   "name": "python",
   "nbconvert_exporter": "python",
   "pygments_lexer": "ipython3",
   "version": "3.11.8"
  }
 },
 "nbformat": 4,
 "nbformat_minor": 5
}
