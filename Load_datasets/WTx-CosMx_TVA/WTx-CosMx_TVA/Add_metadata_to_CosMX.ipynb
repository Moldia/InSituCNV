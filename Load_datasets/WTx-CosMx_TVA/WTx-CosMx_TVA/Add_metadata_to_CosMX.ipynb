{
 "cells": [
  {
   "cell_type": "code",
   "execution_count": 1,
   "id": "ac3a09e6-d81e-4d38-99b9-04185c7e1031",
   "metadata": {},
   "outputs": [],
   "source": [
    "import scanpy as sc\n",
    "import pandas as pd"
   ]
  },
  {
   "cell_type": "code",
   "execution_count": 16,
   "id": "eb2ab903-8ac4-44f5-96f1-fa33301b6286",
   "metadata": {},
   "outputs": [
    {
     "name": "stderr",
     "output_type": "stream",
     "text": [
      "/home/augusta/anaconda3/envs/scanpy_env/lib/python3.12/site-packages/anndata/_core/aligned_df.py:67: ImplicitModificationWarning: Transforming to str index.\n",
      "  warnings.warn(\"Transforming to str index.\", ImplicitModificationWarning)\n",
      "/home/augusta/anaconda3/envs/scanpy_env/lib/python3.12/site-packages/anndata/_core/aligned_df.py:67: ImplicitModificationWarning: Transforming to str index.\n",
      "  warnings.warn(\"Transforming to str index.\", ImplicitModificationWarning)\n"
     ]
    }
   ],
   "source": [
    "# adata = sc.read_h5ad(\"/home/augusta/SSS_mount/insituCNV/data/WTx-CosMx_TVA/WTx-CosMx/adata_1970164_processed.h5ad\")\n",
    "adata = sc.read_h5ad(\"/home/augusta/SSS_mount/insituCNV/data/WTx-CosMx_TVA/WTx-CosMx/adata_2080151_processed.h5ad\")"
   ]
  },
  {
   "cell_type": "code",
   "execution_count": 17,
   "id": "fbafcb56-641d-4ec4-a281-9a3bce4ea0f0",
   "metadata": {},
   "outputs": [
    {
     "data": {
      "text/plain": [
       "AnnData object with n_obs × n_vars = 696493 × 18946\n",
       "    obs: 'Unnamed: 0', 'fov', 'Area', 'AspectRatio', 'CenterX_local_px', 'CenterY_local_px', 'Width', 'Height', 'Mean.PanCK', 'Max.PanCK', 'Mean.CD68_CK8_18', 'Max.CD68_CK8_18', 'Mean.CD298_B2M', 'Max.CD298_B2M', 'Mean.CD45', 'Max.CD45', 'Mean.DAPI', 'Max.DAPI', 'cell_id', 'version', 'Run_name', 'Run_Tissue_name', 'tissue', 'Panel', 'assay_type', 'slide_ID', 'CenterX_global_px', 'CenterY_global_px', 'cell_ID', 'unassignedTranscripts', 'nCount_RNA', 'nFeature_RNA', 'nCount_negprobes', 'nFeature_negprobes', 'nCount_falsecode', 'nFeature_falsecode', 'Area.um2', 'cell', 'sid'\n",
       "    var: 'Unnamed: 0', 'start', 'end', 'width', 'names'"
      ]
     },
     "execution_count": 17,
     "metadata": {},
     "output_type": "execute_result"
    }
   ],
   "source": [
    "adata"
   ]
  },
  {
   "cell_type": "code",
   "execution_count": 24,
   "id": "8130358a-763d-4460-995c-f358b71f5952",
   "metadata": {},
   "outputs": [
    {
     "data": {
      "text/plain": [
       "0              c_1_1_1\n",
       "1              c_1_1_2\n",
       "2              c_1_1_3\n",
       "3              c_1_1_4\n",
       "4              c_1_1_5\n",
       "              ...     \n",
       "696488    c_1_384_1675\n",
       "696489    c_1_384_1676\n",
       "696490    c_1_384_1677\n",
       "696491    c_1_384_1678\n",
       "696492    c_1_384_1679\n",
       "Name: cell, Length: 696493, dtype: object"
      ]
     },
     "execution_count": 24,
     "metadata": {},
     "output_type": "execute_result"
    }
   ],
   "source": [
    "adata.obs.cell"
   ]
  },
  {
   "cell_type": "code",
   "execution_count": 30,
   "id": "841893ba-330c-4f20-be6e-62d113ae051f",
   "metadata": {},
   "outputs": [],
   "source": [
    "# adata.write_h5ad(\"/home/augusta/SSS_mount/insituCNV/data/WTx-CosMx_TVA/WTx-CosMx/adata_1970164-002_comp.h5ad\", compression='gzip')"
   ]
  },
  {
   "cell_type": "code",
   "execution_count": 25,
   "id": "56b0b828-e9c6-498d-bce1-9fba57791f0c",
   "metadata": {},
   "outputs": [],
   "source": [
    "adata.obs_names = adata.obs[\"cell\"]\n",
    "adata.var_names = adata.var[\"names\"]"
   ]
  },
  {
   "cell_type": "code",
   "execution_count": 26,
   "id": "6e81ec97-0655-47a4-a990-88ac9ab99019",
   "metadata": {},
   "outputs": [
    {
     "data": {
      "text/html": [
       "<div>\n",
       "<style scoped>\n",
       "    .dataframe tbody tr th:only-of-type {\n",
       "        vertical-align: middle;\n",
       "    }\n",
       "\n",
       "    .dataframe tbody tr th {\n",
       "        vertical-align: top;\n",
       "    }\n",
       "\n",
       "    .dataframe thead th {\n",
       "        text-align: right;\n",
       "    }\n",
       "</style>\n",
       "<table border=\"1\" class=\"dataframe\">\n",
       "  <thead>\n",
       "    <tr style=\"text-align: right;\">\n",
       "      <th></th>\n",
       "      <th>cell_id</th>\n",
       "      <th>ist</th>\n",
       "      <th>sub</th>\n",
       "    </tr>\n",
       "  </thead>\n",
       "  <tbody>\n",
       "    <tr>\n",
       "      <th>c_1_1_23</th>\n",
       "      <td>c_1_1_23</td>\n",
       "      <td>epi. stem 3</td>\n",
       "      <td>epithelia</td>\n",
       "    </tr>\n",
       "    <tr>\n",
       "      <th>c_1_1_24</th>\n",
       "      <td>c_1_1_24</td>\n",
       "      <td>epi. trans.</td>\n",
       "      <td>epithelia</td>\n",
       "    </tr>\n",
       "    <tr>\n",
       "      <th>c_1_1_25</th>\n",
       "      <td>c_1_1_25</td>\n",
       "      <td>epi. trans.</td>\n",
       "      <td>epithelia</td>\n",
       "    </tr>\n",
       "    <tr>\n",
       "      <th>c_1_1_26</th>\n",
       "      <td>c_1_1_26</td>\n",
       "      <td>epi. trans.</td>\n",
       "      <td>epithelia</td>\n",
       "    </tr>\n",
       "    <tr>\n",
       "      <th>c_1_1_28</th>\n",
       "      <td>c_1_1_28</td>\n",
       "      <td>epi. stem 3</td>\n",
       "      <td>epithelia</td>\n",
       "    </tr>\n",
       "    <tr>\n",
       "      <th>...</th>\n",
       "      <td>...</td>\n",
       "      <td>...</td>\n",
       "      <td>...</td>\n",
       "    </tr>\n",
       "    <tr>\n",
       "      <th>c_1_384_1619</th>\n",
       "      <td>c_1_384_1619</td>\n",
       "      <td>epi.</td>\n",
       "      <td>stromal</td>\n",
       "    </tr>\n",
       "    <tr>\n",
       "      <th>c_1_384_1620</th>\n",
       "      <td>c_1_384_1620</td>\n",
       "      <td>PC</td>\n",
       "      <td>stromal</td>\n",
       "    </tr>\n",
       "    <tr>\n",
       "      <th>c_1_384_1627</th>\n",
       "      <td>c_1_384_1627</td>\n",
       "      <td>fib. 3</td>\n",
       "      <td>stromal</td>\n",
       "    </tr>\n",
       "    <tr>\n",
       "      <th>c_1_384_1640</th>\n",
       "      <td>c_1_384_1640</td>\n",
       "      <td>fib. CXCL14</td>\n",
       "      <td>stromal</td>\n",
       "    </tr>\n",
       "    <tr>\n",
       "      <th>c_1_384_1654</th>\n",
       "      <td>c_1_384_1654</td>\n",
       "      <td>fib. 3</td>\n",
       "      <td>stromal</td>\n",
       "    </tr>\n",
       "  </tbody>\n",
       "</table>\n",
       "<p>497627 rows × 3 columns</p>\n",
       "</div>"
      ],
      "text/plain": [
       "                   cell_id          ist        sub\n",
       "c_1_1_23          c_1_1_23  epi. stem 3  epithelia\n",
       "c_1_1_24          c_1_1_24  epi. trans.  epithelia\n",
       "c_1_1_25          c_1_1_25  epi. trans.  epithelia\n",
       "c_1_1_26          c_1_1_26  epi. trans.  epithelia\n",
       "c_1_1_28          c_1_1_28  epi. stem 3  epithelia\n",
       "...                    ...          ...        ...\n",
       "c_1_384_1619  c_1_384_1619         epi.    stromal\n",
       "c_1_384_1620  c_1_384_1620           PC    stromal\n",
       "c_1_384_1627  c_1_384_1627       fib. 3    stromal\n",
       "c_1_384_1640  c_1_384_1640  fib. CXCL14    stromal\n",
       "c_1_384_1654  c_1_384_1654       fib. 3    stromal\n",
       "\n",
       "[497627 rows x 3 columns]"
      ]
     },
     "execution_count": 26,
     "metadata": {},
     "output_type": "execute_result"
    }
   ],
   "source": [
    "# metadata = pd.read_csv(\"/home/augusta/SSS_mount/insituCNV/data/WTx-CosMx_TVA/WTx-CosMx/metadata_add-B-1970164-01-04_2.csv\", index_col=0)\n",
    "metadata = pd.read_csv(\"/home/augusta/SSS_mount/insituCNV/data/WTx-CosMx_TVA/WTx-CosMx/metadata_add-B-2080151-01-18_2.csv\", index_col=0)\n",
    "metadata"
   ]
  },
  {
   "cell_type": "code",
   "execution_count": 27,
   "id": "0a4614cc-057f-46bb-8c53-fc81457a4e37",
   "metadata": {},
   "outputs": [
    {
     "data": {
      "text/plain": [
       "Index(['c_1_1_23', 'c_1_1_24', 'c_1_1_25', 'c_1_1_26', 'c_1_1_28', 'c_1_1_30',\n",
       "       'c_1_1_31', 'c_1_1_33', 'c_1_1_34', 'c_1_1_35',\n",
       "       ...\n",
       "       'c_1_384_1590', 'c_1_384_1593', 'c_1_384_1594', 'c_1_384_1606',\n",
       "       'c_1_384_1608', 'c_1_384_1619', 'c_1_384_1620', 'c_1_384_1627',\n",
       "       'c_1_384_1640', 'c_1_384_1654'],\n",
       "      dtype='object', length=497627)"
      ]
     },
     "execution_count": 27,
     "metadata": {},
     "output_type": "execute_result"
    }
   ],
   "source": [
    "shared_index = metadata.index.intersection(adata.obs_names)\n",
    "shared_index"
   ]
  },
  {
   "cell_type": "code",
   "execution_count": 28,
   "id": "a3ef0647-b3fc-4ebf-bcba-b7569957fd11",
   "metadata": {},
   "outputs": [],
   "source": [
    "adata_filtered = adata[shared_index].copy()  # Subset adata for shared cells"
   ]
  },
  {
   "cell_type": "code",
   "execution_count": 29,
   "id": "667beca6-5a38-4f7e-8473-bc307ac38732",
   "metadata": {
    "scrolled": true
   },
   "outputs": [],
   "source": [
    "for column in metadata.columns:\n",
    "    column_name = f\"add_{column}\"\n",
    "    adata_filtered.obs[column_name] = metadata[column].values"
   ]
  },
  {
   "cell_type": "code",
   "execution_count": 30,
   "id": "cda6b47f-a7f6-4bca-bfdf-6e970d29e6ad",
   "metadata": {},
   "outputs": [
    {
     "data": {
      "text/plain": [
       "{'BC mem.',\n",
       " 'DC',\n",
       " 'EC cap.',\n",
       " 'EC lym. ',\n",
       " 'EC ven.',\n",
       " 'PC',\n",
       " 'PC IgA1',\n",
       " 'PC IgG1',\n",
       " 'PC IgM',\n",
       " 'SMC',\n",
       " 'TC',\n",
       " 'TC naive/mem.',\n",
       " 'epi.',\n",
       " 'epi. absorp. 1',\n",
       " 'epi. absorp. 2',\n",
       " 'epi. fetal 1',\n",
       " 'epi. fetal 2',\n",
       " 'epi. fetal 3',\n",
       " 'epi. secret.',\n",
       " 'epi. secret. progen.',\n",
       " 'epi. stem 1',\n",
       " 'epi. stem 2',\n",
       " 'epi. stem 3',\n",
       " 'epi. trans.',\n",
       " 'epi.N absorp.',\n",
       " 'epi.N goblet',\n",
       " 'epi.N mixed',\n",
       " 'fib. 1',\n",
       " 'fib. 2',\n",
       " 'fib. 3',\n",
       " 'fib. ADAMDEC1/APOE',\n",
       " 'fib. CCL19',\n",
       " 'fib. CXCL14',\n",
       " 'fibro.',\n",
       " 'gran.',\n",
       " 'immune',\n",
       " 'macro. PV',\n",
       " 'macro. TR',\n",
       " 'mast cells',\n",
       " 'mono. class',\n",
       " 'mono. class.'}"
      ]
     },
     "execution_count": 30,
     "metadata": {},
     "output_type": "execute_result"
    }
   ],
   "source": [
    "set(adata_filtered.obs.add_ist.unique())"
   ]
  },
  {
   "cell_type": "code",
   "execution_count": 31,
   "id": "2f7951c8-3d60-4b6c-b1b2-1c1521b1e0fd",
   "metadata": {},
   "outputs": [],
   "source": [
    "# adata_filtered.write_h5ad('/home/augusta/SSS_mount/insituCNV/data/WTx-CosMx_TVA/WTx-CosMx/adata_1970164_processed_metadata.h5ad', compression='gzip')\n",
    "adata_filtered.write_h5ad('/home/augusta/SSS_mount/insituCNV/data/WTx-CosMx_TVA/WTx-CosMx/adata_2080151_processed_metadata.h5ad', compression='gzip')"
   ]
  },
  {
   "cell_type": "code",
   "execution_count": null,
   "id": "091fbb02-d7e3-49af-8dba-020b0a2f7281",
   "metadata": {},
   "outputs": [],
   "source": []
  },
  {
   "cell_type": "code",
   "execution_count": 34,
   "id": "abe33fed-c3e0-42e2-87de-bd1bbb17334f",
   "metadata": {
    "scrolled": true
   },
   "outputs": [
    {
     "name": "stdout",
     "output_type": "stream",
     "text": [
      "<Compressed Sparse Row sparse matrix of dtype 'float32'\n",
      "\twith 330820574 stored elements and shape (497627, 18946)>\n",
      "  Coords\tValues\n",
      "  (0, 18)\t1.0\n",
      "  (0, 32)\t1.0\n",
      "  (0, 86)\t1.0\n",
      "  (0, 90)\t1.0\n",
      "  (0, 166)\t1.0\n",
      "  (0, 190)\t1.0\n",
      "  (0, 357)\t1.0\n",
      "  (0, 362)\t1.0\n",
      "  (0, 372)\t1.0\n",
      "  (0, 408)\t1.0\n",
      "  (0, 433)\t1.0\n",
      "  (0, 533)\t2.0\n",
      "  (0, 558)\t2.0\n",
      "  (0, 623)\t1.0\n",
      "  (0, 715)\t1.0\n",
      "  (0, 748)\t1.0\n",
      "  (0, 755)\t1.0\n",
      "  (0, 776)\t1.0\n",
      "  (0, 777)\t2.0\n",
      "  (0, 782)\t1.0\n",
      "  (0, 814)\t1.0\n",
      "  (0, 888)\t1.0\n",
      "  (0, 896)\t1.0\n",
      "  (0, 1015)\t1.0\n",
      "  (0, 1060)\t1.0\n",
      "  :\t:\n",
      "  (497626, 17112)\t1.0\n",
      "  (497626, 17132)\t1.0\n",
      "  (497626, 17225)\t1.0\n",
      "  (497626, 17245)\t1.0\n",
      "  (497626, 17332)\t1.0\n",
      "  (497626, 17363)\t1.0\n",
      "  (497626, 17438)\t1.0\n",
      "  (497626, 17472)\t1.0\n",
      "  (497626, 17651)\t1.0\n",
      "  (497626, 17715)\t1.0\n",
      "  (497626, 17745)\t1.0\n",
      "  (497626, 17969)\t1.0\n",
      "  (497626, 18003)\t1.0\n",
      "  (497626, 18022)\t1.0\n",
      "  (497626, 18088)\t1.0\n",
      "  (497626, 18120)\t1.0\n",
      "  (497626, 18208)\t1.0\n",
      "  (497626, 18275)\t1.0\n",
      "  (497626, 18311)\t1.0\n",
      "  (497626, 18329)\t1.0\n",
      "  (497626, 18380)\t1.0\n",
      "  (497626, 18580)\t1.0\n",
      "  (497626, 18787)\t1.0\n",
      "  (497626, 18797)\t1.0\n",
      "  (497626, 18874)\t1.0\n"
     ]
    }
   ],
   "source": [
    "print(adata_filtered.X)"
   ]
  },
  {
   "cell_type": "code",
   "execution_count": null,
   "id": "0fb401bd-282c-4e36-b4f4-c048f5e5c76e",
   "metadata": {},
   "outputs": [],
   "source": []
  }
 ],
 "metadata": {
  "kernelspec": {
   "display_name": "scanpy_env",
   "language": "python",
   "name": "scanpy_env"
  },
  "language_info": {
   "codemirror_mode": {
    "name": "ipython",
    "version": 3
   },
   "file_extension": ".py",
   "mimetype": "text/x-python",
   "name": "python",
   "nbconvert_exporter": "python",
   "pygments_lexer": "ipython3",
   "version": "3.11.8"
  }
 },
 "nbformat": 4,
 "nbformat_minor": 5
}
