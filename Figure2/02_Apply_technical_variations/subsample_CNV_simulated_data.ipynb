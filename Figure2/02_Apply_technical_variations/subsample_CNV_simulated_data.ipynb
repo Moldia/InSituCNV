{
 "cells": [
  {
   "cell_type": "code",
   "execution_count": 3,
   "id": "465eec7b-b06e-4cdc-8538-0f0dbbe13087",
   "metadata": {},
   "outputs": [],
   "source": [
    "import scanpy as sc\n",
    "import sys\n",
    "import os \n",
    "sys.path.append(os.path.expanduser(f\"~/SSS_mount/insituCNV/InSituCNV\"))\n",
    "import insitucnv as icv"
   ]
  },
  {
   "cell_type": "markdown",
   "id": "b0be9e43-b630-4cf0-9244-e2216237fa9f",
   "metadata": {},
   "source": [
    "# Load AnnData object"
   ]
  },
  {
   "cell_type": "code",
   "execution_count": 5,
   "id": "19a632bd-c269-4e1c-af8d-f5b83acddaf3",
   "metadata": {},
   "outputs": [],
   "source": [
    "adata_path = \"/home/augusta/SSS_mount/insituCNV/InSituCNV/Figure2/01_Simulate_CNVs/lung_organoids_cnvclust_simulatedCNVs_310125_simulation3_simulationv2_rho6.h5ad\"\n",
    "adata = sc.read_h5ad(adata_path)"
   ]
  },
  {
   "cell_type": "code",
   "execution_count": 6,
   "id": "fd54e3b0-6b7f-461e-9fe1-66b393070bff",
   "metadata": {},
   "outputs": [
    {
     "data": {
      "text/plain": [
       "AnnData object with n_obs × n_vars = 1268 × 25691\n",
       "    obs: 'organism_ontology_term_id', 'tissue_ontology_term_id', 'tissue_type', 'assay_ontology_term_id', 'disease_ontology_term_id', 'cell_type_ontology_term_id', 'self_reported_ethnicity_ontology_term_id', 'development_stage_ontology_term_id', 'sex_ontology_term_id', 'donor_id', 'suspension_type', 'model_id', 'sample_id', 'Phase', 'level_1', 'level_2', 'level_3', 'CountUMIs', 'CountGenes', 'X.Mitochondrial', 'NoveltyScore', 'nCount_SCT', 'nFeature_SCT', 'orig.ident', 'is_primary_data', 'cell_type', 'assay', 'disease', 'organism', 'sex', 'tissue', 'self_reported_ethnicity', 'development_stage', 'observation_joinid', 'n_genes_by_counts', 'log1p_n_genes_by_counts', 'total_counts', 'log1p_total_counts', 'pct_counts_in_top_50_genes', 'pct_counts_in_top_100_genes', 'pct_counts_in_top_200_genes', 'pct_counts_in_top_500_genes', 'cnv_leiden', 'simulated_subclone'\n",
       "    var: 'gene_symbols', 'feature_is_filtered', 'feature_name', 'feature_reference', 'feature_biotype', 'feature_length', 'feature_type', 'n_cells_by_counts', 'mean_counts', 'log1p_mean_counts', 'pct_dropout_by_counts', 'total_counts', 'log1p_total_counts', 'chromosome', 'start', 'end'\n",
       "    uns: 'cell_type_colors', 'citation', 'cnv', 'cnv_leiden', 'cnv_leiden_colors', 'cnv_neighbors', 'dendrogram_cnv_leiden', 'log1p', 'pca', 'schema_reference', 'schema_version', 'title'\n",
       "    obsm: 'X_cnv', 'X_cnv_pca', 'X_pca', 'X_ref.umap', 'X_umap'\n",
       "    varm: 'PCs'\n",
       "    layers: 'CNV_GT', 'CNV_simulated', 'counts', 'logcounts', 'raw'\n",
       "    obsp: 'cnv_neighbors_connectivities', 'cnv_neighbors_distances'"
      ]
     },
     "execution_count": 6,
     "metadata": {},
     "output_type": "execute_result"
    }
   ],
   "source": [
    "adata"
   ]
  },
  {
   "cell_type": "markdown",
   "id": "fd15548a-3708-4112-beda-e2e4aae4ea01",
   "metadata": {},
   "source": [
    "# Subsampling counts"
   ]
  },
  {
   "cell_type": "code",
   "execution_count": 8,
   "id": "d856ea96-6b77-42e7-8698-ede0fac67852",
   "metadata": {},
   "outputs": [],
   "source": [
    "# Move the simulated counts to adata.X\n",
    "adata.X = adata.layers['CNV_simulated'].copy()"
   ]
  },
  {
   "cell_type": "code",
   "execution_count": 7,
   "id": "533ba661-5f7e-4df4-ba5b-4eaf8f92b281",
   "metadata": {},
   "outputs": [
    {
     "name": "stdout",
     "output_type": "stream",
     "text": [
      "WARNING: adata.X seems to be already log-transformed.\n",
      "subsampled data (100% counts) saved as /home/augusta/SSS_mount/insituCNV/data/simulated_CNV_data/technical_limiting_conditions/CNV_simulation_03_subsampled_counts_100.h5ad\n",
      "WARNING: adata.X seems to be already log-transformed.\n",
      "subsampled data (70% counts) saved as /home/augusta/SSS_mount/insituCNV/data/simulated_CNV_data/technical_limiting_conditions/CNV_simulation_03_subsampled_counts_70.h5ad\n",
      "WARNING: adata.X seems to be already log-transformed.\n",
      "subsampled data (50% counts) saved as /home/augusta/SSS_mount/insituCNV/data/simulated_CNV_data/technical_limiting_conditions/CNV_simulation_03_subsampled_counts_50.h5ad\n",
      "WARNING: adata.X seems to be already log-transformed.\n",
      "subsampled data (20% counts) saved as /home/augusta/SSS_mount/insituCNV/data/simulated_CNV_data/technical_limiting_conditions/CNV_simulation_03_subsampled_counts_20.h5ad\n",
      "WARNING: adata.X seems to be already log-transformed.\n",
      "subsampled data (10% counts) saved as /home/augusta/SSS_mount/insituCNV/data/simulated_CNV_data/technical_limiting_conditions/CNV_simulation_03_subsampled_counts_10.h5ad\n",
      "WARNING: adata.X seems to be already log-transformed.\n",
      "subsampled data (5% counts) saved as /home/augusta/SSS_mount/insituCNV/data/simulated_CNV_data/technical_limiting_conditions/CNV_simulation_03_subsampled_counts_5.h5ad\n",
      "WARNING: adata.X seems to be already log-transformed.\n",
      "subsampled data (3% counts) saved as /home/augusta/SSS_mount/insituCNV/data/simulated_CNV_data/technical_limiting_conditions/CNV_simulation_03_subsampled_counts_3.h5ad\n",
      "WARNING: adata.X seems to be already log-transformed.\n",
      "subsampled data (2% counts) saved as /home/augusta/SSS_mount/insituCNV/data/simulated_CNV_data/technical_limiting_conditions/CNV_simulation_03_subsampled_counts_2.h5ad\n",
      "WARNING: adata.X seems to be already log-transformed.\n",
      "subsampled data (1% counts) saved as /home/augusta/SSS_mount/insituCNV/data/simulated_CNV_data/technical_limiting_conditions/CNV_simulation_03_subsampled_counts_1.h5ad\n"
     ]
    }
   ],
   "source": [
    "destination = '/home/augusta/SSS_mount/insituCNV/data/simulated_CNV_data/technical_limiting_conditions'\n",
    "\n",
    "fractions = [1, 0.7, 0.5, 0.2, 0.1, 0.05, 0.03, 0.02, 0.01]\n",
    "\n",
    "# Change '03' (10-20Mb) to '01' (1-5Mb), or '02' (5-10 Mb), depending on dataset \n",
    "data_names = ['CNV_simulation_03_subsampled_counts_100',\n",
    "              'CNV_simulation_03_subsampled_counts_70', \n",
    "              'CNV_simulation_03_subsampled_counts_50',\n",
    "              'CNV_simulation_03_subsampled_counts_20', \n",
    "              'CNV_simulation_03_subsampled_counts_10',\n",
    "              'CNV_simulation_03_subsampled_counts_5', \n",
    "              'CNV_simulation_03_subsampled_counts_3', \n",
    "              'CNV_simulation_03_subsampled_counts_2', \n",
    "              'CNV_simulation_03_subsampled_counts_1']\n",
    "\n",
    "for fraction, data_name in zip(fractions, data_names):\n",
    "    icv.tl.subsample_counts(adata=adata, fraction=fraction, destination=destination, data_name=data_name)"
   ]
  },
  {
   "cell_type": "markdown",
   "id": "9cfa617b-56a6-4d52-a609-f647e4f77bce",
   "metadata": {},
   "source": [
    "# Subssampling gene panel size for each count condition"
   ]
  },
  {
   "cell_type": "code",
   "execution_count": 8,
   "id": "6e8e4f8a-2499-437a-a32d-ace3d0d71814",
   "metadata": {},
   "outputs": [
    {
     "name": "stdout",
     "output_type": "stream",
     "text": [
      "1 CNV_simulation_03_subsampled_counts_100_genes_all :\n",
      "subsampled data (with panel size:25691 genes) saved as /home/augusta/SSS_mount/insituCNV/data/simulated_CNV_data/technical_limiting_conditions/CNV_simulation_03_subsampled_counts_100_genes_all.h5ad\n",
      "2 CNV_simulation_03_subsampled_counts_100_genes_20000 :\n",
      "subsampled data (with panel size:20000 genes) saved as /home/augusta/SSS_mount/insituCNV/data/simulated_CNV_data/technical_limiting_conditions/CNV_simulation_03_subsampled_counts_100_genes_20000.h5ad\n",
      "3 CNV_simulation_03_subsampled_counts_100_genes_15000 :\n",
      "subsampled data (with panel size:15000 genes) saved as /home/augusta/SSS_mount/insituCNV/data/simulated_CNV_data/technical_limiting_conditions/CNV_simulation_03_subsampled_counts_100_genes_15000.h5ad\n",
      "4 CNV_simulation_03_subsampled_counts_100_genes_10000 :\n",
      "subsampled data (with panel size:10000 genes) saved as /home/augusta/SSS_mount/insituCNV/data/simulated_CNV_data/technical_limiting_conditions/CNV_simulation_03_subsampled_counts_100_genes_10000.h5ad\n",
      "5 CNV_simulation_03_subsampled_counts_100_genes_5000 :\n",
      "subsampled data (with panel size:5000 genes) saved as /home/augusta/SSS_mount/insituCNV/data/simulated_CNV_data/technical_limiting_conditions/CNV_simulation_03_subsampled_counts_100_genes_5000.h5ad\n",
      "6 CNV_simulation_03_subsampled_counts_100_genes_1000 :\n",
      "subsampled data (with panel size:1000 genes) saved as /home/augusta/SSS_mount/insituCNV/data/simulated_CNV_data/technical_limiting_conditions/CNV_simulation_03_subsampled_counts_100_genes_1000.h5ad\n",
      "7 CNV_simulation_03_subsampled_counts_100_genes_500 :\n",
      "subsampled data (with panel size:500 genes) saved as /home/augusta/SSS_mount/insituCNV/data/simulated_CNV_data/technical_limiting_conditions/CNV_simulation_03_subsampled_counts_100_genes_500.h5ad\n",
      "8 CNV_simulation_03_subsampled_counts_70_genes_all :\n",
      "subsampled data (with panel size:25691 genes) saved as /home/augusta/SSS_mount/insituCNV/data/simulated_CNV_data/technical_limiting_conditions/CNV_simulation_03_subsampled_counts_70_genes_all.h5ad\n",
      "9 CNV_simulation_03_subsampled_counts_70_genes_20000 :\n",
      "subsampled data (with panel size:20000 genes) saved as /home/augusta/SSS_mount/insituCNV/data/simulated_CNV_data/technical_limiting_conditions/CNV_simulation_03_subsampled_counts_70_genes_20000.h5ad\n",
      "10 CNV_simulation_03_subsampled_counts_70_genes_15000 :\n",
      "subsampled data (with panel size:15000 genes) saved as /home/augusta/SSS_mount/insituCNV/data/simulated_CNV_data/technical_limiting_conditions/CNV_simulation_03_subsampled_counts_70_genes_15000.h5ad\n",
      "11 CNV_simulation_03_subsampled_counts_70_genes_10000 :\n",
      "subsampled data (with panel size:10000 genes) saved as /home/augusta/SSS_mount/insituCNV/data/simulated_CNV_data/technical_limiting_conditions/CNV_simulation_03_subsampled_counts_70_genes_10000.h5ad\n",
      "12 CNV_simulation_03_subsampled_counts_70_genes_5000 :\n",
      "subsampled data (with panel size:5000 genes) saved as /home/augusta/SSS_mount/insituCNV/data/simulated_CNV_data/technical_limiting_conditions/CNV_simulation_03_subsampled_counts_70_genes_5000.h5ad\n",
      "13 CNV_simulation_03_subsampled_counts_70_genes_1000 :\n",
      "subsampled data (with panel size:1000 genes) saved as /home/augusta/SSS_mount/insituCNV/data/simulated_CNV_data/technical_limiting_conditions/CNV_simulation_03_subsampled_counts_70_genes_1000.h5ad\n",
      "14 CNV_simulation_03_subsampled_counts_70_genes_500 :\n",
      "subsampled data (with panel size:500 genes) saved as /home/augusta/SSS_mount/insituCNV/data/simulated_CNV_data/technical_limiting_conditions/CNV_simulation_03_subsampled_counts_70_genes_500.h5ad\n",
      "15 CNV_simulation_03_subsampled_counts_50_genes_all :\n",
      "subsampled data (with panel size:25691 genes) saved as /home/augusta/SSS_mount/insituCNV/data/simulated_CNV_data/technical_limiting_conditions/CNV_simulation_03_subsampled_counts_50_genes_all.h5ad\n",
      "16 CNV_simulation_03_subsampled_counts_50_genes_20000 :\n",
      "subsampled data (with panel size:20000 genes) saved as /home/augusta/SSS_mount/insituCNV/data/simulated_CNV_data/technical_limiting_conditions/CNV_simulation_03_subsampled_counts_50_genes_20000.h5ad\n",
      "17 CNV_simulation_03_subsampled_counts_50_genes_15000 :\n",
      "subsampled data (with panel size:15000 genes) saved as /home/augusta/SSS_mount/insituCNV/data/simulated_CNV_data/technical_limiting_conditions/CNV_simulation_03_subsampled_counts_50_genes_15000.h5ad\n",
      "18 CNV_simulation_03_subsampled_counts_50_genes_10000 :\n",
      "subsampled data (with panel size:10000 genes) saved as /home/augusta/SSS_mount/insituCNV/data/simulated_CNV_data/technical_limiting_conditions/CNV_simulation_03_subsampled_counts_50_genes_10000.h5ad\n",
      "19 CNV_simulation_03_subsampled_counts_50_genes_5000 :\n",
      "subsampled data (with panel size:5000 genes) saved as /home/augusta/SSS_mount/insituCNV/data/simulated_CNV_data/technical_limiting_conditions/CNV_simulation_03_subsampled_counts_50_genes_5000.h5ad\n",
      "20 CNV_simulation_03_subsampled_counts_50_genes_1000 :\n",
      "subsampled data (with panel size:1000 genes) saved as /home/augusta/SSS_mount/insituCNV/data/simulated_CNV_data/technical_limiting_conditions/CNV_simulation_03_subsampled_counts_50_genes_1000.h5ad\n",
      "21 CNV_simulation_03_subsampled_counts_50_genes_500 :\n",
      "subsampled data (with panel size:500 genes) saved as /home/augusta/SSS_mount/insituCNV/data/simulated_CNV_data/technical_limiting_conditions/CNV_simulation_03_subsampled_counts_50_genes_500.h5ad\n",
      "22 CNV_simulation_03_subsampled_counts_20_genes_all :\n",
      "subsampled data (with panel size:25691 genes) saved as /home/augusta/SSS_mount/insituCNV/data/simulated_CNV_data/technical_limiting_conditions/CNV_simulation_03_subsampled_counts_20_genes_all.h5ad\n",
      "23 CNV_simulation_03_subsampled_counts_20_genes_20000 :\n",
      "subsampled data (with panel size:20000 genes) saved as /home/augusta/SSS_mount/insituCNV/data/simulated_CNV_data/technical_limiting_conditions/CNV_simulation_03_subsampled_counts_20_genes_20000.h5ad\n",
      "24 CNV_simulation_03_subsampled_counts_20_genes_15000 :\n",
      "subsampled data (with panel size:15000 genes) saved as /home/augusta/SSS_mount/insituCNV/data/simulated_CNV_data/technical_limiting_conditions/CNV_simulation_03_subsampled_counts_20_genes_15000.h5ad\n",
      "25 CNV_simulation_03_subsampled_counts_20_genes_10000 :\n",
      "subsampled data (with panel size:10000 genes) saved as /home/augusta/SSS_mount/insituCNV/data/simulated_CNV_data/technical_limiting_conditions/CNV_simulation_03_subsampled_counts_20_genes_10000.h5ad\n",
      "26 CNV_simulation_03_subsampled_counts_20_genes_5000 :\n",
      "subsampled data (with panel size:5000 genes) saved as /home/augusta/SSS_mount/insituCNV/data/simulated_CNV_data/technical_limiting_conditions/CNV_simulation_03_subsampled_counts_20_genes_5000.h5ad\n",
      "27 CNV_simulation_03_subsampled_counts_20_genes_1000 :\n",
      "subsampled data (with panel size:1000 genes) saved as /home/augusta/SSS_mount/insituCNV/data/simulated_CNV_data/technical_limiting_conditions/CNV_simulation_03_subsampled_counts_20_genes_1000.h5ad\n",
      "28 CNV_simulation_03_subsampled_counts_20_genes_500 :\n",
      "subsampled data (with panel size:500 genes) saved as /home/augusta/SSS_mount/insituCNV/data/simulated_CNV_data/technical_limiting_conditions/CNV_simulation_03_subsampled_counts_20_genes_500.h5ad\n",
      "29 CNV_simulation_03_subsampled_counts_10_genes_all :\n",
      "subsampled data (with panel size:25691 genes) saved as /home/augusta/SSS_mount/insituCNV/data/simulated_CNV_data/technical_limiting_conditions/CNV_simulation_03_subsampled_counts_10_genes_all.h5ad\n",
      "30 CNV_simulation_03_subsampled_counts_10_genes_20000 :\n",
      "subsampled data (with panel size:20000 genes) saved as /home/augusta/SSS_mount/insituCNV/data/simulated_CNV_data/technical_limiting_conditions/CNV_simulation_03_subsampled_counts_10_genes_20000.h5ad\n",
      "31 CNV_simulation_03_subsampled_counts_10_genes_15000 :\n",
      "subsampled data (with panel size:15000 genes) saved as /home/augusta/SSS_mount/insituCNV/data/simulated_CNV_data/technical_limiting_conditions/CNV_simulation_03_subsampled_counts_10_genes_15000.h5ad\n",
      "32 CNV_simulation_03_subsampled_counts_10_genes_10000 :\n",
      "subsampled data (with panel size:10000 genes) saved as /home/augusta/SSS_mount/insituCNV/data/simulated_CNV_data/technical_limiting_conditions/CNV_simulation_03_subsampled_counts_10_genes_10000.h5ad\n",
      "33 CNV_simulation_03_subsampled_counts_10_genes_5000 :\n",
      "subsampled data (with panel size:5000 genes) saved as /home/augusta/SSS_mount/insituCNV/data/simulated_CNV_data/technical_limiting_conditions/CNV_simulation_03_subsampled_counts_10_genes_5000.h5ad\n",
      "34 CNV_simulation_03_subsampled_counts_10_genes_1000 :\n",
      "subsampled data (with panel size:1000 genes) saved as /home/augusta/SSS_mount/insituCNV/data/simulated_CNV_data/technical_limiting_conditions/CNV_simulation_03_subsampled_counts_10_genes_1000.h5ad\n",
      "35 CNV_simulation_03_subsampled_counts_10_genes_500 :\n",
      "subsampled data (with panel size:500 genes) saved as /home/augusta/SSS_mount/insituCNV/data/simulated_CNV_data/technical_limiting_conditions/CNV_simulation_03_subsampled_counts_10_genes_500.h5ad\n",
      "36 CNV_simulation_03_subsampled_counts_5_genes_all :\n",
      "subsampled data (with panel size:25691 genes) saved as /home/augusta/SSS_mount/insituCNV/data/simulated_CNV_data/technical_limiting_conditions/CNV_simulation_03_subsampled_counts_5_genes_all.h5ad\n",
      "37 CNV_simulation_03_subsampled_counts_5_genes_20000 :\n",
      "subsampled data (with panel size:20000 genes) saved as /home/augusta/SSS_mount/insituCNV/data/simulated_CNV_data/technical_limiting_conditions/CNV_simulation_03_subsampled_counts_5_genes_20000.h5ad\n",
      "38 CNV_simulation_03_subsampled_counts_5_genes_15000 :\n",
      "subsampled data (with panel size:15000 genes) saved as /home/augusta/SSS_mount/insituCNV/data/simulated_CNV_data/technical_limiting_conditions/CNV_simulation_03_subsampled_counts_5_genes_15000.h5ad\n",
      "39 CNV_simulation_03_subsampled_counts_5_genes_10000 :\n",
      "subsampled data (with panel size:10000 genes) saved as /home/augusta/SSS_mount/insituCNV/data/simulated_CNV_data/technical_limiting_conditions/CNV_simulation_03_subsampled_counts_5_genes_10000.h5ad\n",
      "40 CNV_simulation_03_subsampled_counts_5_genes_5000 :\n",
      "subsampled data (with panel size:5000 genes) saved as /home/augusta/SSS_mount/insituCNV/data/simulated_CNV_data/technical_limiting_conditions/CNV_simulation_03_subsampled_counts_5_genes_5000.h5ad\n",
      "41 CNV_simulation_03_subsampled_counts_5_genes_1000 :\n",
      "subsampled data (with panel size:1000 genes) saved as /home/augusta/SSS_mount/insituCNV/data/simulated_CNV_data/technical_limiting_conditions/CNV_simulation_03_subsampled_counts_5_genes_1000.h5ad\n",
      "42 CNV_simulation_03_subsampled_counts_5_genes_500 :\n",
      "subsampled data (with panel size:500 genes) saved as /home/augusta/SSS_mount/insituCNV/data/simulated_CNV_data/technical_limiting_conditions/CNV_simulation_03_subsampled_counts_5_genes_500.h5ad\n",
      "43 CNV_simulation_03_subsampled_counts_3_genes_all :\n",
      "subsampled data (with panel size:25691 genes) saved as /home/augusta/SSS_mount/insituCNV/data/simulated_CNV_data/technical_limiting_conditions/CNV_simulation_03_subsampled_counts_3_genes_all.h5ad\n",
      "44 CNV_simulation_03_subsampled_counts_3_genes_20000 :\n",
      "subsampled data (with panel size:20000 genes) saved as /home/augusta/SSS_mount/insituCNV/data/simulated_CNV_data/technical_limiting_conditions/CNV_simulation_03_subsampled_counts_3_genes_20000.h5ad\n",
      "45 CNV_simulation_03_subsampled_counts_3_genes_15000 :\n",
      "subsampled data (with panel size:15000 genes) saved as /home/augusta/SSS_mount/insituCNV/data/simulated_CNV_data/technical_limiting_conditions/CNV_simulation_03_subsampled_counts_3_genes_15000.h5ad\n",
      "46 CNV_simulation_03_subsampled_counts_3_genes_10000 :\n",
      "subsampled data (with panel size:10000 genes) saved as /home/augusta/SSS_mount/insituCNV/data/simulated_CNV_data/technical_limiting_conditions/CNV_simulation_03_subsampled_counts_3_genes_10000.h5ad\n",
      "47 CNV_simulation_03_subsampled_counts_3_genes_5000 :\n",
      "subsampled data (with panel size:5000 genes) saved as /home/augusta/SSS_mount/insituCNV/data/simulated_CNV_data/technical_limiting_conditions/CNV_simulation_03_subsampled_counts_3_genes_5000.h5ad\n",
      "48 CNV_simulation_03_subsampled_counts_3_genes_1000 :\n",
      "subsampled data (with panel size:1000 genes) saved as /home/augusta/SSS_mount/insituCNV/data/simulated_CNV_data/technical_limiting_conditions/CNV_simulation_03_subsampled_counts_3_genes_1000.h5ad\n",
      "49 CNV_simulation_03_subsampled_counts_3_genes_500 :\n",
      "subsampled data (with panel size:500 genes) saved as /home/augusta/SSS_mount/insituCNV/data/simulated_CNV_data/technical_limiting_conditions/CNV_simulation_03_subsampled_counts_3_genes_500.h5ad\n",
      "50 CNV_simulation_03_subsampled_counts_2_genes_all :\n",
      "subsampled data (with panel size:25691 genes) saved as /home/augusta/SSS_mount/insituCNV/data/simulated_CNV_data/technical_limiting_conditions/CNV_simulation_03_subsampled_counts_2_genes_all.h5ad\n",
      "51 CNV_simulation_03_subsampled_counts_2_genes_20000 :\n",
      "subsampled data (with panel size:20000 genes) saved as /home/augusta/SSS_mount/insituCNV/data/simulated_CNV_data/technical_limiting_conditions/CNV_simulation_03_subsampled_counts_2_genes_20000.h5ad\n",
      "52 CNV_simulation_03_subsampled_counts_2_genes_15000 :\n",
      "subsampled data (with panel size:15000 genes) saved as /home/augusta/SSS_mount/insituCNV/data/simulated_CNV_data/technical_limiting_conditions/CNV_simulation_03_subsampled_counts_2_genes_15000.h5ad\n",
      "53 CNV_simulation_03_subsampled_counts_2_genes_10000 :\n",
      "subsampled data (with panel size:10000 genes) saved as /home/augusta/SSS_mount/insituCNV/data/simulated_CNV_data/technical_limiting_conditions/CNV_simulation_03_subsampled_counts_2_genes_10000.h5ad\n",
      "54 CNV_simulation_03_subsampled_counts_2_genes_5000 :\n",
      "subsampled data (with panel size:5000 genes) saved as /home/augusta/SSS_mount/insituCNV/data/simulated_CNV_data/technical_limiting_conditions/CNV_simulation_03_subsampled_counts_2_genes_5000.h5ad\n",
      "55 CNV_simulation_03_subsampled_counts_2_genes_1000 :\n",
      "subsampled data (with panel size:1000 genes) saved as /home/augusta/SSS_mount/insituCNV/data/simulated_CNV_data/technical_limiting_conditions/CNV_simulation_03_subsampled_counts_2_genes_1000.h5ad\n",
      "56 CNV_simulation_03_subsampled_counts_2_genes_500 :\n",
      "subsampled data (with panel size:500 genes) saved as /home/augusta/SSS_mount/insituCNV/data/simulated_CNV_data/technical_limiting_conditions/CNV_simulation_03_subsampled_counts_2_genes_500.h5ad\n",
      "57 CNV_simulation_03_subsampled_counts_1_genes_all :\n",
      "subsampled data (with panel size:25691 genes) saved as /home/augusta/SSS_mount/insituCNV/data/simulated_CNV_data/technical_limiting_conditions/CNV_simulation_03_subsampled_counts_1_genes_all.h5ad\n",
      "58 CNV_simulation_03_subsampled_counts_1_genes_20000 :\n",
      "subsampled data (with panel size:20000 genes) saved as /home/augusta/SSS_mount/insituCNV/data/simulated_CNV_data/technical_limiting_conditions/CNV_simulation_03_subsampled_counts_1_genes_20000.h5ad\n",
      "59 CNV_simulation_03_subsampled_counts_1_genes_15000 :\n",
      "subsampled data (with panel size:15000 genes) saved as /home/augusta/SSS_mount/insituCNV/data/simulated_CNV_data/technical_limiting_conditions/CNV_simulation_03_subsampled_counts_1_genes_15000.h5ad\n",
      "60 CNV_simulation_03_subsampled_counts_1_genes_10000 :\n",
      "subsampled data (with panel size:10000 genes) saved as /home/augusta/SSS_mount/insituCNV/data/simulated_CNV_data/technical_limiting_conditions/CNV_simulation_03_subsampled_counts_1_genes_10000.h5ad\n",
      "61 CNV_simulation_03_subsampled_counts_1_genes_5000 :\n",
      "subsampled data (with panel size:5000 genes) saved as /home/augusta/SSS_mount/insituCNV/data/simulated_CNV_data/technical_limiting_conditions/CNV_simulation_03_subsampled_counts_1_genes_5000.h5ad\n",
      "62 CNV_simulation_03_subsampled_counts_1_genes_1000 :\n",
      "subsampled data (with panel size:1000 genes) saved as /home/augusta/SSS_mount/insituCNV/data/simulated_CNV_data/technical_limiting_conditions/CNV_simulation_03_subsampled_counts_1_genes_1000.h5ad\n",
      "63 CNV_simulation_03_subsampled_counts_1_genes_500 :\n",
      "subsampled data (with panel size:500 genes) saved as /home/augusta/SSS_mount/insituCNV/data/simulated_CNV_data/technical_limiting_conditions/CNV_simulation_03_subsampled_counts_1_genes_500.h5ad\n"
     ]
    }
   ],
   "source": [
    "destination = '/home/augusta/SSS_mount/insituCNV/data/simulated_CNV_data/technical_limiting_conditions'\n",
    "\n",
    "\n",
    "# Change '03' (10-20Mb) to '01' (1-5Mb), or '02' (5-10 Mb), depending on dataset \n",
    "data_names_counts = ['CNV_simulation_03_subsampled_counts_100',\n",
    "              'CNV_simulation_03_subsampled_counts_70', \n",
    "              'CNV_simulation_03_subsampled_counts_50',\n",
    "              'CNV_simulation_03_subsampled_counts_20', \n",
    "              'CNV_simulation_03_subsampled_counts_10',\n",
    "              'CNV_simulation_03_subsampled_counts_5', \n",
    "              'CNV_simulation_03_subsampled_counts_3', \n",
    "              'CNV_simulation_03_subsampled_counts_2', \n",
    "              'CNV_simulation_03_subsampled_counts_1']\n",
    "\n",
    "gene_panel_size = ['all', 20000,15000,10000,5000,1000,500]\n",
    "\n",
    "\n",
    "n=0\n",
    "for data_name in data_names_counts:\n",
    "\n",
    "    # Read in the subsampled counts dataset\n",
    "    adata_path = f\"{destination}/{data_name}.h5ad\"\n",
    "    adata = sc.read(adata_path)\n",
    "    \n",
    "    # Subsample the gene panel sizes\n",
    "    for panel_size in gene_panel_size:\n",
    "        combined_data_name = f\"{data_name}_genes_{panel_size}\"\n",
    "        n += 1\n",
    "        print(n, combined_data_name, ':')\n",
    "        icv.tl.subsample_genes(adata=adata, gene_panel_size=panel_size, destination=destination, data_name=combined_data_name)"
   ]
  }
 ],
 "metadata": {
  "kernelspec": {
   "display_name": "scanpy_env",
   "language": "python",
   "name": "scanpy_env"
  },
  "language_info": {
   "codemirror_mode": {
    "name": "ipython",
    "version": 3
   },
   "file_extension": ".py",
   "mimetype": "text/x-python",
   "name": "python",
   "nbconvert_exporter": "python",
   "pygments_lexer": "ipython3",
   "version": "3.10.15"
  }
 },
 "nbformat": 4,
 "nbformat_minor": 5
}
