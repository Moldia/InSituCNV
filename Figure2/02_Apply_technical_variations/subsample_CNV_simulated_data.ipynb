{
 "cells": [
  {
   "cell_type": "code",
   "execution_count": 56,
   "id": "465eec7b-b06e-4cdc-8538-0f0dbbe13087",
   "metadata": {},
   "outputs": [],
   "source": [
    "import scanpy as sc\n",
    "import os\n",
    "import pandas as pd"
   ]
  },
  {
   "cell_type": "markdown",
   "id": "b0be9e43-b630-4cf0-9244-e2216237fa9f",
   "metadata": {},
   "source": [
    "# Load AnnData object"
   ]
  },
  {
   "cell_type": "code",
   "execution_count": 57,
   "id": "19a632bd-c269-4e1c-af8d-f5b83acddaf3",
   "metadata": {},
   "outputs": [],
   "source": [
    "adata_path = \"/home/augusta/SSS_mount/insituCNV/InSituCNV/Figure2/01_Simulate_CNVs_in_spatial_data/Simulate_CNVs_vascular_normal/lung_organoids_cnvclust_simulatedCNVs_121224_simulationv2_rho6.h5ad\"\n",
    "adata = sc.read_h5ad(adata_path)"
   ]
  },
  {
   "cell_type": "markdown",
   "id": "ff16978b-abb3-42b9-8130-3479360760fe",
   "metadata": {},
   "source": [
    "# Functions to subsample, normalize and save the data"
   ]
  },
  {
   "cell_type": "code",
   "execution_count": 87,
   "id": "73c9df89-791e-4eb4-a619-277517ca7bef",
   "metadata": {},
   "outputs": [],
   "source": [
    "import scanpy as sc\n",
    "import numpy as np\n",
    "\n",
    "def subsample_counts(adata, fraction, destination, data_name):\n",
    "    \"\"\"\n",
    "    Parameters:\n",
    "        adata (AnnData object): AnnData object that should be subsampled\n",
    "        fraction (nbr): A fraction of which the counts should be downsampled to\n",
    "        destination (str): Path to the destination where the AnnData object should be saved\n",
    "        data_name (str): Name of the AnnData object. \n",
    "\n",
    "    Returns:\n",
    "        None\n",
    "    \n",
    "    \"\"\"\n",
    "    \n",
    "    new_adata = adata.copy()\n",
    "    layer_name = 'CNV_simulated'\n",
    "    \n",
    "    if fraction > 1 or fraction < 0:\n",
    "        raise ValueError(f\"`fraction` needs to be within [0, 1], not {fraction}\")\n",
    "\n",
    "    if fraction != 1:\n",
    "        total_counts = int(fraction * adata.X.sum()) \n",
    "        downsampled_adata = sc.pp.downsample_counts(\n",
    "            adata, \n",
    "            total_counts=total_counts, \n",
    "            random_state=42, \n",
    "            copy=True\n",
    "        )\n",
    "\n",
    "        new_adata.layers[layer_name] = downsampled_adata.X.copy()\n",
    "\n",
    "    else:\n",
    "        new_adata.layers[layer_name] = new_adata.X.copy()\n",
    "\n",
    "\n",
    "    #Normalize and log transform the data\n",
    "    new_adata.layers[f\"{layer_name}_raw\"] = new_adata.layers[layer_name].copy()\n",
    "    sc.pp.normalize_total(new_adata, layer = layer_name)\n",
    "    sc.pp.log1p(new_adata, layer = layer_name)\n",
    "\n",
    "    new_adata.X = new_adata.layers[layer_name].copy()\n",
    "\n",
    "    #Save the anndata object\n",
    "    new_adata.write(destination +'/'+ data_name + '.h5ad', compression = 'gzip')\n",
    "    print(f'subsampled data ({fraction*100:.0f}% counts) saved as {destination}/{data_name}.h5ad')\n"
   ]
  },
  {
   "cell_type": "code",
   "execution_count": 83,
   "id": "00dfdb2b-8f65-4a7b-8464-4628bef9229b",
   "metadata": {},
   "outputs": [],
   "source": [
    "import numpy as np \n",
    "\n",
    "def subsample_genes(adata, gene_panel_size, destination, data_name):\n",
    "    \"\"\"\n",
    "    Parameters:\n",
    "        adata (AnnData object): AnnData object that should be subsampled\n",
    "        gene_panel_size (nbr): the size of the gene_panel\n",
    "        destination (str): Path to the destination where the AnnData object should be saved\n",
    "        data_name (str): Name of the AnnData object. \n",
    "\n",
    "    Returns:\n",
    "        None\n",
    "    \n",
    "    \"\"\"\n",
    "    \n",
    "    # Set random seed for reproducibility\n",
    "    random_state = 42\n",
    "    np.random.seed(random_state)\n",
    "\n",
    "    # Calculate the number of genes to retain\n",
    "    old_n_vars = adata.n_vars\n",
    "    \n",
    "    if gene_panel_size == 'all':\n",
    "        gene_panel_size = old_n_vars\n",
    "        \n",
    "    new_n_vars =  gene_panel_size\n",
    "    var_indices = np.random.choice(old_n_vars, size=new_n_vars, replace=False)\n",
    "\n",
    "    # Subsample the data\n",
    "    subsampled_adata = adata[:, var_indices].copy()\n",
    "\n",
    "    layer_name = 'CNV_simulated'\n",
    "    subsampled_adata.X = subsampled_adata.layers[layer_name].copy()\n",
    "\n",
    "    #Normalize and log transform the data\n",
    "    subsampled_adata.layers[f\"{layer_name}_raw\"] = subsampled_adata.layers[layer_name].copy()\n",
    "    sc.pp.normalize_total(subsampled_adata, layer=layer_name)\n",
    "    sc.pp.log1p(subsampled_adata, layer=layer_name)\n",
    "                \n",
    "    # Save the anndata object\n",
    "    subsampled_adata.write(destination +'/'+ data_name + '.h5ad', compression = 'gzip')\n",
    "    print(f'subsampled data (with panel size:{new_n_vars} genes) saved as {destination}/{data_name}.h5ad')\n"
   ]
  },
  {
   "cell_type": "markdown",
   "id": "fd15548a-3708-4112-beda-e2e4aae4ea01",
   "metadata": {},
   "source": [
    "# Subsampling counts"
   ]
  },
  {
   "cell_type": "code",
   "execution_count": 58,
   "id": "dbfd7cca-406e-4e6f-b1c0-2ba84c007c9b",
   "metadata": {
    "scrolled": true
   },
   "outputs": [],
   "source": [
    "adata.X = adata.layers['CNV_simulated'].copy()"
   ]
  },
  {
   "cell_type": "code",
   "execution_count": 88,
   "id": "533ba661-5f7e-4df4-ba5b-4eaf8f92b281",
   "metadata": {},
   "outputs": [
    {
     "name": "stdout",
     "output_type": "stream",
     "text": [
      "WARNING: adata.X seems to be already log-transformed.\n",
      "subsampled data (100% counts) saved as /home/augusta/SSS_mount/insituCNV/data/simulated_CNV_data/technical_limiting_conditions/CNV_simulated_subsampled_counts_100.h5ad\n"
     ]
    }
   ],
   "source": [
    "destination = '/home/augusta/SSS_mount/insituCNV/data/simulated_CNV_data/technical_limiting_conditions'\n",
    "\n",
    "fractions = [1, 0.7, 0.5, 0.2, 0.1, 0.05, 0.01]\n",
    "data_names = ['CNV_simulated_subsampled_counts_100',\n",
    "              'CNV_simulated_subsampled_counts_70', \n",
    "              'CNV_simulated_subsampled_counts_50',\n",
    "              'CNV_simulated_subsampled_counts_20', \n",
    "              'CNV_simulated_subsampled_counts_10',\n",
    "              'CNV_simulated_subsampled_counts_5', \n",
    "              'CNV_simulated_subsampled_counts_1']\n",
    "\n",
    "for fraction, data_name in zip(fractions[0:1], data_names[0:1]):\n",
    "    subsample_counts(adata=adata, fraction=fraction, destination=destination, data_name=data_name)"
   ]
  },
  {
   "cell_type": "markdown",
   "id": "c152caa7-ca9e-4149-a0fd-e5726d4a7acc",
   "metadata": {},
   "source": [
    "# Subsampling gene panel size"
   ]
  },
  {
   "cell_type": "code",
   "execution_count": 84,
   "id": "05048694-bc4a-4121-b5bb-ce03fd9ca71b",
   "metadata": {},
   "outputs": [
    {
     "name": "stdout",
     "output_type": "stream",
     "text": [
      "WARNING: adata.X seems to be already log-transformed.\n",
      "subsampled data (with panel size:25691 genes) saved as /home/augusta/SSS_mount/insituCNV/data/simulated_CNV_data/technical_limiting_conditions/CNV_simulated_subsampled_genes_all.h5ad\n"
     ]
    }
   ],
   "source": [
    "destination = '/home/augusta/SSS_mount/insituCNV/data/simulated_CNV_data/technical_limiting_conditions'\n",
    "\n",
    "gene_panel_size = ['all', 20000,15000,10000,5000,1000,500]\n",
    "data_names = ['CNV_simulated_subsampled_genes_all',\n",
    "             'CNV_simulated_subsampled_genes_20000', \n",
    "             'CNV_simulated_subsampled_genes_15000',\n",
    "             'CNV_simulated_subsampled_genes_10000', \n",
    "             'CNV_simulated_subsampled_genes_5000',\n",
    "             'CNV_simulated_subsampled_genes_1000', \n",
    "             'CNV_simulated_subsampled_genes_500']\n",
    "\n",
    "for panel_size, data_name in zip(gene_panel_size[0:1], data_names[0:1]):\n",
    "    subsample_genes(adata=adata, gene_panel_size=panel_size, destination=destination, data_name=data_name)"
   ]
  },
  {
   "cell_type": "code",
   "execution_count": null,
   "id": "2d70551b-d15c-4793-869f-0c51065b861d",
   "metadata": {},
   "outputs": [],
   "source": []
  }
 ],
 "metadata": {
  "kernelspec": {
   "display_name": "scanpy_env",
   "language": "python",
   "name": "scanpy_env"
  },
  "language_info": {
   "codemirror_mode": {
    "name": "ipython",
    "version": 3
   },
   "file_extension": ".py",
   "mimetype": "text/x-python",
   "name": "python",
   "nbconvert_exporter": "python",
   "pygments_lexer": "ipython3",
   "version": "3.10.15"
  }
 },
 "nbformat": 4,
 "nbformat_minor": 5
}
