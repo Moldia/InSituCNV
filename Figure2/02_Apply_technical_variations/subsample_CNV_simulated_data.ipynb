{
 "cells": [
  {
   "cell_type": "code",
   "execution_count": 89,
   "id": "465eec7b-b06e-4cdc-8538-0f0dbbe13087",
   "metadata": {},
   "outputs": [],
   "source": [
    "import scanpy as sc\n",
    "import os\n",
    "import pandas as pd"
   ]
  },
  {
   "cell_type": "markdown",
   "id": "b0be9e43-b630-4cf0-9244-e2216237fa9f",
   "metadata": {},
   "source": [
    "# Load AnnData object"
   ]
  },
  {
   "cell_type": "code",
   "execution_count": 90,
   "id": "19a632bd-c269-4e1c-af8d-f5b83acddaf3",
   "metadata": {},
   "outputs": [],
   "source": [
    "adata_path = \"/home/augusta/SSS_mount/insituCNV/InSituCNV/Figure2/01_Simulate_CNVs_in_spatial_data/Simulate_CNVs_vascular_normal/lung_organoids_cnvclust_simulatedCNVs_121224_simulationv2_rho6.h5ad\"\n",
    "adata = sc.read_h5ad(adata_path)"
   ]
  },
  {
   "cell_type": "markdown",
   "id": "ff16978b-abb3-42b9-8130-3479360760fe",
   "metadata": {},
   "source": [
    "# Functions to subsample, normalize and save the data"
   ]
  },
  {
   "cell_type": "code",
   "execution_count": 91,
   "id": "73c9df89-791e-4eb4-a619-277517ca7bef",
   "metadata": {},
   "outputs": [],
   "source": [
    "import scanpy as sc\n",
    "import numpy as np\n",
    "\n",
    "def subsample_counts(adata, fraction, destination, data_name):\n",
    "    \"\"\"\n",
    "    Parameters:\n",
    "        adata (AnnData object): AnnData object that should be subsampled\n",
    "        fraction (nbr): A fraction of which the counts should be downsampled to\n",
    "        destination (str): Path to the destination where the AnnData object should be saved\n",
    "        data_name (str): Name of the AnnData object. \n",
    "\n",
    "    Returns:\n",
    "        None\n",
    "    \n",
    "    \"\"\"\n",
    "    \n",
    "    new_adata = adata.copy()\n",
    "    layer_name = 'CNV_simulated'\n",
    "    \n",
    "    if fraction > 1 or fraction < 0:\n",
    "        raise ValueError(f\"`fraction` needs to be within [0, 1], not {fraction}\")\n",
    "\n",
    "    if fraction != 1:\n",
    "        total_counts = int(fraction * adata.X.sum()) \n",
    "        downsampled_adata = sc.pp.downsample_counts(\n",
    "            adata, \n",
    "            total_counts=total_counts, \n",
    "            random_state=42, \n",
    "            copy=True\n",
    "        )\n",
    "\n",
    "        new_adata.layers[layer_name] = downsampled_adata.X.copy()\n",
    "\n",
    "    else:\n",
    "        new_adata.layers[layer_name] = new_adata.X.copy()\n",
    "\n",
    "\n",
    "    #Normalize and log transform the data\n",
    "    new_adata.layers[f\"{layer_name}_raw\"] = new_adata.layers[layer_name].copy()\n",
    "    sc.pp.normalize_total(new_adata, layer = layer_name)\n",
    "    sc.pp.log1p(new_adata, layer = layer_name)\n",
    "\n",
    "    new_adata.X = new_adata.layers[layer_name].copy()\n",
    "\n",
    "    #Save the anndata object\n",
    "    new_adata.write(destination +'/'+ data_name + '.h5ad', compression = 'gzip')\n",
    "    print(f'subsampled data ({fraction*100:.0f}% counts) saved as {destination}/{data_name}.h5ad')\n"
   ]
  },
  {
   "cell_type": "code",
   "execution_count": 92,
   "id": "00dfdb2b-8f65-4a7b-8464-4628bef9229b",
   "metadata": {},
   "outputs": [],
   "source": [
    "import numpy as np \n",
    "\n",
    "def subsample_genes(adata, gene_panel_size, destination, data_name):\n",
    "    \"\"\"\n",
    "    Parameters:\n",
    "        adata (AnnData object): AnnData object that should be subsampled\n",
    "        gene_panel_size (nbr): the size of the gene_panel\n",
    "        destination (str): Path to the destination where the AnnData object should be saved\n",
    "        data_name (str): Name of the AnnData object. \n",
    "\n",
    "    Returns:\n",
    "        None\n",
    "    \n",
    "    \"\"\"\n",
    "    \n",
    "    # Set random seed for reproducibility\n",
    "    random_state = 42\n",
    "    np.random.seed(random_state)\n",
    "\n",
    "    # Calculate the number of genes to retain\n",
    "    old_n_vars = adata.n_vars\n",
    "    \n",
    "    if gene_panel_size == 'all':\n",
    "        gene_panel_size = old_n_vars\n",
    "        \n",
    "    new_n_vars =  gene_panel_size\n",
    "    var_indices = np.random.choice(old_n_vars, size=new_n_vars, replace=False)\n",
    "\n",
    "    # Subsample the data\n",
    "    subsampled_adata = adata[:, var_indices].copy()\n",
    "\n",
    "    layer_name = 'CNV_simulated'\n",
    "    subsampled_adata.X = subsampled_adata.layers[layer_name].copy()\n",
    "\n",
    "    #Normalize and log transform the data\n",
    "    subsampled_adata.layers[f\"{layer_name}_raw\"] = subsampled_adata.layers[layer_name].copy()\n",
    "    sc.pp.normalize_total(subsampled_adata, layer=layer_name)\n",
    "    sc.pp.log1p(subsampled_adata, layer=layer_name)\n",
    "                \n",
    "    # Save the anndata object\n",
    "    subsampled_adata.write(destination +'/'+ data_name + '.h5ad', compression = 'gzip')\n",
    "    print(f'subsampled data (with panel size:{new_n_vars} genes) saved as {destination}/{data_name}.h5ad')\n"
   ]
  },
  {
   "cell_type": "markdown",
   "id": "fd15548a-3708-4112-beda-e2e4aae4ea01",
   "metadata": {},
   "source": [
    "# Subsampling counts"
   ]
  },
  {
   "cell_type": "code",
   "execution_count": 93,
   "id": "dbfd7cca-406e-4e6f-b1c0-2ba84c007c9b",
   "metadata": {
    "scrolled": true
   },
   "outputs": [],
   "source": [
    "adata.X = adata.layers['CNV_simulated'].copy()"
   ]
  },
  {
   "cell_type": "code",
   "execution_count": 95,
   "id": "533ba661-5f7e-4df4-ba5b-4eaf8f92b281",
   "metadata": {},
   "outputs": [
    {
     "name": "stdout",
     "output_type": "stream",
     "text": [
      "WARNING: adata.X seems to be already log-transformed.\n",
      "subsampled data (100% counts) saved as /home/augusta/SSS_mount/insituCNV/data/simulated_CNV_data/technical_limiting_conditions/CNV_simulation_01_subsampled_counts_100.h5ad\n",
      "WARNING: adata.X seems to be already log-transformed.\n",
      "subsampled data (70% counts) saved as /home/augusta/SSS_mount/insituCNV/data/simulated_CNV_data/technical_limiting_conditions/CNV_simulation_01_subsampled_counts_70.h5ad\n",
      "WARNING: adata.X seems to be already log-transformed.\n",
      "subsampled data (50% counts) saved as /home/augusta/SSS_mount/insituCNV/data/simulated_CNV_data/technical_limiting_conditions/CNV_simulation_01_subsampled_counts_50.h5ad\n",
      "WARNING: adata.X seems to be already log-transformed.\n",
      "subsampled data (20% counts) saved as /home/augusta/SSS_mount/insituCNV/data/simulated_CNV_data/technical_limiting_conditions/CNV_simulation_01_subsampled_counts_20.h5ad\n",
      "WARNING: adata.X seems to be already log-transformed.\n",
      "subsampled data (10% counts) saved as /home/augusta/SSS_mount/insituCNV/data/simulated_CNV_data/technical_limiting_conditions/CNV_simulation_01_subsampled_counts_10.h5ad\n",
      "WARNING: adata.X seems to be already log-transformed.\n",
      "subsampled data (5% counts) saved as /home/augusta/SSS_mount/insituCNV/data/simulated_CNV_data/technical_limiting_conditions/CNV_simulation_01_subsampled_counts_5.h5ad\n",
      "WARNING: adata.X seems to be already log-transformed.\n",
      "subsampled data (3% counts) saved as /home/augusta/SSS_mount/insituCNV/data/simulated_CNV_data/technical_limiting_conditions/CNV_simulation_01_subsampled_counts_3.h5ad\n",
      "WARNING: adata.X seems to be already log-transformed.\n",
      "subsampled data (2% counts) saved as /home/augusta/SSS_mount/insituCNV/data/simulated_CNV_data/technical_limiting_conditions/CNV_simulation_01_subsampled_counts_2.h5ad\n",
      "WARNING: adata.X seems to be already log-transformed.\n",
      "subsampled data (1% counts) saved as /home/augusta/SSS_mount/insituCNV/data/simulated_CNV_data/technical_limiting_conditions/CNV_simulation_01_subsampled_counts_1.h5ad\n"
     ]
    }
   ],
   "source": [
    "destination = '/home/augusta/SSS_mount/insituCNV/data/simulated_CNV_data/technical_limiting_conditions'\n",
    "\n",
    "fractions = [1, 0.7, 0.5, 0.2, 0.1, 0.05, 0.03, 0.02, 0.01]\n",
    "data_names = ['CNV_simulation_01_subsampled_counts_100',\n",
    "              'CNV_simulation_01_subsampled_counts_70', \n",
    "              'CNV_simulation_01_subsampled_counts_50',\n",
    "              'CNV_simulation_01_subsampled_counts_20', \n",
    "              'CNV_simulation_01_subsampled_counts_10',\n",
    "              'CNV_simulation_01_subsampled_counts_5', \n",
    "              'CNV_simulation_01_subsampled_counts_3', \n",
    "              'CNV_simulation_01_subsampled_counts_2', \n",
    "              'CNV_simulation_01_subsampled_counts_1']\n",
    "\n",
    "for fraction, data_name in zip(fractions, data_names):\n",
    "    subsample_counts(adata=adata, fraction=fraction, destination=destination, data_name=data_name)"
   ]
  },
  {
   "cell_type": "markdown",
   "id": "c152caa7-ca9e-4149-a0fd-e5726d4a7acc",
   "metadata": {},
   "source": [
    "# Subsampling gene panel size"
   ]
  },
  {
   "cell_type": "code",
   "execution_count": 84,
   "id": "05048694-bc4a-4121-b5bb-ce03fd9ca71b",
   "metadata": {},
   "outputs": [
    {
     "name": "stdout",
     "output_type": "stream",
     "text": [
      "WARNING: adata.X seems to be already log-transformed.\n",
      "subsampled data (with panel size:25691 genes) saved as /home/augusta/SSS_mount/insituCNV/data/simulated_CNV_data/technical_limiting_conditions/CNV_simulated_subsampled_genes_all.h5ad\n"
     ]
    }
   ],
   "source": [
    "destination = '/home/augusta/SSS_mount/insituCNV/data/simulated_CNV_data/technical_limiting_conditions'\n",
    "\n",
    "gene_panel_size = ['all', 20000,15000,10000,5000,1000,500]\n",
    "data_names = ['CNV_simulated_subsampled_genes_all',\n",
    "             'CNV_simulated_subsampled_genes_20000', \n",
    "             'CNV_simulated_subsampled_genes_15000',\n",
    "             'CNV_simulated_subsampled_genes_10000', \n",
    "             'CNV_simulated_subsampled_genes_5000',\n",
    "             'CNV_simulated_subsampled_genes_1000', \n",
    "             'CNV_simulated_subsampled_genes_500']\n",
    "\n",
    "for panel_size, data_name in zip(gene_panel_size[0:1], data_names[0:1]):\n",
    "    subsample_genes(adata=adata, gene_panel_size=panel_size, destination=destination, data_name=data_name)"
   ]
  },
  {
   "cell_type": "markdown",
   "id": "9cfa617b-56a6-4d52-a609-f647e4f77bce",
   "metadata": {},
   "source": [
    "# Subssampling gene panel size for each count condition"
   ]
  },
  {
   "cell_type": "code",
   "execution_count": 113,
   "id": "6e8e4f8a-2499-437a-a32d-ace3d0d71814",
   "metadata": {},
   "outputs": [
    {
     "name": "stdout",
     "output_type": "stream",
     "text": [
      "1 CNV_simulation_01_subsampled_counts_100_genes_all :\n",
      "WARNING: adata.X seems to be already log-transformed.\n",
      "subsampled data (with panel size:25691 genes) saved as /home/augusta/SSS_mount/insituCNV/data/simulated_CNV_data/technical_limiting_conditions/CNV_simulation_01_subsampled_counts_100_genes_all.h5ad\n",
      "2 CNV_simulation_01_subsampled_counts_100_genes_20000 :\n",
      "WARNING: adata.X seems to be already log-transformed.\n",
      "subsampled data (with panel size:20000 genes) saved as /home/augusta/SSS_mount/insituCNV/data/simulated_CNV_data/technical_limiting_conditions/CNV_simulation_01_subsampled_counts_100_genes_20000.h5ad\n",
      "3 CNV_simulation_01_subsampled_counts_100_genes_15000 :\n",
      "WARNING: adata.X seems to be already log-transformed.\n",
      "subsampled data (with panel size:15000 genes) saved as /home/augusta/SSS_mount/insituCNV/data/simulated_CNV_data/technical_limiting_conditions/CNV_simulation_01_subsampled_counts_100_genes_15000.h5ad\n",
      "4 CNV_simulation_01_subsampled_counts_100_genes_10000 :\n",
      "WARNING: adata.X seems to be already log-transformed.\n",
      "subsampled data (with panel size:10000 genes) saved as /home/augusta/SSS_mount/insituCNV/data/simulated_CNV_data/technical_limiting_conditions/CNV_simulation_01_subsampled_counts_100_genes_10000.h5ad\n",
      "5 CNV_simulation_01_subsampled_counts_100_genes_5000 :\n",
      "WARNING: adata.X seems to be already log-transformed.\n",
      "subsampled data (with panel size:5000 genes) saved as /home/augusta/SSS_mount/insituCNV/data/simulated_CNV_data/technical_limiting_conditions/CNV_simulation_01_subsampled_counts_100_genes_5000.h5ad\n",
      "6 CNV_simulation_01_subsampled_counts_100_genes_1000 :\n",
      "WARNING: adata.X seems to be already log-transformed.\n",
      "subsampled data (with panel size:1000 genes) saved as /home/augusta/SSS_mount/insituCNV/data/simulated_CNV_data/technical_limiting_conditions/CNV_simulation_01_subsampled_counts_100_genes_1000.h5ad\n",
      "7 CNV_simulation_01_subsampled_counts_100_genes_500 :\n",
      "WARNING: adata.X seems to be already log-transformed.\n",
      "subsampled data (with panel size:500 genes) saved as /home/augusta/SSS_mount/insituCNV/data/simulated_CNV_data/technical_limiting_conditions/CNV_simulation_01_subsampled_counts_100_genes_500.h5ad\n",
      "8 CNV_simulation_01_subsampled_counts_70_genes_all :\n",
      "WARNING: adata.X seems to be already log-transformed.\n",
      "subsampled data (with panel size:25691 genes) saved as /home/augusta/SSS_mount/insituCNV/data/simulated_CNV_data/technical_limiting_conditions/CNV_simulation_01_subsampled_counts_70_genes_all.h5ad\n",
      "9 CNV_simulation_01_subsampled_counts_70_genes_20000 :\n",
      "WARNING: adata.X seems to be already log-transformed.\n",
      "subsampled data (with panel size:20000 genes) saved as /home/augusta/SSS_mount/insituCNV/data/simulated_CNV_data/technical_limiting_conditions/CNV_simulation_01_subsampled_counts_70_genes_20000.h5ad\n",
      "10 CNV_simulation_01_subsampled_counts_70_genes_15000 :\n",
      "WARNING: adata.X seems to be already log-transformed.\n",
      "subsampled data (with panel size:15000 genes) saved as /home/augusta/SSS_mount/insituCNV/data/simulated_CNV_data/technical_limiting_conditions/CNV_simulation_01_subsampled_counts_70_genes_15000.h5ad\n",
      "11 CNV_simulation_01_subsampled_counts_70_genes_10000 :\n",
      "WARNING: adata.X seems to be already log-transformed.\n",
      "subsampled data (with panel size:10000 genes) saved as /home/augusta/SSS_mount/insituCNV/data/simulated_CNV_data/technical_limiting_conditions/CNV_simulation_01_subsampled_counts_70_genes_10000.h5ad\n",
      "12 CNV_simulation_01_subsampled_counts_70_genes_5000 :\n",
      "WARNING: adata.X seems to be already log-transformed.\n",
      "subsampled data (with panel size:5000 genes) saved as /home/augusta/SSS_mount/insituCNV/data/simulated_CNV_data/technical_limiting_conditions/CNV_simulation_01_subsampled_counts_70_genes_5000.h5ad\n",
      "13 CNV_simulation_01_subsampled_counts_70_genes_1000 :\n",
      "WARNING: adata.X seems to be already log-transformed.\n",
      "subsampled data (with panel size:1000 genes) saved as /home/augusta/SSS_mount/insituCNV/data/simulated_CNV_data/technical_limiting_conditions/CNV_simulation_01_subsampled_counts_70_genes_1000.h5ad\n",
      "14 CNV_simulation_01_subsampled_counts_70_genes_500 :\n",
      "WARNING: adata.X seems to be already log-transformed.\n",
      "subsampled data (with panel size:500 genes) saved as /home/augusta/SSS_mount/insituCNV/data/simulated_CNV_data/technical_limiting_conditions/CNV_simulation_01_subsampled_counts_70_genes_500.h5ad\n",
      "15 CNV_simulation_01_subsampled_counts_50_genes_all :\n",
      "WARNING: adata.X seems to be already log-transformed.\n",
      "subsampled data (with panel size:25691 genes) saved as /home/augusta/SSS_mount/insituCNV/data/simulated_CNV_data/technical_limiting_conditions/CNV_simulation_01_subsampled_counts_50_genes_all.h5ad\n",
      "16 CNV_simulation_01_subsampled_counts_50_genes_20000 :\n",
      "WARNING: adata.X seems to be already log-transformed.\n",
      "subsampled data (with panel size:20000 genes) saved as /home/augusta/SSS_mount/insituCNV/data/simulated_CNV_data/technical_limiting_conditions/CNV_simulation_01_subsampled_counts_50_genes_20000.h5ad\n",
      "17 CNV_simulation_01_subsampled_counts_50_genes_15000 :\n",
      "WARNING: adata.X seems to be already log-transformed.\n",
      "subsampled data (with panel size:15000 genes) saved as /home/augusta/SSS_mount/insituCNV/data/simulated_CNV_data/technical_limiting_conditions/CNV_simulation_01_subsampled_counts_50_genes_15000.h5ad\n",
      "18 CNV_simulation_01_subsampled_counts_50_genes_10000 :\n",
      "WARNING: adata.X seems to be already log-transformed.\n",
      "subsampled data (with panel size:10000 genes) saved as /home/augusta/SSS_mount/insituCNV/data/simulated_CNV_data/technical_limiting_conditions/CNV_simulation_01_subsampled_counts_50_genes_10000.h5ad\n",
      "19 CNV_simulation_01_subsampled_counts_50_genes_5000 :\n",
      "WARNING: adata.X seems to be already log-transformed.\n",
      "subsampled data (with panel size:5000 genes) saved as /home/augusta/SSS_mount/insituCNV/data/simulated_CNV_data/technical_limiting_conditions/CNV_simulation_01_subsampled_counts_50_genes_5000.h5ad\n",
      "20 CNV_simulation_01_subsampled_counts_50_genes_1000 :\n",
      "WARNING: adata.X seems to be already log-transformed.\n",
      "subsampled data (with panel size:1000 genes) saved as /home/augusta/SSS_mount/insituCNV/data/simulated_CNV_data/technical_limiting_conditions/CNV_simulation_01_subsampled_counts_50_genes_1000.h5ad\n",
      "21 CNV_simulation_01_subsampled_counts_50_genes_500 :\n",
      "WARNING: adata.X seems to be already log-transformed.\n",
      "subsampled data (with panel size:500 genes) saved as /home/augusta/SSS_mount/insituCNV/data/simulated_CNV_data/technical_limiting_conditions/CNV_simulation_01_subsampled_counts_50_genes_500.h5ad\n",
      "22 CNV_simulation_01_subsampled_counts_20_genes_all :\n",
      "WARNING: adata.X seems to be already log-transformed.\n",
      "subsampled data (with panel size:25691 genes) saved as /home/augusta/SSS_mount/insituCNV/data/simulated_CNV_data/technical_limiting_conditions/CNV_simulation_01_subsampled_counts_20_genes_all.h5ad\n",
      "23 CNV_simulation_01_subsampled_counts_20_genes_20000 :\n",
      "WARNING: adata.X seems to be already log-transformed.\n",
      "subsampled data (with panel size:20000 genes) saved as /home/augusta/SSS_mount/insituCNV/data/simulated_CNV_data/technical_limiting_conditions/CNV_simulation_01_subsampled_counts_20_genes_20000.h5ad\n",
      "24 CNV_simulation_01_subsampled_counts_20_genes_15000 :\n",
      "WARNING: adata.X seems to be already log-transformed.\n",
      "subsampled data (with panel size:15000 genes) saved as /home/augusta/SSS_mount/insituCNV/data/simulated_CNV_data/technical_limiting_conditions/CNV_simulation_01_subsampled_counts_20_genes_15000.h5ad\n",
      "25 CNV_simulation_01_subsampled_counts_20_genes_10000 :\n",
      "WARNING: adata.X seems to be already log-transformed.\n",
      "subsampled data (with panel size:10000 genes) saved as /home/augusta/SSS_mount/insituCNV/data/simulated_CNV_data/technical_limiting_conditions/CNV_simulation_01_subsampled_counts_20_genes_10000.h5ad\n",
      "26 CNV_simulation_01_subsampled_counts_20_genes_5000 :\n",
      "WARNING: adata.X seems to be already log-transformed.\n",
      "subsampled data (with panel size:5000 genes) saved as /home/augusta/SSS_mount/insituCNV/data/simulated_CNV_data/technical_limiting_conditions/CNV_simulation_01_subsampled_counts_20_genes_5000.h5ad\n",
      "27 CNV_simulation_01_subsampled_counts_20_genes_1000 :\n",
      "WARNING: adata.X seems to be already log-transformed.\n",
      "subsampled data (with panel size:1000 genes) saved as /home/augusta/SSS_mount/insituCNV/data/simulated_CNV_data/technical_limiting_conditions/CNV_simulation_01_subsampled_counts_20_genes_1000.h5ad\n",
      "28 CNV_simulation_01_subsampled_counts_20_genes_500 :\n",
      "WARNING: adata.X seems to be already log-transformed.\n",
      "subsampled data (with panel size:500 genes) saved as /home/augusta/SSS_mount/insituCNV/data/simulated_CNV_data/technical_limiting_conditions/CNV_simulation_01_subsampled_counts_20_genes_500.h5ad\n",
      "29 CNV_simulation_01_subsampled_counts_10_genes_all :\n",
      "WARNING: adata.X seems to be already log-transformed.\n",
      "subsampled data (with panel size:25691 genes) saved as /home/augusta/SSS_mount/insituCNV/data/simulated_CNV_data/technical_limiting_conditions/CNV_simulation_01_subsampled_counts_10_genes_all.h5ad\n",
      "30 CNV_simulation_01_subsampled_counts_10_genes_20000 :\n",
      "WARNING: adata.X seems to be already log-transformed.\n",
      "subsampled data (with panel size:20000 genes) saved as /home/augusta/SSS_mount/insituCNV/data/simulated_CNV_data/technical_limiting_conditions/CNV_simulation_01_subsampled_counts_10_genes_20000.h5ad\n",
      "31 CNV_simulation_01_subsampled_counts_10_genes_15000 :\n",
      "WARNING: adata.X seems to be already log-transformed.\n",
      "subsampled data (with panel size:15000 genes) saved as /home/augusta/SSS_mount/insituCNV/data/simulated_CNV_data/technical_limiting_conditions/CNV_simulation_01_subsampled_counts_10_genes_15000.h5ad\n",
      "32 CNV_simulation_01_subsampled_counts_10_genes_10000 :\n",
      "WARNING: adata.X seems to be already log-transformed.\n",
      "subsampled data (with panel size:10000 genes) saved as /home/augusta/SSS_mount/insituCNV/data/simulated_CNV_data/technical_limiting_conditions/CNV_simulation_01_subsampled_counts_10_genes_10000.h5ad\n",
      "33 CNV_simulation_01_subsampled_counts_10_genes_5000 :\n",
      "WARNING: adata.X seems to be already log-transformed.\n",
      "subsampled data (with panel size:5000 genes) saved as /home/augusta/SSS_mount/insituCNV/data/simulated_CNV_data/technical_limiting_conditions/CNV_simulation_01_subsampled_counts_10_genes_5000.h5ad\n",
      "34 CNV_simulation_01_subsampled_counts_10_genes_1000 :\n",
      "WARNING: adata.X seems to be already log-transformed.\n",
      "subsampled data (with panel size:1000 genes) saved as /home/augusta/SSS_mount/insituCNV/data/simulated_CNV_data/technical_limiting_conditions/CNV_simulation_01_subsampled_counts_10_genes_1000.h5ad\n",
      "35 CNV_simulation_01_subsampled_counts_10_genes_500 :\n",
      "WARNING: adata.X seems to be already log-transformed.\n",
      "subsampled data (with panel size:500 genes) saved as /home/augusta/SSS_mount/insituCNV/data/simulated_CNV_data/technical_limiting_conditions/CNV_simulation_01_subsampled_counts_10_genes_500.h5ad\n",
      "36 CNV_simulation_01_subsampled_counts_5_genes_all :\n",
      "WARNING: adata.X seems to be already log-transformed.\n",
      "subsampled data (with panel size:25691 genes) saved as /home/augusta/SSS_mount/insituCNV/data/simulated_CNV_data/technical_limiting_conditions/CNV_simulation_01_subsampled_counts_5_genes_all.h5ad\n",
      "37 CNV_simulation_01_subsampled_counts_5_genes_20000 :\n",
      "WARNING: adata.X seems to be already log-transformed.\n",
      "subsampled data (with panel size:20000 genes) saved as /home/augusta/SSS_mount/insituCNV/data/simulated_CNV_data/technical_limiting_conditions/CNV_simulation_01_subsampled_counts_5_genes_20000.h5ad\n",
      "38 CNV_simulation_01_subsampled_counts_5_genes_15000 :\n",
      "WARNING: adata.X seems to be already log-transformed.\n",
      "subsampled data (with panel size:15000 genes) saved as /home/augusta/SSS_mount/insituCNV/data/simulated_CNV_data/technical_limiting_conditions/CNV_simulation_01_subsampled_counts_5_genes_15000.h5ad\n",
      "39 CNV_simulation_01_subsampled_counts_5_genes_10000 :\n",
      "WARNING: adata.X seems to be already log-transformed.\n",
      "subsampled data (with panel size:10000 genes) saved as /home/augusta/SSS_mount/insituCNV/data/simulated_CNV_data/technical_limiting_conditions/CNV_simulation_01_subsampled_counts_5_genes_10000.h5ad\n",
      "40 CNV_simulation_01_subsampled_counts_5_genes_5000 :\n",
      "WARNING: adata.X seems to be already log-transformed.\n",
      "subsampled data (with panel size:5000 genes) saved as /home/augusta/SSS_mount/insituCNV/data/simulated_CNV_data/technical_limiting_conditions/CNV_simulation_01_subsampled_counts_5_genes_5000.h5ad\n",
      "41 CNV_simulation_01_subsampled_counts_5_genes_1000 :\n",
      "WARNING: adata.X seems to be already log-transformed.\n",
      "subsampled data (with panel size:1000 genes) saved as /home/augusta/SSS_mount/insituCNV/data/simulated_CNV_data/technical_limiting_conditions/CNV_simulation_01_subsampled_counts_5_genes_1000.h5ad\n",
      "42 CNV_simulation_01_subsampled_counts_5_genes_500 :\n",
      "WARNING: adata.X seems to be already log-transformed.\n"
     ]
    },
    {
     "name": "stderr",
     "output_type": "stream",
     "text": [
      "/home/augusta/anaconda3/envs/scanpy_env/lib/python3.10/site-packages/scanpy/preprocessing/_normalization.py:234: UserWarning: Some cells have zero counts\n",
      "  warn(UserWarning(\"Some cells have zero counts\"))\n"
     ]
    },
    {
     "name": "stdout",
     "output_type": "stream",
     "text": [
      "subsampled data (with panel size:500 genes) saved as /home/augusta/SSS_mount/insituCNV/data/simulated_CNV_data/technical_limiting_conditions/CNV_simulation_01_subsampled_counts_5_genes_500.h5ad\n",
      "43 CNV_simulation_01_subsampled_counts_3_genes_all :\n",
      "WARNING: adata.X seems to be already log-transformed.\n",
      "subsampled data (with panel size:25691 genes) saved as /home/augusta/SSS_mount/insituCNV/data/simulated_CNV_data/technical_limiting_conditions/CNV_simulation_01_subsampled_counts_3_genes_all.h5ad\n",
      "44 CNV_simulation_01_subsampled_counts_3_genes_20000 :\n",
      "WARNING: adata.X seems to be already log-transformed.\n",
      "subsampled data (with panel size:20000 genes) saved as /home/augusta/SSS_mount/insituCNV/data/simulated_CNV_data/technical_limiting_conditions/CNV_simulation_01_subsampled_counts_3_genes_20000.h5ad\n",
      "45 CNV_simulation_01_subsampled_counts_3_genes_15000 :\n",
      "WARNING: adata.X seems to be already log-transformed.\n",
      "subsampled data (with panel size:15000 genes) saved as /home/augusta/SSS_mount/insituCNV/data/simulated_CNV_data/technical_limiting_conditions/CNV_simulation_01_subsampled_counts_3_genes_15000.h5ad\n",
      "46 CNV_simulation_01_subsampled_counts_3_genes_10000 :\n",
      "WARNING: adata.X seems to be already log-transformed.\n",
      "subsampled data (with panel size:10000 genes) saved as /home/augusta/SSS_mount/insituCNV/data/simulated_CNV_data/technical_limiting_conditions/CNV_simulation_01_subsampled_counts_3_genes_10000.h5ad\n",
      "47 CNV_simulation_01_subsampled_counts_3_genes_5000 :\n",
      "WARNING: adata.X seems to be already log-transformed.\n",
      "subsampled data (with panel size:5000 genes) saved as /home/augusta/SSS_mount/insituCNV/data/simulated_CNV_data/technical_limiting_conditions/CNV_simulation_01_subsampled_counts_3_genes_5000.h5ad\n",
      "48 CNV_simulation_01_subsampled_counts_3_genes_1000 :\n",
      "WARNING: adata.X seems to be already log-transformed.\n",
      "subsampled data (with panel size:1000 genes) saved as /home/augusta/SSS_mount/insituCNV/data/simulated_CNV_data/technical_limiting_conditions/CNV_simulation_01_subsampled_counts_3_genes_1000.h5ad\n",
      "49 CNV_simulation_01_subsampled_counts_3_genes_500 :\n",
      "WARNING: adata.X seems to be already log-transformed.\n"
     ]
    },
    {
     "name": "stderr",
     "output_type": "stream",
     "text": [
      "/home/augusta/anaconda3/envs/scanpy_env/lib/python3.10/site-packages/scanpy/preprocessing/_normalization.py:234: UserWarning: Some cells have zero counts\n",
      "  warn(UserWarning(\"Some cells have zero counts\"))\n"
     ]
    },
    {
     "name": "stdout",
     "output_type": "stream",
     "text": [
      "subsampled data (with panel size:500 genes) saved as /home/augusta/SSS_mount/insituCNV/data/simulated_CNV_data/technical_limiting_conditions/CNV_simulation_01_subsampled_counts_3_genes_500.h5ad\n",
      "50 CNV_simulation_01_subsampled_counts_2_genes_all :\n",
      "WARNING: adata.X seems to be already log-transformed.\n",
      "subsampled data (with panel size:25691 genes) saved as /home/augusta/SSS_mount/insituCNV/data/simulated_CNV_data/technical_limiting_conditions/CNV_simulation_01_subsampled_counts_2_genes_all.h5ad\n",
      "51 CNV_simulation_01_subsampled_counts_2_genes_20000 :\n",
      "WARNING: adata.X seems to be already log-transformed.\n",
      "subsampled data (with panel size:20000 genes) saved as /home/augusta/SSS_mount/insituCNV/data/simulated_CNV_data/technical_limiting_conditions/CNV_simulation_01_subsampled_counts_2_genes_20000.h5ad\n",
      "52 CNV_simulation_01_subsampled_counts_2_genes_15000 :\n",
      "WARNING: adata.X seems to be already log-transformed.\n",
      "subsampled data (with panel size:15000 genes) saved as /home/augusta/SSS_mount/insituCNV/data/simulated_CNV_data/technical_limiting_conditions/CNV_simulation_01_subsampled_counts_2_genes_15000.h5ad\n",
      "53 CNV_simulation_01_subsampled_counts_2_genes_10000 :\n",
      "WARNING: adata.X seems to be already log-transformed.\n",
      "subsampled data (with panel size:10000 genes) saved as /home/augusta/SSS_mount/insituCNV/data/simulated_CNV_data/technical_limiting_conditions/CNV_simulation_01_subsampled_counts_2_genes_10000.h5ad\n",
      "54 CNV_simulation_01_subsampled_counts_2_genes_5000 :\n",
      "WARNING: adata.X seems to be already log-transformed.\n",
      "subsampled data (with panel size:5000 genes) saved as /home/augusta/SSS_mount/insituCNV/data/simulated_CNV_data/technical_limiting_conditions/CNV_simulation_01_subsampled_counts_2_genes_5000.h5ad\n",
      "55 CNV_simulation_01_subsampled_counts_2_genes_1000 :\n",
      "WARNING: adata.X seems to be already log-transformed.\n",
      "subsampled data (with panel size:1000 genes) saved as /home/augusta/SSS_mount/insituCNV/data/simulated_CNV_data/technical_limiting_conditions/CNV_simulation_01_subsampled_counts_2_genes_1000.h5ad\n",
      "56 CNV_simulation_01_subsampled_counts_2_genes_500 :\n",
      "WARNING: adata.X seems to be already log-transformed.\n"
     ]
    },
    {
     "name": "stderr",
     "output_type": "stream",
     "text": [
      "/home/augusta/anaconda3/envs/scanpy_env/lib/python3.10/site-packages/scanpy/preprocessing/_normalization.py:234: UserWarning: Some cells have zero counts\n",
      "  warn(UserWarning(\"Some cells have zero counts\"))\n"
     ]
    },
    {
     "name": "stdout",
     "output_type": "stream",
     "text": [
      "subsampled data (with panel size:500 genes) saved as /home/augusta/SSS_mount/insituCNV/data/simulated_CNV_data/technical_limiting_conditions/CNV_simulation_01_subsampled_counts_2_genes_500.h5ad\n",
      "57 CNV_simulation_01_subsampled_counts_1_genes_all :\n",
      "WARNING: adata.X seems to be already log-transformed.\n",
      "subsampled data (with panel size:25691 genes) saved as /home/augusta/SSS_mount/insituCNV/data/simulated_CNV_data/technical_limiting_conditions/CNV_simulation_01_subsampled_counts_1_genes_all.h5ad\n",
      "58 CNV_simulation_01_subsampled_counts_1_genes_20000 :\n",
      "WARNING: adata.X seems to be already log-transformed.\n",
      "subsampled data (with panel size:20000 genes) saved as /home/augusta/SSS_mount/insituCNV/data/simulated_CNV_data/technical_limiting_conditions/CNV_simulation_01_subsampled_counts_1_genes_20000.h5ad\n",
      "59 CNV_simulation_01_subsampled_counts_1_genes_15000 :\n",
      "WARNING: adata.X seems to be already log-transformed.\n",
      "subsampled data (with panel size:15000 genes) saved as /home/augusta/SSS_mount/insituCNV/data/simulated_CNV_data/technical_limiting_conditions/CNV_simulation_01_subsampled_counts_1_genes_15000.h5ad\n",
      "60 CNV_simulation_01_subsampled_counts_1_genes_10000 :\n",
      "WARNING: adata.X seems to be already log-transformed.\n",
      "subsampled data (with panel size:10000 genes) saved as /home/augusta/SSS_mount/insituCNV/data/simulated_CNV_data/technical_limiting_conditions/CNV_simulation_01_subsampled_counts_1_genes_10000.h5ad\n",
      "61 CNV_simulation_01_subsampled_counts_1_genes_5000 :\n",
      "WARNING: adata.X seems to be already log-transformed.\n",
      "subsampled data (with panel size:5000 genes) saved as /home/augusta/SSS_mount/insituCNV/data/simulated_CNV_data/technical_limiting_conditions/CNV_simulation_01_subsampled_counts_1_genes_5000.h5ad\n",
      "62 CNV_simulation_01_subsampled_counts_1_genes_1000 :\n",
      "WARNING: adata.X seems to be already log-transformed.\n"
     ]
    },
    {
     "name": "stderr",
     "output_type": "stream",
     "text": [
      "/home/augusta/anaconda3/envs/scanpy_env/lib/python3.10/site-packages/scanpy/preprocessing/_normalization.py:234: UserWarning: Some cells have zero counts\n",
      "  warn(UserWarning(\"Some cells have zero counts\"))\n"
     ]
    },
    {
     "name": "stdout",
     "output_type": "stream",
     "text": [
      "subsampled data (with panel size:1000 genes) saved as /home/augusta/SSS_mount/insituCNV/data/simulated_CNV_data/technical_limiting_conditions/CNV_simulation_01_subsampled_counts_1_genes_1000.h5ad\n",
      "63 CNV_simulation_01_subsampled_counts_1_genes_500 :\n",
      "WARNING: adata.X seems to be already log-transformed.\n"
     ]
    },
    {
     "name": "stderr",
     "output_type": "stream",
     "text": [
      "/home/augusta/anaconda3/envs/scanpy_env/lib/python3.10/site-packages/scanpy/preprocessing/_normalization.py:234: UserWarning: Some cells have zero counts\n",
      "  warn(UserWarning(\"Some cells have zero counts\"))\n"
     ]
    },
    {
     "name": "stdout",
     "output_type": "stream",
     "text": [
      "subsampled data (with panel size:500 genes) saved as /home/augusta/SSS_mount/insituCNV/data/simulated_CNV_data/technical_limiting_conditions/CNV_simulation_01_subsampled_counts_1_genes_500.h5ad\n"
     ]
    }
   ],
   "source": [
    "destination = '/home/augusta/SSS_mount/insituCNV/data/simulated_CNV_data/technical_limiting_conditions'\n",
    "\n",
    "data_names_counts = ['CNV_simulation_01_subsampled_counts_100',\n",
    "              'CNV_simulation_01_subsampled_counts_70', \n",
    "              'CNV_simulation_01_subsampled_counts_50',\n",
    "              'CNV_simulation_01_subsampled_counts_20', \n",
    "              'CNV_simulation_01_subsampled_counts_10',\n",
    "              'CNV_simulation_01_subsampled_counts_5', \n",
    "              'CNV_simulation_01_subsampled_counts_3', \n",
    "              'CNV_simulation_01_subsampled_counts_2', \n",
    "              'CNV_simulation_01_subsampled_counts_1']\n",
    "\n",
    "\n",
    "gene_panel_size = ['all', 20000,15000,10000,5000,1000,500]\n",
    "\n",
    "\n",
    "n=0\n",
    "for data_name in data_names_counts:\n",
    "\n",
    "    # Read in the subsampled counts dataset\n",
    "    adata_path = f\"{destination}/{data_name}.h5ad\"\n",
    "    adata = sc.read(adata_path)\n",
    "    \n",
    "    # Subsample the gene panel sizes\n",
    "    for panel_size in gene_panel_size:\n",
    "        combined_data_name = f\"{data_name}_genes_{panel_size}\"\n",
    "        n += 1\n",
    "        print(n, combined_data_name, ':')\n",
    "        subsample_genes(adata=adata, gene_panel_size=panel_size, destination=destination, data_name=combined_data_name)"
   ]
  },
  {
   "cell_type": "code",
   "execution_count": null,
   "id": "e62436cb-767a-45f9-b684-87d99f84885f",
   "metadata": {},
   "outputs": [],
   "source": []
  }
 ],
 "metadata": {
  "kernelspec": {
   "display_name": "scanpy_env",
   "language": "python",
   "name": "scanpy_env"
  },
  "language_info": {
   "codemirror_mode": {
    "name": "ipython",
    "version": 3
   },
   "file_extension": ".py",
   "mimetype": "text/x-python",
   "name": "python",
   "nbconvert_exporter": "python",
   "pygments_lexer": "ipython3",
   "version": "3.10.15"
  }
 },
 "nbformat": 4,
 "nbformat_minor": 5
}
