{
 "cells": [
  {
   "cell_type": "code",
   "execution_count": 56,
   "id": "465eec7b-b06e-4cdc-8538-0f0dbbe13087",
   "metadata": {},
   "outputs": [],
   "source": [
    "import scanpy as sc\n",
    "import os\n",
    "import pandas as pd"
   ]
  },
  {
   "cell_type": "markdown",
   "id": "b0be9e43-b630-4cf0-9244-e2216237fa9f",
   "metadata": {},
   "source": [
    "# Load AnnData object"
   ]
  },
  {
   "cell_type": "code",
   "execution_count": 57,
   "id": "19a632bd-c269-4e1c-af8d-f5b83acddaf3",
   "metadata": {},
   "outputs": [],
   "source": [
    "adata_path = \"/home/augusta/SSS_mount/insituCNV/InSituCNV/Figure2/01_Simulate_CNVs_in_spatial_data/Simulate_CNVs_vascular_normal/lung_organoids_cnvclust_simulatedCNVs_121224_simulationv2_rho6.h5ad\"\n",
    "adata = sc.read_h5ad(adata_path)"
   ]
  },
  {
   "cell_type": "markdown",
   "id": "077655db-c117-4a9b-8b60-995f1524d259",
   "metadata": {},
   "source": [
    "# Subsample and save the data"
   ]
  },
  {
   "cell_type": "markdown",
   "id": "ff16978b-abb3-42b9-8130-3479360760fe",
   "metadata": {},
   "source": [
    "## Functions"
   ]
  },
  {
   "cell_type": "code",
   "execution_count": 73,
   "id": "73c9df89-791e-4eb4-a619-277517ca7bef",
   "metadata": {},
   "outputs": [],
   "source": [
    "import scanpy as sc\n",
    "import numpy as np\n",
    "\n",
    "def subsample_counts(adata, fraction, destination, data_name):\n",
    "    \"\"\"\n",
    "    Parameters:\n",
    "        adata (AnnData object): AnnData object that should be subsampled\n",
    "        fraction (nbr): A fraction of which the counts should be downsampled to\n",
    "        destination (str): Path to the destination where the AnnData object should be saved\n",
    "        data_name (str): Name of the AnnData object. \n",
    "\n",
    "    Returns:\n",
    "        None\n",
    "    \n",
    "    \"\"\"\n",
    "    \n",
    "    new_adata = adata.copy()\n",
    "    \n",
    "    total_counts = int(fraction * adata.X.sum()) \n",
    "\n",
    "    downsampled_adata = sc.pp.downsample_counts(\n",
    "        adata, \n",
    "        total_counts=total_counts, \n",
    "        random_state=42, \n",
    "        copy=True\n",
    "    )\n",
    "\n",
    "    layer_name = 'CNV_simulated'\n",
    "    new_adata.layers[layer_name] = downsampled_adata.X.copy()\n",
    "\n",
    "    #Normalize and log transform the data\n",
    "    new_adata.layers[f\"{layer_name}_raw\"] = new_adata.layers[layer_name].copy()\n",
    "    sc.pp.normalize_total(new_adata, layer = layer_name)\n",
    "    sc.pp.log1p(new_adata, layer = layer_name)\n",
    "\n",
    "    new_adata.X = new_adata.layers[layer_name].copy()\n",
    "\n",
    "    #Save the anndata object\n",
    "    new_adata.write(destination +'/'+ data_name + '.h5ad', compression = 'gzip')\n",
    "    print(f'subsampled data ({fraction*100:.0f}% counts) saved as {data_name}.h5ad in destination: {destination}')\n"
   ]
  },
  {
   "cell_type": "code",
   "execution_count": 68,
   "id": "00dfdb2b-8f65-4a7b-8464-4628bef9229b",
   "metadata": {},
   "outputs": [],
   "source": [
    "import numpy as np \n",
    "\n",
    "def subsample_genes(adata, fraction, destination, data_name):\n",
    "    \"\"\"\n",
    "    Parameters:\n",
    "        adata (AnnData object): AnnData object that should be subsampled\n",
    "        fraction (nbr): A fraction of which the counts should be downsampled to\n",
    "        destination (str): Path to the destination where the AnnData object should be saved\n",
    "        data_name (str): Name of the AnnData object. \n",
    "\n",
    "    Returns:\n",
    "        None\n",
    "    \n",
    "    \"\"\"\n",
    "    \n",
    "    if fraction > 1 or fraction < 0:\n",
    "        raise ValueError(f\"`fraction` needs to be within [0, 1], not {fraction}\")\n",
    "    \n",
    "    # Set random seed for reproducibility\n",
    "    random_state = 42\n",
    "    np.random.seed(random_state)\n",
    "\n",
    "    # Calculate the number of genes to retain\n",
    "    old_n_vars = adata.n_vars\n",
    "    new_n_vars =  int(fraction * old_n_vars)\n",
    "    var_indices = np.random.choice(old_n_vars, size=new_n_vars, replace=False)\n",
    "\n",
    "    # Subsample the data\n",
    "    subsampled_adata = adata[:, var_indices].copy()\n",
    "\n",
    "    layer_name = 'CNV_simulated'\n",
    "    subsampled_adata.X = subsampled_adata.layers[layer_name].copy()\n",
    "\n",
    "    #Normalize and log transform the data\n",
    "    subsampled_adata.layers[f\"{layer_name}_raw\"] = subsampled_adata.layers[layer_name].copy()\n",
    "    sc.pp.normalize_total(subsampled_adata, layer=layer_name)\n",
    "    sc.pp.log1p(subsampled_adata, layer=layer_name)\n",
    "                \n",
    "    # Save the anndata object\n",
    "    subsampled_adata.write(destination +'/'+ data_name + '.h5ad', compression = 'gzip')\n",
    "    print(f'subsampled data ({fraction*100:.0f}% genes, panel size:{new_n_vars} genes) saved as {data_name}.h5ad in destination: {destination}')\n"
   ]
  },
  {
   "cell_type": "markdown",
   "id": "fd15548a-3708-4112-beda-e2e4aae4ea01",
   "metadata": {},
   "source": [
    "# Subsampling counts"
   ]
  },
  {
   "cell_type": "code",
   "execution_count": 58,
   "id": "dbfd7cca-406e-4e6f-b1c0-2ba84c007c9b",
   "metadata": {
    "scrolled": true
   },
   "outputs": [],
   "source": [
    "adata.X = adata.layers['CNV_simulated'].copy()"
   ]
  },
  {
   "cell_type": "code",
   "execution_count": 74,
   "id": "533ba661-5f7e-4df4-ba5b-4eaf8f92b281",
   "metadata": {},
   "outputs": [
    {
     "name": "stdout",
     "output_type": "stream",
     "text": [
      "WARNING: adata.X seems to be already log-transformed.\n",
      "subsampled data (70% counts) saved as CNV_simulated_subsampled_counts_70.h5ad in destination: /home/augusta/SSS_mount/insituCNV/data/simulated_CNV_data/technical_limiting_conditions\n",
      "WARNING: adata.X seems to be already log-transformed.\n",
      "subsampled data (50% counts) saved as CNV_simulated_subsampled_counts_50.h5ad in destination: /home/augusta/SSS_mount/insituCNV/data/simulated_CNV_data/technical_limiting_conditions\n",
      "WARNING: adata.X seems to be already log-transformed.\n",
      "subsampled data (20% counts) saved as CNV_simulated_subsampled_counts_20.h5ad in destination: /home/augusta/SSS_mount/insituCNV/data/simulated_CNV_data/technical_limiting_conditions\n",
      "WARNING: adata.X seems to be already log-transformed.\n",
      "subsampled data (10% counts) saved as CNV_simulated_subsampled_counts_10.h5ad in destination: /home/augusta/SSS_mount/insituCNV/data/simulated_CNV_data/technical_limiting_conditions\n",
      "WARNING: adata.X seems to be already log-transformed.\n",
      "subsampled data (5% counts) saved as CNV_simulated_subsampled_counts_5.h5ad in destination: /home/augusta/SSS_mount/insituCNV/data/simulated_CNV_data/technical_limiting_conditions\n",
      "WARNING: adata.X seems to be already log-transformed.\n",
      "subsampled data (1% counts) saved as CNV_simulated_subsampled_counts_1.h5ad in destination: /home/augusta/SSS_mount/insituCNV/data/simulated_CNV_data/technical_limiting_conditions\n"
     ]
    }
   ],
   "source": [
    "destination = '/home/augusta/SSS_mount/insituCNV/data/simulated_CNV_data/technical_limiting_conditions'\n",
    "\n",
    "fractions = [0.7, 0.5, 0.2, 0.1, 0.05, 0.01]\n",
    "data_names = ['CNV_simulated_subsampled_counts_70', \n",
    "             'CNV_simulated_subsampled_counts_50',\n",
    "             'CNV_simulated_subsampled_counts_20', \n",
    "             'CNV_simulated_subsampled_counts_10',\n",
    "             'CNV_simulated_subsampled_counts_5', \n",
    "             'CNV_simulated_subsampled_counts_1']\n",
    "\n",
    "for fraction, data_name in zip(fractions, data_names):\n",
    "    subsample_counts(adata=adata, fraction=fraction, destination=destination, data_name=data_name)"
   ]
  },
  {
   "cell_type": "markdown",
   "id": "c152caa7-ca9e-4149-a0fd-e5726d4a7acc",
   "metadata": {},
   "source": [
    "# Subsampling gene panel size"
   ]
  },
  {
   "cell_type": "code",
   "execution_count": 69,
   "id": "05048694-bc4a-4121-b5bb-ce03fd9ca71b",
   "metadata": {},
   "outputs": [
    {
     "name": "stdout",
     "output_type": "stream",
     "text": [
      "WARNING: adata.X seems to be already log-transformed.\n",
      "subsampled data (70% genes, panel size:17983 genes) saved as CNV_simulated_subsampled_genes_70.h5ad in destination: /home/augusta/SSS_mount/insituCNV/data/simulated_CNV_data/technical_limiting_conditions\n",
      "WARNING: adata.X seems to be already log-transformed.\n",
      "subsampled data (50% genes, panel size:12845 genes) saved as CNV_simulated_subsampled_genes_50.h5ad in destination: /home/augusta/SSS_mount/insituCNV/data/simulated_CNV_data/technical_limiting_conditions\n",
      "WARNING: adata.X seems to be already log-transformed.\n",
      "subsampled data (20% genes, panel size:5138 genes) saved as CNV_simulated_subsampled_genes_20.h5ad in destination: /home/augusta/SSS_mount/insituCNV/data/simulated_CNV_data/technical_limiting_conditions\n",
      "WARNING: adata.X seems to be already log-transformed.\n",
      "subsampled data (10% genes, panel size:2569 genes) saved as CNV_simulated_subsampled_genes_10.h5ad in destination: /home/augusta/SSS_mount/insituCNV/data/simulated_CNV_data/technical_limiting_conditions\n",
      "WARNING: adata.X seems to be already log-transformed.\n",
      "subsampled data (5% genes, panel size:1284 genes) saved as CNV_simulated_subsampled_genes_5.h5ad in destination: /home/augusta/SSS_mount/insituCNV/data/simulated_CNV_data/technical_limiting_conditions\n",
      "WARNING: adata.X seems to be already log-transformed.\n",
      "subsampled data (1% genes, panel size:256 genes) saved as CNV_simulated_subsampled_genes_1.h5ad in destination: /home/augusta/SSS_mount/insituCNV/data/simulated_CNV_data/technical_limiting_conditions\n"
     ]
    }
   ],
   "source": [
    "destination = '/home/augusta/SSS_mount/insituCNV/data/simulated_CNV_data/technical_limiting_conditions'\n",
    "\n",
    "fractions = [0.7, 0.5, 0.2, 0.1, 0.05, 0.01]\n",
    "data_names = ['CNV_simulated_subsampled_genes_70', \n",
    "             'CNV_simulated_subsampled_genes_50',\n",
    "             'CNV_simulated_subsampled_genes_20', \n",
    "             'CNV_simulated_subsampled_genes_10',\n",
    "             'CNV_simulated_subsampled_genes_5', \n",
    "             'CNV_simulated_subsampled_genes_1']\n",
    "\n",
    "for fraction, data_name in zip(fractions, data_names):\n",
    "    subsample_genes(adata=adata, fraction=fraction, destination=destination, data_name=data_name)"
   ]
  }
 ],
 "metadata": {
  "kernelspec": {
   "display_name": "scanpy_env",
   "language": "python",
   "name": "scanpy_env"
  },
  "language_info": {
   "codemirror_mode": {
    "name": "ipython",
    "version": 3
   },
   "file_extension": ".py",
   "mimetype": "text/x-python",
   "name": "python",
   "nbconvert_exporter": "python",
   "pygments_lexer": "ipython3",
   "version": "3.10.15"
  }
 },
 "nbformat": 4,
 "nbformat_minor": 5
}
