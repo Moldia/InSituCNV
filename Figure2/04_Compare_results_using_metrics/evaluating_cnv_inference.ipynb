{
 "cells": [
  {
   "cell_type": "code",
   "execution_count": 1,
   "id": "649411bf",
   "metadata": {},
   "outputs": [
    {
     "name": "stderr",
     "output_type": "stream",
     "text": [
      "/home/sergio/.local/lib/python3.10/site-packages/tqdm/auto.py:21: TqdmWarning: IProgress not found. Please update jupyter and ipywidgets. See https://ipywidgets.readthedocs.io/en/stable/user_install.html\n",
      "  from .autonotebook import tqdm as notebook_tqdm\n"
     ]
    }
   ],
   "source": [
    "import os\n",
    "import numpy as np\n",
    "import pandas as pd\n",
    "import scanpy as sc\n",
    "import seaborn as sns\n",
    "import matplotlib.pyplot as plt\n",
    "import warnings\n",
    "import infercnvpy as cnv\n",
    "import matplotlib\n",
    "\n",
    "import sys\n",
    "sys.path.append(\"../..\")\n",
    "import insitucnv as icv"
   ]
  },
  {
   "cell_type": "markdown",
   "id": "726328ea",
   "metadata": {},
   "source": [
    "## Read adata"
   ]
  },
  {
   "cell_type": "code",
   "execution_count": 2,
   "id": "97701b82",
   "metadata": {},
   "outputs": [],
   "source": [
    "saving_path='/media/sergio/GBX/5KXenium/simulated'\n",
    "adata=sc.read(os.path.join(saving_path,'lung_organoids_cnvclust0_simulatedCNVs_121224_simulationv2_rho6_subsampled.h5ad'))"
   ]
  },
  {
   "cell_type": "markdown",
   "id": "3ba1c99d",
   "metadata": {},
   "source": [
    "## Compute similarity between simulated subclone and CNV_leiden"
   ]
  },
  {
   "cell_type": "markdown",
   "id": "f723aebe",
   "metadata": {},
   "source": [
    "We use adjusted rand index (ARI) and normalized mutual info (NMI) to compute similarity between simulated subclones and computed subclones"
   ]
  },
  {
   "cell_type": "code",
   "execution_count": 3,
   "id": "1176f51e",
   "metadata": {},
   "outputs": [
    {
     "name": "stdout",
     "output_type": "stream",
     "text": [
      "Adjusted Rand Index (ARI): 0.4945156421017969\n",
      "Normalized Mutual Information (NMI): 0.44199964430094596\n"
     ]
    }
   ],
   "source": [
    "ari = icv.tl.compute_ari(adata, reference_key='simulated_subclone', computed_key='cnv_leiden_res0.7')\n",
    "nmi = icv.tl.compute_nmi(adata, reference_key='simulated_subclone', computed_key='cnv_leiden_res0.7')\n",
    "\n",
    "print(f\"Adjusted Rand Index (ARI): {ari}\")\n",
    "print(f\"Normalized Mutual Information (NMI): {nmi}\")\n"
   ]
  },
  {
   "cell_type": "markdown",
   "id": "eeabe15d",
   "metadata": {},
   "source": [
    "### (temporary step, compute cnv inference, including calculate_gene_values=True, so that we can compare)"
   ]
  },
  {
   "cell_type": "code",
   "execution_count": 4,
   "id": "9a1624c6",
   "metadata": {},
   "outputs": [
    {
     "name": "stdout",
     "output_type": "stream",
     "text": [
      "WARNING: Skipped 867 genes because they don't have a genomic position annotated. \n",
      "WARNING: Using mean of all cells as reference. For better results, provide either `reference`, or both `reference_key` and `reference_cat`. \n"
     ]
    },
    {
     "name": "stderr",
     "output_type": "stream",
     "text": [
      "100%|████████████████████████████████████████████████████████████████████████████████████| 1/1 [05:02<00:00, 302.96s/it]\n"
     ]
    }
   ],
   "source": [
    "cnv.tl.infercnv(adata, reference_key=None, reference_cat=None, reference=None, lfc_clip=3, window_size=100, step=10, dynamic_threshold=1.5, exclude_chromosomes=('chrX', 'chrY'), chunksize=5000, n_jobs=None, inplace=True, layer=None, key_added='cnv', calculate_gene_values=True)"
   ]
  },
  {
   "cell_type": "markdown",
   "id": "eb9f19d7",
   "metadata": {},
   "source": [
    "# CNV predictability"
   ]
  },
  {
   "cell_type": "code",
   "execution_count": 6,
   "id": "63983a41",
   "metadata": {},
   "outputs": [],
   "source": [
    "cnv_score_in_gains=cnv_values[ground_truth==1]\n",
    "cnv_score_in_gains=[x for x in cnv_score_in_gains if str(x) != 'nan']\n",
    "cnv_score_in_losses=cnv_values[ground_truth==-1]\n",
    "cnv_score_in_losses=[x for x in cnv_score_in_losses if str(x) != 'nan']\n",
    "cnv_score_in_neutrals=cnv_values[ground_truth==0]\n",
    "cnv_score_in_cnv=cnv_values[ground_truth!=0]\n",
    "cnv_score_in_cnv=[x for x in cnv_score_in_cnv if str(x) != 'nan']\n",
    "cnv_score_in_neutrals=[x for x in cnv_score_in_neutrals if str(x) != 'nan']"
   ]
  },
  {
   "cell_type": "code",
   "execution_count": 7,
   "id": "24519bc2",
   "metadata": {},
   "outputs": [],
   "source": [
    "true_gains=len([e for e in cnv_score_in_gains if e>0])/len(cnv_score_in_gains)\n",
    "true_losses=len([e for e in cnv_score_in_losses if e<0])/len(cnv_score_in_losses)"
   ]
  },
  {
   "cell_type": "code",
   "execution_count": 8,
   "id": "c3003f5d",
   "metadata": {},
   "outputs": [],
   "source": [
    "true_neutrals=np.sum(np.abs(cnv_score_in_neutrals)==0)/len(cnv_score_in_neutrals)\n",
    "true_cnv=np.sum(np.abs(cnv_score_in_cnv)!=0)/len(cnv_score_in_cnv)\n",
    "false_neutrals=1-true_neutrals\n",
    "false_cnv=1-true_cnv"
   ]
  },
  {
   "cell_type": "markdown",
   "id": "d1d58c6a",
   "metadata": {},
   "source": [
    "Accuracy = (True positives + True Negatives)/ (True positives + True negatives + False positives + False negatives)"
   ]
  },
  {
   "cell_type": "code",
   "execution_count": 10,
   "id": "0e49ae47",
   "metadata": {},
   "outputs": [],
   "source": [
    "## metrics for CNV gain and loss together\n",
    "results_all = icv.tl.compute_performance_metrics(true_cnv, false_neutrals, true_neutrals, false_cnv)\n",
    "\n",
    "## metrics for CNV gain\n",
    "results_gain = icv.tl.compute_performance_metrics(true_gains, false_neutrals, true_neutrals,1- true_gains)\n",
    "\n",
    "## metrics for CNV loss\n",
    "results_loss = icv.tl.compute_performance_metrics(true_losses, false_neutrals, true_neutrals,1- true_losses)"
   ]
  },
  {
   "cell_type": "markdown",
   "id": "3f803c43",
   "metadata": {},
   "source": [
    "### Specially relevant for our case are the F1 scores"
   ]
  },
  {
   "cell_type": "code",
   "execution_count": 13,
   "id": "10baa9e6",
   "metadata": {},
   "outputs": [
    {
     "data": {
      "text/plain": [
       "0.4381419401116141"
      ]
     },
     "execution_count": 13,
     "metadata": {},
     "output_type": "execute_result"
    }
   ],
   "source": [
    "results_all['F1 Score']"
   ]
  },
  {
   "cell_type": "markdown",
   "id": "162ec185",
   "metadata": {},
   "source": [
    "# We can also compute AUC & PR"
   ]
  },
  {
   "cell_type": "code",
   "execution_count": 12,
   "id": "5b4cbcb4",
   "metadata": {},
   "outputs": [
    {
     "name": "stdout",
     "output_type": "stream",
     "text": [
      "ROC AUC for Gains: 0.693\n",
      "PR AUC for Gains: 0.045\n",
      "ROC AUC for Losses: 0.513\n",
      "PR AUC for Losses: 0.002\n"
     ]
    }
   ],
   "source": [
    "ground_truth=adata.layers['CNV_GT']\n",
    "cnv_values=adata.layers[\"gene_values_cnv\"]\n",
    "\n",
    "# Example data\n",
    "simulated = ground_truth.flatten()  # Simulated CNVs for a gene (0: neutral, 1: gain, -1: loss)\n",
    "inferred_scores = cnv_values.flatten()  # Inferred scores for the same gene\n",
    "\n",
    "filter_nan = [str(x) != 'nan' for x in inferred_scores]\n",
    "\n",
    "simulated = simulated[filter_nan]\n",
    "inferred_scores = inferred_scores[filter_nan]\n",
    "\n",
    "# Compute AUC for gains (class_value = 1) and losses (class_value = -1)\n",
    "roc_auc_gains, pr_auc_gains = icv.tl.compute_auc(simulated, inferred_scores, 1)\n",
    "roc_auc_losses, pr_auc_losses = icv.tl.compute_auc(simulated, inferred_scores, -1)\n",
    "\n",
    "# Print results\n",
    "print(f\"ROC AUC for Gains: {roc_auc_gains:.3f}\")\n",
    "print(f\"PR AUC for Gains: {pr_auc_gains:.3f}\")\n",
    "print(f\"ROC AUC for Losses: {roc_auc_losses:.3f}\")\n",
    "print(f\"PR AUC for Losses: {pr_auc_losses:.3f}\")\n"
   ]
  },
  {
   "cell_type": "markdown",
   "id": "e2c074c9",
   "metadata": {},
   "source": [
    "###  Turn it into a per  per gene accuracy metric"
   ]
  },
  {
   "cell_type": "code",
   "execution_count": 14,
   "id": "27acd3fa",
   "metadata": {},
   "outputs": [],
   "source": [
    "affected_genes_info=adata.var.loc[np.sum(np.abs(ground_truth),axis=0)>0,:]\n",
    "affected_genes_values=cnv_values[:,np.sum(np.abs(ground_truth),axis=0)>0]\n",
    "affected_genes_ground_truth=ground_truth[:,np.sum(np.abs(ground_truth),axis=0)>0]"
   ]
  },
  {
   "cell_type": "code",
   "execution_count": 15,
   "id": "5fc9a511",
   "metadata": {},
   "outputs": [
    {
     "name": "stderr",
     "output_type": "stream",
     "text": [
      "100%|████████████████████████████████████████████████████████████████████████████████| 343/343 [00:00<00:00, 355.77it/s]\n"
     ]
    }
   ],
   "source": [
    "from tqdm import tqdm \n",
    "\n",
    "simulated_matrix = affected_genes_ground_truth  # Simulated CNVs for multiple genes (cells x genes)\n",
    "inferred_scores_matrix = affected_genes_values  # Inferred CNV scores for the same genes (cells x genes)\n",
    "\n",
    "# Initialize lists to store AUC scores per gene\n",
    "roc_auc_gains_per_gene = []\n",
    "pr_auc_gains_per_gene = []\n",
    "roc_auc_losses_per_gene = []\n",
    "pr_auc_losses_per_gene = []\n",
    "\n",
    "# Iterate through each gene (columns)\n",
    "num_genes = simulated_matrix.shape[1]\n",
    "for g in tqdm(range(num_genes)):\n",
    "    # Flatten the current gene's data (simulated and inferred scores for all cells)\n",
    "    simulated = simulated_matrix[:, g].flatten()\n",
    "    inferred_scores = inferred_scores_matrix[:, g].flatten()\n",
    "\n",
    "    # Filter out NaN values\n",
    "    filter_nan = [str(x) != 'nan' for x in inferred_scores]\n",
    "    simulated = simulated[filter_nan]\n",
    "    inferred_scores = inferred_scores[filter_nan]\n",
    "    \n",
    "    # Compute AUC for gains (class_value = 1) and losses (class_value = -1) for the current gene\n",
    "    if 1 in np.unique(simulated).astype(int):\n",
    "        roc_auc_gains, pr_auc_gains = icv.tl.compute_auc(simulated, inferred_scores, 1.0)\n",
    "        roc_auc_gains_per_gene.append(roc_auc_gains)\n",
    "        pr_auc_gains_per_gene.append(pr_auc_gains)\n",
    "    else:\n",
    "        roc_auc_gains_per_gene.append(np.nan)\n",
    "        pr_auc_gains_per_gene.append(np.nan)\n",
    "    \n",
    "    if -1 in np.unique(simulated).astype(int):\n",
    "        roc_auc_losses, pr_auc_losses = icv.tl.compute_auc(simulated, inferred_scores, -1.0)\n",
    "        roc_auc_losses_per_gene.append(roc_auc_losses)\n",
    "        pr_auc_losses_per_gene.append(pr_auc_losses)\n",
    "    else:\n",
    "        roc_auc_losses_per_gene.append(np.nan)\n",
    "        pr_auc_losses_per_gene.append(np.nan)"
   ]
  },
  {
   "cell_type": "code",
   "execution_count": 16,
   "id": "c2665a1d",
   "metadata": {},
   "outputs": [
    {
     "data": {
      "text/plain": [
       "<Axes: >"
      ]
     },
     "execution_count": 16,
     "metadata": {},
     "output_type": "execute_result"
    },
    {
     "data": {
      "image/png": "[encoded data removed]",
      "text/plain": [
       "<Figure size 640x480 with 1 Axes>"
      ]
     },
     "metadata": {},
     "output_type": "display_data"
    }
   ],
   "source": [
    "sns.scatterplot(roc_auc_gains_per_gene)\n",
    "sns.scatterplot(roc_auc_losses_per_gene)"
   ]
  },
  {
   "cell_type": "code",
   "execution_count": null,
   "id": "d5255416",
   "metadata": {},
   "outputs": [],
   "source": []
  },
  {
   "cell_type": "markdown",
   "id": "04162e71",
   "metadata": {},
   "source": [
    "# APPLYING METRICS: Downsampling effect"
   ]
  },
  {
   "cell_type": "code",
   "execution_count": 27,
   "id": "a74fc462",
   "metadata": {},
   "outputs": [],
   "source": [
    "layers=['subsampling_70','subsampling_20','subsampling_5','subsampling_1']"
   ]
  },
  {
   "cell_type": "code",
   "execution_count": 30,
   "id": "65a2882e",
   "metadata": {},
   "outputs": [],
   "source": [
    "sc.pp.subsample(adata,0.1)"
   ]
  },
  {
   "cell_type": "code",
   "execution_count": 49,
   "id": "ec334377",
   "metadata": {},
   "outputs": [
    {
     "data": {
      "text/plain": [
       "AnnData object with n_obs × n_vars = 126 × 25691\n",
       "    obs: 'organism_ontology_term_id', 'tissue_ontology_term_id', 'tissue_type', 'assay_ontology_term_id', 'disease_ontology_term_id', 'cell_type_ontology_term_id', 'self_reported_ethnicity_ontology_term_id', 'development_stage_ontology_term_id', 'sex_ontology_term_id', 'donor_id', 'suspension_type', 'model_id', 'sample_id', 'Phase', 'level_1', 'level_2', 'level_3', 'CountUMIs', 'CountGenes', 'X.Mitochondrial', 'NoveltyScore', 'nCount_SCT', 'nFeature_SCT', 'orig.ident', 'is_primary_data', 'cell_type', 'assay', 'disease', 'organism', 'sex', 'tissue', 'self_reported_ethnicity', 'development_stage', 'observation_joinid', 'n_genes_by_counts', 'log1p_n_genes_by_counts', 'total_counts', 'log1p_total_counts', 'pct_counts_in_top_50_genes', 'pct_counts_in_top_100_genes', 'pct_counts_in_top_200_genes', 'pct_counts_in_top_500_genes', 'cnv_leiden', 'simulated_subclone', 'cnv_score', 'cnv_leiden_res0.1', 'cnv_leiden_res0.15', 'cnv_leiden_res0.2', 'cnv_leiden_res0.7', 'cnv_leien_subsampling_70', 'cnv_leien_subsampling_20', 'cnv_leien_subsampling_5', 'cnv_leien_subsampling_1'\n",
       "    var: 'gene_symbols', 'feature_is_filtered', 'feature_name', 'feature_reference', 'feature_biotype', 'feature_length', 'feature_type', 'n_cells_by_counts', 'mean_counts', 'log1p_mean_counts', 'pct_dropout_by_counts', 'total_counts', 'log1p_total_counts', 'chromosome', 'start', 'end'\n",
       "    uns: 'cell_type_colors', 'citation', 'cnv', 'cnv_leiden', 'cnv_leiden_res0.1', 'cnv_leiden_res0.15', 'cnv_leiden_res0.15_colors', 'cnv_leiden_res0.1_colors', 'cnv_leiden_res0.2', 'cnv_leiden_res0.2_colors', 'cnv_leiden_res0.7', 'cnv_leiden_res0.7_colors', 'cnv_neighbors', 'dendrogram_cnv_leiden', 'log1p', 'pca', 'schema_reference', 'schema_version', 'simulated_subclone_colors', 'title', 'subsampling_70', 'cnv_subsampling_70', 'cnv_subsampling_20', 'cnv_subsampling_5', 'cnv_subsampling_1', 'cnv_leien_subsampling_70', 'cnv_leien_subsampling_20', 'cnv_leien_subsampling_5', 'cnv_leien_subsampling_1'\n",
       "    obsm: 'X_cnv', 'X_cnv_pca', 'X_cnv_umap', 'X_pca', 'X_ref.umap', 'X_umap', 'X_subsampling_70', 'X_cnv_subsampling_70', 'X_cnv_subsampling_20', 'X_cnv_subsampling_5', 'X_cnv_subsampling_1'\n",
       "    varm: 'PCs'\n",
       "    layers: 'CNV_GT', 'CNV_simulated', 'CNV_simulated_raw', 'counts', 'logcounts', 'raw', 'subsampling_1', 'subsampling_10', 'subsampling_10_raw', 'subsampling_1_raw', 'subsampling_20', 'subsampling_20_raw', 'subsampling_5', 'subsampling_50', 'subsampling_50_raw', 'subsampling_5_raw', 'subsampling_70', 'subsampling_70_raw', 'gene_values_cnv', 'gene_values_subsampling_70', 'gene_values_cnv_subsampling_70', 'gene_values_cnv_subsampling_20', 'gene_values_cnv_subsampling_5', 'gene_values_cnv_subsampling_1'\n",
       "    obsp: 'cnv_neighbors_connectivities', 'cnv_neighbors_distances'"
      ]
     },
     "execution_count": 49,
     "metadata": {},
     "output_type": "execute_result"
    }
   ],
   "source": [
    "adata"
   ]
  },
  {
   "cell_type": "code",
   "execution_count": 50,
   "id": "b6c9b4df",
   "metadata": {},
   "outputs": [
    {
     "name": "stdout",
     "output_type": "stream",
     "text": [
      "WARNING: Skipped 867 genes because they don't have a genomic position annotated. \n"
     ]
    },
    {
     "name": "stderr",
     "output_type": "stream",
     "text": [
      "100%|█████████████████████████████████████████████████████████████████████████████████████| 1/1 [00:35<00:00, 35.57s/it]\n"
     ]
    },
    {
     "ename": "KeyError",
     "evalue": "'X_X_cnv_subsampling_70 is not in adata.obsm. Did you run `tl.infercnv`?'",
     "output_type": "error",
     "traceback": [
      "\u001b[0;31m---------------------------------------------------------------------------\u001b[0m",
      "\u001b[0;31mKeyError\u001b[0m                                  Traceback (most recent call last)",
      "Cell \u001b[0;32mIn[50], line 27\u001b[0m\n\u001b[1;32m     24\u001b[0m roc_loss_all\u001b[38;5;241m.\u001b[39mappend(roc_auc_losses)\n\u001b[1;32m     26\u001b[0m \u001b[38;5;66;03m# cnv clustering\u001b[39;00m\n\u001b[0;32m---> 27\u001b[0m \u001b[43mcnv\u001b[49m\u001b[38;5;241;43m.\u001b[39;49m\u001b[43mtl\u001b[49m\u001b[38;5;241;43m.\u001b[39;49m\u001b[43mpca\u001b[49m\u001b[43m(\u001b[49m\u001b[43madata\u001b[49m\u001b[43m,\u001b[49m\u001b[43muse_rep\u001b[49m\u001b[38;5;241;43m=\u001b[39;49m\u001b[38;5;124;43m\"\u001b[39;49m\u001b[38;5;124;43mX_cnv_\u001b[39;49m\u001b[38;5;124;43m\"\u001b[39;49m\u001b[38;5;241;43m+\u001b[39;49m\u001b[43mla\u001b[49m\u001b[43m)\u001b[49m\n\u001b[1;32m     28\u001b[0m resol\u001b[38;5;241m=\u001b[39m\u001b[38;5;241m0.7\u001b[39m\n\u001b[1;32m     29\u001b[0m cnv\u001b[38;5;241m.\u001b[39mpp\u001b[38;5;241m.\u001b[39mneighbors(adata)\n",
      "File \u001b[0;32m~/.local/lib/python3.10/site-packages/infercnvpy/tl/__init__.py:64\u001b[0m, in \u001b[0;36mpca\u001b[0;34m(adata, svd_solver, zero_center, inplace, use_rep, key_added, **kwargs)\u001b[0m\n\u001b[1;32m     42\u001b[0m \u001b[38;5;250m\u001b[39m\u001b[38;5;124;03m\"\"\"Compute the PCA on the result of :func:`infercnvpy.tl.infercnv`.\u001b[39;00m\n\u001b[1;32m     43\u001b[0m \n\u001b[1;32m     44\u001b[0m \u001b[38;5;124;03mThin wrapper around :func:`scanpy.pp.pca`.\u001b[39;00m\n\u001b[0;32m   (...)\u001b[0m\n\u001b[1;32m     61\u001b[0m \u001b[38;5;124;03m    Additional arguments passed to :func:`scanpy.pp.pca`.\u001b[39;00m\n\u001b[1;32m     62\u001b[0m \u001b[38;5;124;03m\"\"\"\u001b[39;00m\n\u001b[1;32m     63\u001b[0m \u001b[38;5;28;01mif\u001b[39;00m \u001b[38;5;124mf\u001b[39m\u001b[38;5;124m\"\u001b[39m\u001b[38;5;124mX_\u001b[39m\u001b[38;5;132;01m{\u001b[39;00muse_rep\u001b[38;5;132;01m}\u001b[39;00m\u001b[38;5;124m\"\u001b[39m \u001b[38;5;129;01mnot\u001b[39;00m \u001b[38;5;129;01min\u001b[39;00m adata\u001b[38;5;241m.\u001b[39mobsm:\n\u001b[0;32m---> 64\u001b[0m     \u001b[38;5;28;01mraise\u001b[39;00m \u001b[38;5;167;01mKeyError\u001b[39;00m(\u001b[38;5;124mf\u001b[39m\u001b[38;5;124m\"\u001b[39m\u001b[38;5;124mX_\u001b[39m\u001b[38;5;132;01m{\u001b[39;00muse_rep\u001b[38;5;132;01m}\u001b[39;00m\u001b[38;5;124m is not in adata.obsm. Did you run `tl.infercnv`?\u001b[39m\u001b[38;5;124m\"\u001b[39m)\n\u001b[1;32m     66\u001b[0m pca_res \u001b[38;5;241m=\u001b[39m sc\u001b[38;5;241m.\u001b[39mtl\u001b[38;5;241m.\u001b[39mpca(\n\u001b[1;32m     67\u001b[0m     adata\u001b[38;5;241m.\u001b[39mobsm[\u001b[38;5;124mf\u001b[39m\u001b[38;5;124m\"\u001b[39m\u001b[38;5;124mX_\u001b[39m\u001b[38;5;132;01m{\u001b[39;00muse_rep\u001b[38;5;132;01m}\u001b[39;00m\u001b[38;5;124m\"\u001b[39m],\n\u001b[1;32m     68\u001b[0m     svd_solver\u001b[38;5;241m=\u001b[39msvd_solver,\n\u001b[1;32m     69\u001b[0m     zero_center\u001b[38;5;241m=\u001b[39mzero_center,\n\u001b[1;32m     70\u001b[0m     \u001b[38;5;241m*\u001b[39m\u001b[38;5;241m*\u001b[39mkwargs,\n\u001b[1;32m     71\u001b[0m )\n\u001b[1;32m     72\u001b[0m \u001b[38;5;28;01mif\u001b[39;00m inplace:\n",
      "\u001b[0;31mKeyError\u001b[0m: 'X_X_cnv_subsampling_70 is not in adata.obsm. Did you run `tl.infercnv`?'"
     ]
    }
   ],
   "source": [
    "roc_gain_all=[]\n",
    "roc_loss_all=[]\n",
    "ari_all=[]\n",
    "nmi_all=[]\n",
    "for la in layers:\n",
    "    cnv.tl.infercnv(adata, reference_key=\"simulated_subclone\",reference_cat=\"N\",\n",
    "    window_size=100,layer=la, key_added='cnv_'+la, calculate_gene_values=True)\n",
    "    \n",
    "    ground_truth=adata.layers['CNV_GT']\n",
    "    cnv_values=adata.layers[\"gene_values_cnv_\"+la]\n",
    "    # Example data\n",
    "    simulated = ground_truth.flatten()  # Simulated CNVs for a gene (0: neutral, 1: gain, -1: loss)\n",
    "    inferred_scores = cnv_values.flatten()  # Inferred scores for the same gene\n",
    "    # filter_nan\n",
    "    filter_nan = [str(x) != 'nan' for x in inferred_scores]\n",
    "\n",
    "    simulated = simulated[filter_nan]\n",
    "    inferred_scores = inferred_scores[filter_nan]\n",
    "\n",
    "    # Compute AUC for gains (class_value = 1) and losses (class_value = -1)\n",
    "    roc_auc_gains, pr_auc_gains = icv.tl.compute_auc(simulated, inferred_scores, 1)\n",
    "    roc_auc_losses, pr_auc_losses = icv.tl.compute_auc(simulated, inferred_scores, -1)\n",
    "    roc_gain_all.append(roc_auc_gains)\n",
    "    roc_loss_all.append(roc_auc_losses)\n",
    "    \n",
    "    # cnv clustering\n",
    "    cnv.tl.pca(adata,use_rep=\"X_cnv_\"+la)\n",
    "    resol=0.7\n",
    "    cnv.pp.neighbors(adata)\n",
    "    cnv.tl.leiden(adata, resolution=resol,key_added='cnv_leien_'+la)\n",
    "    while len(np.unique(adata.obs['cnv_leiden']))!=4:\n",
    "        if len(np.unique(adata.obs['cnv_leiden']))<4:\n",
    "            resol=resol+0.1\n",
    "        if len(np.unique(adata.obs['cnv_leiden']))>4:\n",
    "            resol=resol-0.1\n",
    "        cnv.tl.leiden(adata, resolution=resol,key_added='cnv_leien_'+la)    \n",
    "    ari = icv.tl.compute_ari(adata, reference_key='simulated_subclone', computed_key='cnv_leien_'+la)\n",
    "    nmi = icv.tl.compute_nmi(adata, reference_key='simulated_subclone', computed_key='cnv_leien_'+la)\n",
    "    # \n",
    "    ari_all.append(ari)\n",
    "    nmi_all.append(nmi)"
   ]
  },
  {
   "cell_type": "markdown",
   "id": "ecfb8f18",
   "metadata": {},
   "source": [
    "# Visualize results"
   ]
  },
  {
   "cell_type": "code",
   "execution_count": 43,
   "id": "20cbff3b",
   "metadata": {},
   "outputs": [
    {
     "name": "stderr",
     "output_type": "stream",
     "text": [
      "INFO:matplotlib.category:Using categorical units to plot a list of strings that are all parsable as floats or dates. If these strings should be plotted as numbers, cast to the appropriate data type before plotting.\n",
      "INFO:matplotlib.category:Using categorical units to plot a list of strings that are all parsable as floats or dates. If these strings should be plotted as numbers, cast to the appropriate data type before plotting.\n",
      "INFO:matplotlib.category:Using categorical units to plot a list of strings that are all parsable as floats or dates. If these strings should be plotted as numbers, cast to the appropriate data type before plotting.\n",
      "INFO:matplotlib.category:Using categorical units to plot a list of strings that are all parsable as floats or dates. If these strings should be plotted as numbers, cast to the appropriate data type before plotting.\n"
     ]
    },
    {
     "data": {
      "text/plain": [
       "Text(0.5, 1.0, 'losses')"
      ]
     },
     "execution_count": 43,
     "metadata": {},
     "output_type": "execute_result"
    },
    {
     "data": {
      "image/png": "[encoded data removed]",
      "text/plain": [
       "<Figure size 640x480 with 1 Axes>"
      ]
     },
     "metadata": {},
     "output_type": "display_data"
    },
    {
     "data": {
      "image/png": "[encoded data removed]",
      "text/plain": [
       "<Figure size 640x480 with 1 Axes>"
      ]
     },
     "metadata": {},
     "output_type": "display_data"
    }
   ],
   "source": [
    "plt.figure()\n",
    "sns.barplot(roc_gain_all)\n",
    "plt.title('gain')\n",
    "plt.figure()\n",
    "sns.barplot(roc_loss_all)\n",
    "plt.title('losses')"
   ]
  },
  {
   "cell_type": "code",
   "execution_count": 45,
   "id": "4bc12eca",
   "metadata": {},
   "outputs": [
    {
     "name": "stderr",
     "output_type": "stream",
     "text": [
      "INFO:matplotlib.category:Using categorical units to plot a list of strings that are all parsable as floats or dates. If these strings should be plotted as numbers, cast to the appropriate data type before plotting.\n",
      "INFO:matplotlib.category:Using categorical units to plot a list of strings that are all parsable as floats or dates. If these strings should be plotted as numbers, cast to the appropriate data type before plotting.\n",
      "INFO:matplotlib.category:Using categorical units to plot a list of strings that are all parsable as floats or dates. If these strings should be plotted as numbers, cast to the appropriate data type before plotting.\n",
      "INFO:matplotlib.category:Using categorical units to plot a list of strings that are all parsable as floats or dates. If these strings should be plotted as numbers, cast to the appropriate data type before plotting.\n"
     ]
    },
    {
     "data": {
      "text/plain": [
       "Text(0.5, 1.0, 'nmi')"
      ]
     },
     "execution_count": 45,
     "metadata": {},
     "output_type": "execute_result"
    },
    {
     "data": {
      "image/png": "[encoded data removed]",
      "text/plain": [
       "<Figure size 640x480 with 1 Axes>"
      ]
     },
     "metadata": {},
     "output_type": "display_data"
    },
    {
     "data": {
      "image/png": "[encoded data removed]",
      "text/plain": [
       "<Figure size 640x480 with 1 Axes>"
      ]
     },
     "metadata": {},
     "output_type": "display_data"
    }
   ],
   "source": [
    "plt.figure()\n",
    "sns.barplot(ari_all)\n",
    "plt.title('ari')\n",
    "plt.figure()\n",
    "sns.barplot(nmi_all)\n",
    "plt.title('nmi')"
   ]
  },
  {
   "cell_type": "code",
   "execution_count": 23,
   "id": "2f9c7267",
   "metadata": {},
   "outputs": [
    {
     "data": {
      "text/plain": [
       "3317571.8"
      ]
     },
     "execution_count": 23,
     "metadata": {},
     "output_type": "execute_result"
    }
   ],
   "source": [
    "np.sum(adata.layers['subsampling_20'].todense())"
   ]
  },
  {
   "cell_type": "code",
   "execution_count": null,
   "id": "71f0d49c",
   "metadata": {},
   "outputs": [],
   "source": []
  },
  {
   "cell_type": "code",
   "execution_count": null,
   "id": "e40ef4ff",
   "metadata": {},
   "outputs": [],
   "source": []
  },
  {
   "cell_type": "code",
   "execution_count": null,
   "id": "0fef834a",
   "metadata": {},
   "outputs": [],
   "source": []
  },
  {
   "cell_type": "code",
   "execution_count": null,
   "id": "ef7720af",
   "metadata": {},
   "outputs": [],
   "source": []
  },
  {
   "cell_type": "code",
   "execution_count": null,
   "id": "ac426ffc",
   "metadata": {},
   "outputs": [],
   "source": []
  },
  {
   "cell_type": "code",
   "execution_count": null,
   "id": "5f0cc332",
   "metadata": {},
   "outputs": [],
   "source": []
  },
  {
   "cell_type": "code",
   "execution_count": null,
   "id": "fb0184a5",
   "metadata": {},
   "outputs": [],
   "source": []
  },
  {
   "cell_type": "code",
   "execution_count": null,
   "id": "05fdf60d",
   "metadata": {},
   "outputs": [],
   "source": []
  },
  {
   "cell_type": "code",
   "execution_count": null,
   "id": "501c5f78",
   "metadata": {},
   "outputs": [],
   "source": []
  },
  {
   "cell_type": "markdown",
   "id": "4f9e16c2",
   "metadata": {},
   "source": [
    "# Matching matrices"
   ]
  },
  {
   "cell_type": "code",
   "execution_count": null,
   "id": "4af71d8c",
   "metadata": {},
   "outputs": [],
   "source": [
    "def get_ref_points(adata:'AnnData'):\n",
    "    '''Function to get the chromosomal position/ref_points for each position where CNVs have been inferred\n",
    "    Params:\n",
    "        adata(AnnData): anndata where CNVs have been inferred using inferCNVs\n",
    "    Output:\n",
    "        refpoints(DataFrame): DataFrame indicating the chromosomal position of each ref_point.\n",
    "        Note that each ref_point is, actually, the position of one of the genes included in the panel. Thus, they also have the game of the gene.\n",
    "    '''\n",
    "    allinfo=[]\n",
    "    for k in adata.uns['cnv']['chr_pos'].keys():\n",
    "        pos=adata.uns['cnv']['chr_pos'][k]\n",
    "        try:\n",
    "            posmax=adata.uns['cnv']['chr_pos']['chr'+str(int(k[3:])+1)]\n",
    "            chromopos=adata.obsm['X_cnv'][:,pos:posmax]\n",
    "        except:\n",
    "            chromopos=adata.obsm['X_cnv'][:,pos:]\n",
    "        chrom=adata.var[adata.var['chromosome']==k].copy()\n",
    "        windowsize=100\n",
    "        step=10\n",
    "        startpos=0#int(windowsize/2)\n",
    "        listofg=[]\n",
    "        listofpos=[]\n",
    "        listofchr=[]\n",
    "        if chrom.shape[0]>windowsize:\n",
    "            while startpos<chrom.shape[0]:\n",
    "            #    print(startpos)\n",
    "                anchor_info=chrom.iloc[startpos,:]\n",
    "                startpos=startpos+step\n",
    "                listofg.append(anchor_info['gene_symbols'])\n",
    "                listofpos.append(anchor_info['start'])\n",
    "                listofchr.append(anchor_info['chromosome'])\n",
    "        else:\n",
    "            anchor_info=chrom.iloc[int(chrom.shape[0]/2),:]\n",
    "            listofg.append(anchor_info['gene_symbols'])\n",
    "            listofpos.append(anchor_info['start'])\n",
    "            listofchr.append(anchor_info['chromosome'])\n",
    "        combinedinfo=pd.DataFrame([listofg,listofpos,listofchr]).transpose()\n",
    "        allinfo.append(combinedinfo)\n",
    "    refpoints=pd.concat(allinfo)\n",
    "    return refpoints\n",
    "\n",
    "def find_closest_numbers(list1, list2):\n",
    "    '''Find the closest number in list 2 for each number in list 1\n",
    "    Params:\n",
    "        list1(list): list of numbers, coordinates in this case\n",
    "        list2(list): list of numbers, coordinates in this case\n",
    "    Output:\n",
    "        closest_numbers(list): for each element in list 1, closest number in list 2\n",
    "    '''\n",
    "    closest_numbers = []\n",
    "    for num in list1:\n",
    "        closest_num = min(list2, key=lambda x: abs(x - num))\n",
    "        closest_numbers.append(closest_num)\n",
    "    return closest_numbers\n",
    "\n",
    "def match_CNV_matrices(adata='adata',adata_1k='adata_1k'):\n",
    "    ''' Given two anndata datasets, where CNVs have been predicted using inferCNV, match the closest refpoints between both matices.\n",
    "    For the smallest adata (less genes), a larger CNV matrix with the size of the larger CNV matrix is created.\n",
    "    Each column is filled with the CNV value obtained from the closest ref_point (in chromosomal position) in each given cell.\n",
    "    This is done to ensure datasets are comparable.\n",
    "    Params:\n",
    "        adata_1k: adata containing the infered cnvs with less genes\n",
    "        adata: adata containig the infered cnvs with more genes\n",
    "    Output:\n",
    "        adata_1k: adata containing the infered cnvs with less genes and the new matrix, matching the size of the inferred CNV matrix in adata\n",
    "        adata: adata containig the infered cnvs with more genes\n",
    "        refpoints_mapped:dataframe containing the mapping between the reference points of the two matrices and their distances.\n",
    "    \n",
    "    '''\n",
    "    # extract anchor_points/ref_points\n",
    "    refpoints=get_ref_points(adata)\n",
    "    refpoints_1k=get_ref_points(adata_1k)\n",
    "    second_infer=adata_1k.obsm['X_cnv'].todense()\n",
    "    original_infer=adata.obsm['X_cnv'].todense()\n",
    "    # reset indices (very important for consistency)\n",
    "    refpoints_1k=refpoints_1k.reset_index()\n",
    "    refpoints=refpoints.reset_index()\n",
    "    # define unique chromosomes\n",
    "    chromosomes=np.unique(refpoints[2])\n",
    "    allg=[]\n",
    "    # for each chromosome, find the closest anchor points of methods 1 in method 2\n",
    "    for c in chromosomes:\n",
    "        r1=refpoints[refpoints[2]==c]\n",
    "        r2=refpoints_1k[refpoints_1k[2]==c]\n",
    "        dict2gene=dict(zip(r2[1],r2[0]))\n",
    "        dict2index=dict(zip(r2[1],r2.index))\n",
    "        gg=find_closest_numbers(r1[1], r2[1])\n",
    "        r1['closest_position']=gg\n",
    "        r1['closest_gene']=[dict2gene[g] for g in gg]\n",
    "        r1['closest_index']=[dict2index[g] for g in gg]\n",
    "        allg.append(r1)\n",
    "    # next we concatenate all \n",
    "    refpoints_mapped=pd.concat(allg)\n",
    "    # finally, we make a new matrix with has (1)the same dimensions as the CNV matrix in method 1 and \n",
    "    #(2) on each column, we add the values of the closest anchor point of matrix 2\n",
    "    modified_CNVs=second_infer[:,list(refpoints_mapped.loc[:,'closest_index'])]  # we store this on adata_1k.obs['X_cnv_adapted']\n",
    "    adata_1k.obsm['X_cnv_adapted']=modified_CNVs\n",
    "    refpoints_mapped['bp_distance']=abs(refpoints_mapped[1]-refpoints_mapped['closest_position'])\n",
    "    return adata,adata_1k,refpoints_mapped\n",
    "\n",
    "def plot_refpoints_distance(refpoints_mapped,max_distance_threshold=100000):\n",
    "    ''' Plot the distance between anchor points\n",
    "    Params:\n",
    "       refpoints_mapped:dataframe containing the mapping between the reference points of the two matrices\n",
    "       max_distance_threshold(int): max distance allowed between refpoints to keep them in the analysis\n",
    "    '''\n",
    "    bns=plt.hist(refpoints_mapped['bp_distance'],bins=2000)\n",
    "    plt.xscale('log')\n",
    "    plt.xlabel('distance between anchors')\n",
    "    plt.ylabel('number of anchors')\n",
    "    plt.axvline(x = max_distance_threshold, color = 'r', label = 'axvline - full height')\n",
    "    \n",
    "def filter_scores_by_distance(adata_1k:'AnnData',adata:'AnnData',refpoints_mapped:'DataFrame',max_distance_threshold:int=50000):\n",
    "    ''' Filter CNV scores by distance between refpoints, keeping only the ones, situated at a distance closer than the threshold selected\n",
    "    Params:\n",
    "        adata_1k: adata containing the infered cnvs with less genes\n",
    "        adata: adata containig the infered cnvs with more genes\n",
    "        refpoints_mapped:dataframe containing the mapping between the reference points of the two matrices\n",
    "        max_distance_threshold(int): max distance allowed between refpoints to keep them in the analysis\n",
    "    Output:\n",
    "        original_infer: matrix (from the largest dataset) containing the inferred CNVs for the refpoints situated at less than the max_distance_threshold\n",
    "        adapted_infer: matrix (from the smallest dataset) containing the inferred CNVs for the refpoints situated at less than the max_distance_threshold\n",
    "    \n",
    "    '''\n",
    "    filter_distance=refpoints_mapped['bp_distance']<max_distance_threshold\n",
    "    adapted_infer=adata_1k.obsm['X_cnv_adapted'][:,filter_distance]\n",
    "    original_infer=adata.obsm['X_cnv'].todense()[:,filter_distance]\n",
    "    return original_infer,adapted_infer\n",
    "\n",
    "def plot_ref_points_by_chromosome(refpoints_mapped:'DataFrame',figsize=(12,12),cmap='viridis'):\n",
    "    '''Plot, as scatterpoint, the chromosomal position of the ref_points used in dataset 1 (x-axis) and dataset 2 (y-axis)\n",
    "    Arguments:\n",
    "        refpoints_mapped('DataFrame'):dataframe obtained from 'match_CNV_matrices' where the relation between the ref_points of the two runs are compared\n",
    "    '''\n",
    "    chromosomes=np.unique(refpoints_mapped[2])\n",
    "    e=1\n",
    "    plt.figure(figsize=figsize)\n",
    "    for c in chromosomes:\n",
    "        plt.subplot(5,5,e)\n",
    "        rf=refpoints_mapped[refpoints_mapped[2]==c]\n",
    "        plt.scatter(rf[1],rf['closest_position'],c=rf['bp_distance'],s=10,cmap=cmap)\n",
    "        plt.title(c)\n",
    "        plt.xlabel('Position in run 1')\n",
    "        plt.ylabel('Position in run 2')\n",
    "        e=e+1\n",
    "    plt.tight_layout()\n",
    "    \n",
    "    "
   ]
  },
  {
   "cell_type": "code",
   "execution_count": 41,
   "id": "bd268ef2",
   "metadata": {},
   "outputs": [
    {
     "ename": "IndexError",
     "evalue": "index 2274 is out of bounds for axis 1 with size 2274",
     "output_type": "error",
     "traceback": [
      "\u001b[0;31m---------------------------------------------------------------------------\u001b[0m",
      "\u001b[0;31mIndexError\u001b[0m                                Traceback (most recent call last)",
      "Cell \u001b[0;32mIn[41], line 1\u001b[0m\n\u001b[0;32m----> 1\u001b[0m adata,adata_1k,refpoints_mapped\u001b[38;5;241m=\u001b[39m\u001b[43mmatch_CNV_matrices\u001b[49m\u001b[43m(\u001b[49m\u001b[43madata\u001b[49m\u001b[38;5;241;43m=\u001b[39;49m\u001b[43madata\u001b[49m\u001b[43m,\u001b[49m\u001b[43madata_1k\u001b[49m\u001b[38;5;241;43m=\u001b[39;49m\u001b[43madata\u001b[49m\u001b[43m)\u001b[49m\n",
      "Cell \u001b[0;32mIn[40], line 96\u001b[0m, in \u001b[0;36mmatch_CNV_matrices\u001b[0;34m(adata, adata_1k)\u001b[0m\n\u001b[1;32m     93\u001b[0m refpoints_mapped\u001b[38;5;241m=\u001b[39mpd\u001b[38;5;241m.\u001b[39mconcat(allg)\n\u001b[1;32m     94\u001b[0m \u001b[38;5;66;03m# finally, we make a new matrix with has (1)the same dimensions as the CNV matrix in method 1 and \u001b[39;00m\n\u001b[1;32m     95\u001b[0m \u001b[38;5;66;03m#(2) on each column, we add the values of the closest anchor point of matrix 2\u001b[39;00m\n\u001b[0;32m---> 96\u001b[0m modified_CNVs\u001b[38;5;241m=\u001b[39m\u001b[43msecond_infer\u001b[49m\u001b[43m[\u001b[49m\u001b[43m:\u001b[49m\u001b[43m,\u001b[49m\u001b[38;5;28;43mlist\u001b[39;49m\u001b[43m(\u001b[49m\u001b[43mrefpoints_mapped\u001b[49m\u001b[38;5;241;43m.\u001b[39;49m\u001b[43mloc\u001b[49m\u001b[43m[\u001b[49m\u001b[43m:\u001b[49m\u001b[43m,\u001b[49m\u001b[38;5;124;43m'\u001b[39;49m\u001b[38;5;124;43mclosest_index\u001b[39;49m\u001b[38;5;124;43m'\u001b[39;49m\u001b[43m]\u001b[49m\u001b[43m)\u001b[49m\u001b[43m]\u001b[49m  \u001b[38;5;66;03m# we store this on adata_1k.obs['X_cnv_adapted']\u001b[39;00m\n\u001b[1;32m     97\u001b[0m adata_1k\u001b[38;5;241m.\u001b[39mobsm[\u001b[38;5;124m'\u001b[39m\u001b[38;5;124mX_cnv_adapted\u001b[39m\u001b[38;5;124m'\u001b[39m]\u001b[38;5;241m=\u001b[39mmodified_CNVs\n\u001b[1;32m     98\u001b[0m refpoints_mapped[\u001b[38;5;124m'\u001b[39m\u001b[38;5;124mbp_distance\u001b[39m\u001b[38;5;124m'\u001b[39m]\u001b[38;5;241m=\u001b[39m\u001b[38;5;28mabs\u001b[39m(refpoints_mapped[\u001b[38;5;241m1\u001b[39m]\u001b[38;5;241m-\u001b[39mrefpoints_mapped[\u001b[38;5;124m'\u001b[39m\u001b[38;5;124mclosest_position\u001b[39m\u001b[38;5;124m'\u001b[39m])\n",
      "File \u001b[0;32m~/.local/lib/python3.10/site-packages/numpy/matrixlib/defmatrix.py:194\u001b[0m, in \u001b[0;36mmatrix.__getitem__\u001b[0;34m(self, index)\u001b[0m\n\u001b[1;32m    191\u001b[0m \u001b[38;5;28mself\u001b[39m\u001b[38;5;241m.\u001b[39m_getitem \u001b[38;5;241m=\u001b[39m \u001b[38;5;28;01mTrue\u001b[39;00m\n\u001b[1;32m    193\u001b[0m \u001b[38;5;28;01mtry\u001b[39;00m:\n\u001b[0;32m--> 194\u001b[0m     out \u001b[38;5;241m=\u001b[39m \u001b[43mN\u001b[49m\u001b[38;5;241;43m.\u001b[39;49m\u001b[43mndarray\u001b[49m\u001b[38;5;241;43m.\u001b[39;49m\u001b[38;5;21;43m__getitem__\u001b[39;49m\u001b[43m(\u001b[49m\u001b[38;5;28;43mself\u001b[39;49m\u001b[43m,\u001b[49m\u001b[43m \u001b[49m\u001b[43mindex\u001b[49m\u001b[43m)\u001b[49m\n\u001b[1;32m    195\u001b[0m \u001b[38;5;28;01mfinally\u001b[39;00m:\n\u001b[1;32m    196\u001b[0m     \u001b[38;5;28mself\u001b[39m\u001b[38;5;241m.\u001b[39m_getitem \u001b[38;5;241m=\u001b[39m \u001b[38;5;28;01mFalse\u001b[39;00m\n",
      "\u001b[0;31mIndexError\u001b[0m: index 2274 is out of bounds for axis 1 with size 2274"
     ]
    }
   ],
   "source": [
    "adata,adata_1k,refpoints_mapped=match_CNV_matrices(adata=adata,adata_1k=adata)"
   ]
  },
  {
   "cell_type": "code",
   "execution_count": 28,
   "id": "746d3158",
   "metadata": {},
   "outputs": [
    {
     "data": {
      "text/plain": [
       "(1268, 25691)"
      ]
     },
     "execution_count": 28,
     "metadata": {},
     "output_type": "execute_result"
    }
   ],
   "source": [
    "adata.layers['CNV_GT'].shape"
   ]
  },
  {
   "cell_type": "code",
   "execution_count": 36,
   "id": "9824851a",
   "metadata": {},
   "outputs": [
    {
     "data": {
      "text/html": [
       "<div>\n",
       "<style scoped>\n",
       "    .dataframe tbody tr th:only-of-type {\n",
       "        vertical-align: middle;\n",
       "    }\n",
       "\n",
       "    .dataframe tbody tr th {\n",
       "        vertical-align: top;\n",
       "    }\n",
       "\n",
       "    .dataframe thead th {\n",
       "        text-align: right;\n",
       "    }\n",
       "</style>\n",
       "<table border=\"1\" class=\"dataframe\">\n",
       "  <thead>\n",
       "    <tr style=\"text-align: right;\">\n",
       "      <th></th>\n",
       "      <th>gene_symbols</th>\n",
       "      <th>feature_is_filtered</th>\n",
       "      <th>feature_name</th>\n",
       "      <th>feature_reference</th>\n",
       "      <th>feature_biotype</th>\n",
       "      <th>feature_length</th>\n",
       "      <th>feature_type</th>\n",
       "      <th>n_cells_by_counts</th>\n",
       "      <th>mean_counts</th>\n",
       "      <th>log1p_mean_counts</th>\n",
       "      <th>pct_dropout_by_counts</th>\n",
       "      <th>total_counts</th>\n",
       "      <th>log1p_total_counts</th>\n",
       "      <th>chromosome</th>\n",
       "      <th>start</th>\n",
       "      <th>end</th>\n",
       "    </tr>\n",
       "    <tr>\n",
       "      <th>gene_ids</th>\n",
       "      <th></th>\n",
       "      <th></th>\n",
       "      <th></th>\n",
       "      <th></th>\n",
       "      <th></th>\n",
       "      <th></th>\n",
       "      <th></th>\n",
       "      <th></th>\n",
       "      <th></th>\n",
       "      <th></th>\n",
       "      <th></th>\n",
       "      <th></th>\n",
       "      <th></th>\n",
       "      <th></th>\n",
       "      <th></th>\n",
       "      <th></th>\n",
       "    </tr>\n",
       "  </thead>\n",
       "  <tbody>\n",
       "    <tr>\n",
       "      <th>ENSG00000238009</th>\n",
       "      <td>AL627309.1</td>\n",
       "      <td>False</td>\n",
       "      <td>ENSG00000238009.6</td>\n",
       "      <td>NCBITaxon:9606</td>\n",
       "      <td>gene</td>\n",
       "      <td>629</td>\n",
       "      <td>lncRNA</td>\n",
       "      <td>486</td>\n",
       "      <td>0.008812</td>\n",
       "      <td>0.008774</td>\n",
       "      <td>94.534413</td>\n",
       "      <td>78.360051</td>\n",
       "      <td>4.373995</td>\n",
       "      <td>chr1</td>\n",
       "      <td>89295.0</td>\n",
       "      <td>133566.0</td>\n",
       "    </tr>\n",
       "    <tr>\n",
       "      <th>ENSG00000241860</th>\n",
       "      <td>AL627309.5</td>\n",
       "      <td>False</td>\n",
       "      <td>ENSG00000241860.7</td>\n",
       "      <td>NCBITaxon:9606</td>\n",
       "      <td>gene</td>\n",
       "      <td>1025</td>\n",
       "      <td>lncRNA</td>\n",
       "      <td>581</td>\n",
       "      <td>0.010553</td>\n",
       "      <td>0.010498</td>\n",
       "      <td>93.466037</td>\n",
       "      <td>93.837299</td>\n",
       "      <td>4.552163</td>\n",
       "      <td>chr1</td>\n",
       "      <td>141474.0</td>\n",
       "      <td>173862.0</td>\n",
       "    </tr>\n",
       "    <tr>\n",
       "      <th>ENSG00000241599</th>\n",
       "      <td>AL627309.4</td>\n",
       "      <td>False</td>\n",
       "      <td>ENSG00000241599.1</td>\n",
       "      <td>NCBITaxon:9606</td>\n",
       "      <td>gene</td>\n",
       "      <td>457</td>\n",
       "      <td>lncRNA</td>\n",
       "      <td>7</td>\n",
       "      <td>0.000246</td>\n",
       "      <td>0.000246</td>\n",
       "      <td>99.921278</td>\n",
       "      <td>2.190479</td>\n",
       "      <td>1.160171</td>\n",
       "      <td>chr1</td>\n",
       "      <td>160446.0</td>\n",
       "      <td>161525.0</td>\n",
       "    </tr>\n",
       "    <tr>\n",
       "      <th>ENSG00000286448</th>\n",
       "      <td>AP006222.2</td>\n",
       "      <td>False</td>\n",
       "      <td>ENSG00000286448.1</td>\n",
       "      <td>NCBITaxon:9606</td>\n",
       "      <td>gene</td>\n",
       "      <td>736</td>\n",
       "      <td>lncRNA</td>\n",
       "      <td>45</td>\n",
       "      <td>0.000741</td>\n",
       "      <td>0.000740</td>\n",
       "      <td>99.493927</td>\n",
       "      <td>6.585102</td>\n",
       "      <td>2.026186</td>\n",
       "      <td>chr1</td>\n",
       "      <td>266855.0</td>\n",
       "      <td>268655.0</td>\n",
       "    </tr>\n",
       "    <tr>\n",
       "      <th>ENSG00000237491</th>\n",
       "      <td>LINC01409</td>\n",
       "      <td>False</td>\n",
       "      <td>LINC01409</td>\n",
       "      <td>NCBITaxon:9606</td>\n",
       "      <td>gene</td>\n",
       "      <td>1059</td>\n",
       "      <td>lncRNA</td>\n",
       "      <td>1591</td>\n",
       "      <td>0.035527</td>\n",
       "      <td>0.034910</td>\n",
       "      <td>82.107512</td>\n",
       "      <td>315.902356</td>\n",
       "      <td>5.758594</td>\n",
       "      <td>chr1</td>\n",
       "      <td>778747.0</td>\n",
       "      <td>810065.0</td>\n",
       "    </tr>\n",
       "    <tr>\n",
       "      <th>...</th>\n",
       "      <td>...</td>\n",
       "      <td>...</td>\n",
       "      <td>...</td>\n",
       "      <td>...</td>\n",
       "      <td>...</td>\n",
       "      <td>...</td>\n",
       "      <td>...</td>\n",
       "      <td>...</td>\n",
       "      <td>...</td>\n",
       "      <td>...</td>\n",
       "      <td>...</td>\n",
       "      <td>...</td>\n",
       "      <td>...</td>\n",
       "      <td>...</td>\n",
       "      <td>...</td>\n",
       "      <td>...</td>\n",
       "    </tr>\n",
       "    <tr>\n",
       "      <th>ENSG00000158639</th>\n",
       "      <td>PAGE5</td>\n",
       "      <td>False</td>\n",
       "      <td>PAGE5</td>\n",
       "      <td>NCBITaxon:9606</td>\n",
       "      <td>gene</td>\n",
       "      <td>553</td>\n",
       "      <td>protein_coding</td>\n",
       "      <td>18</td>\n",
       "      <td>0.000335</td>\n",
       "      <td>0.000335</td>\n",
       "      <td>99.797571</td>\n",
       "      <td>2.976101</td>\n",
       "      <td>1.380302</td>\n",
       "      <td>NaN</td>\n",
       "      <td>NaN</td>\n",
       "      <td>NaN</td>\n",
       "    </tr>\n",
       "    <tr>\n",
       "      <th>ENSG00000269437</th>\n",
       "      <td>NXF2B</td>\n",
       "      <td>False</td>\n",
       "      <td>NXF2B</td>\n",
       "      <td>NCBITaxon:9606</td>\n",
       "      <td>gene</td>\n",
       "      <td>2143</td>\n",
       "      <td>protein_coding</td>\n",
       "      <td>12</td>\n",
       "      <td>0.000327</td>\n",
       "      <td>0.000327</td>\n",
       "      <td>99.865047</td>\n",
       "      <td>2.905183</td>\n",
       "      <td>1.362305</td>\n",
       "      <td>NaN</td>\n",
       "      <td>NaN</td>\n",
       "      <td>NaN</td>\n",
       "    </tr>\n",
       "    <tr>\n",
       "      <th>ENSG00000204025</th>\n",
       "      <td>TRPC5OS</td>\n",
       "      <td>False</td>\n",
       "      <td>TRPC5OS</td>\n",
       "      <td>NCBITaxon:9606</td>\n",
       "      <td>gene</td>\n",
       "      <td>2779</td>\n",
       "      <td>protein_coding</td>\n",
       "      <td>11</td>\n",
       "      <td>0.000238</td>\n",
       "      <td>0.000238</td>\n",
       "      <td>99.876293</td>\n",
       "      <td>2.112197</td>\n",
       "      <td>1.135329</td>\n",
       "      <td>NaN</td>\n",
       "      <td>NaN</td>\n",
       "      <td>NaN</td>\n",
       "    </tr>\n",
       "    <tr>\n",
       "      <th>ENSG00000165509</th>\n",
       "      <td>MAGEC3</td>\n",
       "      <td>False</td>\n",
       "      <td>MAGEC3</td>\n",
       "      <td>NCBITaxon:9606</td>\n",
       "      <td>gene</td>\n",
       "      <td>1290</td>\n",
       "      <td>protein_coding</td>\n",
       "      <td>7</td>\n",
       "      <td>0.000172</td>\n",
       "      <td>0.000172</td>\n",
       "      <td>99.921278</td>\n",
       "      <td>1.527240</td>\n",
       "      <td>0.927128</td>\n",
       "      <td>NaN</td>\n",
       "      <td>NaN</td>\n",
       "      <td>NaN</td>\n",
       "    </tr>\n",
       "    <tr>\n",
       "      <th>ENSG00000126895</th>\n",
       "      <td>AVPR2</td>\n",
       "      <td>False</td>\n",
       "      <td>AVPR2</td>\n",
       "      <td>NCBITaxon:9606</td>\n",
       "      <td>gene</td>\n",
       "      <td>1601</td>\n",
       "      <td>protein_coding</td>\n",
       "      <td>7</td>\n",
       "      <td>0.000135</td>\n",
       "      <td>0.000135</td>\n",
       "      <td>99.921278</td>\n",
       "      <td>1.201239</td>\n",
       "      <td>0.789020</td>\n",
       "      <td>NaN</td>\n",
       "      <td>NaN</td>\n",
       "      <td>NaN</td>\n",
       "    </tr>\n",
       "  </tbody>\n",
       "</table>\n",
       "<p>25691 rows × 16 columns</p>\n",
       "</div>"
      ],
      "text/plain": [
       "                gene_symbols  feature_is_filtered       feature_name  \\\n",
       "gene_ids                                                               \n",
       "ENSG00000238009   AL627309.1                False  ENSG00000238009.6   \n",
       "ENSG00000241860   AL627309.5                False  ENSG00000241860.7   \n",
       "ENSG00000241599   AL627309.4                False  ENSG00000241599.1   \n",
       "ENSG00000286448   AP006222.2                False  ENSG00000286448.1   \n",
       "ENSG00000237491    LINC01409                False          LINC01409   \n",
       "...                      ...                  ...                ...   \n",
       "ENSG00000158639        PAGE5                False              PAGE5   \n",
       "ENSG00000269437        NXF2B                False              NXF2B   \n",
       "ENSG00000204025      TRPC5OS                False            TRPC5OS   \n",
       "ENSG00000165509       MAGEC3                False             MAGEC3   \n",
       "ENSG00000126895        AVPR2                False              AVPR2   \n",
       "\n",
       "                feature_reference feature_biotype feature_length  \\\n",
       "gene_ids                                                           \n",
       "ENSG00000238009    NCBITaxon:9606            gene            629   \n",
       "ENSG00000241860    NCBITaxon:9606            gene           1025   \n",
       "ENSG00000241599    NCBITaxon:9606            gene            457   \n",
       "ENSG00000286448    NCBITaxon:9606            gene            736   \n",
       "ENSG00000237491    NCBITaxon:9606            gene           1059   \n",
       "...                           ...             ...            ...   \n",
       "ENSG00000158639    NCBITaxon:9606            gene            553   \n",
       "ENSG00000269437    NCBITaxon:9606            gene           2143   \n",
       "ENSG00000204025    NCBITaxon:9606            gene           2779   \n",
       "ENSG00000165509    NCBITaxon:9606            gene           1290   \n",
       "ENSG00000126895    NCBITaxon:9606            gene           1601   \n",
       "\n",
       "                   feature_type  n_cells_by_counts  mean_counts  \\\n",
       "gene_ids                                                          \n",
       "ENSG00000238009          lncRNA                486     0.008812   \n",
       "ENSG00000241860          lncRNA                581     0.010553   \n",
       "ENSG00000241599          lncRNA                  7     0.000246   \n",
       "ENSG00000286448          lncRNA                 45     0.000741   \n",
       "ENSG00000237491          lncRNA               1591     0.035527   \n",
       "...                         ...                ...          ...   \n",
       "ENSG00000158639  protein_coding                 18     0.000335   \n",
       "ENSG00000269437  protein_coding                 12     0.000327   \n",
       "ENSG00000204025  protein_coding                 11     0.000238   \n",
       "ENSG00000165509  protein_coding                  7     0.000172   \n",
       "ENSG00000126895  protein_coding                  7     0.000135   \n",
       "\n",
       "                 log1p_mean_counts  pct_dropout_by_counts  total_counts  \\\n",
       "gene_ids                                                                  \n",
       "ENSG00000238009           0.008774              94.534413     78.360051   \n",
       "ENSG00000241860           0.010498              93.466037     93.837299   \n",
       "ENSG00000241599           0.000246              99.921278      2.190479   \n",
       "ENSG00000286448           0.000740              99.493927      6.585102   \n",
       "ENSG00000237491           0.034910              82.107512    315.902356   \n",
       "...                            ...                    ...           ...   \n",
       "ENSG00000158639           0.000335              99.797571      2.976101   \n",
       "ENSG00000269437           0.000327              99.865047      2.905183   \n",
       "ENSG00000204025           0.000238              99.876293      2.112197   \n",
       "ENSG00000165509           0.000172              99.921278      1.527240   \n",
       "ENSG00000126895           0.000135              99.921278      1.201239   \n",
       "\n",
       "                 log1p_total_counts chromosome     start       end  \n",
       "gene_ids                                                            \n",
       "ENSG00000238009            4.373995       chr1   89295.0  133566.0  \n",
       "ENSG00000241860            4.552163       chr1  141474.0  173862.0  \n",
       "ENSG00000241599            1.160171       chr1  160446.0  161525.0  \n",
       "ENSG00000286448            2.026186       chr1  266855.0  268655.0  \n",
       "ENSG00000237491            5.758594       chr1  778747.0  810065.0  \n",
       "...                             ...        ...       ...       ...  \n",
       "ENSG00000158639            1.380302        NaN       NaN       NaN  \n",
       "ENSG00000269437            1.362305        NaN       NaN       NaN  \n",
       "ENSG00000204025            1.135329        NaN       NaN       NaN  \n",
       "ENSG00000165509            0.927128        NaN       NaN       NaN  \n",
       "ENSG00000126895            0.789020        NaN       NaN       NaN  \n",
       "\n",
       "[25691 rows x 16 columns]"
      ]
     },
     "execution_count": 36,
     "metadata": {},
     "output_type": "execute_result"
    }
   ],
   "source": [
    "adata.var"
   ]
  },
  {
   "cell_type": "code",
   "execution_count": 33,
   "id": "c1942478",
   "metadata": {},
   "outputs": [
    {
     "data": {
      "text/plain": [
       "<1268x25691 sparse matrix of type '<class 'numpy.float32'>'\n",
       "\twith 358275 stored elements in Compressed Sparse Row format>"
      ]
     },
     "execution_count": 33,
     "metadata": {},
     "output_type": "execute_result"
    }
   ],
   "source": [
    "adata.layers['subsampling_1']"
   ]
  },
  {
   "cell_type": "code",
   "execution_count": 31,
   "id": "ef04a7cc",
   "metadata": {},
   "outputs": [
    {
     "data": {
      "text/plain": [
       "(1268, 2274)"
      ]
     },
     "execution_count": 31,
     "metadata": {},
     "output_type": "execute_result"
    }
   ],
   "source": [
    "adata.obsm['X_cnv'].shape"
   ]
  },
  {
   "cell_type": "code",
   "execution_count": 15,
   "id": "ec9f9fb3",
   "metadata": {},
   "outputs": [
    {
     "data": {
      "text/plain": [
       "0.0"
      ]
     },
     "execution_count": 15,
     "metadata": {},
     "output_type": "execute_result"
    }
   ],
   "source": [
    "adata.layers['CNV_simulated']"
   ]
  },
  {
   "cell_type": "code",
   "execution_count": 11,
   "id": "2f1902a0",
   "metadata": {},
   "outputs": [
    {
     "data": {
      "text/plain": [
       "8.553583"
      ]
     },
     "execution_count": 11,
     "metadata": {},
     "output_type": "execute_result"
    }
   ],
   "source": [
    "adata.layers['CNV_simulated'].max()"
   ]
  },
  {
   "cell_type": "code",
   "execution_count": null,
   "id": "9f0f96f1",
   "metadata": {},
   "outputs": [],
   "source": []
  }
 ],
 "metadata": {
  "kernelspec": {
   "display_name": "insitucnv",
   "language": "python",
   "name": "insitucnv"
  },
  "language_info": {
   "codemirror_mode": {
    "name": "ipython",
    "version": 3
   },
   "file_extension": ".py",
   "mimetype": "text/x-python",
   "name": "python",
   "nbconvert_exporter": "python",
   "pygments_lexer": "ipython3",
   "version": "3.10.16"
  }
 },
 "nbformat": 4,
 "nbformat_minor": 5
}
