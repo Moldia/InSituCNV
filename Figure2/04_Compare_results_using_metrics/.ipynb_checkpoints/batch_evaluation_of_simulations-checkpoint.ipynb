{
 "cells": [
  {
   "cell_type": "code",
   "execution_count": 1,
   "id": "c02f5ef1",
   "metadata": {},
   "outputs": [
    {
     "name": "stderr",
     "output_type": "stream",
     "text": [
      "/home/sergio/.local/lib/python3.10/site-packages/tqdm/auto.py:21: TqdmWarning: IProgress not found. Please update jupyter and ipywidgets. See https://ipywidgets.readthedocs.io/en/stable/user_install.html\n",
      "  from .autonotebook import tqdm as notebook_tqdm\n"
     ]
    }
   ],
   "source": [
    "import os\n",
    "import numpy as np\n",
    "import pandas as pd\n",
    "import scanpy as sc\n",
    "import seaborn as sns\n",
    "import matplotlib.pyplot as plt\n",
    "import warnings\n",
    "import infercnvpy as cnv\n",
    "import matplotlib\n",
    "\n",
    "import sys\n",
    "sys.path.append(\"../..\")\n",
    "import insitucnv as icv"
   ]
  },
  {
   "cell_type": "markdown",
   "id": "d93fe7d0",
   "metadata": {},
   "source": [
    "### Load functions"
   ]
  },
  {
   "cell_type": "code",
   "execution_count": 64,
   "id": "e01bafb9",
   "metadata": {},
   "outputs": [],
   "source": [
    "import numpy as np\n",
    "\n",
    "def compute_cnv_metrics(adata):\n",
    "    \"\"\"\n",
    "    Compute CNV performance metrics based on ground truth and CNV values.\n",
    "    \n",
    "    Parameters:\n",
    "    - adata: AnnData object containing CNV ground truth in `adata.layers['CNV_GT']`\n",
    "             and CNV values in `adata.layers['gene_values_cnv']`\n",
    "    \n",
    "    Returns:\n",
    "    - Dictionary with F1 scores for overall CNV detection, CNV gain, and CNV loss.\n",
    "    \"\"\"\n",
    "    ground_truth = adata.layers['CNV_GT']\n",
    "    cnv_values = adata.layers[\"gene_values_cnv\"]\n",
    "\n",
    "    # Extract CNV scores based on ground truth\n",
    "    cnv_score_in_gains = [x for x in cnv_values[ground_truth == 1] if str(x) != 'nan']\n",
    "    cnv_score_in_losses = [x for x in cnv_values[ground_truth == -1] if str(x) != 'nan']\n",
    "    cnv_score_in_neutrals = [x for x in cnv_values[ground_truth == 0] if str(x) != 'nan']\n",
    "    cnv_score_in_cnv = [x for x in cnv_values[ground_truth != 0] if str(x) != 'nan']\n",
    "\n",
    "    # Compute true and false classifications\n",
    "    try:\n",
    "        true_gains = len([e for e in cnv_score_in_gains if e > 0]) / len(cnv_score_in_gains)\n",
    "        true_losses = len([e for e in cnv_score_in_losses if e < 0]) / len(cnv_score_in_losses)\n",
    "        true_neutrals = np.sum(np.abs(cnv_score_in_neutrals) == 0) / len(cnv_score_in_neutrals)\n",
    "        true_cnv = np.sum(np.abs(cnv_score_in_cnv) != 0) / len(cnv_score_in_cnv)\n",
    "        false_neutrals = 1 - true_neutrals\n",
    "        false_cnv = 1 - true_cnv\n",
    "        # Compute performance metrics\n",
    "        results_all = icv.tl.compute_performance_metrics(true_cnv, false_neutrals, true_neutrals, false_cnv)\n",
    "        results_gain = icv.tl.compute_performance_metrics(true_gains, false_neutrals, true_neutrals, 1 - true_gains)\n",
    "        results_loss = icv.tl.compute_performance_metrics(true_losses, false_neutrals, true_neutrals, 1 - true_losses)\n",
    "        return {\n",
    "        \"All\": results_all['F1 Score'],\n",
    "        \"Gain\": results_gain['F1 Score'],\n",
    "        \"Loss\": results_loss['F1 Score']}\n",
    "    except:\n",
    "        return {\n",
    "        \"All\": np.nan,\n",
    "        \"Gain\": np.nan,\n",
    "        \"Loss\": np.nan}\n",
    "\n",
    "def compute_cnv_auc(adata):\n",
    "    \"\"\"\n",
    "    Compute ROC AUC and PR AUC for CNV gains and losses.\n",
    "\n",
    "    Parameters:\n",
    "    - adata: AnnData object containing CNV ground truth in `adata.layers['CNV_GT']`\n",
    "             and CNV inferred scores in `adata.layers['gene_values_cnv']`\n",
    "\n",
    "    Returns:\n",
    "    - Dictionary with ROC AUC and PR AUC scores for CNV gains and losses.\n",
    "    \"\"\"\n",
    "    ground_truth = adata.layers['CNV_GT']\n",
    "    cnv_values = adata.layers[\"gene_values_cnv\"]\n",
    "\n",
    "    # Flatten arrays for processing\n",
    "    simulated = ground_truth.flatten()  \n",
    "    inferred_scores = cnv_values.flatten()  \n",
    "\n",
    "    # Remove NaN values\n",
    "    filter_nan = np.array([str(x) != 'nan' for x in inferred_scores])\n",
    "    simulated = simulated[filter_nan]\n",
    "    inferred_scores = inferred_scores[filter_nan]\n",
    "\n",
    "    # Compute AUC for gains (1) and losses (-1)\n",
    "    roc_auc_gains, pr_auc_gains = icv.tl.compute_auc(simulated, inferred_scores, 1)\n",
    "    roc_auc_losses, pr_auc_losses = icv.tl.compute_auc(simulated, inferred_scores, -1)\n",
    "\n",
    "    return {\"ROC AUC (Gains)\": roc_auc_gains,\"PR AUC (Gains)\": pr_auc_gains,\n",
    "        \"ROC AUC (Losses)\": roc_auc_losses,\"PR AUC (Losses)\": pr_auc_losses}\n"
   ]
  },
  {
   "cell_type": "markdown",
   "id": "57d60727",
   "metadata": {},
   "source": [
    "# Load datasets"
   ]
  },
  {
   "cell_type": "code",
   "execution_count": 17,
   "id": "444a506d",
   "metadata": {},
   "outputs": [],
   "source": [
    "path_simulation='/media/external/test/augusta/insituCNV/data/simulated_CNV_data/technical_limiting_conditions'"
   ]
  },
  {
   "cell_type": "code",
   "execution_count": 18,
   "id": "7a9795d6",
   "metadata": {},
   "outputs": [],
   "source": [
    "files=os.listdir(path_simulation)\n",
    "processed_datasets=[f  for f in files if '_CNVinf' in f]\n",
    "processed_datasets_counts=[f  for f in processed_datasets if 'counts' in f]\n",
    "processed_datasets_cg=[f  for f in processed_datasets_counts if 'genes' in f]"
   ]
  },
  {
   "cell_type": "markdown",
   "id": "d0ed2bb3",
   "metadata": {},
   "source": [
    "## Quantify on different counts"
   ]
  },
  {
   "cell_type": "markdown",
   "id": "2d52650a",
   "metadata": {},
   "source": [
    "We aim to compare the output of CNV prediction on simulated datasets, first varying the number of counts captured on each cell"
   ]
  },
  {
   "cell_type": "code",
   "execution_count": 19,
   "id": "e265e062",
   "metadata": {},
   "outputs": [],
   "source": [
    "file='CNV_simulated_subsampled_counts_1_CNVinf.h5ad'"
   ]
  },
  {
   "cell_type": "code",
   "execution_count": 112,
   "id": "622ce120",
   "metadata": {},
   "outputs": [
    {
     "name": "stderr",
     "output_type": "stream",
     "text": [
      "100%|████████████████████████████████████████████████████████████████████████████████| 98/98 [00:00<00:00, 45783.22it/s]"
     ]
    },
    {
     "name": "stdout",
     "output_type": "stream",
     "text": [
      "CNV_simulation_02_subsampled_counts_100_genes_all_CNVinf.h5ad\n",
      "CNV_simulation_02_subsampled_counts_70_genes_all_CNVinf.h5ad\n",
      "CNV_simulation_02_subsampled_counts_70_genes_20000_CNVinf.h5ad\n",
      "CNV_simulation_02_subsampled_counts_50_genes_all_CNVinf.h5ad\n",
      "CNV_simulation_02_subsampled_counts_50_genes_15000_CNVinf.h5ad\n",
      "CNV_simulation_02_subsampled_counts_50_genes_5000_CNVinf.h5ad\n",
      "CNV_simulation_02_subsampled_counts_10_genes_1000_CNVinf.h5ad\n",
      "CNV_simulation_01_subsampled_counts_70_genes_all_CNVinf.h5ad\n",
      "CNV_simulation_01_subsampled_counts_70_genes_20000_CNVinf.h5ad\n",
      "CNV_simulation_01_subsampled_counts_70_genes_15000_CNVinf.h5ad\n",
      "CNV_simulation_01_subsampled_counts_70_genes_10000_CNVinf.h5ad\n",
      "CNV_simulation_01_subsampled_counts_70_genes_5000_CNVinf.h5ad\n",
      "CNV_simulation_01_subsampled_counts_70_genes_1000_CNVinf.h5ad\n",
      "CNV_simulation_01_subsampled_counts_70_genes_500_CNVinf.h5ad\n",
      "CNV_simulation_01_subsampled_counts_50_genes_all_CNVinf.h5ad\n",
      "CNV_simulation_01_subsampled_counts_50_genes_20000_CNVinf.h5ad\n",
      "CNV_simulation_01_subsampled_counts_50_genes_15000_CNVinf.h5ad\n",
      "CNV_simulation_01_subsampled_counts_50_genes_10000_CNVinf.h5ad\n",
      "CNV_simulation_01_subsampled_counts_50_genes_5000_CNVinf.h5ad\n",
      "CNV_simulation_01_subsampled_counts_50_genes_1000_CNVinf.h5ad\n",
      "CNV_simulation_01_subsampled_counts_50_genes_500_CNVinf.h5ad\n",
      "CNV_simulation_01_subsampled_counts_20_genes_all_CNVinf.h5ad\n",
      "CNV_simulation_01_subsampled_counts_20_genes_15000_CNVinf.h5ad\n",
      "CNV_simulation_01_subsampled_counts_20_genes_5000_CNVinf.h5ad\n",
      "CNV_simulation_01_subsampled_counts_10_genes_10000_CNVinf.h5ad\n",
      "CNV_simulation_01_subsampled_counts_10_genes_1000_CNVinf.h5ad\n",
      "CNV_simulation_01_subsampled_counts_5_genes_5000_CNVinf.h5ad\n",
      "CNV_simulation_01_subsampled_counts_5_genes_500_CNVinf.h5ad\n",
      "CNV_simulation_01_subsampled_counts_3_genes_500_CNVinf.h5ad\n",
      "CNV_simulation_01_subsampled_counts_2_genes_1000_CNVinf.h5ad\n",
      "CNV_simulation_01_subsampled_counts_1_genes_20000_CNVinf.h5ad\n",
      "CNV_simulation_01_subsampled_counts_1_genes_15000_CNVinf.h5ad\n",
      "CNV_simulation_01_subsampled_counts_1_genes_500_CNVinf.h5ad\n",
      "CNV_simulation_01_subsampled_counts_100_genes_all_CNVinf.h5ad\n",
      "CNV_simulation_01_subsampled_counts_100_genes_20000_CNVinf.h5ad\n",
      "CNV_simulation_01_subsampled_counts_100_genes_15000_CNVinf.h5ad\n",
      "CNV_simulation_01_subsampled_counts_100_genes_10000_CNVinf.h5ad\n",
      "CNV_simulation_01_subsampled_counts_100_genes_5000_CNVinf.h5ad\n",
      "CNV_simulation_01_subsampled_counts_100_genes_1000_CNVinf.h5ad\n",
      "CNV_simulation_01_subsampled_counts_100_genes_500_CNVinf.h5ad\n",
      "CNV_simulation_02_subsampled_counts_100_genes_20000_CNVinf.h5ad\n",
      "CNV_simulation_02_subsampled_counts_100_genes_15000_CNVinf.h5ad\n",
      "CNV_simulation_02_subsampled_counts_100_genes_10000_CNVinf.h5ad\n",
      "CNV_simulation_02_subsampled_counts_100_genes_5000_CNVinf.h5ad\n",
      "CNV_simulation_02_subsampled_counts_100_genes_1000_CNVinf.h5ad\n",
      "CNV_simulation_02_subsampled_counts_100_genes_500_CNVinf.h5ad\n",
      "CNV_simulation_02_subsampled_counts_70_genes_15000_CNVinf.h5ad\n",
      "CNV_simulation_02_subsampled_counts_70_genes_10000_CNVinf.h5ad\n",
      "CNV_simulation_02_subsampled_counts_70_genes_5000_CNVinf.h5ad\n",
      "CNV_simulation_02_subsampled_counts_70_genes_1000_CNVinf.h5ad\n",
      "CNV_simulation_02_subsampled_counts_70_genes_500_CNVinf.h5ad\n",
      "CNV_simulation_02_subsampled_counts_50_genes_20000_CNVinf.h5ad\n",
      "CNV_simulation_02_subsampled_counts_50_genes_10000_CNVinf.h5ad\n",
      "CNV_simulation_02_subsampled_counts_50_genes_1000_CNVinf.h5ad\n",
      "CNV_simulation_02_subsampled_counts_50_genes_500_CNVinf.h5ad\n",
      "CNV_simulation_02_subsampled_counts_20_genes_all_CNVinf.h5ad\n",
      "CNV_simulation_01_subsampled_counts_20_genes_20000_CNVinf.h5ad\n",
      "CNV_simulation_01_subsampled_counts_20_genes_10000_CNVinf.h5ad\n",
      "CNV_simulation_01_subsampled_counts_20_genes_1000_CNVinf.h5ad\n",
      "CNV_simulation_01_subsampled_counts_20_genes_500_CNVinf.h5ad\n",
      "CNV_simulation_01_subsampled_counts_10_genes_all_CNVinf.h5ad\n",
      "CNV_simulation_01_subsampled_counts_10_genes_20000_CNVinf.h5ad\n",
      "CNV_simulation_01_subsampled_counts_10_genes_15000_CNVinf.h5ad\n",
      "CNV_simulation_01_subsampled_counts_10_genes_5000_CNVinf.h5ad\n",
      "CNV_simulation_01_subsampled_counts_10_genes_500_CNVinf.h5ad\n",
      "CNV_simulation_01_subsampled_counts_5_genes_all_CNVinf.h5ad\n",
      "CNV_simulation_01_subsampled_counts_5_genes_20000_CNVinf.h5ad\n",
      "CNV_simulation_01_subsampled_counts_5_genes_15000_CNVinf.h5ad\n",
      "CNV_simulation_01_subsampled_counts_5_genes_10000_CNVinf.h5ad\n",
      "CNV_simulation_01_subsampled_counts_5_genes_1000_CNVinf.h5ad\n",
      "CNV_simulation_01_subsampled_counts_3_genes_all_CNVinf.h5ad\n",
      "CNV_simulation_01_subsampled_counts_3_genes_20000_CNVinf.h5ad\n",
      "CNV_simulation_01_subsampled_counts_3_genes_15000_CNVinf.h5ad\n",
      "CNV_simulation_01_subsampled_counts_3_genes_10000_CNVinf.h5ad\n",
      "CNV_simulation_01_subsampled_counts_3_genes_5000_CNVinf.h5ad\n",
      "CNV_simulation_01_subsampled_counts_3_genes_1000_CNVinf.h5ad\n",
      "CNV_simulation_01_subsampled_counts_2_genes_all_CNVinf.h5ad\n",
      "CNV_simulation_01_subsampled_counts_2_genes_20000_CNVinf.h5ad\n",
      "CNV_simulation_01_subsampled_counts_2_genes_15000_CNVinf.h5ad\n",
      "CNV_simulation_01_subsampled_counts_2_genes_10000_CNVinf.h5ad\n",
      "CNV_simulation_01_subsampled_counts_2_genes_5000_CNVinf.h5ad\n",
      "CNV_simulation_01_subsampled_counts_2_genes_500_CNVinf.h5ad\n",
      "CNV_simulation_01_subsampled_counts_1_genes_all_CNVinf.h5ad\n",
      "CNV_simulation_01_subsampled_counts_1_genes_10000_CNVinf.h5ad\n",
      "CNV_simulation_01_subsampled_counts_1_genes_5000_CNVinf.h5ad\n",
      "CNV_simulation_01_subsampled_counts_1_genes_1000_CNVinf.h5ad\n",
      "CNV_simulation_02_subsampled_counts_20_genes_20000_CNVinf.h5ad\n",
      "CNV_simulation_02_subsampled_counts_20_genes_15000_CNVinf.h5ad\n",
      "CNV_simulation_02_subsampled_counts_20_genes_10000_CNVinf.h5ad\n",
      "CNV_simulation_02_subsampled_counts_20_genes_5000_CNVinf.h5ad\n",
      "CNV_simulation_02_subsampled_counts_20_genes_1000_CNVinf.h5ad\n",
      "CNV_simulation_02_subsampled_counts_20_genes_500_CNVinf.h5ad\n",
      "CNV_simulation_02_subsampled_counts_10_genes_all_CNVinf.h5ad\n",
      "CNV_simulation_02_subsampled_counts_10_genes_20000_CNVinf.h5ad\n",
      "CNV_simulation_02_subsampled_counts_10_genes_15000_CNVinf.h5ad\n",
      "CNV_simulation_02_subsampled_counts_10_genes_10000_CNVinf.h5ad\n",
      "CNV_simulation_02_subsampled_counts_10_genes_5000_CNVinf.h5ad\n",
      "CNV_simulation_02_subsampled_counts_10_genes_500_CNVinf.h5ad\n"
     ]
    },
    {
     "name": "stderr",
     "output_type": "stream",
     "text": [
      "\n"
     ]
    }
   ],
   "source": [
    "alltags=[]\n",
    "for file in tqdm(processed_datasets_cg):\n",
    "    print(file)\n",
    "    experiment_tag=file.split('_')[2]\n",
    "    counts=file.split('_')[5]\n",
    "    genes=file.split('_')[7]\n",
    "    alltags.append(experiment_tag)"
   ]
  },
  {
   "cell_type": "code",
   "execution_count": 66,
   "id": "adb52cc8",
   "metadata": {},
   "outputs": [
    {
     "name": "stderr",
     "output_type": "stream",
     "text": [
      "\r",
      "  0%|                                                                                            | 0/98 [00:00<?, ?it/s]"
     ]
    },
    {
     "name": "stdout",
     "output_type": "stream",
     "text": [
      "CNV_simulation_02_subsampled_counts_100_genes_all_CNVinf.h5ad\n"
     ]
    },
    {
     "name": "stderr",
     "output_type": "stream",
     "text": [
      "\r",
      "  1%|▊                                                                                 | 1/98 [01:23<2:15:28, 83.80s/it]"
     ]
    },
    {
     "name": "stdout",
     "output_type": "stream",
     "text": [
      "CNV_simulation_02_subsampled_counts_70_genes_all_CNVinf.h5ad\n"
     ]
    },
    {
     "name": "stderr",
     "output_type": "stream",
     "text": [
      "\r",
      "  2%|█▋                                                                                | 2/98 [02:45<2:12:00, 82.51s/it]"
     ]
    },
    {
     "name": "stdout",
     "output_type": "stream",
     "text": [
      "CNV_simulation_02_subsampled_counts_70_genes_20000_CNVinf.h5ad\n"
     ]
    },
    {
     "name": "stderr",
     "output_type": "stream",
     "text": [
      "\r",
      "  3%|██▌                                                                               | 3/98 [03:48<1:56:19, 73.47s/it]"
     ]
    },
    {
     "name": "stdout",
     "output_type": "stream",
     "text": [
      "CNV_simulation_02_subsampled_counts_50_genes_all_CNVinf.h5ad\n"
     ]
    },
    {
     "name": "stderr",
     "output_type": "stream",
     "text": [
      "\r",
      "  4%|███▎                                                                              | 4/98 [05:10<2:00:54, 77.18s/it]"
     ]
    },
    {
     "name": "stdout",
     "output_type": "stream",
     "text": [
      "CNV_simulation_02_subsampled_counts_50_genes_15000_CNVinf.h5ad\n"
     ]
    },
    {
     "name": "stderr",
     "output_type": "stream",
     "text": [
      "\r",
      "  5%|████▏                                                                             | 5/98 [06:01<1:44:28, 67.40s/it]"
     ]
    },
    {
     "name": "stdout",
     "output_type": "stream",
     "text": [
      "CNV_simulation_02_subsampled_counts_50_genes_5000_CNVinf.h5ad\n"
     ]
    },
    {
     "name": "stderr",
     "output_type": "stream",
     "text": [
      "\r",
      "  6%|█████                                                                             | 6/98 [06:16<1:16:26, 49.86s/it]"
     ]
    },
    {
     "name": "stdout",
     "output_type": "stream",
     "text": [
      "CNV_simulation_02_subsampled_counts_10_genes_1000_CNVinf.h5ad\n"
     ]
    },
    {
     "name": "stderr",
     "output_type": "stream",
     "text": [
      "\r",
      "  7%|██████                                                                              | 7/98 [06:19<52:27, 34.59s/it]"
     ]
    },
    {
     "name": "stdout",
     "output_type": "stream",
     "text": [
      "CNV_simulation_01_subsampled_counts_70_genes_all_CNVinf.h5ad\n"
     ]
    },
    {
     "name": "stderr",
     "output_type": "stream",
     "text": [
      "\r",
      "  8%|██████▋                                                                           | 8/98 [07:39<1:13:26, 48.96s/it]"
     ]
    },
    {
     "name": "stdout",
     "output_type": "stream",
     "text": [
      "CNV_simulation_01_subsampled_counts_70_genes_20000_CNVinf.h5ad\n"
     ]
    },
    {
     "name": "stderr",
     "output_type": "stream",
     "text": [
      "\r",
      "  9%|███████▌                                                                          | 9/98 [08:41<1:18:34, 52.97s/it]"
     ]
    },
    {
     "name": "stdout",
     "output_type": "stream",
     "text": [
      "CNV_simulation_01_subsampled_counts_70_genes_15000_CNVinf.h5ad\n"
     ]
    },
    {
     "name": "stderr",
     "output_type": "stream",
     "text": [
      "\r",
      " 10%|████████▎                                                                        | 10/98 [09:27<1:14:31, 50.81s/it]"
     ]
    },
    {
     "name": "stdout",
     "output_type": "stream",
     "text": [
      "CNV_simulation_01_subsampled_counts_70_genes_10000_CNVinf.h5ad\n"
     ]
    },
    {
     "name": "stderr",
     "output_type": "stream",
     "text": [
      "\r",
      " 11%|█████████                                                                        | 11/98 [09:56<1:04:13, 44.29s/it]"
     ]
    },
    {
     "name": "stdout",
     "output_type": "stream",
     "text": [
      "CNV_simulation_01_subsampled_counts_70_genes_5000_CNVinf.h5ad\n"
     ]
    },
    {
     "name": "stderr",
     "output_type": "stream",
     "text": [
      "\r",
      " 12%|██████████▏                                                                        | 12/98 [10:12<50:57, 35.55s/it]"
     ]
    },
    {
     "name": "stdout",
     "output_type": "stream",
     "text": [
      "CNV_simulation_01_subsampled_counts_70_genes_1000_CNVinf.h5ad\n"
     ]
    },
    {
     "name": "stderr",
     "output_type": "stream",
     "text": [
      "\r",
      " 13%|███████████                                                                        | 13/98 [10:15<36:21, 25.66s/it]"
     ]
    },
    {
     "name": "stdout",
     "output_type": "stream",
     "text": [
      "CNV_simulation_01_subsampled_counts_70_genes_500_CNVinf.h5ad\n"
     ]
    },
    {
     "name": "stderr",
     "output_type": "stream",
     "text": [
      "\r",
      " 14%|███████████▊                                                                       | 14/98 [10:16<25:34, 18.26s/it]"
     ]
    },
    {
     "name": "stdout",
     "output_type": "stream",
     "text": [
      "not possible\n",
      "CNV_simulation_01_subsampled_counts_50_genes_all_CNVinf.h5ad\n"
     ]
    },
    {
     "name": "stderr",
     "output_type": "stream",
     "text": [
      "\r",
      " 15%|████████████▋                                                                      | 15/98 [11:39<52:14, 37.77s/it]"
     ]
    },
    {
     "name": "stdout",
     "output_type": "stream",
     "text": [
      "CNV_simulation_01_subsampled_counts_50_genes_20000_CNVinf.h5ad\n"
     ]
    },
    {
     "name": "stderr",
     "output_type": "stream",
     "text": [
      "\r",
      " 16%|█████████████▏                                                                   | 16/98 [12:44<1:02:34, 45.78s/it]"
     ]
    },
    {
     "name": "stdout",
     "output_type": "stream",
     "text": [
      "CNV_simulation_01_subsampled_counts_50_genes_15000_CNVinf.h5ad\n"
     ]
    },
    {
     "name": "stderr",
     "output_type": "stream",
     "text": [
      "\r",
      " 17%|██████████████                                                                   | 17/98 [13:29<1:01:51, 45.82s/it]"
     ]
    },
    {
     "name": "stdout",
     "output_type": "stream",
     "text": [
      "CNV_simulation_01_subsampled_counts_50_genes_10000_CNVinf.h5ad\n"
     ]
    },
    {
     "name": "stderr",
     "output_type": "stream",
     "text": [
      "\r",
      " 18%|███████████████▏                                                                   | 18/98 [13:59<54:44, 41.05s/it]"
     ]
    },
    {
     "name": "stdout",
     "output_type": "stream",
     "text": [
      "CNV_simulation_01_subsampled_counts_50_genes_5000_CNVinf.h5ad\n"
     ]
    },
    {
     "name": "stderr",
     "output_type": "stream",
     "text": [
      "\r",
      " 19%|████████████████                                                                   | 19/98 [14:14<43:39, 33.16s/it]"
     ]
    },
    {
     "name": "stdout",
     "output_type": "stream",
     "text": [
      "CNV_simulation_01_subsampled_counts_50_genes_1000_CNVinf.h5ad\n"
     ]
    },
    {
     "name": "stderr",
     "output_type": "stream",
     "text": [
      "\r",
      " 20%|████████████████▉                                                                  | 20/98 [14:17<31:17, 24.08s/it]"
     ]
    },
    {
     "name": "stdout",
     "output_type": "stream",
     "text": [
      "CNV_simulation_01_subsampled_counts_50_genes_500_CNVinf.h5ad\n"
     ]
    },
    {
     "name": "stderr",
     "output_type": "stream",
     "text": [
      "\r",
      " 21%|█████████████████▊                                                                 | 21/98 [14:18<22:04, 17.20s/it]"
     ]
    },
    {
     "name": "stdout",
     "output_type": "stream",
     "text": [
      "not possible\n",
      "CNV_simulation_01_subsampled_counts_20_genes_all_CNVinf.h5ad\n"
     ]
    },
    {
     "name": "stderr",
     "output_type": "stream",
     "text": [
      "\r",
      " 22%|██████████████████▋                                                                | 22/98 [15:41<46:48, 36.96s/it]"
     ]
    },
    {
     "name": "stdout",
     "output_type": "stream",
     "text": [
      "CNV_simulation_01_subsampled_counts_20_genes_15000_CNVinf.h5ad\n"
     ]
    },
    {
     "name": "stderr",
     "output_type": "stream",
     "text": [
      "\r",
      " 23%|███████████████████▍                                                               | 23/98 [16:28<49:54, 39.93s/it]"
     ]
    },
    {
     "name": "stdout",
     "output_type": "stream",
     "text": [
      "CNV_simulation_01_subsampled_counts_20_genes_5000_CNVinf.h5ad\n"
     ]
    },
    {
     "name": "stderr",
     "output_type": "stream",
     "text": [
      "\r",
      " 24%|████████████████████▎                                                              | 24/98 [16:43<39:53, 32.35s/it]"
     ]
    },
    {
     "name": "stdout",
     "output_type": "stream",
     "text": [
      "CNV_simulation_01_subsampled_counts_10_genes_10000_CNVinf.h5ad\n"
     ]
    },
    {
     "name": "stderr",
     "output_type": "stream",
     "text": [
      "\r",
      " 26%|█████████████████████▏                                                             | 25/98 [17:14<38:52, 31.95s/it]"
     ]
    },
    {
     "name": "stdout",
     "output_type": "stream",
     "text": [
      "CNV_simulation_01_subsampled_counts_10_genes_1000_CNVinf.h5ad\n"
     ]
    },
    {
     "name": "stderr",
     "output_type": "stream",
     "text": [
      "\r",
      " 27%|██████████████████████                                                             | 26/98 [17:17<27:56, 23.29s/it]"
     ]
    },
    {
     "name": "stdout",
     "output_type": "stream",
     "text": [
      "CNV_simulation_01_subsampled_counts_5_genes_5000_CNVinf.h5ad\n"
     ]
    },
    {
     "name": "stderr",
     "output_type": "stream",
     "text": [
      "\r",
      " 28%|██████████████████████▊                                                            | 27/98 [17:31<24:28, 20.69s/it]"
     ]
    },
    {
     "name": "stdout",
     "output_type": "stream",
     "text": [
      "CNV_simulation_01_subsampled_counts_5_genes_500_CNVinf.h5ad\n"
     ]
    },
    {
     "name": "stderr",
     "output_type": "stream",
     "text": [
      "\r",
      " 29%|███████████████████████▋                                                           | 28/98 [17:33<17:17, 14.82s/it]"
     ]
    },
    {
     "name": "stdout",
     "output_type": "stream",
     "text": [
      "not possible\n",
      "CNV_simulation_01_subsampled_counts_3_genes_500_CNVinf.h5ad\n"
     ]
    },
    {
     "name": "stderr",
     "output_type": "stream",
     "text": [
      "\r",
      " 30%|████████████████████████▌                                                          | 29/98 [17:34<12:17, 10.69s/it]"
     ]
    },
    {
     "name": "stdout",
     "output_type": "stream",
     "text": [
      "not possible\n",
      "CNV_simulation_01_subsampled_counts_2_genes_1000_CNVinf.h5ad\n"
     ]
    },
    {
     "name": "stderr",
     "output_type": "stream",
     "text": [
      "\r",
      " 31%|█████████████████████████▍                                                         | 30/98 [17:37<09:27,  8.34s/it]"
     ]
    },
    {
     "name": "stdout",
     "output_type": "stream",
     "text": [
      "CNV_simulation_01_subsampled_counts_1_genes_20000_CNVinf.h5ad\n"
     ]
    },
    {
     "name": "stderr",
     "output_type": "stream",
     "text": [
      "\r",
      " 32%|██████████████████████████▎                                                        | 31/98 [18:40<27:43, 24.83s/it]"
     ]
    },
    {
     "name": "stdout",
     "output_type": "stream",
     "text": [
      "CNV_simulation_01_subsampled_counts_1_genes_15000_CNVinf.h5ad\n"
     ]
    },
    {
     "name": "stderr",
     "output_type": "stream",
     "text": [
      "\r",
      " 33%|███████████████████████████                                                        | 32/98 [19:27<34:44, 31.58s/it]"
     ]
    },
    {
     "name": "stdout",
     "output_type": "stream",
     "text": [
      "CNV_simulation_01_subsampled_counts_1_genes_500_CNVinf.h5ad\n"
     ]
    },
    {
     "name": "stderr",
     "output_type": "stream",
     "text": [
      "\r",
      " 34%|███████████████████████████▉                                                       | 33/98 [19:28<24:21, 22.49s/it]"
     ]
    },
    {
     "name": "stdout",
     "output_type": "stream",
     "text": [
      "not possible\n",
      "CNV_simulation_01_subsampled_counts_100_genes_all_CNVinf.h5ad\n"
     ]
    },
    {
     "name": "stderr",
     "output_type": "stream",
     "text": [
      "\r",
      " 35%|████████████████████████████▊                                                      | 34/98 [20:53<43:43, 41.00s/it]"
     ]
    },
    {
     "name": "stdout",
     "output_type": "stream",
     "text": [
      "CNV_simulation_01_subsampled_counts_100_genes_20000_CNVinf.h5ad\n"
     ]
    },
    {
     "name": "stderr",
     "output_type": "stream",
     "text": [
      "\r",
      " 36%|█████████████████████████████▋                                                     | 35/98 [21:56<50:06, 47.72s/it]"
     ]
    },
    {
     "name": "stdout",
     "output_type": "stream",
     "text": [
      "CNV_simulation_01_subsampled_counts_100_genes_15000_CNVinf.h5ad\n"
     ]
    },
    {
     "name": "stderr",
     "output_type": "stream",
     "text": [
      "\r",
      " 37%|██████████████████████████████▍                                                    | 36/98 [22:44<49:22, 47.78s/it]"
     ]
    },
    {
     "name": "stdout",
     "output_type": "stream",
     "text": [
      "CNV_simulation_01_subsampled_counts_100_genes_10000_CNVinf.h5ad\n"
     ]
    },
    {
     "name": "stderr",
     "output_type": "stream",
     "text": [
      "\r",
      " 38%|███████████████████████████████▎                                                   | 37/98 [23:15<43:27, 42.75s/it]"
     ]
    },
    {
     "name": "stdout",
     "output_type": "stream",
     "text": [
      "CNV_simulation_01_subsampled_counts_100_genes_5000_CNVinf.h5ad\n"
     ]
    },
    {
     "name": "stderr",
     "output_type": "stream",
     "text": [
      "\r",
      " 39%|████████████████████████████████▏                                                  | 38/98 [23:31<34:48, 34.80s/it]"
     ]
    },
    {
     "name": "stdout",
     "output_type": "stream",
     "text": [
      "CNV_simulation_01_subsampled_counts_100_genes_1000_CNVinf.h5ad\n"
     ]
    },
    {
     "name": "stderr",
     "output_type": "stream",
     "text": [
      "\r",
      " 40%|█████████████████████████████████                                                  | 39/98 [23:34<24:50, 25.26s/it]"
     ]
    },
    {
     "name": "stdout",
     "output_type": "stream",
     "text": [
      "CNV_simulation_01_subsampled_counts_100_genes_500_CNVinf.h5ad\n"
     ]
    },
    {
     "name": "stderr",
     "output_type": "stream",
     "text": [
      "\r",
      " 41%|█████████████████████████████████▉                                                 | 40/98 [23:35<17:25, 18.02s/it]"
     ]
    },
    {
     "name": "stdout",
     "output_type": "stream",
     "text": [
      "not possible\n",
      "CNV_simulation_02_subsampled_counts_100_genes_20000_CNVinf.h5ad\n"
     ]
    },
    {
     "name": "stderr",
     "output_type": "stream",
     "text": [
      "\r",
      " 42%|██████████████████████████████████▋                                                | 41/98 [24:40<30:30, 32.12s/it]"
     ]
    },
    {
     "name": "stdout",
     "output_type": "stream",
     "text": [
      "CNV_simulation_02_subsampled_counts_100_genes_15000_CNVinf.h5ad\n"
     ]
    },
    {
     "name": "stderr",
     "output_type": "stream",
     "text": [
      "\r",
      " 43%|███████████████████████████████████▌                                               | 42/98 [25:29<34:30, 36.98s/it]"
     ]
    },
    {
     "name": "stdout",
     "output_type": "stream",
     "text": [
      "CNV_simulation_02_subsampled_counts_100_genes_10000_CNVinf.h5ad\n"
     ]
    },
    {
     "name": "stderr",
     "output_type": "stream",
     "text": [
      "\r",
      " 44%|████████████████████████████████████▍                                              | 43/98 [26:01<32:44, 35.72s/it]"
     ]
    },
    {
     "name": "stdout",
     "output_type": "stream",
     "text": [
      "CNV_simulation_02_subsampled_counts_100_genes_5000_CNVinf.h5ad\n"
     ]
    },
    {
     "name": "stderr",
     "output_type": "stream",
     "text": [
      "\r",
      " 45%|█████████████████████████████████████▎                                             | 44/98 [26:18<27:02, 30.05s/it]"
     ]
    },
    {
     "name": "stdout",
     "output_type": "stream",
     "text": [
      "CNV_simulation_02_subsampled_counts_100_genes_1000_CNVinf.h5ad\n"
     ]
    },
    {
     "name": "stderr",
     "output_type": "stream",
     "text": [
      "\r",
      " 46%|██████████████████████████████████████                                             | 45/98 [26:22<19:26, 22.01s/it]"
     ]
    },
    {
     "name": "stdout",
     "output_type": "stream",
     "text": [
      "CNV_simulation_02_subsampled_counts_100_genes_500_CNVinf.h5ad\n"
     ]
    },
    {
     "name": "stderr",
     "output_type": "stream",
     "text": [
      "\r",
      " 47%|██████████████████████████████████████▉                                            | 46/98 [26:23<13:50, 15.96s/it]"
     ]
    },
    {
     "name": "stdout",
     "output_type": "stream",
     "text": [
      "CNV_simulation_02_subsampled_counts_70_genes_15000_CNVinf.h5ad\n"
     ]
    },
    {
     "name": "stderr",
     "output_type": "stream",
     "text": [
      "\r",
      " 48%|███████████████████████████████████████▊                                           | 47/98 [27:10<21:22, 25.15s/it]"
     ]
    },
    {
     "name": "stdout",
     "output_type": "stream",
     "text": [
      "CNV_simulation_02_subsampled_counts_70_genes_10000_CNVinf.h5ad\n"
     ]
    },
    {
     "name": "stderr",
     "output_type": "stream",
     "text": [
      "\r",
      " 49%|████████████████████████████████████████▋                                          | 48/98 [27:41<22:30, 27.00s/it]"
     ]
    },
    {
     "name": "stdout",
     "output_type": "stream",
     "text": [
      "CNV_simulation_02_subsampled_counts_70_genes_5000_CNVinf.h5ad\n"
     ]
    },
    {
     "name": "stderr",
     "output_type": "stream",
     "text": [
      "\r",
      " 50%|█████████████████████████████████████████▌                                         | 49/98 [27:57<19:10, 23.48s/it]"
     ]
    },
    {
     "name": "stdout",
     "output_type": "stream",
     "text": [
      "CNV_simulation_02_subsampled_counts_70_genes_1000_CNVinf.h5ad\n"
     ]
    },
    {
     "name": "stderr",
     "output_type": "stream",
     "text": [
      "\r",
      " 51%|██████████████████████████████████████████▎                                        | 50/98 [28:01<14:07, 17.67s/it]"
     ]
    },
    {
     "name": "stdout",
     "output_type": "stream",
     "text": [
      "CNV_simulation_02_subsampled_counts_70_genes_500_CNVinf.h5ad\n"
     ]
    },
    {
     "name": "stderr",
     "output_type": "stream",
     "text": [
      "\r",
      " 52%|███████████████████████████████████████████▏                                       | 51/98 [28:02<10:06, 12.90s/it]"
     ]
    },
    {
     "name": "stdout",
     "output_type": "stream",
     "text": [
      "CNV_simulation_02_subsampled_counts_50_genes_20000_CNVinf.h5ad\n"
     ]
    },
    {
     "name": "stderr",
     "output_type": "stream",
     "text": [
      "\r",
      " 53%|████████████████████████████████████████████                                       | 52/98 [29:08<22:04, 28.78s/it]"
     ]
    },
    {
     "name": "stdout",
     "output_type": "stream",
     "text": [
      "CNV_simulation_02_subsampled_counts_50_genes_10000_CNVinf.h5ad\n"
     ]
    },
    {
     "name": "stderr",
     "output_type": "stream",
     "text": [
      "\r",
      " 54%|████████████████████████████████████████████▉                                      | 53/98 [29:39<22:07, 29.50s/it]"
     ]
    },
    {
     "name": "stdout",
     "output_type": "stream",
     "text": [
      "CNV_simulation_02_subsampled_counts_50_genes_1000_CNVinf.h5ad\n"
     ]
    },
    {
     "name": "stderr",
     "output_type": "stream",
     "text": [
      "\r",
      " 55%|█████████████████████████████████████████████▋                                     | 54/98 [29:42<15:47, 21.54s/it]"
     ]
    },
    {
     "name": "stdout",
     "output_type": "stream",
     "text": [
      "CNV_simulation_02_subsampled_counts_50_genes_500_CNVinf.h5ad\n"
     ]
    },
    {
     "name": "stderr",
     "output_type": "stream",
     "text": [
      "\r",
      " 56%|██████████████████████████████████████████████▌                                    | 55/98 [29:44<11:12, 15.64s/it]"
     ]
    },
    {
     "name": "stdout",
     "output_type": "stream",
     "text": [
      "CNV_simulation_02_subsampled_counts_20_genes_all_CNVinf.h5ad\n"
     ]
    },
    {
     "name": "stderr",
     "output_type": "stream",
     "text": [
      "\r",
      " 57%|███████████████████████████████████████████████▍                                   | 56/98 [31:06<24:43, 35.32s/it]"
     ]
    },
    {
     "name": "stdout",
     "output_type": "stream",
     "text": [
      "CNV_simulation_01_subsampled_counts_20_genes_20000_CNVinf.h5ad\n"
     ]
    },
    {
     "name": "stderr",
     "output_type": "stream",
     "text": [
      "\r",
      " 58%|████████████████████████████████████████████████▎                                  | 57/98 [32:13<30:42, 44.94s/it]"
     ]
    },
    {
     "name": "stdout",
     "output_type": "stream",
     "text": [
      "CNV_simulation_01_subsampled_counts_20_genes_10000_CNVinf.h5ad\n"
     ]
    },
    {
     "name": "stderr",
     "output_type": "stream",
     "text": [
      "\r",
      " 59%|█████████████████████████████████████████████████                                  | 58/98 [32:46<27:30, 41.27s/it]"
     ]
    },
    {
     "name": "stdout",
     "output_type": "stream",
     "text": [
      "CNV_simulation_01_subsampled_counts_20_genes_1000_CNVinf.h5ad\n"
     ]
    },
    {
     "name": "stderr",
     "output_type": "stream",
     "text": [
      "\r",
      " 60%|█████████████████████████████████████████████████▉                                 | 59/98 [32:49<19:22, 29.81s/it]"
     ]
    },
    {
     "name": "stdout",
     "output_type": "stream",
     "text": [
      "CNV_simulation_01_subsampled_counts_20_genes_500_CNVinf.h5ad\n"
     ]
    },
    {
     "name": "stderr",
     "output_type": "stream",
     "text": [
      "\r",
      " 61%|██████████████████████████████████████████████████▊                                | 60/98 [32:50<13:28, 21.26s/it]"
     ]
    },
    {
     "name": "stdout",
     "output_type": "stream",
     "text": [
      "not possible\n",
      "CNV_simulation_01_subsampled_counts_10_genes_all_CNVinf.h5ad\n"
     ]
    },
    {
     "name": "stderr",
     "output_type": "stream",
     "text": [
      "\r",
      " 62%|███████████████████████████████████████████████████▋                               | 61/98 [34:10<24:03, 39.02s/it]"
     ]
    },
    {
     "name": "stdout",
     "output_type": "stream",
     "text": [
      "CNV_simulation_01_subsampled_counts_10_genes_20000_CNVinf.h5ad\n"
     ]
    },
    {
     "name": "stderr",
     "output_type": "stream",
     "text": [
      "\r",
      " 63%|████████████████████████████████████████████████████▌                              | 62/98 [35:13<27:35, 45.98s/it]"
     ]
    },
    {
     "name": "stdout",
     "output_type": "stream",
     "text": [
      "CNV_simulation_01_subsampled_counts_10_genes_15000_CNVinf.h5ad\n"
     ]
    },
    {
     "name": "stderr",
     "output_type": "stream",
     "text": [
      "\r",
      " 64%|█████████████████████████████████████████████████████▎                             | 63/98 [36:02<27:21, 46.91s/it]"
     ]
    },
    {
     "name": "stdout",
     "output_type": "stream",
     "text": [
      "CNV_simulation_01_subsampled_counts_10_genes_5000_CNVinf.h5ad\n"
     ]
    },
    {
     "name": "stderr",
     "output_type": "stream",
     "text": [
      "\r",
      " 65%|██████████████████████████████████████████████████████▏                            | 64/98 [36:16<21:02, 37.14s/it]"
     ]
    },
    {
     "name": "stdout",
     "output_type": "stream",
     "text": [
      "CNV_simulation_01_subsampled_counts_10_genes_500_CNVinf.h5ad\n"
     ]
    },
    {
     "name": "stderr",
     "output_type": "stream",
     "text": [
      "\r",
      " 66%|███████████████████████████████████████████████████████                            | 65/98 [36:18<14:35, 26.54s/it]"
     ]
    },
    {
     "name": "stdout",
     "output_type": "stream",
     "text": [
      "not possible\n",
      "CNV_simulation_01_subsampled_counts_5_genes_all_CNVinf.h5ad\n"
     ]
    },
    {
     "name": "stderr",
     "output_type": "stream",
     "text": [
      "\r",
      " 67%|███████████████████████████████████████████████████████▉                           | 66/98 [37:42<23:17, 43.68s/it]"
     ]
    },
    {
     "name": "stdout",
     "output_type": "stream",
     "text": [
      "CNV_simulation_01_subsampled_counts_5_genes_20000_CNVinf.h5ad\n"
     ]
    },
    {
     "name": "stderr",
     "output_type": "stream",
     "text": [
      "\r",
      " 68%|████████████████████████████████████████████████████████▋                          | 67/98 [38:44<25:29, 49.34s/it]"
     ]
    },
    {
     "name": "stdout",
     "output_type": "stream",
     "text": [
      "CNV_simulation_01_subsampled_counts_5_genes_15000_CNVinf.h5ad\n"
     ]
    },
    {
     "name": "stderr",
     "output_type": "stream",
     "text": [
      "\r",
      " 69%|█████████████████████████████████████████████████████████▌                         | 68/98 [39:32<24:28, 48.95s/it]"
     ]
    },
    {
     "name": "stdout",
     "output_type": "stream",
     "text": [
      "CNV_simulation_01_subsampled_counts_5_genes_10000_CNVinf.h5ad\n"
     ]
    },
    {
     "name": "stderr",
     "output_type": "stream",
     "text": [
      "\r",
      " 70%|██████████████████████████████████████████████████████████▍                        | 69/98 [40:03<21:05, 43.63s/it]"
     ]
    },
    {
     "name": "stdout",
     "output_type": "stream",
     "text": [
      "CNV_simulation_01_subsampled_counts_5_genes_1000_CNVinf.h5ad\n"
     ]
    },
    {
     "name": "stderr",
     "output_type": "stream",
     "text": [
      "\r",
      " 71%|███████████████████████████████████████████████████████████▎                       | 70/98 [40:07<14:44, 31.58s/it]"
     ]
    },
    {
     "name": "stdout",
     "output_type": "stream",
     "text": [
      "CNV_simulation_01_subsampled_counts_3_genes_all_CNVinf.h5ad\n"
     ]
    },
    {
     "name": "stderr",
     "output_type": "stream",
     "text": [
      "\r",
      " 72%|████████████████████████████████████████████████████████████▏                      | 71/98 [41:31<21:19, 47.39s/it]"
     ]
    },
    {
     "name": "stdout",
     "output_type": "stream",
     "text": [
      "CNV_simulation_01_subsampled_counts_3_genes_20000_CNVinf.h5ad\n"
     ]
    },
    {
     "name": "stderr",
     "output_type": "stream",
     "text": [
      "\r",
      " 73%|████████████████████████████████████████████████████████████▉                      | 72/98 [42:34<22:34, 52.08s/it]"
     ]
    },
    {
     "name": "stdout",
     "output_type": "stream",
     "text": [
      "CNV_simulation_01_subsampled_counts_3_genes_15000_CNVinf.h5ad\n"
     ]
    },
    {
     "name": "stderr",
     "output_type": "stream",
     "text": [
      "\r",
      " 74%|█████████████████████████████████████████████████████████████▊                     | 73/98 [43:23<21:19, 51.19s/it]"
     ]
    },
    {
     "name": "stdout",
     "output_type": "stream",
     "text": [
      "CNV_simulation_01_subsampled_counts_3_genes_10000_CNVinf.h5ad\n"
     ]
    },
    {
     "name": "stderr",
     "output_type": "stream",
     "text": [
      "\r",
      " 76%|██████████████████████████████████████████████████████████████▋                    | 74/98 [43:55<18:11, 45.46s/it]"
     ]
    },
    {
     "name": "stdout",
     "output_type": "stream",
     "text": [
      "CNV_simulation_01_subsampled_counts_3_genes_5000_CNVinf.h5ad\n"
     ]
    },
    {
     "name": "stderr",
     "output_type": "stream",
     "text": [
      "\r",
      " 77%|███████████████████████████████████████████████████████████████▌                   | 75/98 [44:11<13:58, 36.45s/it]"
     ]
    },
    {
     "name": "stdout",
     "output_type": "stream",
     "text": [
      "CNV_simulation_01_subsampled_counts_3_genes_1000_CNVinf.h5ad\n"
     ]
    },
    {
     "name": "stderr",
     "output_type": "stream",
     "text": [
      "\r",
      " 78%|████████████████████████████████████████████████████████████████▎                  | 76/98 [44:14<09:41, 26.43s/it]"
     ]
    },
    {
     "name": "stdout",
     "output_type": "stream",
     "text": [
      "CNV_simulation_01_subsampled_counts_2_genes_all_CNVinf.h5ad\n"
     ]
    },
    {
     "name": "stderr",
     "output_type": "stream",
     "text": [
      "\r",
      " 79%|█████████████████████████████████████████████████████████████████▏                 | 77/98 [45:35<14:57, 42.73s/it]"
     ]
    },
    {
     "name": "stdout",
     "output_type": "stream",
     "text": [
      "CNV_simulation_01_subsampled_counts_2_genes_20000_CNVinf.h5ad\n"
     ]
    },
    {
     "name": "stderr",
     "output_type": "stream",
     "text": [
      "\r",
      " 80%|██████████████████████████████████████████████████████████████████                 | 78/98 [46:38<16:18, 48.93s/it]"
     ]
    },
    {
     "name": "stdout",
     "output_type": "stream",
     "text": [
      "CNV_simulation_01_subsampled_counts_2_genes_15000_CNVinf.h5ad\n"
     ]
    },
    {
     "name": "stderr",
     "output_type": "stream",
     "text": [
      "\r",
      " 81%|██████████████████████████████████████████████████████████████████▉                | 79/98 [47:26<15:22, 48.53s/it]"
     ]
    },
    {
     "name": "stdout",
     "output_type": "stream",
     "text": [
      "CNV_simulation_01_subsampled_counts_2_genes_10000_CNVinf.h5ad\n"
     ]
    },
    {
     "name": "stderr",
     "output_type": "stream",
     "text": [
      "\r",
      " 82%|███████████████████████████████████████████████████████████████████▊               | 80/98 [47:56<12:55, 43.07s/it]"
     ]
    },
    {
     "name": "stdout",
     "output_type": "stream",
     "text": [
      "CNV_simulation_01_subsampled_counts_2_genes_5000_CNVinf.h5ad\n"
     ]
    },
    {
     "name": "stderr",
     "output_type": "stream",
     "text": [
      "\r",
      " 83%|████████████████████████████████████████████████████████████████████▌              | 81/98 [48:11<09:48, 34.59s/it]"
     ]
    },
    {
     "name": "stdout",
     "output_type": "stream",
     "text": [
      "CNV_simulation_01_subsampled_counts_2_genes_500_CNVinf.h5ad\n"
     ]
    },
    {
     "name": "stderr",
     "output_type": "stream",
     "text": [
      "\r",
      " 84%|█████████████████████████████████████████████████████████████████████▍             | 82/98 [48:12<06:32, 24.56s/it]"
     ]
    },
    {
     "name": "stdout",
     "output_type": "stream",
     "text": [
      "not possible\n",
      "CNV_simulation_01_subsampled_counts_1_genes_all_CNVinf.h5ad\n"
     ]
    },
    {
     "name": "stderr",
     "output_type": "stream",
     "text": [
      "\r",
      " 85%|██████████████████████████████████████████████████████████████████████▎            | 83/98 [49:35<10:31, 42.08s/it]"
     ]
    },
    {
     "name": "stdout",
     "output_type": "stream",
     "text": [
      "CNV_simulation_01_subsampled_counts_1_genes_10000_CNVinf.h5ad\n"
     ]
    },
    {
     "name": "stderr",
     "output_type": "stream",
     "text": [
      "\r",
      " 86%|███████████████████████████████████████████████████████████████████████▏           | 84/98 [50:08<09:12, 39.44s/it]"
     ]
    },
    {
     "name": "stdout",
     "output_type": "stream",
     "text": [
      "CNV_simulation_01_subsampled_counts_1_genes_5000_CNVinf.h5ad\n"
     ]
    },
    {
     "name": "stderr",
     "output_type": "stream",
     "text": [
      "\r",
      " 87%|███████████████████████████████████████████████████████████████████████▉           | 85/98 [50:23<06:57, 32.15s/it]"
     ]
    },
    {
     "name": "stdout",
     "output_type": "stream",
     "text": [
      "CNV_simulation_01_subsampled_counts_1_genes_1000_CNVinf.h5ad\n"
     ]
    },
    {
     "name": "stderr",
     "output_type": "stream",
     "text": [
      "\r",
      " 88%|████████████████████████████████████████████████████████████████████████▊          | 86/98 [50:26<04:41, 23.43s/it]"
     ]
    },
    {
     "name": "stdout",
     "output_type": "stream",
     "text": [
      "CNV_simulation_02_subsampled_counts_20_genes_20000_CNVinf.h5ad\n"
     ]
    },
    {
     "name": "stderr",
     "output_type": "stream",
     "text": [
      "\r",
      " 89%|█████████████████████████████████████████████████████████████████████████▋         | 87/98 [51:30<06:30, 35.51s/it]"
     ]
    },
    {
     "name": "stdout",
     "output_type": "stream",
     "text": [
      "CNV_simulation_02_subsampled_counts_20_genes_15000_CNVinf.h5ad\n"
     ]
    },
    {
     "name": "stderr",
     "output_type": "stream",
     "text": [
      "\r",
      " 90%|██████████████████████████████████████████████████████████████████████████▌        | 88/98 [52:21<06:41, 40.13s/it]"
     ]
    },
    {
     "name": "stdout",
     "output_type": "stream",
     "text": [
      "CNV_simulation_02_subsampled_counts_20_genes_10000_CNVinf.h5ad\n"
     ]
    },
    {
     "name": "stderr",
     "output_type": "stream",
     "text": [
      "\r",
      " 91%|███████████████████████████████████████████████████████████████████████████▍       | 89/98 [52:51<05:34, 37.18s/it]"
     ]
    },
    {
     "name": "stdout",
     "output_type": "stream",
     "text": [
      "CNV_simulation_02_subsampled_counts_20_genes_5000_CNVinf.h5ad\n"
     ]
    },
    {
     "name": "stderr",
     "output_type": "stream",
     "text": [
      "\r",
      " 92%|████████████████████████████████████████████████████████████████████████████▏      | 90/98 [53:07<04:05, 30.70s/it]"
     ]
    },
    {
     "name": "stdout",
     "output_type": "stream",
     "text": [
      "CNV_simulation_02_subsampled_counts_20_genes_1000_CNVinf.h5ad\n"
     ]
    },
    {
     "name": "stderr",
     "output_type": "stream",
     "text": [
      "\r",
      " 93%|█████████████████████████████████████████████████████████████████████████████      | 91/98 [53:10<02:38, 22.58s/it]"
     ]
    },
    {
     "name": "stdout",
     "output_type": "stream",
     "text": [
      "CNV_simulation_02_subsampled_counts_20_genes_500_CNVinf.h5ad\n"
     ]
    },
    {
     "name": "stderr",
     "output_type": "stream",
     "text": [
      "\r",
      " 94%|█████████████████████████████████████████████████████████████████████████████▉     | 92/98 [53:13<01:39, 16.57s/it]"
     ]
    },
    {
     "name": "stdout",
     "output_type": "stream",
     "text": [
      "CNV_simulation_02_subsampled_counts_10_genes_all_CNVinf.h5ad\n"
     ]
    },
    {
     "name": "stderr",
     "output_type": "stream",
     "text": [
      "\r",
      " 95%|██████████████████████████████████████████████████████████████████████████████▊    | 93/98 [54:43<03:13, 38.71s/it]"
     ]
    },
    {
     "name": "stdout",
     "output_type": "stream",
     "text": [
      "CNV_simulation_02_subsampled_counts_10_genes_20000_CNVinf.h5ad\n"
     ]
    },
    {
     "name": "stderr",
     "output_type": "stream",
     "text": [
      "\r",
      " 96%|███████████████████████████████████████████████████████████████████████████████▌   | 94/98 [56:00<03:20, 50.09s/it]"
     ]
    },
    {
     "name": "stdout",
     "output_type": "stream",
     "text": [
      "CNV_simulation_02_subsampled_counts_10_genes_15000_CNVinf.h5ad\n"
     ]
    },
    {
     "name": "stderr",
     "output_type": "stream",
     "text": [
      "\r",
      " 97%|████████████████████████████████████████████████████████████████████████████████▍  | 95/98 [56:58<02:37, 52.42s/it]"
     ]
    },
    {
     "name": "stdout",
     "output_type": "stream",
     "text": [
      "CNV_simulation_02_subsampled_counts_10_genes_10000_CNVinf.h5ad\n"
     ]
    },
    {
     "name": "stderr",
     "output_type": "stream",
     "text": [
      "\r",
      " 98%|█████████████████████████████████████████████████████████████████████████████████▎ | 96/98 [57:36<01:36, 48.07s/it]"
     ]
    },
    {
     "name": "stdout",
     "output_type": "stream",
     "text": [
      "CNV_simulation_02_subsampled_counts_10_genes_5000_CNVinf.h5ad\n"
     ]
    },
    {
     "name": "stderr",
     "output_type": "stream",
     "text": [
      "\r",
      " 99%|██████████████████████████████████████████████████████████████████████████████████▏| 97/98 [57:54<00:39, 39.24s/it]"
     ]
    },
    {
     "name": "stdout",
     "output_type": "stream",
     "text": [
      "CNV_simulation_02_subsampled_counts_10_genes_500_CNVinf.h5ad\n"
     ]
    },
    {
     "name": "stderr",
     "output_type": "stream",
     "text": [
      "100%|███████████████████████████████████████████████████████████████████████████████████| 98/98 [57:56<00:00, 35.48s/it]\n"
     ]
    }
   ],
   "source": [
    "from tqdm import tqdm\n",
    "results=pd.DataFrame(columns=['type_of_sampling','experiment','n_genes','n_counts','mean_countsxcell','nmi','ari','F1score_all','F1score_gain',\n",
    "                      'F1score_loss','AUC_loss','PR_gains','AUC_loss','PR_loss'])\n",
    "i=0\n",
    "for file in tqdm(processed_datasets_cg):\n",
    "    print(file)\n",
    "    experiment_tag=file.split('_')[2]\n",
    "    counts=file.split('_')[5]\n",
    "    genes=file.split('_')[7]\n",
    "    adata=sc.read(os.path.join(path_simulation,file))\n",
    "    # clustering similarity metrics\n",
    "    comp_key=[a for a in adata.obs.columns if 'cnv_leiden_res' in a]\n",
    "    ari = icv.tl.compute_ari(adata, reference_key='simulated_subclone', computed_key=comp_key[0])\n",
    "    nmi = icv.tl.compute_nmi(adata, reference_key='simulated_subclone', computed_key=comp_key[0])\n",
    "    # CNV predictability metrics\n",
    "    try:\n",
    "        F1score_dict=compute_cnv_metrics(adata)\n",
    "        ROC_PR_dict=compute_cnv_auc(adata)\n",
    "        results.loc[i,'F1score_all']=F1score_dict['All']\n",
    "        results.loc[i,'F1score_gain']=F1score_dict['Gain']\n",
    "        results.loc[i,'F1score_loss']=F1score_dict['Loss']\n",
    "        results.loc[i,'AUC_gains']=ROC_PR_dict['ROC AUC (Gains)']\n",
    "        results.loc[i,'PR_gains']=ROC_PR_dict['PR AUC (Gains)']\n",
    "        results.loc[i,'AUC_loss']=ROC_PR_dict['ROC AUC (Losses)']\n",
    "        results.loc[i,'PR_loss']=ROC_PR_dict['PR AUC (Losses)']\n",
    "    except: \n",
    "        print('not possible')\n",
    "        ## formatting them as CNVs\n",
    "    results.loc[i,'type_of_sampling']=type_of_subsampling\n",
    "    results.loc[i,'n_genes']=genes\n",
    "    results.loc[i,'n_subsample']=counts\n",
    "    results.loc[i,'mean_countsxcell']=np.mean(np.sum(adata.layers['CNV_simulated_raw'].todense(),axis=1)) # confirm with augusta\n",
    "    results.loc[i,'ari']=ari\n",
    "    results.loc[i,'nmi']=nmi\n",
    "    results.loc[i,'experiment']=experiment_tag\n",
    "    i=i+1"
   ]
  },
  {
   "cell_type": "markdown",
   "id": "3ceede29",
   "metadata": {},
   "source": [
    "## Save results and plot them:"
   ]
  },
  {
   "cell_type": "code",
   "execution_count": 72,
   "id": "83377fc4",
   "metadata": {},
   "outputs": [],
   "source": [
    "saving_path='/home/sergio/Jnotebooks/inferCNV/InSituCNV/Figure2/04_Compare_results_using_metrics'\n",
    "results.to_csv(os.path.join(saving_path,'metrics_cnv_inference_across_counts.csv'))"
   ]
  },
  {
   "cell_type": "code",
   "execution_count": 106,
   "id": "90ade0f6",
   "metadata": {},
   "outputs": [],
   "source": [
    "import pandas as pd\n",
    "\n",
    "def create_condensed_dataframe(results, ari_column):\n",
    "    \"\"\"\n",
    "    Create a pivot table from the results DataFrame with specified ARI column.\n",
    "    \n",
    "    Parameters:\n",
    "        results (pd.DataFrame): Input DataFrame containing 'n_genes', 'n_counts', and ARI values.\n",
    "        ari_column (str): Column name in `results` that contains ARI values.\n",
    "    \n",
    "    Returns:\n",
    "        pd.DataFrame: Pivot table with 'n_genes' as index and 'n_counts' as columns.\n",
    "    \"\"\"\n",
    "    ari_all = pd.DataFrame(index=results['n_genes'].unique(), \n",
    "                           columns=sorted(results['n_counts'].unique()))\n",
    "    \n",
    "    for i in results.index:\n",
    "        ari_all.loc[results.loc[i, 'n_genes'], results.loc[i, 'n_counts']] = results.loc[i, ari_column]\n",
    "    \n",
    "   # n_genes = ['all', '20000', '15000', '10000', '5000', '1000', '500']\n",
    "   # n_counts = ['100', '70', '50', '20', '10', '5', '3', '2', '1']\n",
    "    \n",
    "    return ari_all#.loc[n_genes, n_counts]\n"
   ]
  },
  {
   "cell_type": "code",
   "execution_count": 107,
   "id": "9c9ccc37",
   "metadata": {},
   "outputs": [],
   "source": [
    "results['n_counts']=results['n_subsample']"
   ]
  },
  {
   "cell_type": "code",
   "execution_count": 108,
   "id": "601633be",
   "metadata": {},
   "outputs": [],
   "source": [
    "results_1=results[results['experiment']=='01']\n",
    "results_2=results[results['experiment']=='02']\n",
    "results_3=results[results['experiment']=='03']"
   ]
  },
  {
   "cell_type": "code",
   "execution_count": 110,
   "id": "a0806a7f",
   "metadata": {},
   "outputs": [
    {
     "data": {
      "text/html": [
       "<div>\n",
       "<style scoped>\n",
       "    .dataframe tbody tr th:only-of-type {\n",
       "        vertical-align: middle;\n",
       "    }\n",
       "\n",
       "    .dataframe tbody tr th {\n",
       "        vertical-align: top;\n",
       "    }\n",
       "\n",
       "    .dataframe thead th {\n",
       "        text-align: right;\n",
       "    }\n",
       "</style>\n",
       "<table border=\"1\" class=\"dataframe\">\n",
       "  <thead>\n",
       "    <tr style=\"text-align: right;\">\n",
       "      <th></th>\n",
       "    </tr>\n",
       "  </thead>\n",
       "  <tbody>\n",
       "  </tbody>\n",
       "</table>\n",
       "</div>"
      ],
      "text/plain": [
       "Empty DataFrame\n",
       "Columns: []\n",
       "Index: []"
      ]
     },
     "execution_count": 110,
     "metadata": {},
     "output_type": "execute_result"
    }
   ],
   "source": [
    "ari_all"
   ]
  },
  {
   "cell_type": "code",
   "execution_count": 111,
   "id": "f5dab180",
   "metadata": {},
   "outputs": [
    {
     "ename": "ValueError",
     "evalue": "zero-size array to reduction operation fmin which has no identity",
     "output_type": "error",
     "traceback": [
      "\u001b[0;31m---------------------------------------------------------------------------\u001b[0m",
      "\u001b[0;31mValueError\u001b[0m                                Traceback (most recent call last)",
      "Cell \u001b[0;32mIn[111], line 11\u001b[0m\n\u001b[1;32m      9\u001b[0m plt\u001b[38;5;241m.\u001b[39mfigure()\n\u001b[1;32m     10\u001b[0m ari_all\u001b[38;5;241m=\u001b[39mcreate_condensed_dataframe(results_3,\u001b[38;5;124m'\u001b[39m\u001b[38;5;124mari\u001b[39m\u001b[38;5;124m'\u001b[39m)\n\u001b[0;32m---> 11\u001b[0m \u001b[43msns\u001b[49m\u001b[38;5;241;43m.\u001b[39;49m\u001b[43mheatmap\u001b[49m\u001b[43m(\u001b[49m\u001b[43mari_all\u001b[49m\u001b[38;5;241;43m.\u001b[39;49m\u001b[43mastype\u001b[49m\u001b[43m(\u001b[49m\u001b[38;5;28;43mfloat\u001b[39;49m\u001b[43m)\u001b[49m\u001b[43m)\u001b[49m\n\u001b[1;32m     12\u001b[0m plt\u001b[38;5;241m.\u001b[39mtitle(\u001b[38;5;124m'\u001b[39m\u001b[38;5;124mari\u001b[39m\u001b[38;5;124m'\u001b[39m)\n",
      "File \u001b[0;32m~/.local/lib/python3.10/site-packages/seaborn/matrix.py:446\u001b[0m, in \u001b[0;36mheatmap\u001b[0;34m(data, vmin, vmax, cmap, center, robust, annot, fmt, annot_kws, linewidths, linecolor, cbar, cbar_kws, cbar_ax, square, xticklabels, yticklabels, mask, ax, **kwargs)\u001b[0m\n\u001b[1;32m    365\u001b[0m \u001b[38;5;250m\u001b[39m\u001b[38;5;124;03m\"\"\"Plot rectangular data as a color-encoded matrix.\u001b[39;00m\n\u001b[1;32m    366\u001b[0m \n\u001b[1;32m    367\u001b[0m \u001b[38;5;124;03mThis is an Axes-level function and will draw the heatmap into the\u001b[39;00m\n\u001b[0;32m   (...)\u001b[0m\n\u001b[1;32m    443\u001b[0m \n\u001b[1;32m    444\u001b[0m \u001b[38;5;124;03m\"\"\"\u001b[39;00m\n\u001b[1;32m    445\u001b[0m \u001b[38;5;66;03m# Initialize the plotter object\u001b[39;00m\n\u001b[0;32m--> 446\u001b[0m plotter \u001b[38;5;241m=\u001b[39m \u001b[43m_HeatMapper\u001b[49m\u001b[43m(\u001b[49m\u001b[43mdata\u001b[49m\u001b[43m,\u001b[49m\u001b[43m \u001b[49m\u001b[43mvmin\u001b[49m\u001b[43m,\u001b[49m\u001b[43m \u001b[49m\u001b[43mvmax\u001b[49m\u001b[43m,\u001b[49m\u001b[43m \u001b[49m\u001b[43mcmap\u001b[49m\u001b[43m,\u001b[49m\u001b[43m \u001b[49m\u001b[43mcenter\u001b[49m\u001b[43m,\u001b[49m\u001b[43m \u001b[49m\u001b[43mrobust\u001b[49m\u001b[43m,\u001b[49m\u001b[43m \u001b[49m\u001b[43mannot\u001b[49m\u001b[43m,\u001b[49m\u001b[43m \u001b[49m\u001b[43mfmt\u001b[49m\u001b[43m,\u001b[49m\n\u001b[1;32m    447\u001b[0m \u001b[43m                      \u001b[49m\u001b[43mannot_kws\u001b[49m\u001b[43m,\u001b[49m\u001b[43m \u001b[49m\u001b[43mcbar\u001b[49m\u001b[43m,\u001b[49m\u001b[43m \u001b[49m\u001b[43mcbar_kws\u001b[49m\u001b[43m,\u001b[49m\u001b[43m \u001b[49m\u001b[43mxticklabels\u001b[49m\u001b[43m,\u001b[49m\n\u001b[1;32m    448\u001b[0m \u001b[43m                      \u001b[49m\u001b[43myticklabels\u001b[49m\u001b[43m,\u001b[49m\u001b[43m \u001b[49m\u001b[43mmask\u001b[49m\u001b[43m)\u001b[49m\n\u001b[1;32m    450\u001b[0m \u001b[38;5;66;03m# Add the pcolormesh kwargs here\u001b[39;00m\n\u001b[1;32m    451\u001b[0m kwargs[\u001b[38;5;124m\"\u001b[39m\u001b[38;5;124mlinewidths\u001b[39m\u001b[38;5;124m\"\u001b[39m] \u001b[38;5;241m=\u001b[39m linewidths\n",
      "File \u001b[0;32m~/.local/lib/python3.10/site-packages/seaborn/matrix.py:163\u001b[0m, in \u001b[0;36m_HeatMapper.__init__\u001b[0;34m(self, data, vmin, vmax, cmap, center, robust, annot, fmt, annot_kws, cbar, cbar_kws, xticklabels, yticklabels, mask)\u001b[0m\n\u001b[1;32m    160\u001b[0m \u001b[38;5;28mself\u001b[39m\u001b[38;5;241m.\u001b[39mylabel \u001b[38;5;241m=\u001b[39m ylabel \u001b[38;5;28;01mif\u001b[39;00m ylabel \u001b[38;5;129;01mis\u001b[39;00m \u001b[38;5;129;01mnot\u001b[39;00m \u001b[38;5;28;01mNone\u001b[39;00m \u001b[38;5;28;01melse\u001b[39;00m \u001b[38;5;124m\"\u001b[39m\u001b[38;5;124m\"\u001b[39m\n\u001b[1;32m    162\u001b[0m \u001b[38;5;66;03m# Determine good default values for the colormapping\u001b[39;00m\n\u001b[0;32m--> 163\u001b[0m \u001b[38;5;28;43mself\u001b[39;49m\u001b[38;5;241;43m.\u001b[39;49m\u001b[43m_determine_cmap_params\u001b[49m\u001b[43m(\u001b[49m\u001b[43mplot_data\u001b[49m\u001b[43m,\u001b[49m\u001b[43m \u001b[49m\u001b[43mvmin\u001b[49m\u001b[43m,\u001b[49m\u001b[43m \u001b[49m\u001b[43mvmax\u001b[49m\u001b[43m,\u001b[49m\n\u001b[1;32m    164\u001b[0m \u001b[43m                            \u001b[49m\u001b[43mcmap\u001b[49m\u001b[43m,\u001b[49m\u001b[43m \u001b[49m\u001b[43mcenter\u001b[49m\u001b[43m,\u001b[49m\u001b[43m \u001b[49m\u001b[43mrobust\u001b[49m\u001b[43m)\u001b[49m\n\u001b[1;32m    166\u001b[0m \u001b[38;5;66;03m# Sort out the annotations\u001b[39;00m\n\u001b[1;32m    167\u001b[0m \u001b[38;5;28;01mif\u001b[39;00m annot \u001b[38;5;129;01mis\u001b[39;00m \u001b[38;5;28;01mNone\u001b[39;00m \u001b[38;5;129;01mor\u001b[39;00m annot \u001b[38;5;129;01mis\u001b[39;00m \u001b[38;5;28;01mFalse\u001b[39;00m:\n",
      "File \u001b[0;32m~/.local/lib/python3.10/site-packages/seaborn/matrix.py:202\u001b[0m, in \u001b[0;36m_HeatMapper._determine_cmap_params\u001b[0;34m(self, plot_data, vmin, vmax, cmap, center, robust)\u001b[0m\n\u001b[1;32m    200\u001b[0m         vmin \u001b[38;5;241m=\u001b[39m np\u001b[38;5;241m.\u001b[39mnanpercentile(calc_data, \u001b[38;5;241m2\u001b[39m)\n\u001b[1;32m    201\u001b[0m     \u001b[38;5;28;01melse\u001b[39;00m:\n\u001b[0;32m--> 202\u001b[0m         vmin \u001b[38;5;241m=\u001b[39m \u001b[43mnp\u001b[49m\u001b[38;5;241;43m.\u001b[39;49m\u001b[43mnanmin\u001b[49m\u001b[43m(\u001b[49m\u001b[43mcalc_data\u001b[49m\u001b[43m)\u001b[49m\n\u001b[1;32m    203\u001b[0m \u001b[38;5;28;01mif\u001b[39;00m vmax \u001b[38;5;129;01mis\u001b[39;00m \u001b[38;5;28;01mNone\u001b[39;00m:\n\u001b[1;32m    204\u001b[0m     \u001b[38;5;28;01mif\u001b[39;00m robust:\n",
      "File \u001b[0;32m~/.local/lib/python3.10/site-packages/numpy/lib/nanfunctions.py:343\u001b[0m, in \u001b[0;36mnanmin\u001b[0;34m(a, axis, out, keepdims, initial, where)\u001b[0m\n\u001b[1;32m    338\u001b[0m     kwargs[\u001b[38;5;124m'\u001b[39m\u001b[38;5;124mwhere\u001b[39m\u001b[38;5;124m'\u001b[39m] \u001b[38;5;241m=\u001b[39m where\n\u001b[1;32m    340\u001b[0m \u001b[38;5;28;01mif\u001b[39;00m \u001b[38;5;28mtype\u001b[39m(a) \u001b[38;5;129;01mis\u001b[39;00m np\u001b[38;5;241m.\u001b[39mndarray \u001b[38;5;129;01mand\u001b[39;00m a\u001b[38;5;241m.\u001b[39mdtype \u001b[38;5;241m!=\u001b[39m np\u001b[38;5;241m.\u001b[39mobject_:\n\u001b[1;32m    341\u001b[0m     \u001b[38;5;66;03m# Fast, but not safe for subclasses of ndarray, or object arrays,\u001b[39;00m\n\u001b[1;32m    342\u001b[0m     \u001b[38;5;66;03m# which do not implement isnan (gh-9009), or fmin correctly (gh-8975)\u001b[39;00m\n\u001b[0;32m--> 343\u001b[0m     res \u001b[38;5;241m=\u001b[39m \u001b[43mnp\u001b[49m\u001b[38;5;241;43m.\u001b[39;49m\u001b[43mfmin\u001b[49m\u001b[38;5;241;43m.\u001b[39;49m\u001b[43mreduce\u001b[49m\u001b[43m(\u001b[49m\u001b[43ma\u001b[49m\u001b[43m,\u001b[49m\u001b[43m \u001b[49m\u001b[43maxis\u001b[49m\u001b[38;5;241;43m=\u001b[39;49m\u001b[43maxis\u001b[49m\u001b[43m,\u001b[49m\u001b[43m \u001b[49m\u001b[43mout\u001b[49m\u001b[38;5;241;43m=\u001b[39;49m\u001b[43mout\u001b[49m\u001b[43m,\u001b[49m\u001b[43m \u001b[49m\u001b[38;5;241;43m*\u001b[39;49m\u001b[38;5;241;43m*\u001b[39;49m\u001b[43mkwargs\u001b[49m\u001b[43m)\u001b[49m\n\u001b[1;32m    344\u001b[0m     \u001b[38;5;28;01mif\u001b[39;00m np\u001b[38;5;241m.\u001b[39misnan(res)\u001b[38;5;241m.\u001b[39many():\n\u001b[1;32m    345\u001b[0m         warnings\u001b[38;5;241m.\u001b[39mwarn(\u001b[38;5;124m\"\u001b[39m\u001b[38;5;124mAll-NaN slice encountered\u001b[39m\u001b[38;5;124m\"\u001b[39m, \u001b[38;5;167;01mRuntimeWarning\u001b[39;00m,\n\u001b[1;32m    346\u001b[0m                       stacklevel\u001b[38;5;241m=\u001b[39m\u001b[38;5;241m2\u001b[39m)\n",
      "\u001b[0;31mValueError\u001b[0m: zero-size array to reduction operation fmin which has no identity"
     ]
    },
    {
     "data": {
      "image/png": "[encoded data removed]",
      "text/plain": [
       "<Figure size 640x480 with 2 Axes>"
      ]
     },
     "metadata": {},
     "output_type": "display_data"
    },
    {
     "data": {
      "image/png": "[encoded data removed]",
      "text/plain": [
       "<Figure size 640x480 with 2 Axes>"
      ]
     },
     "metadata": {},
     "output_type": "display_data"
    },
    {
     "data": {
      "text/plain": [
       "<Figure size 640x480 with 0 Axes>"
      ]
     },
     "metadata": {},
     "output_type": "display_data"
    }
   ],
   "source": [
    "ari_all=create_condensed_dataframe(results_1,'ari')\n",
    "plt.figure()\n",
    "sns.heatmap(ari_all.astype(float))\n",
    "plt.title('ari')\n",
    "plt.figure()\n",
    "ari_all=create_condensed_dataframe(results_2,'ari')\n",
    "sns.heatmap(ari_all.astype(float))\n",
    "plt.title('ari')\n",
    "plt.figure()\n",
    "ari_all=create_condensed_dataframe(results_3,'ari')\n",
    "sns.heatmap(ari_all.astype(float))\n",
    "plt.title('ari')"
   ]
  },
  {
   "cell_type": "code",
   "execution_count": 59,
   "id": "c84c27e1",
   "metadata": {},
   "outputs": [
    {
     "data": {
      "text/plain": [
       "Text(0.5, 1.0, 'nmi')"
      ]
     },
     "execution_count": 59,
     "metadata": {},
     "output_type": "execute_result"
    },
    {
     "data": {
      "image/png": "[encoded data removed]",
      "text/plain": [
       "<Figure size 640x480 with 2 Axes>"
      ]
     },
     "metadata": {},
     "output_type": "display_data"
    }
   ],
   "source": [
    "nmi_all=create_condensed_dataframe(results,'nmi')\n",
    "sns.heatmap(nmi_all.astype(float))\n",
    "plt.title('nmi')"
   ]
  },
  {
   "cell_type": "code",
   "execution_count": 60,
   "id": "b6ea25d1",
   "metadata": {},
   "outputs": [
    {
     "data": {
      "text/plain": [
       "Text(0.5, 1.0, 'AUC gains')"
      ]
     },
     "execution_count": 60,
     "metadata": {},
     "output_type": "execute_result"
    },
    {
     "data": {
      "image/png": "[encoded data removed]",
      "text/plain": [
       "<Figure size 640x480 with 2 Axes>"
      ]
     },
     "metadata": {},
     "output_type": "display_data"
    }
   ],
   "source": [
    "AUC_gains=create_condensed_dataframe(results,'AUC_gains')\n",
    "sns.heatmap(AUC_gains.astype(float))\n",
    "plt.title('AUC gains')"
   ]
  },
  {
   "cell_type": "code",
   "execution_count": 61,
   "id": "ee00f6fe",
   "metadata": {},
   "outputs": [
    {
     "data": {
      "text/plain": [
       "Text(0.5, 1.0, 'AUC loss')"
      ]
     },
     "execution_count": 61,
     "metadata": {},
     "output_type": "execute_result"
    },
    {
     "data": {
      "image/png": "[encoded data removed]",
      "text/plain": [
       "<Figure size 640x480 with 2 Axes>"
      ]
     },
     "metadata": {},
     "output_type": "display_data"
    }
   ],
   "source": [
    "AUC_loss=create_condensed_dataframe(results,'AUC_loss')\n",
    "sns.heatmap(AUC_loss.astype(float))\n",
    "plt.title('AUC loss')"
   ]
  },
  {
   "cell_type": "code",
   "execution_count": 111,
   "id": "e45841a6",
   "metadata": {},
   "outputs": [],
   "source": [
    "results['number']=results['number'].astype(float)"
   ]
  },
  {
   "cell_type": "code",
   "execution_count": 112,
   "id": "3cbf056c",
   "metadata": {},
   "outputs": [],
   "source": [
    "results=results.sort_values(by='number')"
   ]
  },
  {
   "cell_type": "code",
   "execution_count": 118,
   "id": "fd0072ab",
   "metadata": {},
   "outputs": [
    {
     "data": {
      "text/html": [
       "<div>\n",
       "<style scoped>\n",
       "    .dataframe tbody tr th:only-of-type {\n",
       "        vertical-align: middle;\n",
       "    }\n",
       "\n",
       "    .dataframe tbody tr th {\n",
       "        vertical-align: top;\n",
       "    }\n",
       "\n",
       "    .dataframe thead th {\n",
       "        text-align: right;\n",
       "    }\n",
       "</style>\n",
       "<table border=\"1\" class=\"dataframe\">\n",
       "  <thead>\n",
       "    <tr style=\"text-align: right;\">\n",
       "      <th></th>\n",
       "      <th>type_of_sampling</th>\n",
       "      <th>number</th>\n",
       "      <th>n_genes</th>\n",
       "      <th>mean_countsxcell</th>\n",
       "      <th>nmi</th>\n",
       "      <th>ari</th>\n",
       "      <th>F1score_all</th>\n",
       "      <th>F1score_gain</th>\n",
       "      <th>F1score_loss</th>\n",
       "      <th>ROC_gains</th>\n",
       "      <th>PR_gains</th>\n",
       "      <th>ROC_loss</th>\n",
       "      <th>PR_loss</th>\n",
       "    </tr>\n",
       "  </thead>\n",
       "  <tbody>\n",
       "    <tr>\n",
       "      <th>5</th>\n",
       "      <td>counts</td>\n",
       "      <td>1.0</td>\n",
       "      <td>25691</td>\n",
       "      <td>370.474762</td>\n",
       "      <td>0.14273</td>\n",
       "      <td>0.138379</td>\n",
       "      <td>0.570136</td>\n",
       "      <td>0.745353</td>\n",
       "      <td>0</td>\n",
       "      <td>0.79772</td>\n",
       "      <td>0.141274</td>\n",
       "      <td>0.516716</td>\n",
       "      <td>0.001859</td>\n",
       "    </tr>\n",
       "    <tr>\n",
       "      <th>4</th>\n",
       "      <td>counts</td>\n",
       "      <td>5.0</td>\n",
       "      <td>25691</td>\n",
       "      <td>1852.374634</td>\n",
       "      <td>0.486211</td>\n",
       "      <td>0.536215</td>\n",
       "      <td>0.674683</td>\n",
       "      <td>0.86216</td>\n",
       "      <td>0.030624</td>\n",
       "      <td>0.892132</td>\n",
       "      <td>0.501135</td>\n",
       "      <td>0.518027</td>\n",
       "      <td>0.001855</td>\n",
       "    </tr>\n",
       "    <tr>\n",
       "      <th>3</th>\n",
       "      <td>counts</td>\n",
       "      <td>10.0</td>\n",
       "      <td>25691</td>\n",
       "      <td>3704.75</td>\n",
       "      <td>0.68555</td>\n",
       "      <td>0.634274</td>\n",
       "      <td>0.71301</td>\n",
       "      <td>0.877506</td>\n",
       "      <td>0.182385</td>\n",
       "      <td>0.90676</td>\n",
       "      <td>0.628777</td>\n",
       "      <td>0.556952</td>\n",
       "      <td>0.003039</td>\n",
       "    </tr>\n",
       "    <tr>\n",
       "      <th>2</th>\n",
       "      <td>counts</td>\n",
       "      <td>20.0</td>\n",
       "      <td>25691</td>\n",
       "      <td>7409.5</td>\n",
       "      <td>0.795845</td>\n",
       "      <td>0.84301</td>\n",
       "      <td>0.7857</td>\n",
       "      <td>0.894188</td>\n",
       "      <td>0.485729</td>\n",
       "      <td>0.922307</td>\n",
       "      <td>0.690137</td>\n",
       "      <td>0.665035</td>\n",
       "      <td>0.020321</td>\n",
       "    </tr>\n",
       "    <tr>\n",
       "      <th>1</th>\n",
       "      <td>counts</td>\n",
       "      <td>50.0</td>\n",
       "      <td>25691</td>\n",
       "      <td>18523.75</td>\n",
       "      <td>0.919954</td>\n",
       "      <td>0.950559</td>\n",
       "      <td>0.833743</td>\n",
       "      <td>0.899521</td>\n",
       "      <td>0.674899</td>\n",
       "      <td>0.928056</td>\n",
       "      <td>0.716165</td>\n",
       "      <td>0.76347</td>\n",
       "      <td>0.120775</td>\n",
       "    </tr>\n",
       "    <tr>\n",
       "      <th>0</th>\n",
       "      <td>counts</td>\n",
       "      <td>70.0</td>\n",
       "      <td>25691</td>\n",
       "      <td>25933.25</td>\n",
       "      <td>0.888086</td>\n",
       "      <td>0.919409</td>\n",
       "      <td>0.838957</td>\n",
       "      <td>0.899267</td>\n",
       "      <td>0.699427</td>\n",
       "      <td>0.928151</td>\n",
       "      <td>0.715456</td>\n",
       "      <td>0.780286</td>\n",
       "      <td>0.148895</td>\n",
       "    </tr>\n",
       "    <tr>\n",
       "      <th>6</th>\n",
       "      <td>counts</td>\n",
       "      <td>100.0</td>\n",
       "      <td>25691</td>\n",
       "      <td>37047.5</td>\n",
       "      <td>0.913175</td>\n",
       "      <td>0.93402</td>\n",
       "      <td>0.837737</td>\n",
       "      <td>0.890061</td>\n",
       "      <td>0.719302</td>\n",
       "      <td>0.920729</td>\n",
       "      <td>0.669057</td>\n",
       "      <td>0.792467</td>\n",
       "      <td>0.139218</td>\n",
       "    </tr>\n",
       "  </tbody>\n",
       "</table>\n",
       "</div>"
      ],
      "text/plain": [
       "  type_of_sampling  number n_genes mean_countsxcell       nmi       ari  \\\n",
       "5           counts     1.0   25691       370.474762   0.14273  0.138379   \n",
       "4           counts     5.0   25691      1852.374634  0.486211  0.536215   \n",
       "3           counts    10.0   25691          3704.75   0.68555  0.634274   \n",
       "2           counts    20.0   25691           7409.5  0.795845   0.84301   \n",
       "1           counts    50.0   25691         18523.75  0.919954  0.950559   \n",
       "0           counts    70.0   25691         25933.25  0.888086  0.919409   \n",
       "6           counts   100.0   25691          37047.5  0.913175   0.93402   \n",
       "\n",
       "  F1score_all F1score_gain F1score_loss ROC_gains  PR_gains  ROC_loss  \\\n",
       "5    0.570136     0.745353            0   0.79772  0.141274  0.516716   \n",
       "4    0.674683      0.86216     0.030624  0.892132  0.501135  0.518027   \n",
       "3     0.71301     0.877506     0.182385   0.90676  0.628777  0.556952   \n",
       "2      0.7857     0.894188     0.485729  0.922307  0.690137  0.665035   \n",
       "1    0.833743     0.899521     0.674899  0.928056  0.716165   0.76347   \n",
       "0    0.838957     0.899267     0.699427  0.928151  0.715456  0.780286   \n",
       "6    0.837737     0.890061     0.719302  0.920729  0.669057  0.792467   \n",
       "\n",
       "    PR_loss  \n",
       "5  0.001859  \n",
       "4  0.001855  \n",
       "3  0.003039  \n",
       "2  0.020321  \n",
       "1  0.120775  \n",
       "0  0.148895  \n",
       "6  0.139218  "
      ]
     },
     "execution_count": 118,
     "metadata": {},
     "output_type": "execute_result"
    }
   ],
   "source": [
    "results"
   ]
  },
  {
   "cell_type": "code",
   "execution_count": 120,
   "id": "da9c3c49",
   "metadata": {},
   "outputs": [
    {
     "data": {
      "text/plain": [
       "Text(0.5, 0, 'Subsampled counts')"
      ]
     },
     "execution_count": 120,
     "metadata": {},
     "output_type": "execute_result"
    },
    {
     "data": {
      "image/png": "[encoded data removed]",
      "text/plain": [
       "<Figure size 640x480 with 1 Axes>"
      ]
     },
     "metadata": {},
     "output_type": "display_data"
    }
   ],
   "source": [
    "sns.scatterplot(data=results,x='mean_countsxcell',y='ari')\n",
    "plt.xlabel('Subsampled counts')"
   ]
  },
  {
   "cell_type": "code",
   "execution_count": 119,
   "id": "95466663",
   "metadata": {},
   "outputs": [
    {
     "name": "stderr",
     "output_type": "stream",
     "text": [
      "INFO:matplotlib.category:Using categorical units to plot a list of strings that are all parsable as floats or dates. If these strings should be plotted as numbers, cast to the appropriate data type before plotting.\n",
      "INFO:matplotlib.category:Using categorical units to plot a list of strings that are all parsable as floats or dates. If these strings should be plotted as numbers, cast to the appropriate data type before plotting.\n"
     ]
    },
    {
     "data": {
      "text/plain": [
       "Text(0.5, 0, 'Subsampled counts')"
      ]
     },
     "execution_count": 119,
     "metadata": {},
     "output_type": "execute_result"
    },
    {
     "data": {
      "image/png": "[encoded data removed]",
      "text/plain": [
       "<Figure size 640x480 with 1 Axes>"
      ]
     },
     "metadata": {},
     "output_type": "display_data"
    }
   ],
   "source": [
    "sns.barplot(data=results,x='number',y='ari')\n",
    "plt.xlabel('Subsampled counts')"
   ]
  },
  {
   "cell_type": "code",
   "execution_count": 114,
   "id": "d0fb5894",
   "metadata": {},
   "outputs": [
    {
     "name": "stderr",
     "output_type": "stream",
     "text": [
      "INFO:matplotlib.category:Using categorical units to plot a list of strings that are all parsable as floats or dates. If these strings should be plotted as numbers, cast to the appropriate data type before plotting.\n",
      "INFO:matplotlib.category:Using categorical units to plot a list of strings that are all parsable as floats or dates. If these strings should be plotted as numbers, cast to the appropriate data type before plotting.\n"
     ]
    },
    {
     "data": {
      "text/plain": [
       "Text(0.5, 0, 'Subsampled counts')"
      ]
     },
     "execution_count": 114,
     "metadata": {},
     "output_type": "execute_result"
    },
    {
     "data": {
      "image/png": "[encoded data removed]",
      "text/plain": [
       "<Figure size 640x480 with 1 Axes>"
      ]
     },
     "metadata": {},
     "output_type": "display_data"
    }
   ],
   "source": [
    "sns.barplot(data=results,x='number',y='nmi')\n",
    "plt.xlabel('Subsampled counts')"
   ]
  },
  {
   "cell_type": "code",
   "execution_count": 115,
   "id": "4c7969a4",
   "metadata": {},
   "outputs": [
    {
     "name": "stderr",
     "output_type": "stream",
     "text": [
      "INFO:matplotlib.category:Using categorical units to plot a list of strings that are all parsable as floats or dates. If these strings should be plotted as numbers, cast to the appropriate data type before plotting.\n",
      "INFO:matplotlib.category:Using categorical units to plot a list of strings that are all parsable as floats or dates. If these strings should be plotted as numbers, cast to the appropriate data type before plotting.\n"
     ]
    },
    {
     "data": {
      "text/plain": [
       "Text(0.5, 0, 'Subsampled counts')"
      ]
     },
     "execution_count": 115,
     "metadata": {},
     "output_type": "execute_result"
    },
    {
     "data": {
      "image/png": "[encoded data removed]",
      "text/plain": [
       "<Figure size 640x480 with 1 Axes>"
      ]
     },
     "metadata": {},
     "output_type": "display_data"
    }
   ],
   "source": [
    "sns.barplot(data=results,x='number',y='AUC_gains')\n",
    "plt.xlabel('Subsampled counts')"
   ]
  },
  {
   "cell_type": "code",
   "execution_count": 116,
   "id": "5746c0aa",
   "metadata": {},
   "outputs": [
    {
     "name": "stderr",
     "output_type": "stream",
     "text": [
      "INFO:matplotlib.category:Using categorical units to plot a list of strings that are all parsable as floats or dates. If these strings should be plotted as numbers, cast to the appropriate data type before plotting.\n",
      "INFO:matplotlib.category:Using categorical units to plot a list of strings that are all parsable as floats or dates. If these strings should be plotted as numbers, cast to the appropriate data type before plotting.\n"
     ]
    },
    {
     "data": {
      "text/plain": [
       "Text(0.5, 0, 'Subsampled counts')"
      ]
     },
     "execution_count": 116,
     "metadata": {},
     "output_type": "execute_result"
    },
    {
     "data": {
      "image/png": "[encoded data removed]",
      "text/plain": [
       "<Figure size 640x480 with 1 Axes>"
      ]
     },
     "metadata": {},
     "output_type": "display_data"
    }
   ],
   "source": [
    "sns.barplot(data=results,x='number',y='AUC_loss')\n",
    "plt.xlabel('Subsampled counts')"
   ]
  },
  {
   "cell_type": "markdown",
   "id": "7f77a325",
   "metadata": {},
   "source": [
    "# Quantify on different number of genes"
   ]
  },
  {
   "cell_type": "code",
   "execution_count": 121,
   "id": "ecc7027e",
   "metadata": {},
   "outputs": [],
   "source": [
    "files=os.listdir(path_simulation)\n",
    "processed_datasets=[f  for f in files if '_CNVinf' in f]\n",
    "processed_datasets_genes=[f  for f in processed_datasets if 'genes' in f]"
   ]
  },
  {
   "cell_type": "code",
   "execution_count": 123,
   "id": "0129ca5e",
   "metadata": {},
   "outputs": [
    {
     "name": "stdout",
     "output_type": "stream",
     "text": [
      "CNV_simulated_subsampled_genes_20000_CNVinf.h5ad\n",
      "CNV_simulated_subsampled_genes_15000_CNVinf.h5ad\n",
      "CNV_simulated_subsampled_genes_10000_CNVinf.h5ad\n",
      "CNV_simulated_subsampled_genes_5000_CNVinf.h5ad\n",
      "CNV_simulated_subsampled_genes_1000_CNVinf.h5ad\n",
      "CNV_simulated_subsampled_genes_500_CNVinf.h5ad\n"
     ]
    },
    {
     "ename": "ZeroDivisionError",
     "evalue": "division by zero",
     "output_type": "error",
     "traceback": [
      "\u001b[0;31m---------------------------------------------------------------------------\u001b[0m",
      "\u001b[0;31mZeroDivisionError\u001b[0m                         Traceback (most recent call last)",
      "Cell \u001b[0;32mIn[123], line 14\u001b[0m\n\u001b[1;32m     12\u001b[0m nmi \u001b[38;5;241m=\u001b[39m icv\u001b[38;5;241m.\u001b[39mtl\u001b[38;5;241m.\u001b[39mcompute_nmi(adata, reference_key\u001b[38;5;241m=\u001b[39m\u001b[38;5;124m'\u001b[39m\u001b[38;5;124msimulated_subclone\u001b[39m\u001b[38;5;124m'\u001b[39m, computed_key\u001b[38;5;241m=\u001b[39mcomp_key[\u001b[38;5;241m0\u001b[39m])\n\u001b[1;32m     13\u001b[0m \u001b[38;5;66;03m# CNV predictability metrics\u001b[39;00m\n\u001b[0;32m---> 14\u001b[0m F1score_dict\u001b[38;5;241m=\u001b[39m\u001b[43mcompute_cnv_metrics\u001b[49m\u001b[43m(\u001b[49m\u001b[43madata\u001b[49m\u001b[43m)\u001b[49m\n\u001b[1;32m     15\u001b[0m ROC_PR_dict\u001b[38;5;241m=\u001b[39mcompute_cnv_auc(adata)\n\u001b[1;32m     17\u001b[0m \u001b[38;5;66;03m## formatting them as CNVs\u001b[39;00m\n",
      "Cell \u001b[0;32mIn[38], line 24\u001b[0m, in \u001b[0;36mcompute_cnv_metrics\u001b[0;34m(adata)\u001b[0m\n\u001b[1;32m     21\u001b[0m cnv_score_in_cnv \u001b[38;5;241m=\u001b[39m [x \u001b[38;5;28;01mfor\u001b[39;00m x \u001b[38;5;129;01min\u001b[39;00m cnv_values[ground_truth \u001b[38;5;241m!=\u001b[39m \u001b[38;5;241m0\u001b[39m] \u001b[38;5;28;01mif\u001b[39;00m \u001b[38;5;28mstr\u001b[39m(x) \u001b[38;5;241m!=\u001b[39m \u001b[38;5;124m'\u001b[39m\u001b[38;5;124mnan\u001b[39m\u001b[38;5;124m'\u001b[39m]\n\u001b[1;32m     23\u001b[0m \u001b[38;5;66;03m# Compute true and false classifications\u001b[39;00m\n\u001b[0;32m---> 24\u001b[0m true_gains \u001b[38;5;241m=\u001b[39m \u001b[38;5;28;43mlen\u001b[39;49m\u001b[43m(\u001b[49m\u001b[43m[\u001b[49m\u001b[43me\u001b[49m\u001b[43m \u001b[49m\u001b[38;5;28;43;01mfor\u001b[39;49;00m\u001b[43m \u001b[49m\u001b[43me\u001b[49m\u001b[43m \u001b[49m\u001b[38;5;129;43;01min\u001b[39;49;00m\u001b[43m \u001b[49m\u001b[43mcnv_score_in_gains\u001b[49m\u001b[43m \u001b[49m\u001b[38;5;28;43;01mif\u001b[39;49;00m\u001b[43m \u001b[49m\u001b[43me\u001b[49m\u001b[43m \u001b[49m\u001b[38;5;241;43m>\u001b[39;49m\u001b[43m \u001b[49m\u001b[38;5;241;43m0\u001b[39;49m\u001b[43m]\u001b[49m\u001b[43m)\u001b[49m\u001b[43m \u001b[49m\u001b[38;5;241;43m/\u001b[39;49m\u001b[43m \u001b[49m\u001b[38;5;28;43mlen\u001b[39;49m\u001b[43m(\u001b[49m\u001b[43mcnv_score_in_gains\u001b[49m\u001b[43m)\u001b[49m\n\u001b[1;32m     25\u001b[0m true_losses \u001b[38;5;241m=\u001b[39m \u001b[38;5;28mlen\u001b[39m([e \u001b[38;5;28;01mfor\u001b[39;00m e \u001b[38;5;129;01min\u001b[39;00m cnv_score_in_losses \u001b[38;5;28;01mif\u001b[39;00m e \u001b[38;5;241m<\u001b[39m \u001b[38;5;241m0\u001b[39m]) \u001b[38;5;241m/\u001b[39m \u001b[38;5;28mlen\u001b[39m(cnv_score_in_losses)\n\u001b[1;32m     26\u001b[0m true_neutrals \u001b[38;5;241m=\u001b[39m np\u001b[38;5;241m.\u001b[39msum(np\u001b[38;5;241m.\u001b[39mabs(cnv_score_in_neutrals) \u001b[38;5;241m==\u001b[39m \u001b[38;5;241m0\u001b[39m) \u001b[38;5;241m/\u001b[39m \u001b[38;5;28mlen\u001b[39m(cnv_score_in_neutrals)\n",
      "\u001b[0;31mZeroDivisionError\u001b[0m: division by zero"
     ]
    }
   ],
   "source": [
    "results=pd.DataFrame(columns=['type_of_sampling','number','n_genes','mean_countsxcell','nmi','ari','F1score_all','F1score_gain',\n",
    "                      'F1score_loss','ROC_gains','PR_gains','ROC_loss','PR_loss'])\n",
    "i=0\n",
    "for file in processed_datasets_genes:\n",
    "    print(file)\n",
    "    type_of_subsampling=file.split('_')[3]\n",
    "    number=file.split('_')[4]\n",
    "    adata=sc.read(os.path.join(path_simulation,file))\n",
    "    # clustering similarity metrics\n",
    "    comp_key=[a for a in adata.obs.columns if 'cnv_leiden_res' in a]\n",
    "    ari = icv.tl.compute_ari(adata, reference_key='simulated_subclone', computed_key=comp_key[0])\n",
    "    nmi = icv.tl.compute_nmi(adata, reference_key='simulated_subclone', computed_key=comp_key[0])\n",
    "    # CNV predictability metrics\n",
    "    F1score_dict=compute_cnv_metrics(adata)\n",
    "    ROC_PR_dict=compute_cnv_auc(adata)\n",
    "    \n",
    "    ## formatting them as CNVs\n",
    "    results.loc[i,'type_of_subsampling']=type_of_subsampling\n",
    "    results.loc[i,'number']=number\n",
    "    results.loc[i,'n_genes']=adata.var.shape[0]\n",
    "    results.loc[i,'mean_countsxcell']=np.mean(np.sum(adata.raw.X.todense(),axis=1))\n",
    "    results.loc[i,'ari']=ari\n",
    "    results.loc[i,'nmi']=nmi\n",
    "    results.loc[i,'F1score_all']=F1score_dict['All']\n",
    "    results.loc[i,'F1score_gain']=F1score_dict['Gain']\n",
    "    results.loc[i,'F1score_loss']=F1score_dict['Loss']\n",
    "    results.loc[i,'ROC_gains']=ROC_PR_dict['ROC AUC (Gains)']\n",
    "    results.loc[i,'PR_gains']=ROC_PR_dict['PR AUC (Gains)']\n",
    "    results.loc[i,'ROC_loss']=ROC_PR_dict['ROC AUC (Losses)']\n",
    "    results.loc[i,'PR_loss']=ROC_PR_dict['PR AUC (Losses)']\n",
    "    i=i+1"
   ]
  },
  {
   "cell_type": "code",
   "execution_count": 127,
   "id": "4a8b5895",
   "metadata": {},
   "outputs": [
    {
     "data": {
      "text/plain": [
       "(1268, 500)"
      ]
     },
     "execution_count": 127,
     "metadata": {},
     "output_type": "execute_result"
    }
   ],
   "source": [
    "adata.layers['CNV_GT']"
   ]
  },
  {
   "cell_type": "code",
   "execution_count": 128,
   "id": "179f4415",
   "metadata": {},
   "outputs": [
    {
     "data": {
      "text/html": [
       "<div>\n",
       "<style scoped>\n",
       "    .dataframe tbody tr th:only-of-type {\n",
       "        vertical-align: middle;\n",
       "    }\n",
       "\n",
       "    .dataframe tbody tr th {\n",
       "        vertical-align: top;\n",
       "    }\n",
       "\n",
       "    .dataframe thead th {\n",
       "        text-align: right;\n",
       "    }\n",
       "</style>\n",
       "<table border=\"1\" class=\"dataframe\">\n",
       "  <thead>\n",
       "    <tr style=\"text-align: right;\">\n",
       "      <th></th>\n",
       "      <th>type_of_sampling</th>\n",
       "      <th>number</th>\n",
       "      <th>n_genes</th>\n",
       "      <th>mean_countsxcell</th>\n",
       "      <th>nmi</th>\n",
       "      <th>ari</th>\n",
       "      <th>F1score_all</th>\n",
       "      <th>F1score_gain</th>\n",
       "      <th>F1score_loss</th>\n",
       "      <th>ROC_gains</th>\n",
       "      <th>PR_gains</th>\n",
       "      <th>ROC_loss</th>\n",
       "      <th>PR_loss</th>\n",
       "      <th>type_of_subsampling</th>\n",
       "    </tr>\n",
       "  </thead>\n",
       "  <tbody>\n",
       "    <tr>\n",
       "      <th>0</th>\n",
       "      <td>NaN</td>\n",
       "      <td>20000</td>\n",
       "      <td>20000</td>\n",
       "      <td>36649.726562</td>\n",
       "      <td>0.86585</td>\n",
       "      <td>0.899906</td>\n",
       "      <td>0.837228</td>\n",
       "      <td>0.880649</td>\n",
       "      <td>0.734394</td>\n",
       "      <td>0.912566</td>\n",
       "      <td>0.61487</td>\n",
       "      <td>0.802043</td>\n",
       "      <td>0.110029</td>\n",
       "      <td>genes</td>\n",
       "    </tr>\n",
       "    <tr>\n",
       "      <th>1</th>\n",
       "      <td>NaN</td>\n",
       "      <td>15000</td>\n",
       "      <td>15000</td>\n",
       "      <td>36649.726562</td>\n",
       "      <td>0.761346</td>\n",
       "      <td>0.811618</td>\n",
       "      <td>0.803605</td>\n",
       "      <td>0.859413</td>\n",
       "      <td>0.647895</td>\n",
       "      <td>0.894559</td>\n",
       "      <td>0.543801</td>\n",
       "      <td>0.749478</td>\n",
       "      <td>0.027004</td>\n",
       "      <td>genes</td>\n",
       "    </tr>\n",
       "    <tr>\n",
       "      <th>2</th>\n",
       "      <td>NaN</td>\n",
       "      <td>10000</td>\n",
       "      <td>10000</td>\n",
       "      <td>36649.726562</td>\n",
       "      <td>0.657495</td>\n",
       "      <td>0.68681</td>\n",
       "      <td>0.798659</td>\n",
       "      <td>0.833538</td>\n",
       "      <td>0.686374</td>\n",
       "      <td>0.874251</td>\n",
       "      <td>0.332565</td>\n",
       "      <td>0.770927</td>\n",
       "      <td>0.033713</td>\n",
       "      <td>genes</td>\n",
       "    </tr>\n",
       "    <tr>\n",
       "      <th>3</th>\n",
       "      <td>NaN</td>\n",
       "      <td>5000</td>\n",
       "      <td>5000</td>\n",
       "      <td>36649.726562</td>\n",
       "      <td>0.293116</td>\n",
       "      <td>0.308157</td>\n",
       "      <td>0.614047</td>\n",
       "      <td>0.67975</td>\n",
       "      <td>0.348538</td>\n",
       "      <td>0.768242</td>\n",
       "      <td>0.077869</td>\n",
       "      <td>0.598268</td>\n",
       "      <td>0.003173</td>\n",
       "      <td>genes</td>\n",
       "    </tr>\n",
       "    <tr>\n",
       "      <th>4</th>\n",
       "      <td>NaN</td>\n",
       "      <td>1000</td>\n",
       "      <td>1000</td>\n",
       "      <td>36649.726562</td>\n",
       "      <td>0.005908</td>\n",
       "      <td>0.002708</td>\n",
       "      <td>0.295252</td>\n",
       "      <td>0.24001</td>\n",
       "      <td>0.268637</td>\n",
       "      <td>0.567799</td>\n",
       "      <td>0.002809</td>\n",
       "      <td>0.558521</td>\n",
       "      <td>0.003068</td>\n",
       "      <td>genes</td>\n",
       "    </tr>\n",
       "  </tbody>\n",
       "</table>\n",
       "</div>"
      ],
      "text/plain": [
       "  type_of_sampling number n_genes mean_countsxcell       nmi       ari  \\\n",
       "0              NaN  20000   20000     36649.726562   0.86585  0.899906   \n",
       "1              NaN  15000   15000     36649.726562  0.761346  0.811618   \n",
       "2              NaN  10000   10000     36649.726562  0.657495   0.68681   \n",
       "3              NaN   5000    5000     36649.726562  0.293116  0.308157   \n",
       "4              NaN   1000    1000     36649.726562  0.005908  0.002708   \n",
       "\n",
       "  F1score_all F1score_gain F1score_loss ROC_gains  PR_gains  ROC_loss  \\\n",
       "0    0.837228     0.880649     0.734394  0.912566   0.61487  0.802043   \n",
       "1    0.803605     0.859413     0.647895  0.894559  0.543801  0.749478   \n",
       "2    0.798659     0.833538     0.686374  0.874251  0.332565  0.770927   \n",
       "3    0.614047      0.67975     0.348538  0.768242  0.077869  0.598268   \n",
       "4    0.295252      0.24001     0.268637  0.567799  0.002809  0.558521   \n",
       "\n",
       "    PR_loss type_of_subsampling  \n",
       "0  0.110029               genes  \n",
       "1  0.027004               genes  \n",
       "2  0.033713               genes  \n",
       "3  0.003173               genes  \n",
       "4  0.003068               genes  "
      ]
     },
     "execution_count": 128,
     "metadata": {},
     "output_type": "execute_result"
    }
   ],
   "source": [
    "results"
   ]
  },
  {
   "cell_type": "code",
   "execution_count": null,
   "id": "722d1350",
   "metadata": {},
   "outputs": [],
   "source": []
  }
 ],
 "metadata": {
  "kernelspec": {
   "display_name": "insitucnv",
   "language": "python",
   "name": "insitucnv"
  },
  "language_info": {
   "codemirror_mode": {
    "name": "ipython",
    "version": 3
   },
   "file_extension": ".py",
   "mimetype": "text/x-python",
   "name": "python",
   "nbconvert_exporter": "python",
   "pygments_lexer": "ipython3",
   "version": "3.10.16"
  }
 },
 "nbformat": 4,
 "nbformat_minor": 5
}
