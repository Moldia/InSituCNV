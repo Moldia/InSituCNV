{
 "cells": [
  {
   "cell_type": "code",
   "execution_count": 1,
   "id": "c02f5ef1",
   "metadata": {},
   "outputs": [
    {
     "name": "stderr",
     "output_type": "stream",
     "text": [
      "/home/sergio/.local/lib/python3.10/site-packages/tqdm/auto.py:21: TqdmWarning: IProgress not found. Please update jupyter and ipywidgets. See https://ipywidgets.readthedocs.io/en/stable/user_install.html\n",
      "  from .autonotebook import tqdm as notebook_tqdm\n"
     ]
    }
   ],
   "source": [
    "import os\n",
    "import numpy as np\n",
    "import pandas as pd\n",
    "import scanpy as sc\n",
    "import seaborn as sns\n",
    "import matplotlib.pyplot as plt\n",
    "import warnings\n",
    "import infercnvpy as cnv\n",
    "import matplotlib\n",
    "\n",
    "import sys\n",
    "sys.path.append(\"../..\")\n",
    "import insitucnv as icv"
   ]
  },
  {
   "cell_type": "markdown",
   "id": "d93fe7d0",
   "metadata": {},
   "source": [
    "### Load functions"
   ]
  },
  {
   "cell_type": "code",
   "execution_count": null,
   "id": "e01bafb9",
   "metadata": {},
   "outputs": [],
   "source": [
    "import numpy as np\n",
    "\n",
    "def compute_cnv_metrics(adata):\n",
    "    \"\"\"\n",
    "    Compute CNV performance metrics based on ground truth and CNV values.\n",
    "    \n",
    "    Parameters:\n",
    "    - adata: AnnData object containing CNV ground truth in `adata.layers['CNV_GT']`\n",
    "             and CNV values in `adata.layers['gene_values_cnv']`\n",
    "    \n",
    "    Returns:\n",
    "    - Dictionary with F1 scores for overall CNV detection, CNV gain, and CNV loss.\n",
    "    \"\"\"\n",
    "    ground_truth = adata.layers['CNV_GT']\n",
    "    cnv_values = adata.layers[\"gene_values_cnv\"]\n",
    "\n",
    "    # Extract CNV scores based on ground truth\n",
    "    cnv_score_in_gains = [x for x in cnv_values[ground_truth == 1] if str(x) != 'nan']\n",
    "    cnv_score_in_losses = [x for x in cnv_values[ground_truth == -1] if str(x) != 'nan']\n",
    "    cnv_score_in_neutrals = [x for x in cnv_values[ground_truth == 0] if str(x) != 'nan']\n",
    "    cnv_score_in_cnv = [x for x in cnv_values[ground_truth != 0] if str(x) != 'nan']\n",
    "\n",
    "    # Compute true and false classifications\n",
    "    true_gains = len([e for e in cnv_score_in_gains if e > 0]) / len(cnv_score_in_gains)\n",
    "    true_losses = len([e for e in cnv_score_in_losses if e < 0]) / len(cnv_score_in_losses)\n",
    "    true_neutrals = np.sum(np.abs(cnv_score_in_neutrals) == 0) / len(cnv_score_in_neutrals)\n",
    "    true_cnv = np.sum(np.abs(cnv_score_in_cnv) != 0) / len(cnv_score_in_cnv)\n",
    "\n",
    "    false_neutrals = 1 - true_neutrals\n",
    "    false_cnv = 1 - true_cnv\n",
    "\n",
    "    # Compute performance metrics\n",
    "    results_all = icv.tl.compute_performance_metrics(true_cnv, false_neutrals, true_neutrals, false_cnv)\n",
    "    results_gain = icv.tl.compute_performance_metrics(true_gains, false_neutrals, true_neutrals, 1 - true_gains)\n",
    "    results_loss = icv.tl.compute_performance_metrics(true_losses, false_neutrals, true_neutrals, 1 - true_losses)\n",
    "\n",
    "    return {\n",
    "        \"All\": results_all['F1 Score'],\n",
    "        \"Gain\": results_gain['F1 Score'],\n",
    "        \"Loss\": results_loss['F1 Score']\n",
    "    }\n",
    "\n",
    "def compute_cnv_auc(adata):\n",
    "    \"\"\"\n",
    "    Compute ROC AUC and PR AUC for CNV gains and losses.\n",
    "\n",
    "    Parameters:\n",
    "    - adata: AnnData object containing CNV ground truth in `adata.layers['CNV_GT']`\n",
    "             and CNV inferred scores in `adata.layers['gene_values_cnv']`\n",
    "\n",
    "    Returns:\n",
    "    - Dictionary with ROC AUC and PR AUC scores for CNV gains and losses.\n",
    "    \"\"\"\n",
    "    ground_truth = adata.layers['CNV_GT']\n",
    "    cnv_values = adata.layers[\"gene_values_cnv\"]\n",
    "\n",
    "    # Flatten arrays for processing\n",
    "    simulated = ground_truth.flatten()  \n",
    "    inferred_scores = cnv_values.flatten()  \n",
    "\n",
    "    # Remove NaN values\n",
    "    filter_nan = np.array([str(x) != 'nan' for x in inferred_scores])\n",
    "    simulated = simulated[filter_nan]\n",
    "    inferred_scores = inferred_scores[filter_nan]\n",
    "\n",
    "    # Compute AUC for gains (1) and losses (-1)\n",
    "    roc_auc_gains, pr_auc_gains = icv.tl.compute_auc(simulated, inferred_scores, 1)\n",
    "    roc_auc_losses, pr_auc_losses = icv.tl.compute_auc(simulated, inferred_scores, -1)\n",
    "\n",
    "    return {\"ROC AUC (Gains)\": roc_auc_gains,\"PR AUC (Gains)\": pr_auc_gains,\n",
    "        \"ROC AUC (Losses)\": roc_auc_losses,\"PR AUC (Losses)\": pr_auc_losses}\n"
   ]
  },
  {
   "cell_type": "markdown",
   "id": "57d60727",
   "metadata": {},
   "source": [
    "# Load datasets"
   ]
  },
  {
   "cell_type": "code",
   "execution_count": 5,
   "id": "444a506d",
   "metadata": {},
   "outputs": [],
   "source": [
    "path_simulation='/media/external/test/augusta/insituCNV/data/simulated_CNV_data/technical_limiting_conditions'"
   ]
  },
  {
   "cell_type": "code",
   "execution_count": 129,
   "id": "d359283e",
   "metadata": {},
   "outputs": [
    {
     "data": {
      "text/plain": [
       "['CNV_simulated_subsampled_counts_70.h5ad',\n",
       " 'CNV_simulated_subsampled_counts_50.h5ad',\n",
       " 'CNV_simulated_subsampled_counts_20.h5ad',\n",
       " 'CNV_simulated_subsampled_counts_10.h5ad',\n",
       " 'CNV_simulated_subsampled_counts_5.h5ad',\n",
       " 'CNV_simulated_subsampled_counts_1.h5ad',\n",
       " 'CNV_simulated_subsampled_genes_20000_CNVinf.h5ad',\n",
       " 'CNV_simulated_subsampled_genes_15000_CNVinf.h5ad',\n",
       " 'CNV_simulated_subsampled_genes_10000_CNVinf.h5ad',\n",
       " 'CNV_simulated_subsampled_genes_5000_CNVinf.h5ad',\n",
       " 'CNV_simulated_subsampled_genes_1000_CNVinf.h5ad',\n",
       " 'CNV_simulated_subsampled_genes_500_CNVinf.h5ad',\n",
       " 'CNV_simulated_subsampled_counts_70_CNVinf.h5ad',\n",
       " 'CNV_simulated_subsampled_counts_50_CNVinf.h5ad',\n",
       " 'CNV_simulated_subsampled_counts_20_CNVinf.h5ad',\n",
       " 'CNV_simulated_subsampled_counts_10_CNVinf.h5ad',\n",
       " 'CNV_simulated_subsampled_counts_5_CNVinf.h5ad',\n",
       " 'CNV_simulated_subsampled_counts_1_CNVinf.h5ad',\n",
       " 'CNV_simulated_subsampled_genes_20000.h5ad',\n",
       " 'CNV_simulated_subsampled_genes_15000.h5ad',\n",
       " 'CNV_simulated_subsampled_genes_10000.h5ad',\n",
       " 'CNV_simulated_subsampled_genes_5000.h5ad',\n",
       " 'CNV_simulated_subsampled_genes_1000.h5ad',\n",
       " 'CNV_simulated_subsampled_genes_500.h5ad',\n",
       " '.ipynb_checkpoints',\n",
       " 'CNV_simulated_subsampled_genes_all.h5ad',\n",
       " 'CNV_simulated_subsampled_counts_100.h5ad',\n",
       " 'CNV_simulated_subsampled_genes_all_CNVinf.h5ad',\n",
       " 'CNV_simulated_subsampled_counts_100_CNVinf.h5ad']"
      ]
     },
     "execution_count": 129,
     "metadata": {},
     "output_type": "execute_result"
    }
   ],
   "source": [
    "files"
   ]
  },
  {
   "cell_type": "code",
   "execution_count": 48,
   "id": "7a9795d6",
   "metadata": {},
   "outputs": [],
   "source": [
    "files=os.listdir(path_simulation)\n",
    "processed_datasets=[f  for f in files if '_CNVinf' in f]\n",
    "processed_datasets_counts=[f  for f in processed_datasets if 'counts' in f]"
   ]
  },
  {
   "cell_type": "markdown",
   "id": "d0ed2bb3",
   "metadata": {},
   "source": [
    "## Quantify on different counts"
   ]
  },
  {
   "cell_type": "markdown",
   "id": "2d52650a",
   "metadata": {},
   "source": [
    "We aim to compare the output of CNV prediction on simulated datasets, first varying the number of counts captured on each cell"
   ]
  },
  {
   "cell_type": "code",
   "execution_count": 100,
   "id": "e265e062",
   "metadata": {},
   "outputs": [],
   "source": [
    "file='CNV_simulated_subsampled_counts_1_CNVinf.h5ad'"
   ]
  },
  {
   "cell_type": "code",
   "execution_count": 101,
   "id": "4addbf70",
   "metadata": {},
   "outputs": [],
   "source": [
    "adata=sc.read(os.path.join(path_simulation,file))"
   ]
  },
  {
   "cell_type": "code",
   "execution_count": 103,
   "id": "e40c38af",
   "metadata": {},
   "outputs": [
    {
     "data": {
      "text/plain": [
       "AnnData object with n_obs × n_vars = 1268 × 25691\n",
       "    obs: 'organism_ontology_term_id', 'tissue_ontology_term_id', 'tissue_type', 'assay_ontology_term_id', 'disease_ontology_term_id', 'cell_type_ontology_term_id', 'self_reported_ethnicity_ontology_term_id', 'development_stage_ontology_term_id', 'sex_ontology_term_id', 'donor_id', 'suspension_type', 'model_id', 'sample_id', 'Phase', 'level_1', 'level_2', 'level_3', 'CountUMIs', 'CountGenes', 'X.Mitochondrial', 'NoveltyScore', 'nCount_SCT', 'nFeature_SCT', 'orig.ident', 'is_primary_data', 'cell_type', 'assay', 'disease', 'organism', 'sex', 'tissue', 'self_reported_ethnicity', 'development_stage', 'observation_joinid', 'n_genes_by_counts', 'log1p_n_genes_by_counts', 'total_counts', 'log1p_total_counts', 'pct_counts_in_top_50_genes', 'pct_counts_in_top_100_genes', 'pct_counts_in_top_200_genes', 'pct_counts_in_top_500_genes', 'cnv_leiden', 'simulated_subclone', 'cnv_leiden_res0.7', 'cnv_score'\n",
       "    var: 'gene_symbols', 'feature_is_filtered', 'feature_name', 'feature_reference', 'feature_biotype', 'feature_length', 'feature_type', 'n_cells_by_counts', 'mean_counts', 'log1p_mean_counts', 'pct_dropout_by_counts', 'total_counts', 'log1p_total_counts', 'chromosome', 'start', 'end'\n",
       "    uns: 'cell_type_colors', 'citation', 'cnv', 'cnv_leiden', 'cnv_leiden_colors', 'cnv_leiden_res0.7', 'cnv_neighbors', 'dendrogram_cnv_leiden', 'log1p', 'pca', 'schema_reference', 'schema_version', 'simulated_subclone_colors', 'title'\n",
       "    obsm: 'X_cnv', 'X_cnv_pca', 'X_cnv_umap', 'X_pca', 'X_ref.umap', 'X_umap'\n",
       "    varm: 'PCs'\n",
       "    layers: 'CNV_GT', 'CNV_simulated', 'CNV_simulated_raw', 'counts', 'gene_values_cnv', 'logcounts', 'raw'\n",
       "    obsp: 'cnv_neighbors_connectivities', 'cnv_neighbors_distances'"
      ]
     },
     "execution_count": 103,
     "metadata": {},
     "output_type": "execute_result"
    }
   ],
   "source": [
    "adata"
   ]
  },
  {
   "cell_type": "code",
   "execution_count": 109,
   "id": "6c812e9f",
   "metadata": {},
   "outputs": [
    {
     "data": {
      "text/plain": [
       "370.47476"
      ]
     },
     "execution_count": 109,
     "metadata": {},
     "output_type": "execute_result"
    }
   ],
   "source": []
  },
  {
   "cell_type": "code",
   "execution_count": 110,
   "id": "adb52cc8",
   "metadata": {},
   "outputs": [
    {
     "name": "stdout",
     "output_type": "stream",
     "text": [
      "CNV_simulated_subsampled_counts_70_CNVinf.h5ad\n",
      "CNV_simulated_subsampled_counts_50_CNVinf.h5ad\n",
      "CNV_simulated_subsampled_counts_20_CNVinf.h5ad\n",
      "CNV_simulated_subsampled_counts_10_CNVinf.h5ad\n",
      "CNV_simulated_subsampled_counts_5_CNVinf.h5ad\n",
      "CNV_simulated_subsampled_counts_1_CNVinf.h5ad\n",
      "CNV_simulated_subsampled_counts_100_CNVinf.h5ad\n"
     ]
    }
   ],
   "source": [
    "results=pd.DataFrame(columns=['type_of_sampling','number','n_genes','mean_countsxcell','nmi','ari','F1score_all','F1score_gain',\n",
    "                      'F1score_loss','ROC_gains','PR_gains','ROC_loss','PR_loss'])\n",
    "i=0\n",
    "for file in processed_datasets_counts:\n",
    "    print(file)\n",
    "    type_of_subsampling=file.split('_')[3]\n",
    "    number=file.split('_')[4]\n",
    "    adata=sc.read(os.path.join(path_simulation,file))\n",
    "    # clustering similarity metrics\n",
    "    comp_key=[a for a in adata.obs.columns if 'cnv_leiden_res' in a]\n",
    "    ari = icv.tl.compute_ari(adata, reference_key='simulated_subclone', computed_key=comp_key[0])\n",
    "    nmi = icv.tl.compute_nmi(adata, reference_key='simulated_subclone', computed_key=comp_key[0])\n",
    "    # CNV predictability metrics\n",
    "    F1score_dict=compute_cnv_metrics(adata)\n",
    "    ROC_PR_dict=compute_cnv_auc(adata)\n",
    "    \n",
    "    ## formatting them as CNVs\n",
    "    results.loc[i,'type_of_sampling']=type_of_subsampling\n",
    "    results.loc[i,'number']=number\n",
    "    results.loc[i,'n_genes']=adata.var.shape[0]\n",
    "    results.loc[i,'mean_countsxcell']=np.mean(np.sum(adata.layers['CNV_simulated_raw'].todense(),axis=1)) # confirm with augusta\n",
    "    results.loc[i,'ari']=ari\n",
    "    results.loc[i,'nmi']=nmi\n",
    "    results.loc[i,'F1score_all']=F1score_dict['All']\n",
    "    results.loc[i,'F1score_gain']=F1score_dict['Gain']\n",
    "    results.loc[i,'F1score_loss']=F1score_dict['Loss']\n",
    "    results.loc[i,'AUC_gains']=ROC_PR_dict['ROC AUC (Gains)']\n",
    "    results.loc[i,'PR_gains']=ROC_PR_dict['PR AUC (Gains)']\n",
    "    results.loc[i,'AUC_loss']=ROC_PR_dict['ROC AUC (Losses)']\n",
    "    results.loc[i,'PR_loss']=ROC_PR_dict['PR AUC (Losses)']\n",
    "    i=i+1"
   ]
  },
  {
   "cell_type": "markdown",
   "id": "3ceede29",
   "metadata": {},
   "source": [
    "## Save results and plot them:"
   ]
  },
  {
   "cell_type": "code",
   "execution_count": 117,
   "id": "83377fc4",
   "metadata": {},
   "outputs": [],
   "source": [
    "saving_path='/home/sergio/Jnotebooks/inferCNV/InSituCNV/Figure2/04_Compare_results_using_metrics'\n",
    "results.to_csv(os.path.join(saving_path,'metrics_cnv_inference_across_counts.csv'))"
   ]
  },
  {
   "cell_type": "code",
   "execution_count": 111,
   "id": "e45841a6",
   "metadata": {},
   "outputs": [],
   "source": [
    "results['number']=results['number'].astype(float)"
   ]
  },
  {
   "cell_type": "code",
   "execution_count": 112,
   "id": "3cbf056c",
   "metadata": {},
   "outputs": [],
   "source": [
    "results=results.sort_values(by='number')"
   ]
  },
  {
   "cell_type": "code",
   "execution_count": 118,
   "id": "fd0072ab",
   "metadata": {},
   "outputs": [
    {
     "data": {
      "text/html": [
       "<div>\n",
       "<style scoped>\n",
       "    .dataframe tbody tr th:only-of-type {\n",
       "        vertical-align: middle;\n",
       "    }\n",
       "\n",
       "    .dataframe tbody tr th {\n",
       "        vertical-align: top;\n",
       "    }\n",
       "\n",
       "    .dataframe thead th {\n",
       "        text-align: right;\n",
       "    }\n",
       "</style>\n",
       "<table border=\"1\" class=\"dataframe\">\n",
       "  <thead>\n",
       "    <tr style=\"text-align: right;\">\n",
       "      <th></th>\n",
       "      <th>type_of_sampling</th>\n",
       "      <th>number</th>\n",
       "      <th>n_genes</th>\n",
       "      <th>mean_countsxcell</th>\n",
       "      <th>nmi</th>\n",
       "      <th>ari</th>\n",
       "      <th>F1score_all</th>\n",
       "      <th>F1score_gain</th>\n",
       "      <th>F1score_loss</th>\n",
       "      <th>ROC_gains</th>\n",
       "      <th>PR_gains</th>\n",
       "      <th>ROC_loss</th>\n",
       "      <th>PR_loss</th>\n",
       "    </tr>\n",
       "  </thead>\n",
       "  <tbody>\n",
       "    <tr>\n",
       "      <th>5</th>\n",
       "      <td>counts</td>\n",
       "      <td>1.0</td>\n",
       "      <td>25691</td>\n",
       "      <td>370.474762</td>\n",
       "      <td>0.14273</td>\n",
       "      <td>0.138379</td>\n",
       "      <td>0.570136</td>\n",
       "      <td>0.745353</td>\n",
       "      <td>0</td>\n",
       "      <td>0.79772</td>\n",
       "      <td>0.141274</td>\n",
       "      <td>0.516716</td>\n",
       "      <td>0.001859</td>\n",
       "    </tr>\n",
       "    <tr>\n",
       "      <th>4</th>\n",
       "      <td>counts</td>\n",
       "      <td>5.0</td>\n",
       "      <td>25691</td>\n",
       "      <td>1852.374634</td>\n",
       "      <td>0.486211</td>\n",
       "      <td>0.536215</td>\n",
       "      <td>0.674683</td>\n",
       "      <td>0.86216</td>\n",
       "      <td>0.030624</td>\n",
       "      <td>0.892132</td>\n",
       "      <td>0.501135</td>\n",
       "      <td>0.518027</td>\n",
       "      <td>0.001855</td>\n",
       "    </tr>\n",
       "    <tr>\n",
       "      <th>3</th>\n",
       "      <td>counts</td>\n",
       "      <td>10.0</td>\n",
       "      <td>25691</td>\n",
       "      <td>3704.75</td>\n",
       "      <td>0.68555</td>\n",
       "      <td>0.634274</td>\n",
       "      <td>0.71301</td>\n",
       "      <td>0.877506</td>\n",
       "      <td>0.182385</td>\n",
       "      <td>0.90676</td>\n",
       "      <td>0.628777</td>\n",
       "      <td>0.556952</td>\n",
       "      <td>0.003039</td>\n",
       "    </tr>\n",
       "    <tr>\n",
       "      <th>2</th>\n",
       "      <td>counts</td>\n",
       "      <td>20.0</td>\n",
       "      <td>25691</td>\n",
       "      <td>7409.5</td>\n",
       "      <td>0.795845</td>\n",
       "      <td>0.84301</td>\n",
       "      <td>0.7857</td>\n",
       "      <td>0.894188</td>\n",
       "      <td>0.485729</td>\n",
       "      <td>0.922307</td>\n",
       "      <td>0.690137</td>\n",
       "      <td>0.665035</td>\n",
       "      <td>0.020321</td>\n",
       "    </tr>\n",
       "    <tr>\n",
       "      <th>1</th>\n",
       "      <td>counts</td>\n",
       "      <td>50.0</td>\n",
       "      <td>25691</td>\n",
       "      <td>18523.75</td>\n",
       "      <td>0.919954</td>\n",
       "      <td>0.950559</td>\n",
       "      <td>0.833743</td>\n",
       "      <td>0.899521</td>\n",
       "      <td>0.674899</td>\n",
       "      <td>0.928056</td>\n",
       "      <td>0.716165</td>\n",
       "      <td>0.76347</td>\n",
       "      <td>0.120775</td>\n",
       "    </tr>\n",
       "    <tr>\n",
       "      <th>0</th>\n",
       "      <td>counts</td>\n",
       "      <td>70.0</td>\n",
       "      <td>25691</td>\n",
       "      <td>25933.25</td>\n",
       "      <td>0.888086</td>\n",
       "      <td>0.919409</td>\n",
       "      <td>0.838957</td>\n",
       "      <td>0.899267</td>\n",
       "      <td>0.699427</td>\n",
       "      <td>0.928151</td>\n",
       "      <td>0.715456</td>\n",
       "      <td>0.780286</td>\n",
       "      <td>0.148895</td>\n",
       "    </tr>\n",
       "    <tr>\n",
       "      <th>6</th>\n",
       "      <td>counts</td>\n",
       "      <td>100.0</td>\n",
       "      <td>25691</td>\n",
       "      <td>37047.5</td>\n",
       "      <td>0.913175</td>\n",
       "      <td>0.93402</td>\n",
       "      <td>0.837737</td>\n",
       "      <td>0.890061</td>\n",
       "      <td>0.719302</td>\n",
       "      <td>0.920729</td>\n",
       "      <td>0.669057</td>\n",
       "      <td>0.792467</td>\n",
       "      <td>0.139218</td>\n",
       "    </tr>\n",
       "  </tbody>\n",
       "</table>\n",
       "</div>"
      ],
      "text/plain": [
       "  type_of_sampling  number n_genes mean_countsxcell       nmi       ari  \\\n",
       "5           counts     1.0   25691       370.474762   0.14273  0.138379   \n",
       "4           counts     5.0   25691      1852.374634  0.486211  0.536215   \n",
       "3           counts    10.0   25691          3704.75   0.68555  0.634274   \n",
       "2           counts    20.0   25691           7409.5  0.795845   0.84301   \n",
       "1           counts    50.0   25691         18523.75  0.919954  0.950559   \n",
       "0           counts    70.0   25691         25933.25  0.888086  0.919409   \n",
       "6           counts   100.0   25691          37047.5  0.913175   0.93402   \n",
       "\n",
       "  F1score_all F1score_gain F1score_loss ROC_gains  PR_gains  ROC_loss  \\\n",
       "5    0.570136     0.745353            0   0.79772  0.141274  0.516716   \n",
       "4    0.674683      0.86216     0.030624  0.892132  0.501135  0.518027   \n",
       "3     0.71301     0.877506     0.182385   0.90676  0.628777  0.556952   \n",
       "2      0.7857     0.894188     0.485729  0.922307  0.690137  0.665035   \n",
       "1    0.833743     0.899521     0.674899  0.928056  0.716165   0.76347   \n",
       "0    0.838957     0.899267     0.699427  0.928151  0.715456  0.780286   \n",
       "6    0.837737     0.890061     0.719302  0.920729  0.669057  0.792467   \n",
       "\n",
       "    PR_loss  \n",
       "5  0.001859  \n",
       "4  0.001855  \n",
       "3  0.003039  \n",
       "2  0.020321  \n",
       "1  0.120775  \n",
       "0  0.148895  \n",
       "6  0.139218  "
      ]
     },
     "execution_count": 118,
     "metadata": {},
     "output_type": "execute_result"
    }
   ],
   "source": [
    "results"
   ]
  },
  {
   "cell_type": "code",
   "execution_count": 120,
   "id": "da9c3c49",
   "metadata": {},
   "outputs": [
    {
     "data": {
      "text/plain": [
       "Text(0.5, 0, 'Subsampled counts')"
      ]
     },
     "execution_count": 120,
     "metadata": {},
     "output_type": "execute_result"
    },
    {
     "data": {
      "image/png": "[encoded data removed]",
      "text/plain": [
       "<Figure size 640x480 with 1 Axes>"
      ]
     },
     "metadata": {},
     "output_type": "display_data"
    }
   ],
   "source": [
    "sns.scatterplot(data=results,x='mean_countsxcell',y='ari')\n",
    "plt.xlabel('Subsampled counts')"
   ]
  },
  {
   "cell_type": "code",
   "execution_count": 119,
   "id": "95466663",
   "metadata": {},
   "outputs": [
    {
     "name": "stderr",
     "output_type": "stream",
     "text": [
      "INFO:matplotlib.category:Using categorical units to plot a list of strings that are all parsable as floats or dates. If these strings should be plotted as numbers, cast to the appropriate data type before plotting.\n",
      "INFO:matplotlib.category:Using categorical units to plot a list of strings that are all parsable as floats or dates. If these strings should be plotted as numbers, cast to the appropriate data type before plotting.\n"
     ]
    },
    {
     "data": {
      "text/plain": [
       "Text(0.5, 0, 'Subsampled counts')"
      ]
     },
     "execution_count": 119,
     "metadata": {},
     "output_type": "execute_result"
    },
    {
     "data": {
      "image/png": "[encoded data removed]",
      "text/plain": [
       "<Figure size 640x480 with 1 Axes>"
      ]
     },
     "metadata": {},
     "output_type": "display_data"
    }
   ],
   "source": [
    "sns.barplot(data=results,x='number',y='ari')\n",
    "plt.xlabel('Subsampled counts')"
   ]
  },
  {
   "cell_type": "code",
   "execution_count": 114,
   "id": "d0fb5894",
   "metadata": {},
   "outputs": [
    {
     "name": "stderr",
     "output_type": "stream",
     "text": [
      "INFO:matplotlib.category:Using categorical units to plot a list of strings that are all parsable as floats or dates. If these strings should be plotted as numbers, cast to the appropriate data type before plotting.\n",
      "INFO:matplotlib.category:Using categorical units to plot a list of strings that are all parsable as floats or dates. If these strings should be plotted as numbers, cast to the appropriate data type before plotting.\n"
     ]
    },
    {
     "data": {
      "text/plain": [
       "Text(0.5, 0, 'Subsampled counts')"
      ]
     },
     "execution_count": 114,
     "metadata": {},
     "output_type": "execute_result"
    },
    {
     "data": {
      "image/png": "[encoded data removed]",
      "text/plain": [
       "<Figure size 640x480 with 1 Axes>"
      ]
     },
     "metadata": {},
     "output_type": "display_data"
    }
   ],
   "source": [
    "sns.barplot(data=results,x='number',y='nmi')\n",
    "plt.xlabel('Subsampled counts')"
   ]
  },
  {
   "cell_type": "code",
   "execution_count": 115,
   "id": "4c7969a4",
   "metadata": {},
   "outputs": [
    {
     "name": "stderr",
     "output_type": "stream",
     "text": [
      "INFO:matplotlib.category:Using categorical units to plot a list of strings that are all parsable as floats or dates. If these strings should be plotted as numbers, cast to the appropriate data type before plotting.\n",
      "INFO:matplotlib.category:Using categorical units to plot a list of strings that are all parsable as floats or dates. If these strings should be plotted as numbers, cast to the appropriate data type before plotting.\n"
     ]
    },
    {
     "data": {
      "text/plain": [
       "Text(0.5, 0, 'Subsampled counts')"
      ]
     },
     "execution_count": 115,
     "metadata": {},
     "output_type": "execute_result"
    },
    {
     "data": {
      "image/png": "[encoded data removed]",
      "text/plain": [
       "<Figure size 640x480 with 1 Axes>"
      ]
     },
     "metadata": {},
     "output_type": "display_data"
    }
   ],
   "source": [
    "sns.barplot(data=results,x='number',y='AUC_gains')\n",
    "plt.xlabel('Subsampled counts')"
   ]
  },
  {
   "cell_type": "code",
   "execution_count": 116,
   "id": "5746c0aa",
   "metadata": {},
   "outputs": [
    {
     "name": "stderr",
     "output_type": "stream",
     "text": [
      "INFO:matplotlib.category:Using categorical units to plot a list of strings that are all parsable as floats or dates. If these strings should be plotted as numbers, cast to the appropriate data type before plotting.\n",
      "INFO:matplotlib.category:Using categorical units to plot a list of strings that are all parsable as floats or dates. If these strings should be plotted as numbers, cast to the appropriate data type before plotting.\n"
     ]
    },
    {
     "data": {
      "text/plain": [
       "Text(0.5, 0, 'Subsampled counts')"
      ]
     },
     "execution_count": 116,
     "metadata": {},
     "output_type": "execute_result"
    },
    {
     "data": {
      "image/png": "[encoded data removed]",
      "text/plain": [
       "<Figure size 640x480 with 1 Axes>"
      ]
     },
     "metadata": {},
     "output_type": "display_data"
    }
   ],
   "source": [
    "sns.barplot(data=results,x='number',y='AUC_loss')\n",
    "plt.xlabel('Subsampled counts')"
   ]
  },
  {
   "cell_type": "markdown",
   "id": "7f77a325",
   "metadata": {},
   "source": [
    "# Quantify on different number of genes"
   ]
  },
  {
   "cell_type": "code",
   "execution_count": 121,
   "id": "ecc7027e",
   "metadata": {},
   "outputs": [],
   "source": [
    "files=os.listdir(path_simulation)\n",
    "processed_datasets=[f  for f in files if '_CNVinf' in f]\n",
    "processed_datasets_genes=[f  for f in processed_datasets if 'genes' in f]"
   ]
  },
  {
   "cell_type": "code",
   "execution_count": 123,
   "id": "0129ca5e",
   "metadata": {},
   "outputs": [
    {
     "name": "stdout",
     "output_type": "stream",
     "text": [
      "CNV_simulated_subsampled_genes_20000_CNVinf.h5ad\n",
      "CNV_simulated_subsampled_genes_15000_CNVinf.h5ad\n",
      "CNV_simulated_subsampled_genes_10000_CNVinf.h5ad\n",
      "CNV_simulated_subsampled_genes_5000_CNVinf.h5ad\n",
      "CNV_simulated_subsampled_genes_1000_CNVinf.h5ad\n",
      "CNV_simulated_subsampled_genes_500_CNVinf.h5ad\n"
     ]
    },
    {
     "ename": "ZeroDivisionError",
     "evalue": "division by zero",
     "output_type": "error",
     "traceback": [
      "\u001b[0;31m---------------------------------------------------------------------------\u001b[0m",
      "\u001b[0;31mZeroDivisionError\u001b[0m                         Traceback (most recent call last)",
      "Cell \u001b[0;32mIn[123], line 14\u001b[0m\n\u001b[1;32m     12\u001b[0m nmi \u001b[38;5;241m=\u001b[39m icv\u001b[38;5;241m.\u001b[39mtl\u001b[38;5;241m.\u001b[39mcompute_nmi(adata, reference_key\u001b[38;5;241m=\u001b[39m\u001b[38;5;124m'\u001b[39m\u001b[38;5;124msimulated_subclone\u001b[39m\u001b[38;5;124m'\u001b[39m, computed_key\u001b[38;5;241m=\u001b[39mcomp_key[\u001b[38;5;241m0\u001b[39m])\n\u001b[1;32m     13\u001b[0m \u001b[38;5;66;03m# CNV predictability metrics\u001b[39;00m\n\u001b[0;32m---> 14\u001b[0m F1score_dict\u001b[38;5;241m=\u001b[39m\u001b[43mcompute_cnv_metrics\u001b[49m\u001b[43m(\u001b[49m\u001b[43madata\u001b[49m\u001b[43m)\u001b[49m\n\u001b[1;32m     15\u001b[0m ROC_PR_dict\u001b[38;5;241m=\u001b[39mcompute_cnv_auc(adata)\n\u001b[1;32m     17\u001b[0m \u001b[38;5;66;03m## formatting them as CNVs\u001b[39;00m\n",
      "Cell \u001b[0;32mIn[38], line 24\u001b[0m, in \u001b[0;36mcompute_cnv_metrics\u001b[0;34m(adata)\u001b[0m\n\u001b[1;32m     21\u001b[0m cnv_score_in_cnv \u001b[38;5;241m=\u001b[39m [x \u001b[38;5;28;01mfor\u001b[39;00m x \u001b[38;5;129;01min\u001b[39;00m cnv_values[ground_truth \u001b[38;5;241m!=\u001b[39m \u001b[38;5;241m0\u001b[39m] \u001b[38;5;28;01mif\u001b[39;00m \u001b[38;5;28mstr\u001b[39m(x) \u001b[38;5;241m!=\u001b[39m \u001b[38;5;124m'\u001b[39m\u001b[38;5;124mnan\u001b[39m\u001b[38;5;124m'\u001b[39m]\n\u001b[1;32m     23\u001b[0m \u001b[38;5;66;03m# Compute true and false classifications\u001b[39;00m\n\u001b[0;32m---> 24\u001b[0m true_gains \u001b[38;5;241m=\u001b[39m \u001b[38;5;28;43mlen\u001b[39;49m\u001b[43m(\u001b[49m\u001b[43m[\u001b[49m\u001b[43me\u001b[49m\u001b[43m \u001b[49m\u001b[38;5;28;43;01mfor\u001b[39;49;00m\u001b[43m \u001b[49m\u001b[43me\u001b[49m\u001b[43m \u001b[49m\u001b[38;5;129;43;01min\u001b[39;49;00m\u001b[43m \u001b[49m\u001b[43mcnv_score_in_gains\u001b[49m\u001b[43m \u001b[49m\u001b[38;5;28;43;01mif\u001b[39;49;00m\u001b[43m \u001b[49m\u001b[43me\u001b[49m\u001b[43m \u001b[49m\u001b[38;5;241;43m>\u001b[39;49m\u001b[43m \u001b[49m\u001b[38;5;241;43m0\u001b[39;49m\u001b[43m]\u001b[49m\u001b[43m)\u001b[49m\u001b[43m \u001b[49m\u001b[38;5;241;43m/\u001b[39;49m\u001b[43m \u001b[49m\u001b[38;5;28;43mlen\u001b[39;49m\u001b[43m(\u001b[49m\u001b[43mcnv_score_in_gains\u001b[49m\u001b[43m)\u001b[49m\n\u001b[1;32m     25\u001b[0m true_losses \u001b[38;5;241m=\u001b[39m \u001b[38;5;28mlen\u001b[39m([e \u001b[38;5;28;01mfor\u001b[39;00m e \u001b[38;5;129;01min\u001b[39;00m cnv_score_in_losses \u001b[38;5;28;01mif\u001b[39;00m e \u001b[38;5;241m<\u001b[39m \u001b[38;5;241m0\u001b[39m]) \u001b[38;5;241m/\u001b[39m \u001b[38;5;28mlen\u001b[39m(cnv_score_in_losses)\n\u001b[1;32m     26\u001b[0m true_neutrals \u001b[38;5;241m=\u001b[39m np\u001b[38;5;241m.\u001b[39msum(np\u001b[38;5;241m.\u001b[39mabs(cnv_score_in_neutrals) \u001b[38;5;241m==\u001b[39m \u001b[38;5;241m0\u001b[39m) \u001b[38;5;241m/\u001b[39m \u001b[38;5;28mlen\u001b[39m(cnv_score_in_neutrals)\n",
      "\u001b[0;31mZeroDivisionError\u001b[0m: division by zero"
     ]
    }
   ],
   "source": [
    "results=pd.DataFrame(columns=['type_of_sampling','number','n_genes','mean_countsxcell','nmi','ari','F1score_all','F1score_gain',\n",
    "                      'F1score_loss','ROC_gains','PR_gains','ROC_loss','PR_loss'])\n",
    "i=0\n",
    "for file in processed_datasets_genes:\n",
    "    print(file)\n",
    "    type_of_subsampling=file.split('_')[3]\n",
    "    number=file.split('_')[4]\n",
    "    adata=sc.read(os.path.join(path_simulation,file))\n",
    "    # clustering similarity metrics\n",
    "    comp_key=[a for a in adata.obs.columns if 'cnv_leiden_res' in a]\n",
    "    ari = icv.tl.compute_ari(adata, reference_key='simulated_subclone', computed_key=comp_key[0])\n",
    "    nmi = icv.tl.compute_nmi(adata, reference_key='simulated_subclone', computed_key=comp_key[0])\n",
    "    # CNV predictability metrics\n",
    "    F1score_dict=compute_cnv_metrics(adata)\n",
    "    ROC_PR_dict=compute_cnv_auc(adata)\n",
    "    \n",
    "    ## formatting them as CNVs\n",
    "    results.loc[i,'type_of_subsampling']=type_of_subsampling\n",
    "    results.loc[i,'number']=number\n",
    "    results.loc[i,'n_genes']=adata.var.shape[0]\n",
    "    results.loc[i,'mean_countsxcell']=np.mean(np.sum(adata.raw.X.todense(),axis=1))\n",
    "    results.loc[i,'ari']=ari\n",
    "    results.loc[i,'nmi']=nmi\n",
    "    results.loc[i,'F1score_all']=F1score_dict['All']\n",
    "    results.loc[i,'F1score_gain']=F1score_dict['Gain']\n",
    "    results.loc[i,'F1score_loss']=F1score_dict['Loss']\n",
    "    results.loc[i,'ROC_gains']=ROC_PR_dict['ROC AUC (Gains)']\n",
    "    results.loc[i,'PR_gains']=ROC_PR_dict['PR AUC (Gains)']\n",
    "    results.loc[i,'ROC_loss']=ROC_PR_dict['ROC AUC (Losses)']\n",
    "    results.loc[i,'PR_loss']=ROC_PR_dict['PR AUC (Losses)']\n",
    "    i=i+1"
   ]
  },
  {
   "cell_type": "code",
   "execution_count": 127,
   "id": "4a8b5895",
   "metadata": {},
   "outputs": [
    {
     "data": {
      "text/plain": [
       "(1268, 500)"
      ]
     },
     "execution_count": 127,
     "metadata": {},
     "output_type": "execute_result"
    }
   ],
   "source": [
    "adata.layers['CNV_GT']"
   ]
  },
  {
   "cell_type": "code",
   "execution_count": 128,
   "id": "179f4415",
   "metadata": {},
   "outputs": [
    {
     "data": {
      "text/html": [
       "<div>\n",
       "<style scoped>\n",
       "    .dataframe tbody tr th:only-of-type {\n",
       "        vertical-align: middle;\n",
       "    }\n",
       "\n",
       "    .dataframe tbody tr th {\n",
       "        vertical-align: top;\n",
       "    }\n",
       "\n",
       "    .dataframe thead th {\n",
       "        text-align: right;\n",
       "    }\n",
       "</style>\n",
       "<table border=\"1\" class=\"dataframe\">\n",
       "  <thead>\n",
       "    <tr style=\"text-align: right;\">\n",
       "      <th></th>\n",
       "      <th>type_of_sampling</th>\n",
       "      <th>number</th>\n",
       "      <th>n_genes</th>\n",
       "      <th>mean_countsxcell</th>\n",
       "      <th>nmi</th>\n",
       "      <th>ari</th>\n",
       "      <th>F1score_all</th>\n",
       "      <th>F1score_gain</th>\n",
       "      <th>F1score_loss</th>\n",
       "      <th>ROC_gains</th>\n",
       "      <th>PR_gains</th>\n",
       "      <th>ROC_loss</th>\n",
       "      <th>PR_loss</th>\n",
       "      <th>type_of_subsampling</th>\n",
       "    </tr>\n",
       "  </thead>\n",
       "  <tbody>\n",
       "    <tr>\n",
       "      <th>0</th>\n",
       "      <td>NaN</td>\n",
       "      <td>20000</td>\n",
       "      <td>20000</td>\n",
       "      <td>36649.726562</td>\n",
       "      <td>0.86585</td>\n",
       "      <td>0.899906</td>\n",
       "      <td>0.837228</td>\n",
       "      <td>0.880649</td>\n",
       "      <td>0.734394</td>\n",
       "      <td>0.912566</td>\n",
       "      <td>0.61487</td>\n",
       "      <td>0.802043</td>\n",
       "      <td>0.110029</td>\n",
       "      <td>genes</td>\n",
       "    </tr>\n",
       "    <tr>\n",
       "      <th>1</th>\n",
       "      <td>NaN</td>\n",
       "      <td>15000</td>\n",
       "      <td>15000</td>\n",
       "      <td>36649.726562</td>\n",
       "      <td>0.761346</td>\n",
       "      <td>0.811618</td>\n",
       "      <td>0.803605</td>\n",
       "      <td>0.859413</td>\n",
       "      <td>0.647895</td>\n",
       "      <td>0.894559</td>\n",
       "      <td>0.543801</td>\n",
       "      <td>0.749478</td>\n",
       "      <td>0.027004</td>\n",
       "      <td>genes</td>\n",
       "    </tr>\n",
       "    <tr>\n",
       "      <th>2</th>\n",
       "      <td>NaN</td>\n",
       "      <td>10000</td>\n",
       "      <td>10000</td>\n",
       "      <td>36649.726562</td>\n",
       "      <td>0.657495</td>\n",
       "      <td>0.68681</td>\n",
       "      <td>0.798659</td>\n",
       "      <td>0.833538</td>\n",
       "      <td>0.686374</td>\n",
       "      <td>0.874251</td>\n",
       "      <td>0.332565</td>\n",
       "      <td>0.770927</td>\n",
       "      <td>0.033713</td>\n",
       "      <td>genes</td>\n",
       "    </tr>\n",
       "    <tr>\n",
       "      <th>3</th>\n",
       "      <td>NaN</td>\n",
       "      <td>5000</td>\n",
       "      <td>5000</td>\n",
       "      <td>36649.726562</td>\n",
       "      <td>0.293116</td>\n",
       "      <td>0.308157</td>\n",
       "      <td>0.614047</td>\n",
       "      <td>0.67975</td>\n",
       "      <td>0.348538</td>\n",
       "      <td>0.768242</td>\n",
       "      <td>0.077869</td>\n",
       "      <td>0.598268</td>\n",
       "      <td>0.003173</td>\n",
       "      <td>genes</td>\n",
       "    </tr>\n",
       "    <tr>\n",
       "      <th>4</th>\n",
       "      <td>NaN</td>\n",
       "      <td>1000</td>\n",
       "      <td>1000</td>\n",
       "      <td>36649.726562</td>\n",
       "      <td>0.005908</td>\n",
       "      <td>0.002708</td>\n",
       "      <td>0.295252</td>\n",
       "      <td>0.24001</td>\n",
       "      <td>0.268637</td>\n",
       "      <td>0.567799</td>\n",
       "      <td>0.002809</td>\n",
       "      <td>0.558521</td>\n",
       "      <td>0.003068</td>\n",
       "      <td>genes</td>\n",
       "    </tr>\n",
       "  </tbody>\n",
       "</table>\n",
       "</div>"
      ],
      "text/plain": [
       "  type_of_sampling number n_genes mean_countsxcell       nmi       ari  \\\n",
       "0              NaN  20000   20000     36649.726562   0.86585  0.899906   \n",
       "1              NaN  15000   15000     36649.726562  0.761346  0.811618   \n",
       "2              NaN  10000   10000     36649.726562  0.657495   0.68681   \n",
       "3              NaN   5000    5000     36649.726562  0.293116  0.308157   \n",
       "4              NaN   1000    1000     36649.726562  0.005908  0.002708   \n",
       "\n",
       "  F1score_all F1score_gain F1score_loss ROC_gains  PR_gains  ROC_loss  \\\n",
       "0    0.837228     0.880649     0.734394  0.912566   0.61487  0.802043   \n",
       "1    0.803605     0.859413     0.647895  0.894559  0.543801  0.749478   \n",
       "2    0.798659     0.833538     0.686374  0.874251  0.332565  0.770927   \n",
       "3    0.614047      0.67975     0.348538  0.768242  0.077869  0.598268   \n",
       "4    0.295252      0.24001     0.268637  0.567799  0.002809  0.558521   \n",
       "\n",
       "    PR_loss type_of_subsampling  \n",
       "0  0.110029               genes  \n",
       "1  0.027004               genes  \n",
       "2  0.033713               genes  \n",
       "3  0.003173               genes  \n",
       "4  0.003068               genes  "
      ]
     },
     "execution_count": 128,
     "metadata": {},
     "output_type": "execute_result"
    }
   ],
   "source": [
    "results"
   ]
  },
  {
   "cell_type": "code",
   "execution_count": null,
   "id": "722d1350",
   "metadata": {},
   "outputs": [],
   "source": []
  }
 ],
 "metadata": {
  "kernelspec": {
   "display_name": "insitucnv",
   "language": "python",
   "name": "insitucnv"
  },
  "language_info": {
   "codemirror_mode": {
    "name": "ipython",
    "version": 3
   },
   "file_extension": ".py",
   "mimetype": "text/x-python",
   "name": "python",
   "nbconvert_exporter": "python",
   "pygments_lexer": "ipython3",
   "version": "3.10.16"
  }
 },
 "nbformat": 4,
 "nbformat_minor": 5
}
