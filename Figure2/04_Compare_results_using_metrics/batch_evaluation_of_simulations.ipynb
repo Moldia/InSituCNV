{
 "cells": [
  {
   "cell_type": "code",
   "execution_count": 113,
   "id": "c02f5ef1",
   "metadata": {},
   "outputs": [],
   "source": [
    "import os\n",
    "import numpy as np\n",
    "import pandas as pd\n",
    "import scanpy as sc\n",
    "import seaborn as sns\n",
    "import matplotlib.pyplot as plt\n",
    "import warnings\n",
    "import infercnvpy as cnv\n",
    "import matplotlib\n",
    "\n",
    "import sys\n",
    "sys.path.append(\"../..\")\n",
    "import insitucnv as icv"
   ]
  },
  {
   "cell_type": "markdown",
   "id": "d93fe7d0",
   "metadata": {},
   "source": [
    "### Load functions"
   ]
  },
  {
   "cell_type": "code",
   "execution_count": 114,
   "id": "e01bafb9",
   "metadata": {},
   "outputs": [],
   "source": [
    "import numpy as np\n",
    "\n",
    "def compute_cnv_metrics(adata):\n",
    "    \"\"\"\n",
    "    Compute CNV performance metrics based on ground truth and CNV values.\n",
    "    \n",
    "    Parameters:\n",
    "    - adata: AnnData object containing CNV ground truth in `adata.layers['CNV_GT']`\n",
    "             and CNV values in `adata.layers['gene_values_cnv']`\n",
    "    \n",
    "    Returns:\n",
    "    - Dictionary with F1 scores for overall CNV detection, CNV gain, and CNV loss.\n",
    "    \"\"\"\n",
    "    ground_truth = adata.layers['CNV_GT']\n",
    "    cnv_values = adata.layers[\"gene_values_cnv\"]\n",
    "\n",
    "    # Extract CNV scores based on ground truth\n",
    "    cnv_score_in_gains = [x for x in cnv_values[ground_truth == 1] if str(x) != 'nan']\n",
    "    cnv_score_in_losses = [x for x in cnv_values[ground_truth == -1] if str(x) != 'nan']\n",
    "    cnv_score_in_neutrals = [x for x in cnv_values[ground_truth == 0] if str(x) != 'nan']\n",
    "    cnv_score_in_cnv = [x for x in cnv_values[ground_truth != 0] if str(x) != 'nan']\n",
    "\n",
    "    # Compute true and false classifications\n",
    "    try:\n",
    "        true_gains = len([e for e in cnv_score_in_gains if e > 0]) / len(cnv_score_in_gains)\n",
    "        true_losses = len([e for e in cnv_score_in_losses if e < 0]) / len(cnv_score_in_losses)\n",
    "        true_neutrals = np.sum(np.abs(cnv_score_in_neutrals) == 0) / len(cnv_score_in_neutrals)\n",
    "        true_cnv = np.sum(np.abs(cnv_score_in_cnv) != 0) / len(cnv_score_in_cnv)\n",
    "        false_neutrals = 1 - true_neutrals\n",
    "        false_cnv = 1 - true_cnv\n",
    "        # Compute performance metrics\n",
    "        results_all = icv.tl.compute_performance_metrics(true_cnv, false_neutrals, true_neutrals, false_cnv)\n",
    "        results_gain = icv.tl.compute_performance_metrics(true_gains, false_neutrals, true_neutrals, 1 - true_gains)\n",
    "        results_loss = icv.tl.compute_performance_metrics(true_losses, false_neutrals, true_neutrals, 1 - true_losses)\n",
    "        return {\n",
    "        \"All\": results_all['F1 Score'],\n",
    "        \"Gain\": results_gain['F1 Score'],\n",
    "        \"Loss\": results_loss['F1 Score']}\n",
    "    except:\n",
    "        return {\n",
    "        \"All\": np.nan,\n",
    "        \"Gain\": np.nan,\n",
    "        \"Loss\": np.nan}\n",
    "\n",
    "def compute_cnv_auc(adata):\n",
    "    \"\"\"\n",
    "    Compute ROC AUC and PR AUC for CNV gains and losses.\n",
    "\n",
    "    Parameters:\n",
    "    - adata: AnnData object containing CNV ground truth in `adata.layers['CNV_GT']`\n",
    "             and CNV inferred scores in `adata.layers['gene_values_cnv']`\n",
    "\n",
    "    Returns:\n",
    "    - Dictionary with ROC AUC and PR AUC scores for CNV gains and losses.\n",
    "    \"\"\"\n",
    "    ground_truth = adata.layers['CNV_GT']\n",
    "    cnv_values = adata.layers[\"gene_values_cnv\"]\n",
    "\n",
    "    # Flatten arrays for processing\n",
    "    simulated = ground_truth.flatten()  \n",
    "    inferred_scores = cnv_values.flatten()  \n",
    "\n",
    "    # Remove NaN values\n",
    "    filter_nan = np.array([str(x) != 'nan' for x in inferred_scores])\n",
    "    simulated = simulated[filter_nan]\n",
    "    inferred_scores = inferred_scores[filter_nan]\n",
    "\n",
    "    # Compute AUC for gains (1) and losses (-1)\n",
    "    roc_auc_gains, pr_auc_gains = icv.tl.compute_auc(simulated, inferred_scores, 1)\n",
    "    roc_auc_losses, pr_auc_losses = icv.tl.compute_auc(simulated, inferred_scores, -1)\n",
    "\n",
    "    return {\"ROC AUC (Gains)\": roc_auc_gains,\"PR AUC (Gains)\": pr_auc_gains,\n",
    "        \"ROC AUC (Losses)\": roc_auc_losses,\"PR AUC (Losses)\": pr_auc_losses}\n"
   ]
  },
  {
   "cell_type": "markdown",
   "id": "57d60727",
   "metadata": {},
   "source": [
    "# Load datasets"
   ]
  },
  {
   "cell_type": "code",
   "execution_count": 115,
   "id": "444a506d",
   "metadata": {},
   "outputs": [],
   "source": [
    "path_simulation='/media/external/test/augusta/insituCNV/data/simulated_CNV_data/technical_limiting_conditions'"
   ]
  },
  {
   "cell_type": "code",
   "execution_count": 116,
   "id": "7a9795d6",
   "metadata": {},
   "outputs": [],
   "source": [
    "files=os.listdir(path_simulation)\n",
    "processed_datasets=[f  for f in files if '_CNVinf' in f]\n",
    "processed_datasets_counts=[f  for f in processed_datasets if 'counts' in f]\n",
    "processed_datasets_cg=[f  for f in processed_datasets_counts if 'genes' in f]"
   ]
  },
  {
   "cell_type": "markdown",
   "id": "d0ed2bb3",
   "metadata": {},
   "source": [
    "## Quantify on different counts"
   ]
  },
  {
   "cell_type": "markdown",
   "id": "2d52650a",
   "metadata": {},
   "source": [
    "We aim to compare the output of CNV prediction on simulated datasets, first varying the number of counts captured on each cell"
   ]
  },
  {
   "cell_type": "code",
   "execution_count": 19,
   "id": "e265e062",
   "metadata": {},
   "outputs": [],
   "source": [
    "file='CNV_simulated_subsampled_counts_1_CNVinf.h5ad'"
   ]
  },
  {
   "cell_type": "code",
   "execution_count": 120,
   "id": "622ce120",
   "metadata": {},
   "outputs": [
    {
     "name": "stderr",
     "output_type": "stream",
     "text": [
      "100%|█████████████████████████████████████████████████████████████████████████████| 189/189 [00:00<00:00, 126774.90it/s]"
     ]
    },
    {
     "name": "stdout",
     "output_type": "stream",
     "text": [
      "CNV_simulation_02_subsampled_counts_100_genes_all_CNVinf.h5ad\n",
      "CNV_simulation_02_subsampled_counts_70_genes_all_CNVinf.h5ad\n",
      "CNV_simulation_02_subsampled_counts_70_genes_20000_CNVinf.h5ad\n",
      "CNV_simulation_02_subsampled_counts_50_genes_all_CNVinf.h5ad\n",
      "CNV_simulation_02_subsampled_counts_50_genes_15000_CNVinf.h5ad\n",
      "CNV_simulation_02_subsampled_counts_50_genes_5000_CNVinf.h5ad\n",
      "CNV_simulation_02_subsampled_counts_10_genes_1000_CNVinf.h5ad\n",
      "CNV_simulation_02_subsampled_counts_5_genes_all_CNVinf.h5ad\n",
      "CNV_simulation_02_subsampled_counts_5_genes_20000_CNVinf.h5ad\n",
      "CNV_simulation_02_subsampled_counts_5_genes_15000_CNVinf.h5ad\n",
      "CNV_simulation_01_subsampled_counts_70_genes_all_CNVinf.h5ad\n",
      "CNV_simulation_01_subsampled_counts_70_genes_20000_CNVinf.h5ad\n",
      "CNV_simulation_01_subsampled_counts_70_genes_15000_CNVinf.h5ad\n",
      "CNV_simulation_01_subsampled_counts_70_genes_10000_CNVinf.h5ad\n",
      "CNV_simulation_01_subsampled_counts_70_genes_5000_CNVinf.h5ad\n",
      "CNV_simulation_01_subsampled_counts_70_genes_1000_CNVinf.h5ad\n",
      "CNV_simulation_01_subsampled_counts_70_genes_500_CNVinf.h5ad\n",
      "CNV_simulation_01_subsampled_counts_50_genes_all_CNVinf.h5ad\n",
      "CNV_simulation_01_subsampled_counts_50_genes_20000_CNVinf.h5ad\n",
      "CNV_simulation_01_subsampled_counts_50_genes_15000_CNVinf.h5ad\n",
      "CNV_simulation_01_subsampled_counts_50_genes_10000_CNVinf.h5ad\n",
      "CNV_simulation_01_subsampled_counts_50_genes_5000_CNVinf.h5ad\n",
      "CNV_simulation_01_subsampled_counts_50_genes_1000_CNVinf.h5ad\n",
      "CNV_simulation_01_subsampled_counts_50_genes_500_CNVinf.h5ad\n",
      "CNV_simulation_01_subsampled_counts_20_genes_all_CNVinf.h5ad\n",
      "CNV_simulation_01_subsampled_counts_20_genes_15000_CNVinf.h5ad\n",
      "CNV_simulation_01_subsampled_counts_20_genes_5000_CNVinf.h5ad\n",
      "CNV_simulation_01_subsampled_counts_10_genes_10000_CNVinf.h5ad\n",
      "CNV_simulation_01_subsampled_counts_10_genes_1000_CNVinf.h5ad\n",
      "CNV_simulation_01_subsampled_counts_5_genes_5000_CNVinf.h5ad\n",
      "CNV_simulation_01_subsampled_counts_5_genes_500_CNVinf.h5ad\n",
      "CNV_simulation_01_subsampled_counts_3_genes_500_CNVinf.h5ad\n",
      "CNV_simulation_01_subsampled_counts_2_genes_1000_CNVinf.h5ad\n",
      "CNV_simulation_01_subsampled_counts_1_genes_20000_CNVinf.h5ad\n",
      "CNV_simulation_01_subsampled_counts_1_genes_15000_CNVinf.h5ad\n",
      "CNV_simulation_01_subsampled_counts_1_genes_500_CNVinf.h5ad\n",
      "CNV_simulation_01_subsampled_counts_100_genes_all_CNVinf.h5ad\n",
      "CNV_simulation_01_subsampled_counts_100_genes_20000_CNVinf.h5ad\n",
      "CNV_simulation_01_subsampled_counts_100_genes_15000_CNVinf.h5ad\n",
      "CNV_simulation_01_subsampled_counts_100_genes_10000_CNVinf.h5ad\n",
      "CNV_simulation_01_subsampled_counts_100_genes_5000_CNVinf.h5ad\n",
      "CNV_simulation_01_subsampled_counts_100_genes_1000_CNVinf.h5ad\n",
      "CNV_simulation_01_subsampled_counts_100_genes_500_CNVinf.h5ad\n",
      "CNV_simulation_02_subsampled_counts_5_genes_10000_CNVinf.h5ad\n",
      "CNV_simulation_02_subsampled_counts_100_genes_20000_CNVinf.h5ad\n",
      "CNV_simulation_02_subsampled_counts_100_genes_15000_CNVinf.h5ad\n",
      "CNV_simulation_02_subsampled_counts_100_genes_10000_CNVinf.h5ad\n",
      "CNV_simulation_02_subsampled_counts_100_genes_5000_CNVinf.h5ad\n",
      "CNV_simulation_02_subsampled_counts_100_genes_1000_CNVinf.h5ad\n",
      "CNV_simulation_02_subsampled_counts_100_genes_500_CNVinf.h5ad\n",
      "CNV_simulation_02_subsampled_counts_70_genes_15000_CNVinf.h5ad\n",
      "CNV_simulation_02_subsampled_counts_70_genes_10000_CNVinf.h5ad\n",
      "CNV_simulation_02_subsampled_counts_70_genes_5000_CNVinf.h5ad\n",
      "CNV_simulation_02_subsampled_counts_70_genes_1000_CNVinf.h5ad\n",
      "CNV_simulation_02_subsampled_counts_70_genes_500_CNVinf.h5ad\n",
      "CNV_simulation_02_subsampled_counts_50_genes_20000_CNVinf.h5ad\n",
      "CNV_simulation_02_subsampled_counts_50_genes_10000_CNVinf.h5ad\n",
      "CNV_simulation_02_subsampled_counts_50_genes_1000_CNVinf.h5ad\n",
      "CNV_simulation_02_subsampled_counts_50_genes_500_CNVinf.h5ad\n",
      "CNV_simulation_02_subsampled_counts_20_genes_all_CNVinf.h5ad\n",
      "CNV_simulation_02_subsampled_counts_5_genes_5000_CNVinf.h5ad\n",
      "CNV_simulation_02_subsampled_counts_5_genes_1000_CNVinf.h5ad\n",
      "CNV_simulation_02_subsampled_counts_5_genes_500_CNVinf.h5ad\n",
      "CNV_simulation_02_subsampled_counts_3_genes_all_CNVinf.h5ad\n",
      "CNV_simulation_02_subsampled_counts_3_genes_20000_CNVinf.h5ad\n",
      "CNV_simulation_02_subsampled_counts_3_genes_15000_CNVinf.h5ad\n",
      "CNV_simulation_02_subsampled_counts_3_genes_10000_CNVinf.h5ad\n",
      "CNV_simulation_02_subsampled_counts_3_genes_5000_CNVinf.h5ad\n",
      "CNV_simulation_02_subsampled_counts_3_genes_1000_CNVinf.h5ad\n",
      "CNV_simulation_02_subsampled_counts_2_genes_all_CNVinf.h5ad\n",
      "CNV_simulation_02_subsampled_counts_2_genes_20000_CNVinf.h5ad\n",
      "CNV_simulation_02_subsampled_counts_2_genes_15000_CNVinf.h5ad\n",
      "CNV_simulation_02_subsampled_counts_2_genes_10000_CNVinf.h5ad\n",
      "CNV_simulation_02_subsampled_counts_2_genes_5000_CNVinf.h5ad\n",
      "CNV_simulation_02_subsampled_counts_2_genes_1000_CNVinf.h5ad\n",
      "CNV_simulation_02_subsampled_counts_2_genes_500_CNVinf.h5ad\n",
      "CNV_simulation_02_subsampled_counts_1_genes_all_CNVinf.h5ad\n",
      "CNV_simulation_02_subsampled_counts_1_genes_20000_CNVinf.h5ad\n",
      "CNV_simulation_02_subsampled_counts_1_genes_15000_CNVinf.h5ad\n",
      "CNV_simulation_02_subsampled_counts_1_genes_10000_CNVinf.h5ad\n",
      "CNV_simulation_02_subsampled_counts_1_genes_5000_CNVinf.h5ad\n",
      "CNV_simulation_02_subsampled_counts_1_genes_1000_CNVinf.h5ad\n",
      "CNV_simulation_02_subsampled_counts_1_genes_500_CNVinf.h5ad\n",
      "CNV_simulation_03_subsampled_counts_100_genes_15000_CNVinf.h5ad\n",
      "CNV_simulation_03_subsampled_counts_100_genes_500_CNVinf.h5ad\n",
      "CNV_simulation_03_subsampled_counts_50_genes_20000_CNVinf.h5ad\n",
      "CNV_simulation_03_subsampled_counts_50_genes_5000_CNVinf.h5ad\n",
      "CNV_simulation_03_subsampled_counts_20_genes_all_CNVinf.h5ad\n",
      "CNV_simulation_03_subsampled_counts_20_genes_20000_CNVinf.h5ad\n",
      "CNV_simulation_03_subsampled_counts_20_genes_15000_CNVinf.h5ad\n",
      "CNV_simulation_01_subsampled_counts_20_genes_20000_CNVinf.h5ad\n",
      "CNV_simulation_01_subsampled_counts_20_genes_10000_CNVinf.h5ad\n",
      "CNV_simulation_01_subsampled_counts_20_genes_1000_CNVinf.h5ad\n",
      "CNV_simulation_01_subsampled_counts_20_genes_500_CNVinf.h5ad\n",
      "CNV_simulation_01_subsampled_counts_10_genes_all_CNVinf.h5ad\n",
      "CNV_simulation_01_subsampled_counts_10_genes_20000_CNVinf.h5ad\n",
      "CNV_simulation_01_subsampled_counts_10_genes_15000_CNVinf.h5ad\n",
      "CNV_simulation_01_subsampled_counts_10_genes_5000_CNVinf.h5ad\n",
      "CNV_simulation_01_subsampled_counts_10_genes_500_CNVinf.h5ad\n",
      "CNV_simulation_01_subsampled_counts_5_genes_all_CNVinf.h5ad\n",
      "CNV_simulation_01_subsampled_counts_5_genes_20000_CNVinf.h5ad\n",
      "CNV_simulation_01_subsampled_counts_5_genes_15000_CNVinf.h5ad\n",
      "CNV_simulation_01_subsampled_counts_5_genes_10000_CNVinf.h5ad\n",
      "CNV_simulation_01_subsampled_counts_5_genes_1000_CNVinf.h5ad\n",
      "CNV_simulation_01_subsampled_counts_3_genes_all_CNVinf.h5ad\n",
      "CNV_simulation_01_subsampled_counts_3_genes_20000_CNVinf.h5ad\n",
      "CNV_simulation_01_subsampled_counts_3_genes_15000_CNVinf.h5ad\n",
      "CNV_simulation_01_subsampled_counts_3_genes_10000_CNVinf.h5ad\n",
      "CNV_simulation_01_subsampled_counts_3_genes_5000_CNVinf.h5ad\n",
      "CNV_simulation_01_subsampled_counts_3_genes_1000_CNVinf.h5ad\n",
      "CNV_simulation_01_subsampled_counts_2_genes_all_CNVinf.h5ad\n",
      "CNV_simulation_01_subsampled_counts_2_genes_20000_CNVinf.h5ad\n",
      "CNV_simulation_01_subsampled_counts_2_genes_15000_CNVinf.h5ad\n",
      "CNV_simulation_01_subsampled_counts_2_genes_10000_CNVinf.h5ad\n",
      "CNV_simulation_01_subsampled_counts_2_genes_5000_CNVinf.h5ad\n",
      "CNV_simulation_01_subsampled_counts_2_genes_500_CNVinf.h5ad\n",
      "CNV_simulation_01_subsampled_counts_1_genes_all_CNVinf.h5ad\n",
      "CNV_simulation_01_subsampled_counts_1_genes_10000_CNVinf.h5ad\n",
      "CNV_simulation_01_subsampled_counts_1_genes_5000_CNVinf.h5ad\n",
      "CNV_simulation_01_subsampled_counts_1_genes_1000_CNVinf.h5ad\n",
      "CNV_simulation_02_subsampled_counts_20_genes_20000_CNVinf.h5ad\n",
      "CNV_simulation_02_subsampled_counts_20_genes_15000_CNVinf.h5ad\n",
      "CNV_simulation_02_subsampled_counts_20_genes_10000_CNVinf.h5ad\n",
      "CNV_simulation_02_subsampled_counts_20_genes_5000_CNVinf.h5ad\n",
      "CNV_simulation_02_subsampled_counts_20_genes_1000_CNVinf.h5ad\n",
      "CNV_simulation_02_subsampled_counts_20_genes_500_CNVinf.h5ad\n",
      "CNV_simulation_02_subsampled_counts_10_genes_all_CNVinf.h5ad\n",
      "CNV_simulation_02_subsampled_counts_10_genes_20000_CNVinf.h5ad\n",
      "CNV_simulation_02_subsampled_counts_10_genes_15000_CNVinf.h5ad\n",
      "CNV_simulation_02_subsampled_counts_10_genes_10000_CNVinf.h5ad\n",
      "CNV_simulation_02_subsampled_counts_10_genes_5000_CNVinf.h5ad\n",
      "CNV_simulation_02_subsampled_counts_10_genes_500_CNVinf.h5ad\n",
      "CNV_simulation_02_subsampled_counts_3_genes_500_CNVinf.h5ad\n",
      "CNV_simulation_03_subsampled_counts_20_genes_10000_CNVinf.h5ad\n",
      "CNV_simulation_03_subsampled_counts_100_genes_all_CNVinf.h5ad\n",
      "CNV_simulation_03_subsampled_counts_100_genes_20000_CNVinf.h5ad\n",
      "CNV_simulation_03_subsampled_counts_100_genes_10000_CNVinf.h5ad\n",
      "CNV_simulation_03_subsampled_counts_100_genes_5000_CNVinf.h5ad\n",
      "CNV_simulation_03_subsampled_counts_100_genes_1000_CNVinf.h5ad\n",
      "CNV_simulation_03_subsampled_counts_70_genes_all_CNVinf.h5ad\n",
      "CNV_simulation_03_subsampled_counts_70_genes_20000_CNVinf.h5ad\n",
      "CNV_simulation_03_subsampled_counts_70_genes_15000_CNVinf.h5ad\n",
      "CNV_simulation_03_subsampled_counts_70_genes_10000_CNVinf.h5ad\n",
      "CNV_simulation_03_subsampled_counts_70_genes_5000_CNVinf.h5ad\n",
      "CNV_simulation_03_subsampled_counts_70_genes_1000_CNVinf.h5ad\n",
      "CNV_simulation_03_subsampled_counts_70_genes_500_CNVinf.h5ad\n",
      "CNV_simulation_03_subsampled_counts_50_genes_all_CNVinf.h5ad\n",
      "CNV_simulation_03_subsampled_counts_50_genes_15000_CNVinf.h5ad\n",
      "CNV_simulation_03_subsampled_counts_50_genes_10000_CNVinf.h5ad\n",
      "CNV_simulation_03_subsampled_counts_50_genes_1000_CNVinf.h5ad\n",
      "CNV_simulation_03_subsampled_counts_50_genes_500_CNVinf.h5ad\n",
      "CNV_simulation_03_subsampled_counts_20_genes_5000_CNVinf.h5ad\n",
      "CNV_simulation_03_subsampled_counts_20_genes_1000_CNVinf.h5ad\n",
      "CNV_simulation_03_subsampled_counts_20_genes_500_CNVinf.h5ad\n",
      "CNV_simulation_03_subsampled_counts_10_genes_all_CNVinf.h5ad\n",
      "CNV_simulation_03_subsampled_counts_10_genes_20000_CNVinf.h5ad\n",
      "CNV_simulation_03_subsampled_counts_10_genes_15000_CNVinf.h5ad\n",
      "CNV_simulation_03_subsampled_counts_10_genes_10000_CNVinf.h5ad\n",
      "CNV_simulation_03_subsampled_counts_10_genes_5000_CNVinf.h5ad\n",
      "CNV_simulation_03_subsampled_counts_10_genes_1000_CNVinf.h5ad\n",
      "CNV_simulation_03_subsampled_counts_10_genes_500_CNVinf.h5ad\n",
      "CNV_simulation_03_subsampled_counts_5_genes_all_CNVinf.h5ad\n",
      "CNV_simulation_03_subsampled_counts_5_genes_20000_CNVinf.h5ad\n",
      "CNV_simulation_03_subsampled_counts_5_genes_15000_CNVinf.h5ad\n",
      "CNV_simulation_03_subsampled_counts_5_genes_10000_CNVinf.h5ad\n",
      "CNV_simulation_03_subsampled_counts_5_genes_5000_CNVinf.h5ad\n",
      "CNV_simulation_03_subsampled_counts_5_genes_1000_CNVinf.h5ad\n",
      "CNV_simulation_03_subsampled_counts_5_genes_500_CNVinf.h5ad\n",
      "CNV_simulation_03_subsampled_counts_3_genes_all_CNVinf.h5ad\n",
      "CNV_simulation_03_subsampled_counts_3_genes_20000_CNVinf.h5ad\n",
      "CNV_simulation_03_subsampled_counts_3_genes_15000_CNVinf.h5ad\n",
      "CNV_simulation_03_subsampled_counts_3_genes_10000_CNVinf.h5ad\n",
      "CNV_simulation_03_subsampled_counts_3_genes_5000_CNVinf.h5ad\n",
      "CNV_simulation_03_subsampled_counts_3_genes_1000_CNVinf.h5ad\n",
      "CNV_simulation_03_subsampled_counts_3_genes_500_CNVinf.h5ad\n",
      "CNV_simulation_03_subsampled_counts_2_genes_all_CNVinf.h5ad\n",
      "CNV_simulation_03_subsampled_counts_2_genes_20000_CNVinf.h5ad\n",
      "CNV_simulation_03_subsampled_counts_2_genes_15000_CNVinf.h5ad\n",
      "CNV_simulation_03_subsampled_counts_2_genes_10000_CNVinf.h5ad\n",
      "CNV_simulation_03_subsampled_counts_2_genes_5000_CNVinf.h5ad\n",
      "CNV_simulation_03_subsampled_counts_2_genes_1000_CNVinf.h5ad\n",
      "CNV_simulation_03_subsampled_counts_2_genes_500_CNVinf.h5ad\n",
      "CNV_simulation_03_subsampled_counts_1_genes_all_CNVinf.h5ad\n",
      "CNV_simulation_03_subsampled_counts_1_genes_20000_CNVinf.h5ad\n",
      "CNV_simulation_03_subsampled_counts_1_genes_15000_CNVinf.h5ad\n",
      "CNV_simulation_03_subsampled_counts_1_genes_10000_CNVinf.h5ad\n",
      "CNV_simulation_03_subsampled_counts_1_genes_5000_CNVinf.h5ad\n",
      "CNV_simulation_03_subsampled_counts_1_genes_1000_CNVinf.h5ad\n",
      "CNV_simulation_03_subsampled_counts_1_genes_500_CNVinf.h5ad\n"
     ]
    },
    {
     "name": "stderr",
     "output_type": "stream",
     "text": [
      "\n"
     ]
    }
   ],
   "source": [
    "alltags=[]\n",
    "for file in tqdm(processed_datasets_cg):\n",
    "    print(file)\n",
    "    experiment_tag=file.split('_')[2]\n",
    "    counts=file.split('_')[5]\n",
    "    genes=file.split('_')[7]\n",
    "    alltags.append(experiment_tag)"
   ]
  },
  {
   "cell_type": "code",
   "execution_count": 121,
   "id": "adb52cc8",
   "metadata": {},
   "outputs": [
    {
     "name": "stderr",
     "output_type": "stream",
     "text": [
      "\r",
      "  0%|                                                                                           | 0/189 [00:00<?, ?it/s]"
     ]
    },
    {
     "name": "stdout",
     "output_type": "stream",
     "text": [
      "CNV_simulation_02_subsampled_counts_100_genes_all_CNVinf.h5ad\n"
     ]
    },
    {
     "name": "stderr",
     "output_type": "stream",
     "text": [
      "\r",
      "  1%|▍                                                                                | 1/189 [01:27<4:34:46, 87.69s/it]"
     ]
    },
    {
     "name": "stdout",
     "output_type": "stream",
     "text": [
      "CNV_simulation_02_subsampled_counts_70_genes_all_CNVinf.h5ad\n"
     ]
    },
    {
     "name": "stderr",
     "output_type": "stream",
     "text": [
      "\r",
      "  1%|▊                                                                                | 2/189 [02:51<4:26:15, 85.43s/it]"
     ]
    },
    {
     "name": "stdout",
     "output_type": "stream",
     "text": [
      "CNV_simulation_02_subsampled_counts_70_genes_20000_CNVinf.h5ad\n"
     ]
    },
    {
     "name": "stderr",
     "output_type": "stream",
     "text": [
      "\r",
      "  2%|█▎                                                                               | 3/189 [03:58<3:59:06, 77.13s/it]"
     ]
    },
    {
     "name": "stdout",
     "output_type": "stream",
     "text": [
      "CNV_simulation_02_subsampled_counts_50_genes_all_CNVinf.h5ad\n"
     ]
    },
    {
     "name": "stderr",
     "output_type": "stream",
     "text": [
      "\r",
      "  2%|█▋                                                                               | 4/189 [05:23<4:06:27, 79.93s/it]"
     ]
    },
    {
     "name": "stdout",
     "output_type": "stream",
     "text": [
      "CNV_simulation_02_subsampled_counts_50_genes_15000_CNVinf.h5ad\n"
     ]
    },
    {
     "name": "stderr",
     "output_type": "stream",
     "text": [
      "\r",
      "  3%|██▏                                                                              | 5/189 [06:14<3:33:43, 69.69s/it]"
     ]
    },
    {
     "name": "stdout",
     "output_type": "stream",
     "text": [
      "CNV_simulation_02_subsampled_counts_50_genes_5000_CNVinf.h5ad\n"
     ]
    },
    {
     "name": "stderr",
     "output_type": "stream",
     "text": [
      "\r",
      "  3%|██▌                                                                              | 6/189 [06:30<2:36:49, 51.42s/it]"
     ]
    },
    {
     "name": "stdout",
     "output_type": "stream",
     "text": [
      "CNV_simulation_02_subsampled_counts_10_genes_1000_CNVinf.h5ad\n"
     ]
    },
    {
     "name": "stderr",
     "output_type": "stream",
     "text": [
      "\r",
      "  4%|███                                                                              | 7/189 [06:33<1:48:14, 35.69s/it]"
     ]
    },
    {
     "name": "stdout",
     "output_type": "stream",
     "text": [
      "CNV_simulation_02_subsampled_counts_5_genes_all_CNVinf.h5ad\n"
     ]
    },
    {
     "name": "stderr",
     "output_type": "stream",
     "text": [
      "\r",
      "  4%|███▍                                                                             | 8/189 [07:58<2:34:16, 51.14s/it]"
     ]
    },
    {
     "name": "stdout",
     "output_type": "stream",
     "text": [
      "CNV_simulation_02_subsampled_counts_5_genes_20000_CNVinf.h5ad\n"
     ]
    },
    {
     "name": "stderr",
     "output_type": "stream",
     "text": [
      "\r",
      "  5%|███▊                                                                             | 9/189 [09:02<2:45:37, 55.21s/it]"
     ]
    },
    {
     "name": "stdout",
     "output_type": "stream",
     "text": [
      "CNV_simulation_02_subsampled_counts_5_genes_15000_CNVinf.h5ad\n"
     ]
    },
    {
     "name": "stderr",
     "output_type": "stream",
     "text": [
      "\r",
      "  5%|████▏                                                                           | 10/189 [09:51<2:39:24, 53.43s/it]"
     ]
    },
    {
     "name": "stdout",
     "output_type": "stream",
     "text": [
      "CNV_simulation_01_subsampled_counts_70_genes_all_CNVinf.h5ad\n"
     ]
    },
    {
     "name": "stderr",
     "output_type": "stream",
     "text": [
      "\r",
      "  6%|████▋                                                                           | 11/189 [11:20<3:10:38, 64.26s/it]"
     ]
    },
    {
     "name": "stdout",
     "output_type": "stream",
     "text": [
      "CNV_simulation_01_subsampled_counts_70_genes_20000_CNVinf.h5ad\n"
     ]
    },
    {
     "name": "stderr",
     "output_type": "stream",
     "text": [
      "\r",
      "  6%|█████                                                                           | 12/189 [12:28<3:12:53, 65.39s/it]"
     ]
    },
    {
     "name": "stdout",
     "output_type": "stream",
     "text": [
      "CNV_simulation_01_subsampled_counts_70_genes_15000_CNVinf.h5ad\n"
     ]
    },
    {
     "name": "stderr",
     "output_type": "stream",
     "text": [
      "\r",
      "  7%|█████▌                                                                          | 13/189 [13:17<2:57:28, 60.50s/it]"
     ]
    },
    {
     "name": "stdout",
     "output_type": "stream",
     "text": [
      "CNV_simulation_01_subsampled_counts_70_genes_10000_CNVinf.h5ad\n"
     ]
    },
    {
     "name": "stderr",
     "output_type": "stream",
     "text": [
      "\r",
      "  7%|█████▉                                                                          | 14/189 [13:52<2:33:56, 52.78s/it]"
     ]
    },
    {
     "name": "stdout",
     "output_type": "stream",
     "text": [
      "CNV_simulation_01_subsampled_counts_70_genes_5000_CNVinf.h5ad\n"
     ]
    },
    {
     "name": "stderr",
     "output_type": "stream",
     "text": [
      "\r",
      "  8%|██████▎                                                                         | 15/189 [14:10<2:02:33, 42.26s/it]"
     ]
    },
    {
     "name": "stdout",
     "output_type": "stream",
     "text": [
      "CNV_simulation_01_subsampled_counts_70_genes_1000_CNVinf.h5ad\n"
     ]
    },
    {
     "name": "stderr",
     "output_type": "stream",
     "text": [
      "\r",
      "  8%|██████▊                                                                         | 16/189 [14:13<1:28:01, 30.53s/it]"
     ]
    },
    {
     "name": "stdout",
     "output_type": "stream",
     "text": [
      "CNV_simulation_01_subsampled_counts_70_genes_500_CNVinf.h5ad\n"
     ]
    },
    {
     "name": "stderr",
     "output_type": "stream",
     "text": [
      "\r",
      "  9%|███████▏                                                                        | 17/189 [14:15<1:02:38, 21.85s/it]"
     ]
    },
    {
     "name": "stdout",
     "output_type": "stream",
     "text": [
      "not possible\n",
      "CNV_simulation_01_subsampled_counts_50_genes_all_CNVinf.h5ad\n"
     ]
    },
    {
     "name": "stderr",
     "output_type": "stream",
     "text": [
      "\r",
      " 10%|███████▌                                                                        | 18/189 [15:44<2:00:04, 42.13s/it]"
     ]
    },
    {
     "name": "stdout",
     "output_type": "stream",
     "text": [
      "CNV_simulation_01_subsampled_counts_50_genes_20000_CNVinf.h5ad\n"
     ]
    },
    {
     "name": "stderr",
     "output_type": "stream",
     "text": [
      "\r",
      " 10%|████████                                                                        | 19/189 [16:47<2:16:49, 48.29s/it]"
     ]
    },
    {
     "name": "stdout",
     "output_type": "stream",
     "text": [
      "CNV_simulation_01_subsampled_counts_50_genes_15000_CNVinf.h5ad\n"
     ]
    },
    {
     "name": "stderr",
     "output_type": "stream",
     "text": [
      "\r",
      " 11%|████████▍                                                                       | 20/189 [17:39<2:19:24, 49.49s/it]"
     ]
    },
    {
     "name": "stdout",
     "output_type": "stream",
     "text": [
      "CNV_simulation_01_subsampled_counts_50_genes_10000_CNVinf.h5ad\n"
     ]
    },
    {
     "name": "stderr",
     "output_type": "stream",
     "text": [
      "\r",
      " 11%|████████▉                                                                       | 21/189 [18:10<2:02:29, 43.75s/it]"
     ]
    },
    {
     "name": "stdout",
     "output_type": "stream",
     "text": [
      "CNV_simulation_01_subsampled_counts_50_genes_5000_CNVinf.h5ad\n"
     ]
    },
    {
     "name": "stderr",
     "output_type": "stream",
     "text": [
      "\r",
      " 12%|█████████▎                                                                      | 22/189 [18:25<1:38:02, 35.23s/it]"
     ]
    },
    {
     "name": "stdout",
     "output_type": "stream",
     "text": [
      "CNV_simulation_01_subsampled_counts_50_genes_1000_CNVinf.h5ad\n"
     ]
    },
    {
     "name": "stderr",
     "output_type": "stream",
     "text": [
      "\r",
      " 12%|█████████▋                                                                      | 23/189 [18:28<1:10:54, 25.63s/it]"
     ]
    },
    {
     "name": "stdout",
     "output_type": "stream",
     "text": [
      "CNV_simulation_01_subsampled_counts_50_genes_500_CNVinf.h5ad\n"
     ]
    },
    {
     "name": "stderr",
     "output_type": "stream",
     "text": [
      "\r",
      " 13%|██████████▍                                                                       | 24/189 [18:32<52:50, 19.22s/it]"
     ]
    },
    {
     "name": "stdout",
     "output_type": "stream",
     "text": [
      "not possible\n",
      "CNV_simulation_01_subsampled_counts_20_genes_all_CNVinf.h5ad\n"
     ]
    },
    {
     "name": "stderr",
     "output_type": "stream",
     "text": [
      "\r",
      " 13%|██████████▌                                                                     | 25/189 [19:53<1:42:38, 37.55s/it]"
     ]
    },
    {
     "name": "stdout",
     "output_type": "stream",
     "text": [
      "CNV_simulation_01_subsampled_counts_20_genes_15000_CNVinf.h5ad\n"
     ]
    },
    {
     "name": "stderr",
     "output_type": "stream",
     "text": [
      "\r",
      " 14%|███████████                                                                     | 26/189 [20:41<1:50:37, 40.72s/it]"
     ]
    },
    {
     "name": "stdout",
     "output_type": "stream",
     "text": [
      "CNV_simulation_01_subsampled_counts_20_genes_5000_CNVinf.h5ad\n"
     ]
    },
    {
     "name": "stderr",
     "output_type": "stream",
     "text": [
      "\r",
      " 14%|███████████▍                                                                    | 27/189 [20:58<1:30:31, 33.52s/it]"
     ]
    },
    {
     "name": "stdout",
     "output_type": "stream",
     "text": [
      "CNV_simulation_01_subsampled_counts_10_genes_10000_CNVinf.h5ad\n"
     ]
    },
    {
     "name": "stderr",
     "output_type": "stream",
     "text": [
      "\r",
      " 15%|███████████▊                                                                    | 28/189 [21:28<1:27:05, 32.46s/it]"
     ]
    },
    {
     "name": "stdout",
     "output_type": "stream",
     "text": [
      "CNV_simulation_01_subsampled_counts_10_genes_1000_CNVinf.h5ad\n"
     ]
    },
    {
     "name": "stderr",
     "output_type": "stream",
     "text": [
      "\r",
      " 15%|████████████▎                                                                   | 29/189 [21:31<1:03:15, 23.72s/it]"
     ]
    },
    {
     "name": "stdout",
     "output_type": "stream",
     "text": [
      "CNV_simulation_01_subsampled_counts_5_genes_5000_CNVinf.h5ad\n"
     ]
    },
    {
     "name": "stderr",
     "output_type": "stream",
     "text": [
      "\r",
      " 16%|█████████████                                                                     | 30/189 [21:46<56:21, 21.27s/it]"
     ]
    },
    {
     "name": "stdout",
     "output_type": "stream",
     "text": [
      "CNV_simulation_01_subsampled_counts_5_genes_500_CNVinf.h5ad\n"
     ]
    },
    {
     "name": "stderr",
     "output_type": "stream",
     "text": [
      "\r",
      " 16%|█████████████▍                                                                    | 31/189 [21:48<40:29, 15.38s/it]"
     ]
    },
    {
     "name": "stdout",
     "output_type": "stream",
     "text": [
      "not possible\n",
      "CNV_simulation_01_subsampled_counts_3_genes_500_CNVinf.h5ad\n"
     ]
    },
    {
     "name": "stderr",
     "output_type": "stream",
     "text": [
      "\r",
      " 17%|█████████████▉                                                                    | 32/189 [21:50<29:24, 11.24s/it]"
     ]
    },
    {
     "name": "stdout",
     "output_type": "stream",
     "text": [
      "not possible\n",
      "CNV_simulation_01_subsampled_counts_2_genes_1000_CNVinf.h5ad\n"
     ]
    },
    {
     "name": "stderr",
     "output_type": "stream",
     "text": [
      "\r",
      " 17%|██████████████▎                                                                   | 33/189 [21:53<23:02,  8.86s/it]"
     ]
    },
    {
     "name": "stdout",
     "output_type": "stream",
     "text": [
      "CNV_simulation_01_subsampled_counts_1_genes_20000_CNVinf.h5ad\n"
     ]
    },
    {
     "name": "stderr",
     "output_type": "stream",
     "text": [
      "\r",
      " 18%|██████████████▍                                                                 | 34/189 [22:56<1:04:57, 25.14s/it]"
     ]
    },
    {
     "name": "stdout",
     "output_type": "stream",
     "text": [
      "CNV_simulation_01_subsampled_counts_1_genes_15000_CNVinf.h5ad\n"
     ]
    },
    {
     "name": "stderr",
     "output_type": "stream",
     "text": [
      "\r",
      " 19%|██████████████▊                                                                 | 35/189 [23:45<1:22:35, 32.18s/it]"
     ]
    },
    {
     "name": "stdout",
     "output_type": "stream",
     "text": [
      "CNV_simulation_01_subsampled_counts_1_genes_500_CNVinf.h5ad\n"
     ]
    },
    {
     "name": "stderr",
     "output_type": "stream",
     "text": [
      "\r",
      " 19%|███████████████▌                                                                  | 36/189 [23:46<58:34, 22.97s/it]"
     ]
    },
    {
     "name": "stdout",
     "output_type": "stream",
     "text": [
      "not possible\n",
      "CNV_simulation_01_subsampled_counts_100_genes_all_CNVinf.h5ad\n"
     ]
    },
    {
     "name": "stderr",
     "output_type": "stream",
     "text": [
      "\r",
      " 20%|███████████████▋                                                                | 37/189 [25:11<1:45:30, 41.64s/it]"
     ]
    },
    {
     "name": "stdout",
     "output_type": "stream",
     "text": [
      "CNV_simulation_01_subsampled_counts_100_genes_20000_CNVinf.h5ad\n"
     ]
    },
    {
     "name": "stderr",
     "output_type": "stream",
     "text": [
      "\r",
      " 20%|████████████████                                                                | 38/189 [26:18<2:03:50, 49.21s/it]"
     ]
    },
    {
     "name": "stdout",
     "output_type": "stream",
     "text": [
      "CNV_simulation_01_subsampled_counts_100_genes_15000_CNVinf.h5ad\n"
     ]
    },
    {
     "name": "stderr",
     "output_type": "stream",
     "text": [
      "\r",
      " 21%|████████████████▌                                                               | 39/189 [27:08<2:03:39, 49.46s/it]"
     ]
    },
    {
     "name": "stdout",
     "output_type": "stream",
     "text": [
      "CNV_simulation_01_subsampled_counts_100_genes_10000_CNVinf.h5ad\n"
     ]
    },
    {
     "name": "stderr",
     "output_type": "stream",
     "text": [
      "\r",
      " 21%|████████████████▉                                                               | 40/189 [27:40<1:49:51, 44.24s/it]"
     ]
    },
    {
     "name": "stdout",
     "output_type": "stream",
     "text": [
      "CNV_simulation_01_subsampled_counts_100_genes_5000_CNVinf.h5ad\n"
     ]
    },
    {
     "name": "stderr",
     "output_type": "stream",
     "text": [
      "\r",
      " 22%|█████████████████▎                                                              | 41/189 [27:57<1:28:39, 35.94s/it]"
     ]
    },
    {
     "name": "stdout",
     "output_type": "stream",
     "text": [
      "CNV_simulation_01_subsampled_counts_100_genes_1000_CNVinf.h5ad\n"
     ]
    },
    {
     "name": "stderr",
     "output_type": "stream",
     "text": [
      "\r",
      " 22%|█████████████████▊                                                              | 42/189 [28:00<1:04:12, 26.20s/it]"
     ]
    },
    {
     "name": "stdout",
     "output_type": "stream",
     "text": [
      "CNV_simulation_01_subsampled_counts_100_genes_500_CNVinf.h5ad\n"
     ]
    },
    {
     "name": "stderr",
     "output_type": "stream",
     "text": [
      "\r",
      " 23%|██████████████████▋                                                               | 43/189 [28:02<45:49, 18.84s/it]"
     ]
    },
    {
     "name": "stdout",
     "output_type": "stream",
     "text": [
      "not possible\n",
      "CNV_simulation_02_subsampled_counts_5_genes_10000_CNVinf.h5ad\n"
     ]
    },
    {
     "name": "stderr",
     "output_type": "stream",
     "text": [
      "\r",
      " 23%|███████████████████                                                               | 44/189 [28:34<55:15, 22.86s/it]"
     ]
    },
    {
     "name": "stdout",
     "output_type": "stream",
     "text": [
      "CNV_simulation_02_subsampled_counts_100_genes_20000_CNVinf.h5ad\n"
     ]
    },
    {
     "name": "stderr",
     "output_type": "stream",
     "text": [
      "\r",
      " 24%|███████████████████                                                             | 45/189 [29:38<1:24:19, 35.14s/it]"
     ]
    },
    {
     "name": "stdout",
     "output_type": "stream",
     "text": [
      "CNV_simulation_02_subsampled_counts_100_genes_15000_CNVinf.h5ad\n"
     ]
    },
    {
     "name": "stderr",
     "output_type": "stream",
     "text": [
      "\r",
      " 24%|███████████████████▍                                                            | 46/189 [30:26<1:33:08, 39.08s/it]"
     ]
    },
    {
     "name": "stdout",
     "output_type": "stream",
     "text": [
      "CNV_simulation_02_subsampled_counts_100_genes_10000_CNVinf.h5ad\n"
     ]
    },
    {
     "name": "stderr",
     "output_type": "stream",
     "text": [
      "\r",
      " 25%|███████████████████▉                                                            | 47/189 [30:57<1:26:12, 36.42s/it]"
     ]
    },
    {
     "name": "stdout",
     "output_type": "stream",
     "text": [
      "CNV_simulation_02_subsampled_counts_100_genes_5000_CNVinf.h5ad\n"
     ]
    },
    {
     "name": "stderr",
     "output_type": "stream",
     "text": [
      "\r",
      " 25%|████████████████████▎                                                           | 48/189 [31:12<1:11:00, 30.22s/it]"
     ]
    },
    {
     "name": "stdout",
     "output_type": "stream",
     "text": [
      "CNV_simulation_02_subsampled_counts_100_genes_1000_CNVinf.h5ad\n"
     ]
    },
    {
     "name": "stderr",
     "output_type": "stream",
     "text": [
      "\r",
      " 26%|█████████████████████▎                                                            | 49/189 [31:15<51:22, 22.02s/it]"
     ]
    },
    {
     "name": "stdout",
     "output_type": "stream",
     "text": [
      "CNV_simulation_02_subsampled_counts_100_genes_500_CNVinf.h5ad\n"
     ]
    },
    {
     "name": "stderr",
     "output_type": "stream",
     "text": [
      "\r",
      " 26%|█████████████████████▋                                                            | 50/189 [31:17<37:05, 16.01s/it]"
     ]
    },
    {
     "name": "stdout",
     "output_type": "stream",
     "text": [
      "CNV_simulation_02_subsampled_counts_70_genes_15000_CNVinf.h5ad\n"
     ]
    },
    {
     "name": "stderr",
     "output_type": "stream",
     "text": [
      "\r",
      " 27%|██████████████████████▏                                                           | 51/189 [32:05<58:30, 25.44s/it]"
     ]
    },
    {
     "name": "stdout",
     "output_type": "stream",
     "text": [
      "CNV_simulation_02_subsampled_counts_70_genes_10000_CNVinf.h5ad\n"
     ]
    },
    {
     "name": "stderr",
     "output_type": "stream",
     "text": [
      "\r",
      " 28%|██████████████████████                                                          | 52/189 [32:35<1:01:22, 26.88s/it]"
     ]
    },
    {
     "name": "stdout",
     "output_type": "stream",
     "text": [
      "CNV_simulation_02_subsampled_counts_70_genes_5000_CNVinf.h5ad\n"
     ]
    },
    {
     "name": "stderr",
     "output_type": "stream",
     "text": [
      "\r",
      " 28%|██████████████████████▉                                                           | 53/189 [32:51<53:34, 23.63s/it]"
     ]
    },
    {
     "name": "stdout",
     "output_type": "stream",
     "text": [
      "CNV_simulation_02_subsampled_counts_70_genes_1000_CNVinf.h5ad\n"
     ]
    },
    {
     "name": "stderr",
     "output_type": "stream",
     "text": [
      "\r",
      " 29%|███████████████████████▍                                                          | 54/189 [32:54<39:16, 17.45s/it]"
     ]
    },
    {
     "name": "stdout",
     "output_type": "stream",
     "text": [
      "CNV_simulation_02_subsampled_counts_70_genes_500_CNVinf.h5ad\n"
     ]
    },
    {
     "name": "stderr",
     "output_type": "stream",
     "text": [
      "\r",
      " 29%|███████████████████████▊                                                          | 55/189 [32:56<28:33, 12.78s/it]"
     ]
    },
    {
     "name": "stdout",
     "output_type": "stream",
     "text": [
      "CNV_simulation_02_subsampled_counts_50_genes_20000_CNVinf.h5ad\n"
     ]
    },
    {
     "name": "stderr",
     "output_type": "stream",
     "text": [
      "\r",
      " 30%|███████████████████████▋                                                        | 56/189 [33:58<1:01:19, 27.67s/it]"
     ]
    },
    {
     "name": "stdout",
     "output_type": "stream",
     "text": [
      "CNV_simulation_02_subsampled_counts_50_genes_10000_CNVinf.h5ad\n"
     ]
    },
    {
     "name": "stderr",
     "output_type": "stream",
     "text": [
      "\r",
      " 30%|████████████████████████▏                                                       | 57/189 [34:28<1:02:04, 28.22s/it]"
     ]
    },
    {
     "name": "stdout",
     "output_type": "stream",
     "text": [
      "CNV_simulation_02_subsampled_counts_50_genes_1000_CNVinf.h5ad\n"
     ]
    },
    {
     "name": "stderr",
     "output_type": "stream",
     "text": [
      "\r",
      " 31%|█████████████████████████▏                                                        | 58/189 [34:31<45:08, 20.68s/it]"
     ]
    },
    {
     "name": "stdout",
     "output_type": "stream",
     "text": [
      "CNV_simulation_02_subsampled_counts_50_genes_500_CNVinf.h5ad\n"
     ]
    },
    {
     "name": "stderr",
     "output_type": "stream",
     "text": [
      "\r",
      " 31%|█████████████████████████▌                                                        | 59/189 [34:33<32:34, 15.04s/it]"
     ]
    },
    {
     "name": "stdout",
     "output_type": "stream",
     "text": [
      "CNV_simulation_02_subsampled_counts_20_genes_all_CNVinf.h5ad\n"
     ]
    },
    {
     "name": "stderr",
     "output_type": "stream",
     "text": [
      "\r",
      " 32%|█████████████████████████▍                                                      | 60/189 [35:53<1:14:07, 34.48s/it]"
     ]
    },
    {
     "name": "stdout",
     "output_type": "stream",
     "text": [
      "CNV_simulation_02_subsampled_counts_5_genes_5000_CNVinf.h5ad\n"
     ]
    },
    {
     "name": "stderr",
     "output_type": "stream",
     "text": [
      "\r",
      " 32%|█████████████████████████▊                                                      | 61/189 [36:08<1:01:13, 28.70s/it]"
     ]
    },
    {
     "name": "stdout",
     "output_type": "stream",
     "text": [
      "CNV_simulation_02_subsampled_counts_5_genes_1000_CNVinf.h5ad\n"
     ]
    },
    {
     "name": "stderr",
     "output_type": "stream",
     "text": [
      "\r",
      " 33%|██████████████████████████▉                                                       | 62/189 [36:11<44:28, 21.01s/it]"
     ]
    },
    {
     "name": "stdout",
     "output_type": "stream",
     "text": [
      "CNV_simulation_02_subsampled_counts_5_genes_500_CNVinf.h5ad\n"
     ]
    },
    {
     "name": "stderr",
     "output_type": "stream",
     "text": [
      "\r",
      " 33%|███████████████████████████▎                                                      | 63/189 [36:13<32:08, 15.30s/it]"
     ]
    },
    {
     "name": "stdout",
     "output_type": "stream",
     "text": [
      "CNV_simulation_02_subsampled_counts_3_genes_all_CNVinf.h5ad\n"
     ]
    },
    {
     "name": "stderr",
     "output_type": "stream",
     "text": [
      "\r",
      " 34%|███████████████████████████                                                     | 64/189 [37:34<1:13:00, 35.05s/it]"
     ]
    },
    {
     "name": "stdout",
     "output_type": "stream",
     "text": [
      "CNV_simulation_02_subsampled_counts_3_genes_20000_CNVinf.h5ad\n"
     ]
    },
    {
     "name": "stderr",
     "output_type": "stream",
     "text": [
      "\r",
      " 34%|███████████████████████████▌                                                    | 65/189 [38:37<1:30:02, 43.57s/it]"
     ]
    },
    {
     "name": "stdout",
     "output_type": "stream",
     "text": [
      "CNV_simulation_02_subsampled_counts_3_genes_15000_CNVinf.h5ad\n"
     ]
    },
    {
     "name": "stderr",
     "output_type": "stream",
     "text": [
      "\r",
      " 35%|███████████████████████████▉                                                    | 66/189 [39:27<1:32:44, 45.24s/it]"
     ]
    },
    {
     "name": "stdout",
     "output_type": "stream",
     "text": [
      "CNV_simulation_02_subsampled_counts_3_genes_10000_CNVinf.h5ad\n"
     ]
    },
    {
     "name": "stderr",
     "output_type": "stream",
     "text": [
      "\r",
      " 35%|████████████████████████████▎                                                   | 67/189 [39:59<1:24:10, 41.39s/it]"
     ]
    },
    {
     "name": "stdout",
     "output_type": "stream",
     "text": [
      "CNV_simulation_02_subsampled_counts_3_genes_5000_CNVinf.h5ad\n"
     ]
    },
    {
     "name": "stderr",
     "output_type": "stream",
     "text": [
      "\r",
      " 36%|████████████████████████████▊                                                   | 68/189 [40:15<1:07:48, 33.62s/it]"
     ]
    },
    {
     "name": "stdout",
     "output_type": "stream",
     "text": [
      "CNV_simulation_02_subsampled_counts_3_genes_1000_CNVinf.h5ad\n"
     ]
    },
    {
     "name": "stderr",
     "output_type": "stream",
     "text": [
      "\r",
      " 37%|█████████████████████████████▉                                                    | 69/189 [40:21<51:10, 25.59s/it]"
     ]
    },
    {
     "name": "stdout",
     "output_type": "stream",
     "text": [
      "CNV_simulation_02_subsampled_counts_2_genes_all_CNVinf.h5ad\n"
     ]
    },
    {
     "name": "stderr",
     "output_type": "stream",
     "text": [
      "\r",
      " 37%|█████████████████████████████▋                                                  | 70/189 [41:51<1:28:53, 44.82s/it]"
     ]
    },
    {
     "name": "stdout",
     "output_type": "stream",
     "text": [
      "CNV_simulation_02_subsampled_counts_2_genes_20000_CNVinf.h5ad\n"
     ]
    },
    {
     "name": "stderr",
     "output_type": "stream",
     "text": [
      "\r",
      " 38%|██████████████████████████████                                                  | 71/189 [42:56<1:39:51, 50.78s/it]"
     ]
    },
    {
     "name": "stdout",
     "output_type": "stream",
     "text": [
      "CNV_simulation_02_subsampled_counts_2_genes_15000_CNVinf.h5ad\n"
     ]
    },
    {
     "name": "stderr",
     "output_type": "stream",
     "text": [
      "\r",
      " 38%|██████████████████████████████▍                                                 | 72/189 [43:45<1:38:04, 50.29s/it]"
     ]
    },
    {
     "name": "stdout",
     "output_type": "stream",
     "text": [
      "CNV_simulation_02_subsampled_counts_2_genes_10000_CNVinf.h5ad\n"
     ]
    },
    {
     "name": "stderr",
     "output_type": "stream",
     "text": [
      "\r",
      " 39%|██████████████████████████████▉                                                 | 73/189 [44:15<1:25:45, 44.35s/it]"
     ]
    },
    {
     "name": "stdout",
     "output_type": "stream",
     "text": [
      "CNV_simulation_02_subsampled_counts_2_genes_5000_CNVinf.h5ad\n"
     ]
    },
    {
     "name": "stderr",
     "output_type": "stream",
     "text": [
      "\r",
      " 39%|███████████████████████████████▎                                                | 74/189 [44:31<1:08:44, 35.87s/it]"
     ]
    },
    {
     "name": "stdout",
     "output_type": "stream",
     "text": [
      "CNV_simulation_02_subsampled_counts_2_genes_1000_CNVinf.h5ad\n"
     ]
    },
    {
     "name": "stderr",
     "output_type": "stream",
     "text": [
      "\r",
      " 40%|████████████████████████████████▌                                                 | 75/189 [44:34<49:23, 25.99s/it]"
     ]
    },
    {
     "name": "stdout",
     "output_type": "stream",
     "text": [
      "CNV_simulation_02_subsampled_counts_2_genes_500_CNVinf.h5ad\n"
     ]
    },
    {
     "name": "stderr",
     "output_type": "stream",
     "text": [
      "\r",
      " 40%|████████████████████████████████▉                                                 | 76/189 [44:36<35:21, 18.78s/it]"
     ]
    },
    {
     "name": "stdout",
     "output_type": "stream",
     "text": [
      "CNV_simulation_02_subsampled_counts_1_genes_all_CNVinf.h5ad\n"
     ]
    },
    {
     "name": "stderr",
     "output_type": "stream",
     "text": [
      "\r",
      " 41%|████████████████████████████████▌                                               | 77/189 [46:01<1:11:57, 38.54s/it]"
     ]
    },
    {
     "name": "stdout",
     "output_type": "stream",
     "text": [
      "CNV_simulation_02_subsampled_counts_1_genes_20000_CNVinf.h5ad\n"
     ]
    },
    {
     "name": "stderr",
     "output_type": "stream",
     "text": [
      "\r",
      " 41%|█████████████████████████████████                                               | 78/189 [47:06<1:25:46, 46.37s/it]"
     ]
    },
    {
     "name": "stdout",
     "output_type": "stream",
     "text": [
      "CNV_simulation_02_subsampled_counts_1_genes_15000_CNVinf.h5ad\n"
     ]
    },
    {
     "name": "stderr",
     "output_type": "stream",
     "text": [
      "\r",
      " 42%|█████████████████████████████████▍                                              | 79/189 [47:55<1:26:44, 47.31s/it]"
     ]
    },
    {
     "name": "stdout",
     "output_type": "stream",
     "text": [
      "CNV_simulation_02_subsampled_counts_1_genes_10000_CNVinf.h5ad\n"
     ]
    },
    {
     "name": "stderr",
     "output_type": "stream",
     "text": [
      "\r",
      " 42%|█████████████████████████████████▊                                              | 80/189 [48:28<1:17:58, 42.93s/it]"
     ]
    },
    {
     "name": "stdout",
     "output_type": "stream",
     "text": [
      "CNV_simulation_02_subsampled_counts_1_genes_5000_CNVinf.h5ad\n"
     ]
    },
    {
     "name": "stderr",
     "output_type": "stream",
     "text": [
      "\r",
      " 43%|██████████████████████████████████▎                                             | 81/189 [48:44<1:02:43, 34.85s/it]"
     ]
    },
    {
     "name": "stdout",
     "output_type": "stream",
     "text": [
      "CNV_simulation_02_subsampled_counts_1_genes_1000_CNVinf.h5ad\n"
     ]
    },
    {
     "name": "stderr",
     "output_type": "stream",
     "text": [
      "\r",
      " 43%|███████████████████████████████████▌                                              | 82/189 [48:47<45:09, 25.33s/it]"
     ]
    },
    {
     "name": "stdout",
     "output_type": "stream",
     "text": [
      "CNV_simulation_02_subsampled_counts_1_genes_500_CNVinf.h5ad\n"
     ]
    },
    {
     "name": "stderr",
     "output_type": "stream",
     "text": [
      "\r",
      " 44%|████████████████████████████████████                                              | 83/189 [48:49<32:23, 18.33s/it]"
     ]
    },
    {
     "name": "stdout",
     "output_type": "stream",
     "text": [
      "CNV_simulation_03_subsampled_counts_100_genes_15000_CNVinf.h5ad\n"
     ]
    },
    {
     "name": "stderr",
     "output_type": "stream",
     "text": [
      "\r",
      " 44%|████████████████████████████████████▍                                             | 84/189 [49:37<47:30, 27.15s/it]"
     ]
    },
    {
     "name": "stdout",
     "output_type": "stream",
     "text": [
      "CNV_simulation_03_subsampled_counts_100_genes_500_CNVinf.h5ad\n"
     ]
    },
    {
     "name": "stderr",
     "output_type": "stream",
     "text": [
      "\r",
      " 45%|████████████████████████████████████▉                                             | 85/189 [49:39<34:06, 19.68s/it]"
     ]
    },
    {
     "name": "stdout",
     "output_type": "stream",
     "text": [
      "CNV_simulation_03_subsampled_counts_50_genes_20000_CNVinf.h5ad\n"
     ]
    },
    {
     "name": "stderr",
     "output_type": "stream",
     "text": [
      "\r",
      " 46%|█████████████████████████████████████▎                                            | 86/189 [50:43<56:26, 32.88s/it]"
     ]
    },
    {
     "name": "stdout",
     "output_type": "stream",
     "text": [
      "CNV_simulation_03_subsampled_counts_50_genes_5000_CNVinf.h5ad\n"
     ]
    },
    {
     "name": "stderr",
     "output_type": "stream",
     "text": [
      "\r",
      " 46%|█████████████████████████████████████▋                                            | 87/189 [50:58<46:52, 27.58s/it]"
     ]
    },
    {
     "name": "stdout",
     "output_type": "stream",
     "text": [
      "CNV_simulation_03_subsampled_counts_20_genes_all_CNVinf.h5ad\n"
     ]
    },
    {
     "name": "stderr",
     "output_type": "stream",
     "text": [
      "\r",
      " 47%|█████████████████████████████████████▏                                          | 88/189 [52:19<1:13:20, 43.57s/it]"
     ]
    },
    {
     "name": "stdout",
     "output_type": "stream",
     "text": [
      "CNV_simulation_03_subsampled_counts_20_genes_20000_CNVinf.h5ad\n"
     ]
    },
    {
     "name": "stderr",
     "output_type": "stream",
     "text": [
      "\r",
      " 47%|█████████████████████████████████████▋                                          | 89/189 [53:22<1:22:29, 49.49s/it]"
     ]
    },
    {
     "name": "stdout",
     "output_type": "stream",
     "text": [
      "CNV_simulation_03_subsampled_counts_20_genes_15000_CNVinf.h5ad\n"
     ]
    },
    {
     "name": "stderr",
     "output_type": "stream",
     "text": [
      "\r",
      " 48%|██████████████████████████████████████                                          | 90/189 [54:10<1:20:43, 48.93s/it]"
     ]
    },
    {
     "name": "stdout",
     "output_type": "stream",
     "text": [
      "CNV_simulation_01_subsampled_counts_20_genes_20000_CNVinf.h5ad\n"
     ]
    },
    {
     "name": "stderr",
     "output_type": "stream",
     "text": [
      "\r",
      " 48%|██████████████████████████████████████▌                                         | 91/189 [55:13<1:26:54, 53.21s/it]"
     ]
    },
    {
     "name": "stdout",
     "output_type": "stream",
     "text": [
      "CNV_simulation_01_subsampled_counts_20_genes_10000_CNVinf.h5ad\n"
     ]
    },
    {
     "name": "stderr",
     "output_type": "stream",
     "text": [
      "\r",
      " 49%|██████████████████████████████████████▉                                         | 92/189 [55:43<1:14:41, 46.20s/it]"
     ]
    },
    {
     "name": "stdout",
     "output_type": "stream",
     "text": [
      "CNV_simulation_01_subsampled_counts_20_genes_1000_CNVinf.h5ad\n"
     ]
    },
    {
     "name": "stderr",
     "output_type": "stream",
     "text": [
      "\r",
      " 49%|████████████████████████████████████████▎                                         | 93/189 [55:46<53:13, 33.26s/it]"
     ]
    },
    {
     "name": "stdout",
     "output_type": "stream",
     "text": [
      "CNV_simulation_01_subsampled_counts_20_genes_500_CNVinf.h5ad\n"
     ]
    },
    {
     "name": "stderr",
     "output_type": "stream",
     "text": [
      "\r",
      " 50%|████████████████████████████████████████▊                                         | 94/189 [55:47<37:29, 23.68s/it]"
     ]
    },
    {
     "name": "stdout",
     "output_type": "stream",
     "text": [
      "not possible\n",
      "CNV_simulation_01_subsampled_counts_10_genes_all_CNVinf.h5ad\n"
     ]
    },
    {
     "name": "stderr",
     "output_type": "stream",
     "text": [
      "\r",
      " 50%|████████████████████████████████████████▏                                       | 95/189 [57:11<1:05:25, 41.76s/it]"
     ]
    },
    {
     "name": "stdout",
     "output_type": "stream",
     "text": [
      "CNV_simulation_01_subsampled_counts_10_genes_20000_CNVinf.h5ad\n"
     ]
    },
    {
     "name": "stderr",
     "output_type": "stream",
     "text": [
      "\r",
      " 51%|████████████████████████████████████████▋                                       | 96/189 [58:35<1:24:29, 54.51s/it]"
     ]
    },
    {
     "name": "stdout",
     "output_type": "stream",
     "text": [
      "CNV_simulation_01_subsampled_counts_10_genes_15000_CNVinf.h5ad\n"
     ]
    },
    {
     "name": "stderr",
     "output_type": "stream",
     "text": [
      "\r",
      " 51%|█████████████████████████████████████████                                       | 97/189 [59:32<1:24:49, 55.32s/it]"
     ]
    },
    {
     "name": "stdout",
     "output_type": "stream",
     "text": [
      "CNV_simulation_01_subsampled_counts_10_genes_5000_CNVinf.h5ad\n"
     ]
    },
    {
     "name": "stderr",
     "output_type": "stream",
     "text": [
      "\r",
      " 52%|█████████████████████████████████████████▍                                      | 98/189 [59:51<1:07:06, 44.25s/it]"
     ]
    },
    {
     "name": "stdout",
     "output_type": "stream",
     "text": [
      "CNV_simulation_01_subsampled_counts_10_genes_500_CNVinf.h5ad\n"
     ]
    },
    {
     "name": "stderr",
     "output_type": "stream",
     "text": [
      "\r",
      " 52%|██████████████████████████████████████████▉                                       | 99/189 [59:52<47:00, 31.34s/it]"
     ]
    },
    {
     "name": "stdout",
     "output_type": "stream",
     "text": [
      "not possible\n",
      "CNV_simulation_01_subsampled_counts_5_genes_all_CNVinf.h5ad\n"
     ]
    },
    {
     "name": "stderr",
     "output_type": "stream",
     "text": [
      "\r",
      " 53%|████████████████████████████████████████▋                                    | 100/189 [1:01:27<1:14:37, 50.31s/it]"
     ]
    },
    {
     "name": "stdout",
     "output_type": "stream",
     "text": [
      "CNV_simulation_01_subsampled_counts_5_genes_20000_CNVinf.h5ad\n"
     ]
    },
    {
     "name": "stderr",
     "output_type": "stream",
     "text": [
      "\r",
      " 53%|█████████████████████████████████████████▏                                   | 101/189 [1:03:04<1:34:27, 64.40s/it]"
     ]
    },
    {
     "name": "stdout",
     "output_type": "stream",
     "text": [
      "CNV_simulation_01_subsampled_counts_5_genes_15000_CNVinf.h5ad\n"
     ]
    },
    {
     "name": "stderr",
     "output_type": "stream",
     "text": [
      "\r",
      " 54%|█████████████████████████████████████████▌                                   | 102/189 [1:03:59<1:29:30, 61.73s/it]"
     ]
    },
    {
     "name": "stdout",
     "output_type": "stream",
     "text": [
      "CNV_simulation_01_subsampled_counts_5_genes_10000_CNVinf.h5ad\n"
     ]
    },
    {
     "name": "stderr",
     "output_type": "stream",
     "text": [
      "\r",
      " 54%|█████████████████████████████████████████▉                                   | 103/189 [1:04:58<1:27:08, 60.79s/it]"
     ]
    },
    {
     "name": "stdout",
     "output_type": "stream",
     "text": [
      "CNV_simulation_01_subsampled_counts_5_genes_1000_CNVinf.h5ad\n"
     ]
    },
    {
     "name": "stderr",
     "output_type": "stream",
     "text": [
      "\r",
      " 55%|██████████████████████████████████████████▎                                  | 104/189 [1:05:06<1:03:29, 44.82s/it]"
     ]
    },
    {
     "name": "stdout",
     "output_type": "stream",
     "text": [
      "CNV_simulation_01_subsampled_counts_3_genes_all_CNVinf.h5ad\n"
     ]
    },
    {
     "name": "stderr",
     "output_type": "stream",
     "text": [
      "\r",
      " 56%|██████████████████████████████████████████▊                                  | 105/189 [1:06:52<1:28:25, 63.17s/it]"
     ]
    },
    {
     "name": "stdout",
     "output_type": "stream",
     "text": [
      "CNV_simulation_01_subsampled_counts_3_genes_20000_CNVinf.h5ad\n"
     ]
    },
    {
     "name": "stderr",
     "output_type": "stream",
     "text": [
      "\r",
      " 56%|███████████████████████████████████████████▏                                 | 106/189 [1:08:06<1:32:08, 66.61s/it]"
     ]
    },
    {
     "name": "stdout",
     "output_type": "stream",
     "text": [
      "CNV_simulation_01_subsampled_counts_3_genes_15000_CNVinf.h5ad\n"
     ]
    },
    {
     "name": "stderr",
     "output_type": "stream",
     "text": [
      "\r",
      " 57%|███████████████████████████████████████████▌                                 | 107/189 [1:09:02<1:26:41, 63.43s/it]"
     ]
    },
    {
     "name": "stdout",
     "output_type": "stream",
     "text": [
      "CNV_simulation_01_subsampled_counts_3_genes_10000_CNVinf.h5ad\n"
     ]
    },
    {
     "name": "stderr",
     "output_type": "stream",
     "text": [
      "\r",
      " 57%|████████████████████████████████████████████                                 | 108/189 [1:09:46<1:17:36, 57.48s/it]"
     ]
    },
    {
     "name": "stdout",
     "output_type": "stream",
     "text": [
      "CNV_simulation_01_subsampled_counts_3_genes_5000_CNVinf.h5ad\n"
     ]
    },
    {
     "name": "stderr",
     "output_type": "stream",
     "text": [
      "\r",
      " 58%|████████████████████████████████████████████▍                                | 109/189 [1:10:21<1:07:44, 50.81s/it]"
     ]
    },
    {
     "name": "stdout",
     "output_type": "stream",
     "text": [
      "CNV_simulation_01_subsampled_counts_3_genes_1000_CNVinf.h5ad\n"
     ]
    },
    {
     "name": "stderr",
     "output_type": "stream",
     "text": [
      "\r",
      " 58%|█████████████████████████████████████████████▉                                 | 110/189 [1:10:29<49:49, 37.84s/it]"
     ]
    },
    {
     "name": "stdout",
     "output_type": "stream",
     "text": [
      "CNV_simulation_01_subsampled_counts_2_genes_all_CNVinf.h5ad\n"
     ]
    },
    {
     "name": "stderr",
     "output_type": "stream",
     "text": [
      "\r",
      " 59%|█████████████████████████████████████████████▏                               | 111/189 [1:12:36<1:24:05, 64.69s/it]"
     ]
    },
    {
     "name": "stdout",
     "output_type": "stream",
     "text": [
      "CNV_simulation_01_subsampled_counts_2_genes_20000_CNVinf.h5ad\n"
     ]
    },
    {
     "name": "stderr",
     "output_type": "stream",
     "text": [
      "\r",
      " 59%|█████████████████████████████████████████████▋                               | 112/189 [1:13:52<1:27:15, 67.99s/it]"
     ]
    },
    {
     "name": "stdout",
     "output_type": "stream",
     "text": [
      "CNV_simulation_01_subsampled_counts_2_genes_15000_CNVinf.h5ad\n"
     ]
    },
    {
     "name": "stderr",
     "output_type": "stream",
     "text": [
      "\r",
      " 60%|██████████████████████████████████████████████                               | 113/189 [1:14:57<1:25:02, 67.14s/it]"
     ]
    },
    {
     "name": "stdout",
     "output_type": "stream",
     "text": [
      "CNV_simulation_01_subsampled_counts_2_genes_10000_CNVinf.h5ad\n"
     ]
    },
    {
     "name": "stderr",
     "output_type": "stream",
     "text": [
      "\r",
      " 60%|██████████████████████████████████████████████▍                              | 114/189 [1:15:37<1:13:43, 58.99s/it]"
     ]
    },
    {
     "name": "stdout",
     "output_type": "stream",
     "text": [
      "CNV_simulation_01_subsampled_counts_2_genes_5000_CNVinf.h5ad\n"
     ]
    },
    {
     "name": "stderr",
     "output_type": "stream",
     "text": [
      "\r",
      " 61%|██████████████████████████████████████████████▊                              | 115/189 [1:16:08<1:02:23, 50.58s/it]"
     ]
    },
    {
     "name": "stdout",
     "output_type": "stream",
     "text": [
      "CNV_simulation_01_subsampled_counts_2_genes_500_CNVinf.h5ad\n"
     ]
    },
    {
     "name": "stderr",
     "output_type": "stream",
     "text": [
      "\r",
      " 61%|████████████████████████████████████████████████▍                              | 116/189 [1:16:10<43:49, 36.02s/it]"
     ]
    },
    {
     "name": "stdout",
     "output_type": "stream",
     "text": [
      "not possible\n",
      "CNV_simulation_01_subsampled_counts_1_genes_all_CNVinf.h5ad\n"
     ]
    },
    {
     "name": "stderr",
     "output_type": "stream",
     "text": [
      "\r",
      " 62%|███████████████████████████████████████████████▋                             | 117/189 [1:17:53<1:07:29, 56.25s/it]"
     ]
    },
    {
     "name": "stdout",
     "output_type": "stream",
     "text": [
      "CNV_simulation_01_subsampled_counts_1_genes_10000_CNVinf.h5ad\n"
     ]
    },
    {
     "name": "stderr",
     "output_type": "stream",
     "text": [
      "\r",
      " 62%|████████████████████████████████████████████████                             | 118/189 [1:19:04<1:11:43, 60.61s/it]"
     ]
    },
    {
     "name": "stdout",
     "output_type": "stream",
     "text": [
      "CNV_simulation_01_subsampled_counts_1_genes_5000_CNVinf.h5ad\n"
     ]
    },
    {
     "name": "stderr",
     "output_type": "stream",
     "text": [
      "\r",
      " 63%|█████████████████████████████████████████████████▋                             | 119/189 [1:19:29<58:06, 49.80s/it]"
     ]
    },
    {
     "name": "stdout",
     "output_type": "stream",
     "text": [
      "CNV_simulation_01_subsampled_counts_1_genes_1000_CNVinf.h5ad\n"
     ]
    },
    {
     "name": "stderr",
     "output_type": "stream",
     "text": [
      "\r",
      " 63%|██████████████████████████████████████████████████▏                            | 120/189 [1:19:36<42:37, 37.06s/it]"
     ]
    },
    {
     "name": "stdout",
     "output_type": "stream",
     "text": [
      "CNV_simulation_02_subsampled_counts_20_genes_20000_CNVinf.h5ad\n"
     ]
    },
    {
     "name": "stderr",
     "output_type": "stream",
     "text": [
      "\r",
      " 64%|██████████████████████████████████████████████████▌                            | 121/189 [1:21:01<58:18, 51.45s/it]"
     ]
    },
    {
     "name": "stdout",
     "output_type": "stream",
     "text": [
      "CNV_simulation_02_subsampled_counts_20_genes_15000_CNVinf.h5ad\n"
     ]
    },
    {
     "name": "stderr",
     "output_type": "stream",
     "text": [
      "\r",
      " 65%|█████████████████████████████████████████████████▋                           | 122/189 [1:22:04<1:01:28, 55.05s/it]"
     ]
    },
    {
     "name": "stdout",
     "output_type": "stream",
     "text": [
      "CNV_simulation_02_subsampled_counts_20_genes_10000_CNVinf.h5ad\n"
     ]
    },
    {
     "name": "stderr",
     "output_type": "stream",
     "text": [
      "\r",
      " 65%|███████████████████████████████████████████████████▍                           | 123/189 [1:22:41<54:24, 49.46s/it]"
     ]
    },
    {
     "name": "stdout",
     "output_type": "stream",
     "text": [
      "CNV_simulation_02_subsampled_counts_20_genes_5000_CNVinf.h5ad\n"
     ]
    },
    {
     "name": "stderr",
     "output_type": "stream",
     "text": [
      "\r",
      " 66%|███████████████████████████████████████████████████▊                           | 124/189 [1:22:58<43:08, 39.83s/it]"
     ]
    },
    {
     "name": "stdout",
     "output_type": "stream",
     "text": [
      "CNV_simulation_02_subsampled_counts_20_genes_1000_CNVinf.h5ad\n"
     ]
    },
    {
     "name": "stderr",
     "output_type": "stream",
     "text": [
      "\r",
      " 66%|████████████████████████████████████████████████████▏                          | 125/189 [1:23:02<30:57, 29.02s/it]"
     ]
    },
    {
     "name": "stdout",
     "output_type": "stream",
     "text": [
      "CNV_simulation_02_subsampled_counts_20_genes_500_CNVinf.h5ad\n"
     ]
    },
    {
     "name": "stderr",
     "output_type": "stream",
     "text": [
      "\r",
      " 67%|████████████████████████████████████████████████████▋                          | 126/189 [1:23:04<22:00, 20.96s/it]"
     ]
    },
    {
     "name": "stdout",
     "output_type": "stream",
     "text": [
      "CNV_simulation_02_subsampled_counts_10_genes_all_CNVinf.h5ad\n"
     ]
    },
    {
     "name": "stderr",
     "output_type": "stream",
     "text": [
      "\r",
      " 67%|█████████████████████████████████████████████████████                          | 127/189 [1:24:58<50:26, 48.81s/it]"
     ]
    },
    {
     "name": "stdout",
     "output_type": "stream",
     "text": [
      "CNV_simulation_02_subsampled_counts_10_genes_20000_CNVinf.h5ad\n"
     ]
    },
    {
     "name": "stderr",
     "output_type": "stream",
     "text": [
      "\r",
      " 68%|████████████████████████████████████████████████████▏                        | 128/189 [1:26:27<1:02:01, 61.01s/it]"
     ]
    },
    {
     "name": "stdout",
     "output_type": "stream",
     "text": [
      "CNV_simulation_02_subsampled_counts_10_genes_15000_CNVinf.h5ad\n"
     ]
    },
    {
     "name": "stderr",
     "output_type": "stream",
     "text": [
      "\r",
      " 68%|█████████████████████████████████████████████████████▉                         | 129/189 [1:27:23<59:21, 59.36s/it]"
     ]
    },
    {
     "name": "stdout",
     "output_type": "stream",
     "text": [
      "CNV_simulation_02_subsampled_counts_10_genes_10000_CNVinf.h5ad\n"
     ]
    },
    {
     "name": "stderr",
     "output_type": "stream",
     "text": [
      "\r",
      " 69%|██████████████████████████████████████████████████████▎                        | 130/189 [1:28:00<51:45, 52.64s/it]"
     ]
    },
    {
     "name": "stdout",
     "output_type": "stream",
     "text": [
      "CNV_simulation_02_subsampled_counts_10_genes_5000_CNVinf.h5ad\n"
     ]
    },
    {
     "name": "stderr",
     "output_type": "stream",
     "text": [
      "\r",
      " 69%|██████████████████████████████████████████████████████▊                        | 131/189 [1:28:21<41:43, 43.16s/it]"
     ]
    },
    {
     "name": "stdout",
     "output_type": "stream",
     "text": [
      "CNV_simulation_02_subsampled_counts_10_genes_500_CNVinf.h5ad\n"
     ]
    },
    {
     "name": "stderr",
     "output_type": "stream",
     "text": [
      "\r",
      " 70%|███████████████████████████████████████████████████████▏                       | 132/189 [1:28:23<29:18, 30.84s/it]"
     ]
    },
    {
     "name": "stdout",
     "output_type": "stream",
     "text": [
      "CNV_simulation_02_subsampled_counts_3_genes_500_CNVinf.h5ad\n"
     ]
    },
    {
     "name": "stderr",
     "output_type": "stream",
     "text": [
      "\r",
      " 70%|███████████████████████████████████████████████████████▌                       | 133/189 [1:28:25<20:44, 22.23s/it]"
     ]
    },
    {
     "name": "stdout",
     "output_type": "stream",
     "text": [
      "CNV_simulation_03_subsampled_counts_20_genes_10000_CNVinf.h5ad\n"
     ]
    },
    {
     "name": "stderr",
     "output_type": "stream",
     "text": [
      "\r",
      " 71%|████████████████████████████████████████████████████████                       | 134/189 [1:29:02<24:18, 26.51s/it]"
     ]
    },
    {
     "name": "stdout",
     "output_type": "stream",
     "text": [
      "CNV_simulation_03_subsampled_counts_100_genes_all_CNVinf.h5ad\n"
     ]
    },
    {
     "name": "stderr",
     "output_type": "stream",
     "text": [
      "\r",
      " 71%|████████████████████████████████████████████████████████▍                      | 135/189 [1:31:03<49:23, 54.88s/it]"
     ]
    },
    {
     "name": "stdout",
     "output_type": "stream",
     "text": [
      "CNV_simulation_03_subsampled_counts_100_genes_20000_CNVinf.h5ad\n"
     ]
    },
    {
     "name": "stderr",
     "output_type": "stream",
     "text": [
      "\r",
      " 72%|████████████████████████████████████████████████████████▊                      | 136/189 [1:32:13<52:25, 59.34s/it]"
     ]
    },
    {
     "name": "stdout",
     "output_type": "stream",
     "text": [
      "CNV_simulation_03_subsampled_counts_100_genes_10000_CNVinf.h5ad\n"
     ]
    },
    {
     "name": "stderr",
     "output_type": "stream",
     "text": [
      "\r",
      " 72%|█████████████████████████████████████████████████████████▎                     | 137/189 [1:32:47<44:52, 51.78s/it]"
     ]
    },
    {
     "name": "stdout",
     "output_type": "stream",
     "text": [
      "CNV_simulation_03_subsampled_counts_100_genes_5000_CNVinf.h5ad\n"
     ]
    },
    {
     "name": "stderr",
     "output_type": "stream",
     "text": [
      "\r",
      " 73%|█████████████████████████████████████████████████████████▋                     | 138/189 [1:33:05<35:32, 41.81s/it]"
     ]
    },
    {
     "name": "stdout",
     "output_type": "stream",
     "text": [
      "CNV_simulation_03_subsampled_counts_100_genes_1000_CNVinf.h5ad\n"
     ]
    },
    {
     "name": "stderr",
     "output_type": "stream",
     "text": [
      "\r",
      " 74%|██████████████████████████████████████████████████████████                     | 139/189 [1:33:09<25:15, 30.32s/it]"
     ]
    },
    {
     "name": "stdout",
     "output_type": "stream",
     "text": [
      "CNV_simulation_03_subsampled_counts_70_genes_all_CNVinf.h5ad\n"
     ]
    },
    {
     "name": "stderr",
     "output_type": "stream",
     "text": [
      "\r",
      " 74%|██████████████████████████████████████████████████████████▌                    | 140/189 [1:34:44<40:47, 49.94s/it]"
     ]
    },
    {
     "name": "stdout",
     "output_type": "stream",
     "text": [
      "CNV_simulation_03_subsampled_counts_70_genes_20000_CNVinf.h5ad\n"
     ]
    },
    {
     "name": "stderr",
     "output_type": "stream",
     "text": [
      "\r",
      " 75%|██████████████████████████████████████████████████████████▉                    | 141/189 [1:36:51<58:15, 72.83s/it]"
     ]
    },
    {
     "name": "stdout",
     "output_type": "stream",
     "text": [
      "CNV_simulation_03_subsampled_counts_70_genes_15000_CNVinf.h5ad\n"
     ]
    },
    {
     "name": "stderr",
     "output_type": "stream",
     "text": [
      "\r",
      " 75%|███████████████████████████████████████████████████████████▎                   | 142/189 [1:37:49<53:33, 68.37s/it]"
     ]
    },
    {
     "name": "stdout",
     "output_type": "stream",
     "text": [
      "CNV_simulation_03_subsampled_counts_70_genes_10000_CNVinf.h5ad\n"
     ]
    },
    {
     "name": "stderr",
     "output_type": "stream",
     "text": [
      "\r",
      " 76%|███████████████████████████████████████████████████████████▊                   | 143/189 [1:38:27<45:30, 59.37s/it]"
     ]
    },
    {
     "name": "stdout",
     "output_type": "stream",
     "text": [
      "CNV_simulation_03_subsampled_counts_70_genes_5000_CNVinf.h5ad\n"
     ]
    },
    {
     "name": "stderr",
     "output_type": "stream",
     "text": [
      "\r",
      " 76%|████████████████████████████████████████████████████████████▏                  | 144/189 [1:38:46<35:29, 47.32s/it]"
     ]
    },
    {
     "name": "stdout",
     "output_type": "stream",
     "text": [
      "CNV_simulation_03_subsampled_counts_70_genes_1000_CNVinf.h5ad\n"
     ]
    },
    {
     "name": "stderr",
     "output_type": "stream",
     "text": [
      "\r",
      " 77%|████████████████████████████████████████████████████████████▌                  | 145/189 [1:38:50<25:07, 34.26s/it]"
     ]
    },
    {
     "name": "stdout",
     "output_type": "stream",
     "text": [
      "CNV_simulation_03_subsampled_counts_70_genes_500_CNVinf.h5ad\n"
     ]
    },
    {
     "name": "stderr",
     "output_type": "stream",
     "text": [
      "\r",
      " 77%|█████████████████████████████████████████████████████████████                  | 146/189 [1:38:53<17:47, 24.82s/it]"
     ]
    },
    {
     "name": "stdout",
     "output_type": "stream",
     "text": [
      "CNV_simulation_03_subsampled_counts_50_genes_all_CNVinf.h5ad\n"
     ]
    },
    {
     "name": "stderr",
     "output_type": "stream",
     "text": [
      "\r",
      " 78%|█████████████████████████████████████████████████████████████▍                 | 147/189 [1:40:28<32:06, 45.86s/it]"
     ]
    },
    {
     "name": "stdout",
     "output_type": "stream",
     "text": [
      "CNV_simulation_03_subsampled_counts_50_genes_15000_CNVinf.h5ad\n"
     ]
    },
    {
     "name": "stderr",
     "output_type": "stream",
     "text": [
      "\r",
      " 78%|█████████████████████████████████████████████████████████████▊                 | 148/189 [1:41:30<34:37, 50.67s/it]"
     ]
    },
    {
     "name": "stdout",
     "output_type": "stream",
     "text": [
      "CNV_simulation_03_subsampled_counts_50_genes_10000_CNVinf.h5ad\n"
     ]
    },
    {
     "name": "stderr",
     "output_type": "stream",
     "text": [
      "\r",
      " 79%|██████████████████████████████████████████████████████████████▎                | 149/189 [1:42:06<30:52, 46.31s/it]"
     ]
    },
    {
     "name": "stdout",
     "output_type": "stream",
     "text": [
      "CNV_simulation_03_subsampled_counts_50_genes_1000_CNVinf.h5ad\n"
     ]
    },
    {
     "name": "stderr",
     "output_type": "stream",
     "text": [
      "\r",
      " 79%|██████████████████████████████████████████████████████████████▋                | 150/189 [1:42:10<21:48, 33.55s/it]"
     ]
    },
    {
     "name": "stdout",
     "output_type": "stream",
     "text": [
      "CNV_simulation_03_subsampled_counts_50_genes_500_CNVinf.h5ad\n"
     ]
    },
    {
     "name": "stderr",
     "output_type": "stream",
     "text": [
      "\r",
      " 80%|███████████████████████████████████████████████████████████████                | 151/189 [1:42:14<15:39, 24.72s/it]"
     ]
    },
    {
     "name": "stdout",
     "output_type": "stream",
     "text": [
      "CNV_simulation_03_subsampled_counts_20_genes_5000_CNVinf.h5ad\n"
     ]
    },
    {
     "name": "stderr",
     "output_type": "stream",
     "text": [
      "\r",
      " 80%|███████████████████████████████████████████████████████████████▌               | 152/189 [1:42:45<16:29, 26.76s/it]"
     ]
    },
    {
     "name": "stdout",
     "output_type": "stream",
     "text": [
      "CNV_simulation_03_subsampled_counts_20_genes_1000_CNVinf.h5ad\n"
     ]
    },
    {
     "name": "stderr",
     "output_type": "stream",
     "text": [
      "\r",
      " 81%|███████████████████████████████████████████████████████████████▉               | 153/189 [1:42:53<12:34, 20.95s/it]"
     ]
    },
    {
     "name": "stdout",
     "output_type": "stream",
     "text": [
      "CNV_simulation_03_subsampled_counts_20_genes_500_CNVinf.h5ad\n"
     ]
    },
    {
     "name": "stderr",
     "output_type": "stream",
     "text": [
      "\r",
      " 81%|████████████████████████████████████████████████████████████████▎              | 154/189 [1:42:57<09:17, 15.92s/it]"
     ]
    },
    {
     "name": "stdout",
     "output_type": "stream",
     "text": [
      "CNV_simulation_03_subsampled_counts_10_genes_all_CNVinf.h5ad\n"
     ]
    },
    {
     "name": "stderr",
     "output_type": "stream",
     "text": [
      "\r",
      " 82%|████████████████████████████████████████████████████████████████▊              | 155/189 [1:44:35<23:01, 40.62s/it]"
     ]
    },
    {
     "name": "stdout",
     "output_type": "stream",
     "text": [
      "CNV_simulation_03_subsampled_counts_10_genes_20000_CNVinf.h5ad\n"
     ]
    },
    {
     "name": "stderr",
     "output_type": "stream",
     "text": [
      "\r",
      " 83%|█████████████████████████████████████████████████████████████████▏             | 156/189 [1:46:13<31:49, 57.85s/it]"
     ]
    },
    {
     "name": "stdout",
     "output_type": "stream",
     "text": [
      "CNV_simulation_03_subsampled_counts_10_genes_15000_CNVinf.h5ad\n"
     ]
    },
    {
     "name": "stderr",
     "output_type": "stream",
     "text": [
      "\r",
      " 83%|█████████████████████████████████████████████████████████████████▌             | 157/189 [1:47:29<33:42, 63.19s/it]"
     ]
    },
    {
     "name": "stdout",
     "output_type": "stream",
     "text": [
      "CNV_simulation_03_subsampled_counts_10_genes_10000_CNVinf.h5ad\n"
     ]
    },
    {
     "name": "stderr",
     "output_type": "stream",
     "text": [
      "\r",
      " 84%|██████████████████████████████████████████████████████████████████             | 158/189 [1:48:11<29:25, 56.95s/it]"
     ]
    },
    {
     "name": "stdout",
     "output_type": "stream",
     "text": [
      "CNV_simulation_03_subsampled_counts_10_genes_5000_CNVinf.h5ad\n"
     ]
    },
    {
     "name": "stderr",
     "output_type": "stream",
     "text": [
      "\r",
      " 84%|██████████████████████████████████████████████████████████████████▍            | 159/189 [1:48:29<22:34, 45.16s/it]"
     ]
    },
    {
     "name": "stdout",
     "output_type": "stream",
     "text": [
      "CNV_simulation_03_subsampled_counts_10_genes_1000_CNVinf.h5ad\n"
     ]
    },
    {
     "name": "stderr",
     "output_type": "stream",
     "text": [
      "\r",
      " 85%|██████████████████████████████████████████████████████████████████▉            | 160/189 [1:48:32<15:47, 32.67s/it]"
     ]
    },
    {
     "name": "stdout",
     "output_type": "stream",
     "text": [
      "CNV_simulation_03_subsampled_counts_10_genes_500_CNVinf.h5ad\n"
     ]
    },
    {
     "name": "stderr",
     "output_type": "stream",
     "text": [
      "\r",
      " 85%|███████████████████████████████████████████████████████████████████▎           | 161/189 [1:48:34<10:58, 23.51s/it]"
     ]
    },
    {
     "name": "stdout",
     "output_type": "stream",
     "text": [
      "CNV_simulation_03_subsampled_counts_5_genes_all_CNVinf.h5ad\n"
     ]
    },
    {
     "name": "stderr",
     "output_type": "stream",
     "text": [
      "\r",
      " 86%|███████████████████████████████████████████████████████████████████▋           | 162/189 [1:50:11<20:27, 45.46s/it]"
     ]
    },
    {
     "name": "stdout",
     "output_type": "stream",
     "text": [
      "CNV_simulation_03_subsampled_counts_5_genes_20000_CNVinf.h5ad\n"
     ]
    },
    {
     "name": "stderr",
     "output_type": "stream",
     "text": [
      "\r",
      " 86%|████████████████████████████████████████████████████████████████████▏          | 163/189 [1:51:24<23:15, 53.67s/it]"
     ]
    },
    {
     "name": "stdout",
     "output_type": "stream",
     "text": [
      "CNV_simulation_03_subsampled_counts_5_genes_15000_CNVinf.h5ad\n"
     ]
    },
    {
     "name": "stderr",
     "output_type": "stream",
     "text": [
      "\r",
      " 87%|████████████████████████████████████████████████████████████████████▌          | 164/189 [1:52:21<22:50, 54.83s/it]"
     ]
    },
    {
     "name": "stdout",
     "output_type": "stream",
     "text": [
      "CNV_simulation_03_subsampled_counts_5_genes_10000_CNVinf.h5ad\n"
     ]
    },
    {
     "name": "stderr",
     "output_type": "stream",
     "text": [
      "\r",
      " 87%|████████████████████████████████████████████████████████████████████▉          | 165/189 [1:52:57<19:38, 49.09s/it]"
     ]
    },
    {
     "name": "stdout",
     "output_type": "stream",
     "text": [
      "CNV_simulation_03_subsampled_counts_5_genes_5000_CNVinf.h5ad\n"
     ]
    },
    {
     "name": "stderr",
     "output_type": "stream",
     "text": [
      "\r",
      " 88%|█████████████████████████████████████████████████████████████████████▍         | 166/189 [1:53:15<15:12, 39.69s/it]"
     ]
    },
    {
     "name": "stdout",
     "output_type": "stream",
     "text": [
      "CNV_simulation_03_subsampled_counts_5_genes_1000_CNVinf.h5ad\n"
     ]
    },
    {
     "name": "stderr",
     "output_type": "stream",
     "text": [
      "\r",
      " 88%|█████████████████████████████████████████████████████████████████████▊         | 167/189 [1:53:19<10:39, 29.06s/it]"
     ]
    },
    {
     "name": "stdout",
     "output_type": "stream",
     "text": [
      "CNV_simulation_03_subsampled_counts_5_genes_500_CNVinf.h5ad\n"
     ]
    },
    {
     "name": "stderr",
     "output_type": "stream",
     "text": [
      "\r",
      " 89%|██████████████████████████████████████████████████████████████████████▏        | 168/189 [1:53:21<07:20, 20.97s/it]"
     ]
    },
    {
     "name": "stdout",
     "output_type": "stream",
     "text": [
      "CNV_simulation_03_subsampled_counts_3_genes_all_CNVinf.h5ad\n"
     ]
    },
    {
     "name": "stderr",
     "output_type": "stream",
     "text": [
      "\r",
      " 89%|██████████████████████████████████████████████████████████████████████▋        | 169/189 [1:54:54<14:10, 42.54s/it]"
     ]
    },
    {
     "name": "stdout",
     "output_type": "stream",
     "text": [
      "CNV_simulation_03_subsampled_counts_3_genes_20000_CNVinf.h5ad\n"
     ]
    },
    {
     "name": "stderr",
     "output_type": "stream",
     "text": [
      "\r",
      " 90%|███████████████████████████████████████████████████████████████████████        | 170/189 [1:56:05<16:08, 50.95s/it]"
     ]
    },
    {
     "name": "stdout",
     "output_type": "stream",
     "text": [
      "CNV_simulation_03_subsampled_counts_3_genes_15000_CNVinf.h5ad\n"
     ]
    },
    {
     "name": "stderr",
     "output_type": "stream",
     "text": [
      "\r",
      " 90%|███████████████████████████████████████████████████████████████████████▍       | 171/189 [1:57:52<20:20, 67.80s/it]"
     ]
    },
    {
     "name": "stdout",
     "output_type": "stream",
     "text": [
      "CNV_simulation_03_subsampled_counts_3_genes_10000_CNVinf.h5ad\n"
     ]
    },
    {
     "name": "stderr",
     "output_type": "stream",
     "text": [
      "\r",
      " 91%|███████████████████████████████████████████████████████████████████████▉       | 172/189 [1:58:27<16:26, 58.05s/it]"
     ]
    },
    {
     "name": "stdout",
     "output_type": "stream",
     "text": [
      "CNV_simulation_03_subsampled_counts_3_genes_5000_CNVinf.h5ad\n"
     ]
    },
    {
     "name": "stderr",
     "output_type": "stream",
     "text": [
      "\r",
      " 92%|████████████████████████████████████████████████████████████████████████▎      | 173/189 [1:58:46<12:22, 46.43s/it]"
     ]
    },
    {
     "name": "stdout",
     "output_type": "stream",
     "text": [
      "CNV_simulation_03_subsampled_counts_3_genes_1000_CNVinf.h5ad\n"
     ]
    },
    {
     "name": "stderr",
     "output_type": "stream",
     "text": [
      "\r",
      " 92%|████████████████████████████████████████████████████████████████████████▋      | 174/189 [1:58:50<08:23, 33.58s/it]"
     ]
    },
    {
     "name": "stdout",
     "output_type": "stream",
     "text": [
      "CNV_simulation_03_subsampled_counts_3_genes_500_CNVinf.h5ad\n"
     ]
    },
    {
     "name": "stderr",
     "output_type": "stream",
     "text": [
      "\r",
      " 93%|█████████████████████████████████████████████████████████████████████████▏     | 175/189 [1:58:52<05:38, 24.19s/it]"
     ]
    },
    {
     "name": "stdout",
     "output_type": "stream",
     "text": [
      "CNV_simulation_03_subsampled_counts_2_genes_all_CNVinf.h5ad\n"
     ]
    },
    {
     "name": "stderr",
     "output_type": "stream",
     "text": [
      "\r",
      " 93%|█████████████████████████████████████████████████████████████████████████▌     | 176/189 [2:00:32<10:09, 46.89s/it]"
     ]
    },
    {
     "name": "stdout",
     "output_type": "stream",
     "text": [
      "CNV_simulation_03_subsampled_counts_2_genes_20000_CNVinf.h5ad\n"
     ]
    },
    {
     "name": "stderr",
     "output_type": "stream",
     "text": [
      "\r",
      " 94%|█████████████████████████████████████████████████████████████████████████▉     | 177/189 [2:01:46<10:59, 54.94s/it]"
     ]
    },
    {
     "name": "stdout",
     "output_type": "stream",
     "text": [
      "CNV_simulation_03_subsampled_counts_2_genes_15000_CNVinf.h5ad\n"
     ]
    },
    {
     "name": "stderr",
     "output_type": "stream",
     "text": [
      "\r",
      " 94%|██████████████████████████████████████████████████████████████████████████▍    | 178/189 [2:02:40<10:02, 54.73s/it]"
     ]
    },
    {
     "name": "stdout",
     "output_type": "stream",
     "text": [
      "CNV_simulation_03_subsampled_counts_2_genes_10000_CNVinf.h5ad\n"
     ]
    },
    {
     "name": "stderr",
     "output_type": "stream",
     "text": [
      "\r",
      " 95%|██████████████████████████████████████████████████████████████████████████▊    | 179/189 [2:03:22<08:27, 50.80s/it]"
     ]
    },
    {
     "name": "stdout",
     "output_type": "stream",
     "text": [
      "CNV_simulation_03_subsampled_counts_2_genes_5000_CNVinf.h5ad\n"
     ]
    },
    {
     "name": "stderr",
     "output_type": "stream",
     "text": [
      "\r",
      " 95%|███████████████████████████████████████████████████████████████████████████▏   | 180/189 [2:03:39<06:06, 40.73s/it]"
     ]
    },
    {
     "name": "stdout",
     "output_type": "stream",
     "text": [
      "CNV_simulation_03_subsampled_counts_2_genes_1000_CNVinf.h5ad\n"
     ]
    },
    {
     "name": "stderr",
     "output_type": "stream",
     "text": [
      "\r",
      " 96%|███████████████████████████████████████████████████████████████████████████▋   | 181/189 [2:03:43<03:58, 29.77s/it]"
     ]
    },
    {
     "name": "stdout",
     "output_type": "stream",
     "text": [
      "CNV_simulation_03_subsampled_counts_2_genes_500_CNVinf.h5ad\n"
     ]
    },
    {
     "name": "stderr",
     "output_type": "stream",
     "text": [
      "\r",
      " 96%|████████████████████████████████████████████████████████████████████████████   | 182/189 [2:03:45<02:30, 21.44s/it]"
     ]
    },
    {
     "name": "stdout",
     "output_type": "stream",
     "text": [
      "CNV_simulation_03_subsampled_counts_1_genes_all_CNVinf.h5ad\n"
     ]
    },
    {
     "name": "stderr",
     "output_type": "stream",
     "text": [
      "\r",
      " 97%|████████████████████████████████████████████████████████████████████████████▍  | 183/189 [2:05:18<04:17, 42.87s/it]"
     ]
    },
    {
     "name": "stdout",
     "output_type": "stream",
     "text": [
      "CNV_simulation_03_subsampled_counts_1_genes_20000_CNVinf.h5ad\n"
     ]
    },
    {
     "name": "stderr",
     "output_type": "stream",
     "text": [
      "\r",
      " 97%|████████████████████████████████████████████████████████████████████████████▉  | 184/189 [2:06:32<04:21, 52.29s/it]"
     ]
    },
    {
     "name": "stdout",
     "output_type": "stream",
     "text": [
      "CNV_simulation_03_subsampled_counts_1_genes_15000_CNVinf.h5ad\n"
     ]
    },
    {
     "name": "stderr",
     "output_type": "stream",
     "text": [
      "\r",
      " 98%|█████████████████████████████████████████████████████████████████████████████▎ | 185/189 [2:07:27<03:31, 52.97s/it]"
     ]
    },
    {
     "name": "stdout",
     "output_type": "stream",
     "text": [
      "CNV_simulation_03_subsampled_counts_1_genes_10000_CNVinf.h5ad\n"
     ]
    },
    {
     "name": "stderr",
     "output_type": "stream",
     "text": [
      "\r",
      " 98%|█████████████████████████████████████████████████████████████████████████████▋ | 186/189 [2:08:03<02:23, 47.85s/it]"
     ]
    },
    {
     "name": "stdout",
     "output_type": "stream",
     "text": [
      "CNV_simulation_03_subsampled_counts_1_genes_5000_CNVinf.h5ad\n"
     ]
    },
    {
     "name": "stderr",
     "output_type": "stream",
     "text": [
      "\r",
      " 99%|██████████████████████████████████████████████████████████████████████████████▏| 187/189 [2:08:21<01:17, 38.88s/it]"
     ]
    },
    {
     "name": "stdout",
     "output_type": "stream",
     "text": [
      "CNV_simulation_03_subsampled_counts_1_genes_1000_CNVinf.h5ad\n"
     ]
    },
    {
     "name": "stderr",
     "output_type": "stream",
     "text": [
      "\r",
      " 99%|██████████████████████████████████████████████████████████████████████████████▌| 188/189 [2:08:24<00:28, 28.18s/it]"
     ]
    },
    {
     "name": "stdout",
     "output_type": "stream",
     "text": [
      "CNV_simulation_03_subsampled_counts_1_genes_500_CNVinf.h5ad\n"
     ]
    },
    {
     "name": "stderr",
     "output_type": "stream",
     "text": [
      "100%|███████████████████████████████████████████████████████████████████████████████| 189/189 [2:08:26<00:00, 40.78s/it]\n"
     ]
    }
   ],
   "source": [
    "from tqdm import tqdm\n",
    "results=pd.DataFrame(columns=['type_of_sampling','experiment','n_genes','n_counts','mean_countsxcell','nmi','ari','F1score_all','F1score_gain',\n",
    "                      'F1score_loss','AUC_loss','PR_gains','AUC_loss','PR_loss'])\n",
    "i=0\n",
    "for file in tqdm(processed_datasets_cg):\n",
    "    print(file)\n",
    "    experiment_tag=file.split('_')[2]\n",
    "    counts=file.split('_')[5]\n",
    "    genes=file.split('_')[7]\n",
    "    adata=sc.read(os.path.join(path_simulation,file))\n",
    "    # clustering similarity metrics\n",
    "    comp_key=[a for a in adata.obs.columns if 'cnv_leiden_res' in a]\n",
    "    ari = icv.tl.compute_ari(adata, reference_key='simulated_subclone', computed_key=comp_key[0])\n",
    "    nmi = icv.tl.compute_nmi(adata, reference_key='simulated_subclone', computed_key=comp_key[0])\n",
    "    # CNV predictability metrics\n",
    "    try:\n",
    "        F1score_dict=compute_cnv_metrics(adata)\n",
    "        ROC_PR_dict=compute_cnv_auc(adata)\n",
    "        results.loc[i,'F1score_all']=F1score_dict['All']\n",
    "        results.loc[i,'F1score_gain']=F1score_dict['Gain']\n",
    "        results.loc[i,'F1score_loss']=F1score_dict['Loss']\n",
    "        results.loc[i,'AUC_gains']=ROC_PR_dict['ROC AUC (Gains)']\n",
    "        results.loc[i,'PR_gains']=ROC_PR_dict['PR AUC (Gains)']\n",
    "        results.loc[i,'AUC_loss']=ROC_PR_dict['ROC AUC (Losses)']\n",
    "        results.loc[i,'PR_loss']=ROC_PR_dict['PR AUC (Losses)']\n",
    "    except: \n",
    "        print('not possible')\n",
    "        ## formatting them as CNVs\n",
    "    results.loc[i,'type_of_sampling']=type_of_subsampling\n",
    "    results.loc[i,'n_genes']=genes\n",
    "    results.loc[i,'n_subsample']=counts\n",
    "    results.loc[i,'mean_countsxcell']=np.mean(np.sum(adata.layers['CNV_simulated_raw'].todense(),axis=1)) # confirm with augusta\n",
    "    results.loc[i,'ari']=ari\n",
    "    results.loc[i,'nmi']=nmi\n",
    "    results.loc[i,'experiment']=experiment_tag\n",
    "    i=i+1"
   ]
  },
  {
   "cell_type": "markdown",
   "id": "3ceede29",
   "metadata": {},
   "source": [
    "## Save results and plot them:"
   ]
  },
  {
   "cell_type": "code",
   "execution_count": 122,
   "id": "83377fc4",
   "metadata": {},
   "outputs": [],
   "source": [
    "saving_path='/home/sergio/Jnotebooks/inferCNV/InSituCNV/Figure2/04_Compare_results_using_metrics'\n",
    "results.to_csv(os.path.join(saving_path,'metrics_cnv_inference_across_counts.csv'))"
   ]
  },
  {
   "cell_type": "code",
   "execution_count": 144,
   "id": "90ade0f6",
   "metadata": {},
   "outputs": [],
   "source": [
    "import pandas as pd\n",
    "\n",
    "def create_condensed_dataframe(results, ari_column):\n",
    "    \"\"\"\n",
    "    Create a pivot table from the results DataFrame with specified ARI column.\n",
    "    \n",
    "    Parameters:\n",
    "        results (pd.DataFrame): Input DataFrame containing 'n_genes', 'n_counts', and ARI values.\n",
    "        ari_column (str): Column name in `results` that contains ARI values.\n",
    "    \n",
    "    Returns:\n",
    "        pd.DataFrame: Pivot table with 'n_genes' as index and 'n_counts' as columns.\n",
    "    \"\"\"\n",
    "    ari_all = pd.DataFrame(index=results['n_genes'].unique(), \n",
    "                           columns=sorted(results['n_counts'].unique()))\n",
    "    \n",
    "    for i in results.index:\n",
    "        ari_all.loc[results.loc[i, 'n_genes'], results.loc[i, 'n_counts']] = results.loc[i, ari_column]\n",
    "    n_genes = ['all', '20000', '15000', '10000', '5000', '1000', '500']\n",
    "    n_counts = ['100', '70', '50', '20', '10', '5', '3', '2', '1']\n",
    "    \n",
    "    return ari_all#.loc[n_genes, n_counts]\n"
   ]
  },
  {
   "cell_type": "code",
   "execution_count": 129,
   "id": "9c9ccc37",
   "metadata": {},
   "outputs": [],
   "source": [
    "results['n_counts']=results['n_subsample']"
   ]
  },
  {
   "cell_type": "code",
   "execution_count": 130,
   "id": "601633be",
   "metadata": {},
   "outputs": [],
   "source": [
    "results_1=results[results['experiment']=='01']\n",
    "results_2=results[results['experiment']=='02']\n",
    "results_3=results[results['experiment']=='03']"
   ]
  },
  {
   "cell_type": "code",
   "execution_count": 131,
   "id": "a0806a7f",
   "metadata": {},
   "outputs": [
    {
     "data": {
      "text/html": [
       "<div>\n",
       "<style scoped>\n",
       "    .dataframe tbody tr th:only-of-type {\n",
       "        vertical-align: middle;\n",
       "    }\n",
       "\n",
       "    .dataframe tbody tr th {\n",
       "        vertical-align: top;\n",
       "    }\n",
       "\n",
       "    .dataframe thead th {\n",
       "        text-align: right;\n",
       "    }\n",
       "</style>\n",
       "<table border=\"1\" class=\"dataframe\">\n",
       "  <thead>\n",
       "    <tr style=\"text-align: right;\">\n",
       "      <th></th>\n",
       "      <th>1</th>\n",
       "      <th>10</th>\n",
       "      <th>100</th>\n",
       "      <th>2</th>\n",
       "      <th>20</th>\n",
       "      <th>3</th>\n",
       "      <th>5</th>\n",
       "      <th>50</th>\n",
       "      <th>70</th>\n",
       "    </tr>\n",
       "  </thead>\n",
       "  <tbody>\n",
       "    <tr>\n",
       "      <th>15000</th>\n",
       "      <td>0.464573</td>\n",
       "      <td>0.980766</td>\n",
       "      <td>0.991309</td>\n",
       "      <td>0.590311</td>\n",
       "      <td>0.993955</td>\n",
       "      <td>0.729614</td>\n",
       "      <td>0.933565</td>\n",
       "      <td>1.0</td>\n",
       "      <td>0.998506</td>\n",
       "    </tr>\n",
       "    <tr>\n",
       "      <th>500</th>\n",
       "      <td>0.006642</td>\n",
       "      <td>0.031282</td>\n",
       "      <td>0.060326</td>\n",
       "      <td>-0.003937</td>\n",
       "      <td>0.018583</td>\n",
       "      <td>-0.001243</td>\n",
       "      <td>0.008992</td>\n",
       "      <td>0.050902</td>\n",
       "      <td>0.050829</td>\n",
       "    </tr>\n",
       "    <tr>\n",
       "      <th>20000</th>\n",
       "      <td>0.487376</td>\n",
       "      <td>0.979342</td>\n",
       "      <td>0.992932</td>\n",
       "      <td>0.687363</td>\n",
       "      <td>0.995357</td>\n",
       "      <td>0.881037</td>\n",
       "      <td>0.947084</td>\n",
       "      <td>0.995251</td>\n",
       "      <td>0.994597</td>\n",
       "    </tr>\n",
       "    <tr>\n",
       "      <th>5000</th>\n",
       "      <td>0.110898</td>\n",
       "      <td>0.789994</td>\n",
       "      <td>0.925885</td>\n",
       "      <td>0.2794</td>\n",
       "      <td>0.865476</td>\n",
       "      <td>0.423756</td>\n",
       "      <td>0.587364</td>\n",
       "      <td>0.936625</td>\n",
       "      <td>0.945763</td>\n",
       "    </tr>\n",
       "    <tr>\n",
       "      <th>all</th>\n",
       "      <td>0.537991</td>\n",
       "      <td>0.994061</td>\n",
       "      <td>0.992932</td>\n",
       "      <td>0.685134</td>\n",
       "      <td>1.0</td>\n",
       "      <td>0.924935</td>\n",
       "      <td>0.966288</td>\n",
       "      <td>0.998506</td>\n",
       "      <td>0.998506</td>\n",
       "    </tr>\n",
       "    <tr>\n",
       "      <th>10000</th>\n",
       "      <td>0.164573</td>\n",
       "      <td>0.916696</td>\n",
       "      <td>0.984534</td>\n",
       "      <td>0.372079</td>\n",
       "      <td>0.983407</td>\n",
       "      <td>0.491987</td>\n",
       "      <td>0.670787</td>\n",
       "      <td>0.994699</td>\n",
       "      <td>0.993869</td>\n",
       "    </tr>\n",
       "    <tr>\n",
       "      <th>1000</th>\n",
       "      <td>-0.000734</td>\n",
       "      <td>0.009652</td>\n",
       "      <td>0.091553</td>\n",
       "      <td>0.011229</td>\n",
       "      <td>0.018265</td>\n",
       "      <td>0.001959</td>\n",
       "      <td>0.025478</td>\n",
       "      <td>0.014715</td>\n",
       "      <td>0.024044</td>\n",
       "    </tr>\n",
       "  </tbody>\n",
       "</table>\n",
       "</div>"
      ],
      "text/plain": [
       "              1        10       100         2        20         3         5  \\\n",
       "15000  0.464573  0.980766  0.991309  0.590311  0.993955  0.729614  0.933565   \n",
       "500    0.006642  0.031282  0.060326 -0.003937  0.018583 -0.001243  0.008992   \n",
       "20000  0.487376  0.979342  0.992932  0.687363  0.995357  0.881037  0.947084   \n",
       "5000   0.110898  0.789994  0.925885    0.2794  0.865476  0.423756  0.587364   \n",
       "all    0.537991  0.994061  0.992932  0.685134       1.0  0.924935  0.966288   \n",
       "10000  0.164573  0.916696  0.984534  0.372079  0.983407  0.491987  0.670787   \n",
       "1000  -0.000734  0.009652  0.091553  0.011229  0.018265  0.001959  0.025478   \n",
       "\n",
       "             50        70  \n",
       "15000       1.0  0.998506  \n",
       "500    0.050902  0.050829  \n",
       "20000  0.995251  0.994597  \n",
       "5000   0.936625  0.945763  \n",
       "all    0.998506  0.998506  \n",
       "10000  0.994699  0.993869  \n",
       "1000   0.014715  0.024044  "
      ]
     },
     "execution_count": 131,
     "metadata": {},
     "output_type": "execute_result"
    }
   ],
   "source": [
    "ari_all"
   ]
  },
  {
   "cell_type": "code",
   "execution_count": 132,
   "id": "f5dab180",
   "metadata": {},
   "outputs": [
    {
     "data": {
      "text/plain": [
       "Text(0.5, 1.0, 'ari')"
      ]
     },
     "execution_count": 132,
     "metadata": {},
     "output_type": "execute_result"
    },
    {
     "data": {
      "image/png": "[encoded data removed]",
      "text/plain": [
       "<Figure size 640x480 with 2 Axes>"
      ]
     },
     "metadata": {},
     "output_type": "display_data"
    },
    {
     "data": {
      "image/png": "[encoded data removed]",
      "text/plain": [
       "<Figure size 640x480 with 2 Axes>"
      ]
     },
     "metadata": {},
     "output_type": "display_data"
    },
    {
     "data": {
      "image/png": "[encoded data removed]",
      "text/plain": [
       "<Figure size 640x480 with 2 Axes>"
      ]
     },
     "metadata": {},
     "output_type": "display_data"
    }
   ],
   "source": [
    "ari_all=create_condensed_dataframe(results_1,'ari')\n",
    "plt.figure()\n",
    "sns.heatmap(ari_all.astype(float))\n",
    "plt.title('ari')\n",
    "plt.figure()\n",
    "ari_all=create_condensed_dataframe(results_2,'ari')\n",
    "sns.heatmap(ari_all.astype(float))\n",
    "plt.title('ari')\n",
    "plt.figure()\n",
    "ari_all=create_condensed_dataframe(results_3,'ari')\n",
    "sns.heatmap(ari_all.astype(float))\n",
    "plt.title('ari')"
   ]
  },
  {
   "cell_type": "code",
   "execution_count": 133,
   "id": "c84c27e1",
   "metadata": {},
   "outputs": [
    {
     "data": {
      "text/plain": [
       "Text(0.5, 1.0, 'nmi')"
      ]
     },
     "execution_count": 133,
     "metadata": {},
     "output_type": "execute_result"
    },
    {
     "data": {
      "image/png": "[encoded data removed]",
      "text/plain": [
       "<Figure size 640x480 with 2 Axes>"
      ]
     },
     "metadata": {},
     "output_type": "display_data"
    }
   ],
   "source": [
    "nmi_all=create_condensed_dataframe(results_1,'nmi')\n",
    "sns.heatmap(nmi_all.astype(float))\n",
    "plt.title('nmi')"
   ]
  },
  {
   "cell_type": "code",
   "execution_count": 134,
   "id": "b6ea25d1",
   "metadata": {},
   "outputs": [
    {
     "data": {
      "text/plain": [
       "Text(0.5, 1.0, 'AUC gains')"
      ]
     },
     "execution_count": 134,
     "metadata": {},
     "output_type": "execute_result"
    },
    {
     "data": {
      "image/png": "[encoded data removed]",
      "text/plain": [
       "<Figure size 640x480 with 2 Axes>"
      ]
     },
     "metadata": {},
     "output_type": "display_data"
    }
   ],
   "source": [
    "AUC_gains=create_condensed_dataframe(results_1,'AUC_gains')\n",
    "sns.heatmap(AUC_gains.astype(float))\n",
    "plt.title('AUC gains')"
   ]
  },
  {
   "cell_type": "code",
   "execution_count": 139,
   "id": "4158157a",
   "metadata": {},
   "outputs": [
    {
     "data": {
      "text/html": [
       "<div>\n",
       "<style scoped>\n",
       "    .dataframe tbody tr th:only-of-type {\n",
       "        vertical-align: middle;\n",
       "    }\n",
       "\n",
       "    .dataframe tbody tr th {\n",
       "        vertical-align: top;\n",
       "    }\n",
       "\n",
       "    .dataframe thead th {\n",
       "        text-align: right;\n",
       "    }\n",
       "</style>\n",
       "<table border=\"1\" class=\"dataframe\">\n",
       "  <thead>\n",
       "    <tr style=\"text-align: right;\">\n",
       "      <th></th>\n",
       "      <th>type_of_sampling</th>\n",
       "      <th>experiment</th>\n",
       "      <th>n_genes</th>\n",
       "      <th>n_counts</th>\n",
       "      <th>mean_countsxcell</th>\n",
       "      <th>nmi</th>\n",
       "      <th>ari</th>\n",
       "      <th>F1score_all</th>\n",
       "      <th>F1score_gain</th>\n",
       "      <th>F1score_loss</th>\n",
       "      <th>AUC_loss</th>\n",
       "      <th>PR_gains</th>\n",
       "      <th>AUC_loss</th>\n",
       "      <th>PR_loss</th>\n",
       "      <th>AUC_gains</th>\n",
       "      <th>n_subsample</th>\n",
       "    </tr>\n",
       "  </thead>\n",
       "  <tbody>\n",
       "    <tr>\n",
       "      <th>10</th>\n",
       "      <td>subsampled</td>\n",
       "      <td>01</td>\n",
       "      <td>all</td>\n",
       "      <td>70</td>\n",
       "      <td>25933.25</td>\n",
       "      <td>0.814561</td>\n",
       "      <td>0.784699</td>\n",
       "      <td>0.838174</td>\n",
       "      <td>0.898471</td>\n",
       "      <td>0.698708</td>\n",
       "      <td>0.779954</td>\n",
       "      <td>0.71482</td>\n",
       "      <td>0.779954</td>\n",
       "      <td>0.148164</td>\n",
       "      <td>0.927702</td>\n",
       "      <td>70</td>\n",
       "    </tr>\n",
       "    <tr>\n",
       "      <th>11</th>\n",
       "      <td>subsampled</td>\n",
       "      <td>01</td>\n",
       "      <td>20000</td>\n",
       "      <td>70</td>\n",
       "      <td>19246.542969</td>\n",
       "      <td>0.87118</td>\n",
       "      <td>0.911187</td>\n",
       "      <td>0.842185</td>\n",
       "      <td>0.901401</td>\n",
       "      <td>0.696957</td>\n",
       "      <td>0.779104</td>\n",
       "      <td>0.707544</td>\n",
       "      <td>0.779104</td>\n",
       "      <td>0.138385</td>\n",
       "      <td>0.930251</td>\n",
       "      <td>70</td>\n",
       "    </tr>\n",
       "    <tr>\n",
       "      <th>12</th>\n",
       "      <td>subsampled</td>\n",
       "      <td>01</td>\n",
       "      <td>15000</td>\n",
       "      <td>70</td>\n",
       "      <td>13707.869141</td>\n",
       "      <td>0.794897</td>\n",
       "      <td>0.833987</td>\n",
       "      <td>0.825026</td>\n",
       "      <td>0.891858</td>\n",
       "      <td>0.633884</td>\n",
       "      <td>0.742772</td>\n",
       "      <td>0.68863</td>\n",
       "      <td>0.742772</td>\n",
       "      <td>0.035224</td>\n",
       "      <td>0.921897</td>\n",
       "      <td>70</td>\n",
       "    </tr>\n",
       "    <tr>\n",
       "      <th>13</th>\n",
       "      <td>subsampled</td>\n",
       "      <td>01</td>\n",
       "      <td>10000</td>\n",
       "      <td>70</td>\n",
       "      <td>9028.750977</td>\n",
       "      <td>0.720474</td>\n",
       "      <td>0.770219</td>\n",
       "      <td>0.827466</td>\n",
       "      <td>0.870468</td>\n",
       "      <td>0.691977</td>\n",
       "      <td>0.776353</td>\n",
       "      <td>0.510719</td>\n",
       "      <td>0.776353</td>\n",
       "      <td>0.088926</td>\n",
       "      <td>0.903687</td>\n",
       "      <td>70</td>\n",
       "    </tr>\n",
       "    <tr>\n",
       "      <th>14</th>\n",
       "      <td>subsampled</td>\n",
       "      <td>01</td>\n",
       "      <td>5000</td>\n",
       "      <td>70</td>\n",
       "      <td>4137.347168</td>\n",
       "      <td>0.369652</td>\n",
       "      <td>0.309049</td>\n",
       "      <td>0.670047</td>\n",
       "      <td>0.719709</td>\n",
       "      <td>0.475041</td>\n",
       "      <td>0.651282</td>\n",
       "      <td>0.18774</td>\n",
       "      <td>0.651282</td>\n",
       "      <td>0.00884</td>\n",
       "      <td>0.791882</td>\n",
       "      <td>70</td>\n",
       "    </tr>\n",
       "    <tr>\n",
       "      <th>...</th>\n",
       "      <td>...</td>\n",
       "      <td>...</td>\n",
       "      <td>...</td>\n",
       "      <td>...</td>\n",
       "      <td>...</td>\n",
       "      <td>...</td>\n",
       "      <td>...</td>\n",
       "      <td>...</td>\n",
       "      <td>...</td>\n",
       "      <td>...</td>\n",
       "      <td>...</td>\n",
       "      <td>...</td>\n",
       "      <td>...</td>\n",
       "      <td>...</td>\n",
       "      <td>...</td>\n",
       "      <td>...</td>\n",
       "    </tr>\n",
       "    <tr>\n",
       "      <th>115</th>\n",
       "      <td>subsampled</td>\n",
       "      <td>01</td>\n",
       "      <td>500</td>\n",
       "      <td>2</td>\n",
       "      <td>13.373817</td>\n",
       "      <td>0.00702</td>\n",
       "      <td>0.008442</td>\n",
       "      <td>NaN</td>\n",
       "      <td>NaN</td>\n",
       "      <td>NaN</td>\n",
       "      <td>NaN</td>\n",
       "      <td>NaN</td>\n",
       "      <td>NaN</td>\n",
       "      <td>NaN</td>\n",
       "      <td>NaN</td>\n",
       "      <td>2</td>\n",
       "    </tr>\n",
       "    <tr>\n",
       "      <th>116</th>\n",
       "      <td>subsampled</td>\n",
       "      <td>01</td>\n",
       "      <td>all</td>\n",
       "      <td>1</td>\n",
       "      <td>370.474762</td>\n",
       "      <td>0.156097</td>\n",
       "      <td>0.182428</td>\n",
       "      <td>0.570267</td>\n",
       "      <td>0.745453</td>\n",
       "      <td>0</td>\n",
       "      <td>0.516684</td>\n",
       "      <td>0.139096</td>\n",
       "      <td>0.516684</td>\n",
       "      <td>0.001851</td>\n",
       "      <td>0.797781</td>\n",
       "      <td>1</td>\n",
       "    </tr>\n",
       "    <tr>\n",
       "      <th>117</th>\n",
       "      <td>subsampled</td>\n",
       "      <td>01</td>\n",
       "      <td>10000</td>\n",
       "      <td>1</td>\n",
       "      <td>129.172714</td>\n",
       "      <td>0.005729</td>\n",
       "      <td>0.008676</td>\n",
       "      <td>0.383652</td>\n",
       "      <td>0.478476</td>\n",
       "      <td>0</td>\n",
       "      <td>0.521081</td>\n",
       "      <td>0.011851</td>\n",
       "      <td>0.521081</td>\n",
       "      <td>0.001415</td>\n",
       "      <td>0.633964</td>\n",
       "      <td>1</td>\n",
       "    </tr>\n",
       "    <tr>\n",
       "      <th>118</th>\n",
       "      <td>subsampled</td>\n",
       "      <td>01</td>\n",
       "      <td>5000</td>\n",
       "      <td>1</td>\n",
       "      <td>59.209778</td>\n",
       "      <td>0.007266</td>\n",
       "      <td>0.007198</td>\n",
       "      <td>0.27529</td>\n",
       "      <td>0.330276</td>\n",
       "      <td>0</td>\n",
       "      <td>0.512669</td>\n",
       "      <td>0.005716</td>\n",
       "      <td>0.512669</td>\n",
       "      <td>0.001391</td>\n",
       "      <td>0.567444</td>\n",
       "      <td>1</td>\n",
       "    </tr>\n",
       "    <tr>\n",
       "      <th>119</th>\n",
       "      <td>subsampled</td>\n",
       "      <td>01</td>\n",
       "      <td>1000</td>\n",
       "      <td>1</td>\n",
       "      <td>14.092271</td>\n",
       "      <td>0.003666</td>\n",
       "      <td>0.006829</td>\n",
       "      <td>0.037296</td>\n",
       "      <td>0.022781</td>\n",
       "      <td>0</td>\n",
       "      <td>0.505055</td>\n",
       "      <td>0.002144</td>\n",
       "      <td>0.505055</td>\n",
       "      <td>0.002283</td>\n",
       "      <td>0.487438</td>\n",
       "      <td>1</td>\n",
       "    </tr>\n",
       "  </tbody>\n",
       "</table>\n",
       "<p>63 rows × 16 columns</p>\n",
       "</div>"
      ],
      "text/plain": [
       "    type_of_sampling experiment n_genes n_counts mean_countsxcell       nmi  \\\n",
       "10        subsampled         01     all       70         25933.25  0.814561   \n",
       "11        subsampled         01   20000       70     19246.542969   0.87118   \n",
       "12        subsampled         01   15000       70     13707.869141  0.794897   \n",
       "13        subsampled         01   10000       70      9028.750977  0.720474   \n",
       "14        subsampled         01    5000       70      4137.347168  0.369652   \n",
       "..               ...        ...     ...      ...              ...       ...   \n",
       "115       subsampled         01     500        2        13.373817   0.00702   \n",
       "116       subsampled         01     all        1       370.474762  0.156097   \n",
       "117       subsampled         01   10000        1       129.172714  0.005729   \n",
       "118       subsampled         01    5000        1        59.209778  0.007266   \n",
       "119       subsampled         01    1000        1        14.092271  0.003666   \n",
       "\n",
       "          ari F1score_all F1score_gain F1score_loss  AUC_loss  PR_gains  \\\n",
       "10   0.784699    0.838174     0.898471     0.698708  0.779954   0.71482   \n",
       "11   0.911187    0.842185     0.901401     0.696957  0.779104  0.707544   \n",
       "12   0.833987    0.825026     0.891858     0.633884  0.742772   0.68863   \n",
       "13   0.770219    0.827466     0.870468     0.691977  0.776353  0.510719   \n",
       "14   0.309049    0.670047     0.719709     0.475041  0.651282   0.18774   \n",
       "..        ...         ...          ...          ...       ...       ...   \n",
       "115  0.008442         NaN          NaN          NaN       NaN       NaN   \n",
       "116  0.182428    0.570267     0.745453            0  0.516684  0.139096   \n",
       "117  0.008676    0.383652     0.478476            0  0.521081  0.011851   \n",
       "118  0.007198     0.27529     0.330276            0  0.512669  0.005716   \n",
       "119  0.006829    0.037296     0.022781            0  0.505055  0.002144   \n",
       "\n",
       "     AUC_loss   PR_loss  AUC_gains n_subsample  \n",
       "10   0.779954  0.148164   0.927702          70  \n",
       "11   0.779104  0.138385   0.930251          70  \n",
       "12   0.742772  0.035224   0.921897          70  \n",
       "13   0.776353  0.088926   0.903687          70  \n",
       "14   0.651282   0.00884   0.791882          70  \n",
       "..        ...       ...        ...         ...  \n",
       "115       NaN       NaN        NaN           2  \n",
       "116  0.516684  0.001851   0.797781           1  \n",
       "117  0.521081  0.001415   0.633964           1  \n",
       "118  0.512669  0.001391   0.567444           1  \n",
       "119  0.505055  0.002283   0.487438           1  \n",
       "\n",
       "[63 rows x 16 columns]"
      ]
     },
     "execution_count": 139,
     "metadata": {},
     "output_type": "execute_result"
    }
   ],
   "source": [
    "results_1"
   ]
  },
  {
   "cell_type": "code",
   "execution_count": 145,
   "id": "ee00f6fe",
   "metadata": {},
   "outputs": [
    {
     "ename": "ValueError",
     "evalue": "Incompatible indexer with Series",
     "output_type": "error",
     "traceback": [
      "\u001b[0;31m---------------------------------------------------------------------------\u001b[0m",
      "\u001b[0;31mValueError\u001b[0m                                Traceback (most recent call last)",
      "Cell \u001b[0;32mIn[145], line 1\u001b[0m\n\u001b[0;32m----> 1\u001b[0m AUC_loss\u001b[38;5;241m=\u001b[39m\u001b[43mcreate_condensed_dataframe\u001b[49m\u001b[43m(\u001b[49m\u001b[43mresults_1\u001b[49m\u001b[43m,\u001b[49m\u001b[38;5;124;43m'\u001b[39;49m\u001b[38;5;124;43mAUC_loss\u001b[39;49m\u001b[38;5;124;43m'\u001b[39;49m\u001b[43m)\u001b[49m\n\u001b[1;32m      2\u001b[0m sns\u001b[38;5;241m.\u001b[39mheatmap(AUC_loss\u001b[38;5;241m.\u001b[39mfillna(\u001b[38;5;241m0\u001b[39m)\u001b[38;5;241m.\u001b[39mastype(\u001b[38;5;28mfloat\u001b[39m))\n\u001b[1;32m      3\u001b[0m plt\u001b[38;5;241m.\u001b[39mtitle(\u001b[38;5;124m'\u001b[39m\u001b[38;5;124mAUC loss\u001b[39m\u001b[38;5;124m'\u001b[39m)\n",
      "Cell \u001b[0;32mIn[144], line 18\u001b[0m, in \u001b[0;36mcreate_condensed_dataframe\u001b[0;34m(results, ari_column)\u001b[0m\n\u001b[1;32m     14\u001b[0m ari_all \u001b[38;5;241m=\u001b[39m pd\u001b[38;5;241m.\u001b[39mDataFrame(index\u001b[38;5;241m=\u001b[39mresults[\u001b[38;5;124m'\u001b[39m\u001b[38;5;124mn_genes\u001b[39m\u001b[38;5;124m'\u001b[39m]\u001b[38;5;241m.\u001b[39munique(), \n\u001b[1;32m     15\u001b[0m                        columns\u001b[38;5;241m=\u001b[39m\u001b[38;5;28msorted\u001b[39m(results[\u001b[38;5;124m'\u001b[39m\u001b[38;5;124mn_counts\u001b[39m\u001b[38;5;124m'\u001b[39m]\u001b[38;5;241m.\u001b[39munique()))\n\u001b[1;32m     17\u001b[0m \u001b[38;5;28;01mfor\u001b[39;00m i \u001b[38;5;129;01min\u001b[39;00m results\u001b[38;5;241m.\u001b[39mindex:\n\u001b[0;32m---> 18\u001b[0m     \u001b[43mari_all\u001b[49m\u001b[38;5;241;43m.\u001b[39;49m\u001b[43mloc\u001b[49m\u001b[43m[\u001b[49m\u001b[43mresults\u001b[49m\u001b[38;5;241;43m.\u001b[39;49m\u001b[43mloc\u001b[49m\u001b[43m[\u001b[49m\u001b[43mi\u001b[49m\u001b[43m,\u001b[49m\u001b[43m \u001b[49m\u001b[38;5;124;43m'\u001b[39;49m\u001b[38;5;124;43mn_genes\u001b[39;49m\u001b[38;5;124;43m'\u001b[39;49m\u001b[43m]\u001b[49m\u001b[43m,\u001b[49m\u001b[43m \u001b[49m\u001b[43mresults\u001b[49m\u001b[38;5;241;43m.\u001b[39;49m\u001b[43mloc\u001b[49m\u001b[43m[\u001b[49m\u001b[43mi\u001b[49m\u001b[43m,\u001b[49m\u001b[43m \u001b[49m\u001b[38;5;124;43m'\u001b[39;49m\u001b[38;5;124;43mn_counts\u001b[39;49m\u001b[38;5;124;43m'\u001b[39;49m\u001b[43m]\u001b[49m\u001b[43m]\u001b[49m \u001b[38;5;241m=\u001b[39m results\u001b[38;5;241m.\u001b[39mloc[i, ari_column]\n\u001b[1;32m     19\u001b[0m n_genes \u001b[38;5;241m=\u001b[39m [\u001b[38;5;124m'\u001b[39m\u001b[38;5;124mall\u001b[39m\u001b[38;5;124m'\u001b[39m, \u001b[38;5;124m'\u001b[39m\u001b[38;5;124m20000\u001b[39m\u001b[38;5;124m'\u001b[39m, \u001b[38;5;124m'\u001b[39m\u001b[38;5;124m15000\u001b[39m\u001b[38;5;124m'\u001b[39m, \u001b[38;5;124m'\u001b[39m\u001b[38;5;124m10000\u001b[39m\u001b[38;5;124m'\u001b[39m, \u001b[38;5;124m'\u001b[39m\u001b[38;5;124m5000\u001b[39m\u001b[38;5;124m'\u001b[39m, \u001b[38;5;124m'\u001b[39m\u001b[38;5;124m1000\u001b[39m\u001b[38;5;124m'\u001b[39m, \u001b[38;5;124m'\u001b[39m\u001b[38;5;124m500\u001b[39m\u001b[38;5;124m'\u001b[39m]\n\u001b[1;32m     20\u001b[0m n_counts \u001b[38;5;241m=\u001b[39m [\u001b[38;5;124m'\u001b[39m\u001b[38;5;124m100\u001b[39m\u001b[38;5;124m'\u001b[39m, \u001b[38;5;124m'\u001b[39m\u001b[38;5;124m70\u001b[39m\u001b[38;5;124m'\u001b[39m, \u001b[38;5;124m'\u001b[39m\u001b[38;5;124m50\u001b[39m\u001b[38;5;124m'\u001b[39m, \u001b[38;5;124m'\u001b[39m\u001b[38;5;124m20\u001b[39m\u001b[38;5;124m'\u001b[39m, \u001b[38;5;124m'\u001b[39m\u001b[38;5;124m10\u001b[39m\u001b[38;5;124m'\u001b[39m, \u001b[38;5;124m'\u001b[39m\u001b[38;5;124m5\u001b[39m\u001b[38;5;124m'\u001b[39m, \u001b[38;5;124m'\u001b[39m\u001b[38;5;124m3\u001b[39m\u001b[38;5;124m'\u001b[39m, \u001b[38;5;124m'\u001b[39m\u001b[38;5;124m2\u001b[39m\u001b[38;5;124m'\u001b[39m, \u001b[38;5;124m'\u001b[39m\u001b[38;5;124m1\u001b[39m\u001b[38;5;124m'\u001b[39m]\n",
      "File \u001b[0;32m~/.local/lib/python3.10/site-packages/pandas/core/indexing.py:911\u001b[0m, in \u001b[0;36m_LocationIndexer.__setitem__\u001b[0;34m(self, key, value)\u001b[0m\n\u001b[1;32m    908\u001b[0m \u001b[38;5;28mself\u001b[39m\u001b[38;5;241m.\u001b[39m_has_valid_setitem_indexer(key)\n\u001b[1;32m    910\u001b[0m iloc \u001b[38;5;241m=\u001b[39m \u001b[38;5;28mself\u001b[39m \u001b[38;5;28;01mif\u001b[39;00m \u001b[38;5;28mself\u001b[39m\u001b[38;5;241m.\u001b[39mname \u001b[38;5;241m==\u001b[39m \u001b[38;5;124m\"\u001b[39m\u001b[38;5;124miloc\u001b[39m\u001b[38;5;124m\"\u001b[39m \u001b[38;5;28;01melse\u001b[39;00m \u001b[38;5;28mself\u001b[39m\u001b[38;5;241m.\u001b[39mobj\u001b[38;5;241m.\u001b[39miloc\n\u001b[0;32m--> 911\u001b[0m \u001b[43miloc\u001b[49m\u001b[38;5;241;43m.\u001b[39;49m\u001b[43m_setitem_with_indexer\u001b[49m\u001b[43m(\u001b[49m\u001b[43mindexer\u001b[49m\u001b[43m,\u001b[49m\u001b[43m \u001b[49m\u001b[43mvalue\u001b[49m\u001b[43m,\u001b[49m\u001b[43m \u001b[49m\u001b[38;5;28;43mself\u001b[39;49m\u001b[38;5;241;43m.\u001b[39;49m\u001b[43mname\u001b[49m\u001b[43m)\u001b[49m\n",
      "File \u001b[0;32m~/.local/lib/python3.10/site-packages/pandas/core/indexing.py:1944\u001b[0m, in \u001b[0;36m_iLocIndexer._setitem_with_indexer\u001b[0;34m(self, indexer, value, name)\u001b[0m\n\u001b[1;32m   1942\u001b[0m     \u001b[38;5;28mself\u001b[39m\u001b[38;5;241m.\u001b[39m_setitem_with_indexer_split_path(indexer, value, name)\n\u001b[1;32m   1943\u001b[0m \u001b[38;5;28;01melse\u001b[39;00m:\n\u001b[0;32m-> 1944\u001b[0m     \u001b[38;5;28;43mself\u001b[39;49m\u001b[38;5;241;43m.\u001b[39;49m\u001b[43m_setitem_single_block\u001b[49m\u001b[43m(\u001b[49m\u001b[43mindexer\u001b[49m\u001b[43m,\u001b[49m\u001b[43m \u001b[49m\u001b[43mvalue\u001b[49m\u001b[43m,\u001b[49m\u001b[43m \u001b[49m\u001b[43mname\u001b[49m\u001b[43m)\u001b[49m\n",
      "File \u001b[0;32m~/.local/lib/python3.10/site-packages/pandas/core/indexing.py:2189\u001b[0m, in \u001b[0;36m_iLocIndexer._setitem_single_block\u001b[0;34m(self, indexer, value, name)\u001b[0m\n\u001b[1;32m   2183\u001b[0m \u001b[38;5;28;01mfrom\u001b[39;00m \u001b[38;5;21;01mpandas\u001b[39;00m \u001b[38;5;28;01mimport\u001b[39;00m Series\n\u001b[1;32m   2185\u001b[0m \u001b[38;5;28;01mif\u001b[39;00m (\u001b[38;5;28misinstance\u001b[39m(value, ABCSeries) \u001b[38;5;129;01mand\u001b[39;00m name \u001b[38;5;241m!=\u001b[39m \u001b[38;5;124m\"\u001b[39m\u001b[38;5;124miloc\u001b[39m\u001b[38;5;124m\"\u001b[39m) \u001b[38;5;129;01mor\u001b[39;00m \u001b[38;5;28misinstance\u001b[39m(value, \u001b[38;5;28mdict\u001b[39m):\n\u001b[1;32m   2186\u001b[0m     \u001b[38;5;66;03m# TODO(EA): ExtensionBlock.setitem this causes issues with\u001b[39;00m\n\u001b[1;32m   2187\u001b[0m     \u001b[38;5;66;03m# setting for extensionarrays that store dicts. Need to decide\u001b[39;00m\n\u001b[1;32m   2188\u001b[0m     \u001b[38;5;66;03m# if it's worth supporting that.\u001b[39;00m\n\u001b[0;32m-> 2189\u001b[0m     value \u001b[38;5;241m=\u001b[39m \u001b[38;5;28;43mself\u001b[39;49m\u001b[38;5;241;43m.\u001b[39;49m\u001b[43m_align_series\u001b[49m\u001b[43m(\u001b[49m\u001b[43mindexer\u001b[49m\u001b[43m,\u001b[49m\u001b[43m \u001b[49m\u001b[43mSeries\u001b[49m\u001b[43m(\u001b[49m\u001b[43mvalue\u001b[49m\u001b[43m)\u001b[49m\u001b[43m)\u001b[49m\n\u001b[1;32m   2191\u001b[0m info_axis \u001b[38;5;241m=\u001b[39m \u001b[38;5;28mself\u001b[39m\u001b[38;5;241m.\u001b[39mobj\u001b[38;5;241m.\u001b[39m_info_axis_number\n\u001b[1;32m   2192\u001b[0m item_labels \u001b[38;5;241m=\u001b[39m \u001b[38;5;28mself\u001b[39m\u001b[38;5;241m.\u001b[39mobj\u001b[38;5;241m.\u001b[39m_get_axis(info_axis)\n",
      "File \u001b[0;32m~/.local/lib/python3.10/site-packages/pandas/core/indexing.py:2455\u001b[0m, in \u001b[0;36m_iLocIndexer._align_series\u001b[0;34m(self, indexer, ser, multiindex_indexer, using_cow)\u001b[0m\n\u001b[1;32m   2451\u001b[0m         \u001b[38;5;28;01mreturn\u001b[39;00m ser\u001b[38;5;241m.\u001b[39m_values\u001b[38;5;241m.\u001b[39mcopy()\n\u001b[1;32m   2453\u001b[0m     \u001b[38;5;28;01mreturn\u001b[39;00m ser\u001b[38;5;241m.\u001b[39mreindex(ax)\u001b[38;5;241m.\u001b[39m_values\n\u001b[0;32m-> 2455\u001b[0m \u001b[38;5;28;01mraise\u001b[39;00m \u001b[38;5;167;01mValueError\u001b[39;00m(\u001b[38;5;124m\"\u001b[39m\u001b[38;5;124mIncompatible indexer with Series\u001b[39m\u001b[38;5;124m\"\u001b[39m)\n",
      "\u001b[0;31mValueError\u001b[0m: Incompatible indexer with Series"
     ]
    }
   ],
   "source": [
    "AUC_loss=create_condensed_dataframe(results_1,'AUC_loss')\n",
    "sns.heatmap(AUC_loss.fillna(0).astype(float))\n",
    "plt.title('AUC loss')"
   ]
  },
  {
   "cell_type": "code",
   "execution_count": 111,
   "id": "e45841a6",
   "metadata": {},
   "outputs": [],
   "source": [
    "results['number']=results['number'].astype(float)"
   ]
  },
  {
   "cell_type": "code",
   "execution_count": 112,
   "id": "3cbf056c",
   "metadata": {},
   "outputs": [],
   "source": [
    "results=results.sort_values(by='number')"
   ]
  },
  {
   "cell_type": "code",
   "execution_count": 118,
   "id": "fd0072ab",
   "metadata": {},
   "outputs": [
    {
     "data": {
      "text/html": [
       "<div>\n",
       "<style scoped>\n",
       "    .dataframe tbody tr th:only-of-type {\n",
       "        vertical-align: middle;\n",
       "    }\n",
       "\n",
       "    .dataframe tbody tr th {\n",
       "        vertical-align: top;\n",
       "    }\n",
       "\n",
       "    .dataframe thead th {\n",
       "        text-align: right;\n",
       "    }\n",
       "</style>\n",
       "<table border=\"1\" class=\"dataframe\">\n",
       "  <thead>\n",
       "    <tr style=\"text-align: right;\">\n",
       "      <th></th>\n",
       "      <th>type_of_sampling</th>\n",
       "      <th>number</th>\n",
       "      <th>n_genes</th>\n",
       "      <th>mean_countsxcell</th>\n",
       "      <th>nmi</th>\n",
       "      <th>ari</th>\n",
       "      <th>F1score_all</th>\n",
       "      <th>F1score_gain</th>\n",
       "      <th>F1score_loss</th>\n",
       "      <th>ROC_gains</th>\n",
       "      <th>PR_gains</th>\n",
       "      <th>ROC_loss</th>\n",
       "      <th>PR_loss</th>\n",
       "    </tr>\n",
       "  </thead>\n",
       "  <tbody>\n",
       "    <tr>\n",
       "      <th>5</th>\n",
       "      <td>counts</td>\n",
       "      <td>1.0</td>\n",
       "      <td>25691</td>\n",
       "      <td>370.474762</td>\n",
       "      <td>0.14273</td>\n",
       "      <td>0.138379</td>\n",
       "      <td>0.570136</td>\n",
       "      <td>0.745353</td>\n",
       "      <td>0</td>\n",
       "      <td>0.79772</td>\n",
       "      <td>0.141274</td>\n",
       "      <td>0.516716</td>\n",
       "      <td>0.001859</td>\n",
       "    </tr>\n",
       "    <tr>\n",
       "      <th>4</th>\n",
       "      <td>counts</td>\n",
       "      <td>5.0</td>\n",
       "      <td>25691</td>\n",
       "      <td>1852.374634</td>\n",
       "      <td>0.486211</td>\n",
       "      <td>0.536215</td>\n",
       "      <td>0.674683</td>\n",
       "      <td>0.86216</td>\n",
       "      <td>0.030624</td>\n",
       "      <td>0.892132</td>\n",
       "      <td>0.501135</td>\n",
       "      <td>0.518027</td>\n",
       "      <td>0.001855</td>\n",
       "    </tr>\n",
       "    <tr>\n",
       "      <th>3</th>\n",
       "      <td>counts</td>\n",
       "      <td>10.0</td>\n",
       "      <td>25691</td>\n",
       "      <td>3704.75</td>\n",
       "      <td>0.68555</td>\n",
       "      <td>0.634274</td>\n",
       "      <td>0.71301</td>\n",
       "      <td>0.877506</td>\n",
       "      <td>0.182385</td>\n",
       "      <td>0.90676</td>\n",
       "      <td>0.628777</td>\n",
       "      <td>0.556952</td>\n",
       "      <td>0.003039</td>\n",
       "    </tr>\n",
       "    <tr>\n",
       "      <th>2</th>\n",
       "      <td>counts</td>\n",
       "      <td>20.0</td>\n",
       "      <td>25691</td>\n",
       "      <td>7409.5</td>\n",
       "      <td>0.795845</td>\n",
       "      <td>0.84301</td>\n",
       "      <td>0.7857</td>\n",
       "      <td>0.894188</td>\n",
       "      <td>0.485729</td>\n",
       "      <td>0.922307</td>\n",
       "      <td>0.690137</td>\n",
       "      <td>0.665035</td>\n",
       "      <td>0.020321</td>\n",
       "    </tr>\n",
       "    <tr>\n",
       "      <th>1</th>\n",
       "      <td>counts</td>\n",
       "      <td>50.0</td>\n",
       "      <td>25691</td>\n",
       "      <td>18523.75</td>\n",
       "      <td>0.919954</td>\n",
       "      <td>0.950559</td>\n",
       "      <td>0.833743</td>\n",
       "      <td>0.899521</td>\n",
       "      <td>0.674899</td>\n",
       "      <td>0.928056</td>\n",
       "      <td>0.716165</td>\n",
       "      <td>0.76347</td>\n",
       "      <td>0.120775</td>\n",
       "    </tr>\n",
       "    <tr>\n",
       "      <th>0</th>\n",
       "      <td>counts</td>\n",
       "      <td>70.0</td>\n",
       "      <td>25691</td>\n",
       "      <td>25933.25</td>\n",
       "      <td>0.888086</td>\n",
       "      <td>0.919409</td>\n",
       "      <td>0.838957</td>\n",
       "      <td>0.899267</td>\n",
       "      <td>0.699427</td>\n",
       "      <td>0.928151</td>\n",
       "      <td>0.715456</td>\n",
       "      <td>0.780286</td>\n",
       "      <td>0.148895</td>\n",
       "    </tr>\n",
       "    <tr>\n",
       "      <th>6</th>\n",
       "      <td>counts</td>\n",
       "      <td>100.0</td>\n",
       "      <td>25691</td>\n",
       "      <td>37047.5</td>\n",
       "      <td>0.913175</td>\n",
       "      <td>0.93402</td>\n",
       "      <td>0.837737</td>\n",
       "      <td>0.890061</td>\n",
       "      <td>0.719302</td>\n",
       "      <td>0.920729</td>\n",
       "      <td>0.669057</td>\n",
       "      <td>0.792467</td>\n",
       "      <td>0.139218</td>\n",
       "    </tr>\n",
       "  </tbody>\n",
       "</table>\n",
       "</div>"
      ],
      "text/plain": [
       "  type_of_sampling  number n_genes mean_countsxcell       nmi       ari  \\\n",
       "5           counts     1.0   25691       370.474762   0.14273  0.138379   \n",
       "4           counts     5.0   25691      1852.374634  0.486211  0.536215   \n",
       "3           counts    10.0   25691          3704.75   0.68555  0.634274   \n",
       "2           counts    20.0   25691           7409.5  0.795845   0.84301   \n",
       "1           counts    50.0   25691         18523.75  0.919954  0.950559   \n",
       "0           counts    70.0   25691         25933.25  0.888086  0.919409   \n",
       "6           counts   100.0   25691          37047.5  0.913175   0.93402   \n",
       "\n",
       "  F1score_all F1score_gain F1score_loss ROC_gains  PR_gains  ROC_loss  \\\n",
       "5    0.570136     0.745353            0   0.79772  0.141274  0.516716   \n",
       "4    0.674683      0.86216     0.030624  0.892132  0.501135  0.518027   \n",
       "3     0.71301     0.877506     0.182385   0.90676  0.628777  0.556952   \n",
       "2      0.7857     0.894188     0.485729  0.922307  0.690137  0.665035   \n",
       "1    0.833743     0.899521     0.674899  0.928056  0.716165   0.76347   \n",
       "0    0.838957     0.899267     0.699427  0.928151  0.715456  0.780286   \n",
       "6    0.837737     0.890061     0.719302  0.920729  0.669057  0.792467   \n",
       "\n",
       "    PR_loss  \n",
       "5  0.001859  \n",
       "4  0.001855  \n",
       "3  0.003039  \n",
       "2  0.020321  \n",
       "1  0.120775  \n",
       "0  0.148895  \n",
       "6  0.139218  "
      ]
     },
     "execution_count": 118,
     "metadata": {},
     "output_type": "execute_result"
    }
   ],
   "source": [
    "results"
   ]
  },
  {
   "cell_type": "code",
   "execution_count": 120,
   "id": "da9c3c49",
   "metadata": {},
   "outputs": [
    {
     "data": {
      "text/plain": [
       "Text(0.5, 0, 'Subsampled counts')"
      ]
     },
     "execution_count": 120,
     "metadata": {},
     "output_type": "execute_result"
    },
    {
     "data": {
      "image/png": "[encoded data removed]",
      "text/plain": [
       "<Figure size 640x480 with 1 Axes>"
      ]
     },
     "metadata": {},
     "output_type": "display_data"
    }
   ],
   "source": [
    "sns.scatterplot(data=results,x='mean_countsxcell',y='ari')\n",
    "plt.xlabel('Subsampled counts')"
   ]
  },
  {
   "cell_type": "code",
   "execution_count": 119,
   "id": "95466663",
   "metadata": {},
   "outputs": [
    {
     "name": "stderr",
     "output_type": "stream",
     "text": [
      "INFO:matplotlib.category:Using categorical units to plot a list of strings that are all parsable as floats or dates. If these strings should be plotted as numbers, cast to the appropriate data type before plotting.\n",
      "INFO:matplotlib.category:Using categorical units to plot a list of strings that are all parsable as floats or dates. If these strings should be plotted as numbers, cast to the appropriate data type before plotting.\n"
     ]
    },
    {
     "data": {
      "text/plain": [
       "Text(0.5, 0, 'Subsampled counts')"
      ]
     },
     "execution_count": 119,
     "metadata": {},
     "output_type": "execute_result"
    },
    {
     "data": {
      "image/png": "[encoded data removed]",
      "text/plain": [
       "<Figure size 640x480 with 1 Axes>"
      ]
     },
     "metadata": {},
     "output_type": "display_data"
    }
   ],
   "source": [
    "sns.barplot(data=results,x='number',y='ari')\n",
    "plt.xlabel('Subsampled counts')"
   ]
  },
  {
   "cell_type": "code",
   "execution_count": 114,
   "id": "d0fb5894",
   "metadata": {},
   "outputs": [
    {
     "name": "stderr",
     "output_type": "stream",
     "text": [
      "INFO:matplotlib.category:Using categorical units to plot a list of strings that are all parsable as floats or dates. If these strings should be plotted as numbers, cast to the appropriate data type before plotting.\n",
      "INFO:matplotlib.category:Using categorical units to plot a list of strings that are all parsable as floats or dates. If these strings should be plotted as numbers, cast to the appropriate data type before plotting.\n"
     ]
    },
    {
     "data": {
      "text/plain": [
       "Text(0.5, 0, 'Subsampled counts')"
      ]
     },
     "execution_count": 114,
     "metadata": {},
     "output_type": "execute_result"
    },
    {
     "data": {
      "image/png": "[encoded data removed]",
      "text/plain": [
       "<Figure size 640x480 with 1 Axes>"
      ]
     },
     "metadata": {},
     "output_type": "display_data"
    }
   ],
   "source": [
    "sns.barplot(data=results,x='number',y='nmi')\n",
    "plt.xlabel('Subsampled counts')"
   ]
  },
  {
   "cell_type": "code",
   "execution_count": 115,
   "id": "4c7969a4",
   "metadata": {},
   "outputs": [
    {
     "name": "stderr",
     "output_type": "stream",
     "text": [
      "INFO:matplotlib.category:Using categorical units to plot a list of strings that are all parsable as floats or dates. If these strings should be plotted as numbers, cast to the appropriate data type before plotting.\n",
      "INFO:matplotlib.category:Using categorical units to plot a list of strings that are all parsable as floats or dates. If these strings should be plotted as numbers, cast to the appropriate data type before plotting.\n"
     ]
    },
    {
     "data": {
      "text/plain": [
       "Text(0.5, 0, 'Subsampled counts')"
      ]
     },
     "execution_count": 115,
     "metadata": {},
     "output_type": "execute_result"
    },
    {
     "data": {
      "image/png": "[encoded data removed]",
      "text/plain": [
       "<Figure size 640x480 with 1 Axes>"
      ]
     },
     "metadata": {},
     "output_type": "display_data"
    }
   ],
   "source": [
    "sns.barplot(data=results,x='number',y='AUC_gains')\n",
    "plt.xlabel('Subsampled counts')"
   ]
  },
  {
   "cell_type": "code",
   "execution_count": 116,
   "id": "5746c0aa",
   "metadata": {},
   "outputs": [
    {
     "name": "stderr",
     "output_type": "stream",
     "text": [
      "INFO:matplotlib.category:Using categorical units to plot a list of strings that are all parsable as floats or dates. If these strings should be plotted as numbers, cast to the appropriate data type before plotting.\n",
      "INFO:matplotlib.category:Using categorical units to plot a list of strings that are all parsable as floats or dates. If these strings should be plotted as numbers, cast to the appropriate data type before plotting.\n"
     ]
    },
    {
     "data": {
      "text/plain": [
       "Text(0.5, 0, 'Subsampled counts')"
      ]
     },
     "execution_count": 116,
     "metadata": {},
     "output_type": "execute_result"
    },
    {
     "data": {
      "image/png": "[encoded data removed]",
      "text/plain": [
       "<Figure size 640x480 with 1 Axes>"
      ]
     },
     "metadata": {},
     "output_type": "display_data"
    }
   ],
   "source": [
    "sns.barplot(data=results,x='number',y='AUC_loss')\n",
    "plt.xlabel('Subsampled counts')"
   ]
  },
  {
   "cell_type": "markdown",
   "id": "7f77a325",
   "metadata": {},
   "source": [
    "# Quantify on different number of genes"
   ]
  },
  {
   "cell_type": "code",
   "execution_count": 121,
   "id": "ecc7027e",
   "metadata": {},
   "outputs": [],
   "source": [
    "files=os.listdir(path_simulation)\n",
    "processed_datasets=[f  for f in files if '_CNVinf' in f]\n",
    "processed_datasets_genes=[f  for f in processed_datasets if 'genes' in f]"
   ]
  },
  {
   "cell_type": "code",
   "execution_count": 123,
   "id": "0129ca5e",
   "metadata": {},
   "outputs": [
    {
     "name": "stdout",
     "output_type": "stream",
     "text": [
      "CNV_simulated_subsampled_genes_20000_CNVinf.h5ad\n",
      "CNV_simulated_subsampled_genes_15000_CNVinf.h5ad\n",
      "CNV_simulated_subsampled_genes_10000_CNVinf.h5ad\n",
      "CNV_simulated_subsampled_genes_5000_CNVinf.h5ad\n",
      "CNV_simulated_subsampled_genes_1000_CNVinf.h5ad\n",
      "CNV_simulated_subsampled_genes_500_CNVinf.h5ad\n"
     ]
    },
    {
     "ename": "ZeroDivisionError",
     "evalue": "division by zero",
     "output_type": "error",
     "traceback": [
      "\u001b[0;31m---------------------------------------------------------------------------\u001b[0m",
      "\u001b[0;31mZeroDivisionError\u001b[0m                         Traceback (most recent call last)",
      "Cell \u001b[0;32mIn[123], line 14\u001b[0m\n\u001b[1;32m     12\u001b[0m nmi \u001b[38;5;241m=\u001b[39m icv\u001b[38;5;241m.\u001b[39mtl\u001b[38;5;241m.\u001b[39mcompute_nmi(adata, reference_key\u001b[38;5;241m=\u001b[39m\u001b[38;5;124m'\u001b[39m\u001b[38;5;124msimulated_subclone\u001b[39m\u001b[38;5;124m'\u001b[39m, computed_key\u001b[38;5;241m=\u001b[39mcomp_key[\u001b[38;5;241m0\u001b[39m])\n\u001b[1;32m     13\u001b[0m \u001b[38;5;66;03m# CNV predictability metrics\u001b[39;00m\n\u001b[0;32m---> 14\u001b[0m F1score_dict\u001b[38;5;241m=\u001b[39m\u001b[43mcompute_cnv_metrics\u001b[49m\u001b[43m(\u001b[49m\u001b[43madata\u001b[49m\u001b[43m)\u001b[49m\n\u001b[1;32m     15\u001b[0m ROC_PR_dict\u001b[38;5;241m=\u001b[39mcompute_cnv_auc(adata)\n\u001b[1;32m     17\u001b[0m \u001b[38;5;66;03m## formatting them as CNVs\u001b[39;00m\n",
      "Cell \u001b[0;32mIn[38], line 24\u001b[0m, in \u001b[0;36mcompute_cnv_metrics\u001b[0;34m(adata)\u001b[0m\n\u001b[1;32m     21\u001b[0m cnv_score_in_cnv \u001b[38;5;241m=\u001b[39m [x \u001b[38;5;28;01mfor\u001b[39;00m x \u001b[38;5;129;01min\u001b[39;00m cnv_values[ground_truth \u001b[38;5;241m!=\u001b[39m \u001b[38;5;241m0\u001b[39m] \u001b[38;5;28;01mif\u001b[39;00m \u001b[38;5;28mstr\u001b[39m(x) \u001b[38;5;241m!=\u001b[39m \u001b[38;5;124m'\u001b[39m\u001b[38;5;124mnan\u001b[39m\u001b[38;5;124m'\u001b[39m]\n\u001b[1;32m     23\u001b[0m \u001b[38;5;66;03m# Compute true and false classifications\u001b[39;00m\n\u001b[0;32m---> 24\u001b[0m true_gains \u001b[38;5;241m=\u001b[39m \u001b[38;5;28;43mlen\u001b[39;49m\u001b[43m(\u001b[49m\u001b[43m[\u001b[49m\u001b[43me\u001b[49m\u001b[43m \u001b[49m\u001b[38;5;28;43;01mfor\u001b[39;49;00m\u001b[43m \u001b[49m\u001b[43me\u001b[49m\u001b[43m \u001b[49m\u001b[38;5;129;43;01min\u001b[39;49;00m\u001b[43m \u001b[49m\u001b[43mcnv_score_in_gains\u001b[49m\u001b[43m \u001b[49m\u001b[38;5;28;43;01mif\u001b[39;49;00m\u001b[43m \u001b[49m\u001b[43me\u001b[49m\u001b[43m \u001b[49m\u001b[38;5;241;43m>\u001b[39;49m\u001b[43m \u001b[49m\u001b[38;5;241;43m0\u001b[39;49m\u001b[43m]\u001b[49m\u001b[43m)\u001b[49m\u001b[43m \u001b[49m\u001b[38;5;241;43m/\u001b[39;49m\u001b[43m \u001b[49m\u001b[38;5;28;43mlen\u001b[39;49m\u001b[43m(\u001b[49m\u001b[43mcnv_score_in_gains\u001b[49m\u001b[43m)\u001b[49m\n\u001b[1;32m     25\u001b[0m true_losses \u001b[38;5;241m=\u001b[39m \u001b[38;5;28mlen\u001b[39m([e \u001b[38;5;28;01mfor\u001b[39;00m e \u001b[38;5;129;01min\u001b[39;00m cnv_score_in_losses \u001b[38;5;28;01mif\u001b[39;00m e \u001b[38;5;241m<\u001b[39m \u001b[38;5;241m0\u001b[39m]) \u001b[38;5;241m/\u001b[39m \u001b[38;5;28mlen\u001b[39m(cnv_score_in_losses)\n\u001b[1;32m     26\u001b[0m true_neutrals \u001b[38;5;241m=\u001b[39m np\u001b[38;5;241m.\u001b[39msum(np\u001b[38;5;241m.\u001b[39mabs(cnv_score_in_neutrals) \u001b[38;5;241m==\u001b[39m \u001b[38;5;241m0\u001b[39m) \u001b[38;5;241m/\u001b[39m \u001b[38;5;28mlen\u001b[39m(cnv_score_in_neutrals)\n",
      "\u001b[0;31mZeroDivisionError\u001b[0m: division by zero"
     ]
    }
   ],
   "source": [
    "results=pd.DataFrame(columns=['type_of_sampling','number','n_genes','mean_countsxcell','nmi','ari','F1score_all','F1score_gain',\n",
    "                      'F1score_loss','ROC_gains','PR_gains','ROC_loss','PR_loss'])\n",
    "i=0\n",
    "for file in processed_datasets_genes:\n",
    "    print(file)\n",
    "    type_of_subsampling=file.split('_')[3]\n",
    "    number=file.split('_')[4]\n",
    "    adata=sc.read(os.path.join(path_simulation,file))\n",
    "    # clustering similarity metrics\n",
    "    comp_key=[a for a in adata.obs.columns if 'cnv_leiden_res' in a]\n",
    "    ari = icv.tl.compute_ari(adata, reference_key='simulated_subclone', computed_key=comp_key[0])\n",
    "    nmi = icv.tl.compute_nmi(adata, reference_key='simulated_subclone', computed_key=comp_key[0])\n",
    "    # CNV predictability metrics\n",
    "    F1score_dict=compute_cnv_metrics(adata)\n",
    "    ROC_PR_dict=compute_cnv_auc(adata)\n",
    "    \n",
    "    ## formatting them as CNVs\n",
    "    results.loc[i,'type_of_subsampling']=type_of_subsampling\n",
    "    results.loc[i,'number']=number\n",
    "    results.loc[i,'n_genes']=adata.var.shape[0]\n",
    "    results.loc[i,'mean_countsxcell']=np.mean(np.sum(adata.raw.X.todense(),axis=1))\n",
    "    results.loc[i,'ari']=ari\n",
    "    results.loc[i,'nmi']=nmi\n",
    "    results.loc[i,'F1score_all']=F1score_dict['All']\n",
    "    results.loc[i,'F1score_gain']=F1score_dict['Gain']\n",
    "    results.loc[i,'F1score_loss']=F1score_dict['Loss']\n",
    "    results.loc[i,'ROC_gains']=ROC_PR_dict['ROC AUC (Gains)']\n",
    "    results.loc[i,'PR_gains']=ROC_PR_dict['PR AUC (Gains)']\n",
    "    results.loc[i,'ROC_loss']=ROC_PR_dict['ROC AUC (Losses)']\n",
    "    results.loc[i,'PR_loss']=ROC_PR_dict['PR AUC (Losses)']\n",
    "    i=i+1"
   ]
  },
  {
   "cell_type": "code",
   "execution_count": 127,
   "id": "4a8b5895",
   "metadata": {},
   "outputs": [
    {
     "data": {
      "text/plain": [
       "(1268, 500)"
      ]
     },
     "execution_count": 127,
     "metadata": {},
     "output_type": "execute_result"
    }
   ],
   "source": [
    "adata.layers['CNV_GT']"
   ]
  },
  {
   "cell_type": "code",
   "execution_count": 128,
   "id": "179f4415",
   "metadata": {},
   "outputs": [
    {
     "data": {
      "text/html": [
       "<div>\n",
       "<style scoped>\n",
       "    .dataframe tbody tr th:only-of-type {\n",
       "        vertical-align: middle;\n",
       "    }\n",
       "\n",
       "    .dataframe tbody tr th {\n",
       "        vertical-align: top;\n",
       "    }\n",
       "\n",
       "    .dataframe thead th {\n",
       "        text-align: right;\n",
       "    }\n",
       "</style>\n",
       "<table border=\"1\" class=\"dataframe\">\n",
       "  <thead>\n",
       "    <tr style=\"text-align: right;\">\n",
       "      <th></th>\n",
       "      <th>type_of_sampling</th>\n",
       "      <th>number</th>\n",
       "      <th>n_genes</th>\n",
       "      <th>mean_countsxcell</th>\n",
       "      <th>nmi</th>\n",
       "      <th>ari</th>\n",
       "      <th>F1score_all</th>\n",
       "      <th>F1score_gain</th>\n",
       "      <th>F1score_loss</th>\n",
       "      <th>ROC_gains</th>\n",
       "      <th>PR_gains</th>\n",
       "      <th>ROC_loss</th>\n",
       "      <th>PR_loss</th>\n",
       "      <th>type_of_subsampling</th>\n",
       "    </tr>\n",
       "  </thead>\n",
       "  <tbody>\n",
       "    <tr>\n",
       "      <th>0</th>\n",
       "      <td>NaN</td>\n",
       "      <td>20000</td>\n",
       "      <td>20000</td>\n",
       "      <td>36649.726562</td>\n",
       "      <td>0.86585</td>\n",
       "      <td>0.899906</td>\n",
       "      <td>0.837228</td>\n",
       "      <td>0.880649</td>\n",
       "      <td>0.734394</td>\n",
       "      <td>0.912566</td>\n",
       "      <td>0.61487</td>\n",
       "      <td>0.802043</td>\n",
       "      <td>0.110029</td>\n",
       "      <td>genes</td>\n",
       "    </tr>\n",
       "    <tr>\n",
       "      <th>1</th>\n",
       "      <td>NaN</td>\n",
       "      <td>15000</td>\n",
       "      <td>15000</td>\n",
       "      <td>36649.726562</td>\n",
       "      <td>0.761346</td>\n",
       "      <td>0.811618</td>\n",
       "      <td>0.803605</td>\n",
       "      <td>0.859413</td>\n",
       "      <td>0.647895</td>\n",
       "      <td>0.894559</td>\n",
       "      <td>0.543801</td>\n",
       "      <td>0.749478</td>\n",
       "      <td>0.027004</td>\n",
       "      <td>genes</td>\n",
       "    </tr>\n",
       "    <tr>\n",
       "      <th>2</th>\n",
       "      <td>NaN</td>\n",
       "      <td>10000</td>\n",
       "      <td>10000</td>\n",
       "      <td>36649.726562</td>\n",
       "      <td>0.657495</td>\n",
       "      <td>0.68681</td>\n",
       "      <td>0.798659</td>\n",
       "      <td>0.833538</td>\n",
       "      <td>0.686374</td>\n",
       "      <td>0.874251</td>\n",
       "      <td>0.332565</td>\n",
       "      <td>0.770927</td>\n",
       "      <td>0.033713</td>\n",
       "      <td>genes</td>\n",
       "    </tr>\n",
       "    <tr>\n",
       "      <th>3</th>\n",
       "      <td>NaN</td>\n",
       "      <td>5000</td>\n",
       "      <td>5000</td>\n",
       "      <td>36649.726562</td>\n",
       "      <td>0.293116</td>\n",
       "      <td>0.308157</td>\n",
       "      <td>0.614047</td>\n",
       "      <td>0.67975</td>\n",
       "      <td>0.348538</td>\n",
       "      <td>0.768242</td>\n",
       "      <td>0.077869</td>\n",
       "      <td>0.598268</td>\n",
       "      <td>0.003173</td>\n",
       "      <td>genes</td>\n",
       "    </tr>\n",
       "    <tr>\n",
       "      <th>4</th>\n",
       "      <td>NaN</td>\n",
       "      <td>1000</td>\n",
       "      <td>1000</td>\n",
       "      <td>36649.726562</td>\n",
       "      <td>0.005908</td>\n",
       "      <td>0.002708</td>\n",
       "      <td>0.295252</td>\n",
       "      <td>0.24001</td>\n",
       "      <td>0.268637</td>\n",
       "      <td>0.567799</td>\n",
       "      <td>0.002809</td>\n",
       "      <td>0.558521</td>\n",
       "      <td>0.003068</td>\n",
       "      <td>genes</td>\n",
       "    </tr>\n",
       "  </tbody>\n",
       "</table>\n",
       "</div>"
      ],
      "text/plain": [
       "  type_of_sampling number n_genes mean_countsxcell       nmi       ari  \\\n",
       "0              NaN  20000   20000     36649.726562   0.86585  0.899906   \n",
       "1              NaN  15000   15000     36649.726562  0.761346  0.811618   \n",
       "2              NaN  10000   10000     36649.726562  0.657495   0.68681   \n",
       "3              NaN   5000    5000     36649.726562  0.293116  0.308157   \n",
       "4              NaN   1000    1000     36649.726562  0.005908  0.002708   \n",
       "\n",
       "  F1score_all F1score_gain F1score_loss ROC_gains  PR_gains  ROC_loss  \\\n",
       "0    0.837228     0.880649     0.734394  0.912566   0.61487  0.802043   \n",
       "1    0.803605     0.859413     0.647895  0.894559  0.543801  0.749478   \n",
       "2    0.798659     0.833538     0.686374  0.874251  0.332565  0.770927   \n",
       "3    0.614047      0.67975     0.348538  0.768242  0.077869  0.598268   \n",
       "4    0.295252      0.24001     0.268637  0.567799  0.002809  0.558521   \n",
       "\n",
       "    PR_loss type_of_subsampling  \n",
       "0  0.110029               genes  \n",
       "1  0.027004               genes  \n",
       "2  0.033713               genes  \n",
       "3  0.003173               genes  \n",
       "4  0.003068               genes  "
      ]
     },
     "execution_count": 128,
     "metadata": {},
     "output_type": "execute_result"
    }
   ],
   "source": [
    "results"
   ]
  },
  {
   "cell_type": "code",
   "execution_count": null,
   "id": "722d1350",
   "metadata": {},
   "outputs": [],
   "source": []
  }
 ],
 "metadata": {
  "kernelspec": {
   "display_name": "insitucnv",
   "language": "python",
   "name": "insitucnv"
  },
  "language_info": {
   "codemirror_mode": {
    "name": "ipython",
    "version": 3
   },
   "file_extension": ".py",
   "mimetype": "text/x-python",
   "name": "python",
   "nbconvert_exporter": "python",
   "pygments_lexer": "ipython3",
   "version": "3.10.16"
  }
 },
 "nbformat": 4,
 "nbformat_minor": 5
}
