{
 "cells": [
  {
   "cell_type": "code",
   "execution_count": null,
   "id": "081fc5dd-402a-48b7-920d-afc8350b75e5",
   "metadata": {},
   "outputs": [],
   "source": [
    "import scanpy as sc\n",
    "import pandas as pd\n",
    "import infercnvpy as cnv\n",
    "import numpy as np \n",
    "\n",
    "import sys\n",
    "import os \n",
    "sys.path.append(os.path.expanduser(f\"~/SSS_mount/insituCNV/InSituCNV\"))\n",
    "import insitucnv as icv"
   ]
  },
  {
   "cell_type": "markdown",
   "id": "c6989cd5-06df-4567-a8a6-28cf688fce87",
   "metadata": {
    "tags": []
   },
   "source": [
    "# CosMx CNV inference"
   ]
  },
  {
   "cell_type": "markdown",
   "id": "41e256c1-8b10-4a39-af88-8a4049296529",
   "metadata": {},
   "source": [
    "### Read in dataset\n",
    "___"
   ]
  },
  {
   "cell_type": "code",
   "execution_count": 3,
   "id": "705d1e46-2cd0-4ef3-8399-6eadea4870fc",
   "metadata": {},
   "outputs": [],
   "source": [
    "sid = '221'"
   ]
  },
  {
   "cell_type": "code",
   "execution_count": 4,
   "id": "d4bd6f2f-9a29-49b2-80e5-5c913b37d491",
   "metadata": {},
   "outputs": [],
   "source": [
    "adata = sc.read(os.path.expanduser(f\"~/SSS_mount/insituCNV/data/WTx-CosMx_TVA/round2/{sid}/adata_{sid}_processed_1.h5ad\"))\n",
    "# adata = sc.read(os.path.expanduser(f\"~/SSS_mount/insituCNV/data/WTx-CosMx_TVA/round2/data_from_borka/adata_{sid}_processed_1.h5ad\"))"
   ]
  },
  {
   "cell_type": "code",
   "execution_count": 5,
   "id": "43f8e1b2-e28a-4c59-b6b5-14ec981118c7",
   "metadata": {},
   "outputs": [
    {
     "data": {
      "text/plain": [
       "AnnData object with n_obs × n_vars = 347023 × 18545\n",
       "    obs: 'fov', 'Area', 'AspectRatio', 'CenterX_local_px', 'CenterY_local_px', 'Width', 'Height', 'Mean.PanCK', 'Max.PanCK', 'Mean.CD68_CK8_18', 'Max.CD68_CK8_18', 'Mean.CD298_B2M', 'Max.CD298_B2M', 'Mean.CD45', 'Max.CD45', 'Mean.DAPI', 'Max.DAPI', 'cell_id', 'Dash', 'ISH.concentration', 'Panel', 'Run_Tissue_name', 'Run_name', 'assay_type', 'dualfiles', 'tissue', 'version', 'slide_ID', 'CenterX_global_px', 'CenterY_global_px', 'cell_ID', 'unassignedTranscripts', 'median_RNA', 'RNA_quantile_0.75', 'RNA_quantile_0.8', 'RNA_quantile_0.85', 'RNA_quantile_0.9', 'RNA_quantile_0.95', 'RNA_quantile_0.99', 'nCount_RNA', 'nFeature_RNA', 'median_negprobes', 'negprobes_quantile_0.75', 'negprobes_quantile_0.8', 'negprobes_quantile_0.85', 'negprobes_quantile_0.9', 'negprobes_quantile_0.95', 'negprobes_quantile_0.99', 'nCount_negprobes', 'nFeature_negprobes', 'median_falsecode', 'falsecode_quantile_0.75', 'falsecode_quantile_0.8', 'falsecode_quantile_0.85', 'falsecode_quantile_0.9', 'falsecode_quantile_0.95', 'falsecode_quantile_0.99', 'nCount_falsecode', 'nFeature_falsecode', 'Area.um2', 'cell', 'CenterX_local_mm', 'CenterY_local_mm', 'CenterX_global_mm', 'CenterY_global_mm', 'run', 'rep', 'sec', 'did', 'sid', 'pid', 'add_sub', 'ROI_status', 'healthy_ROI', 'n_counts', 'leiden'\n",
       "    var: 'features_all', 'features_epi', 'gene_id', 'symbol', 'ensg', 'chromosome', 'start', 'end'\n",
       "    uns: 'X_name', 'leiden', 'log1p', 'neighbors', 'pca', 'umap'\n",
       "    obsm: 'X_pca', 'X_umap', 'spatial'\n",
       "    varm: 'PCs'\n",
       "    layers: 'M', 'raw'\n",
       "    obsp: 'connectivities', 'distances'"
      ]
     },
     "execution_count": 5,
     "metadata": {},
     "output_type": "execute_result"
    }
   ],
   "source": [
    "adata"
   ]
  },
  {
   "cell_type": "markdown",
   "id": "c47db299-aa9f-4edd-be24-f4db8035945d",
   "metadata": {},
   "source": [
    "### Run CNV inference and epithelial clustering\n",
    "_______"
   ]
  },
  {
   "cell_type": "code",
   "execution_count": null,
   "id": "3b6ebbfe-5937-483f-a003-1bd82a56720b",
   "metadata": {},
   "outputs": [],
   "source": [
    "sc.pp.neighbors(adata, n_neighbors=2000)"
   ]
  },
  {
   "cell_type": "code",
   "execution_count": null,
   "id": "dfc62811-f8db-44b7-8b15-6081bdc3b9ee",
   "metadata": {},
   "outputs": [],
   "source": [
    "adata.uns['neighbors']"
   ]
  },
  {
   "cell_type": "code",
   "execution_count": null,
   "id": "c0f5b742-1ed5-418d-ae02-b7d0a133653c",
   "metadata": {},
   "outputs": [],
   "source": [
    "neighbors = [2000] #50, 100, 200, 500, 1000, \n",
    "\n",
    "for n_neigh in neighbors:\n",
    "    \n",
    "    ad = adata.copy()\n",
    "    ad.X = ad.layers['raw'].copy()\n",
    "    sc.pp.normalize_total(ad)\n",
    "    \n",
    "    ad.layers['raw'] = ad.X.copy()\n",
    "    icv.tl.smooth_data_for_cnv(ad, n_neighbors=n_neigh)\n",
    "    ad.X = ad.layers['M'].copy()\n",
    "    sc.pp.normalize_total(ad)\n",
    "    sc.pp.log1p(ad)\n",
    "\n",
    "    cnv.tl.infercnv(ad, \n",
    "                    window_size =100,\n",
    "                    reference_key = 'ROI_status',\n",
    "                    reference_cat = ['REF'],\n",
    "                    chunksize = 1000)\n",
    "    \n",
    "\n",
    "    # Select only the epithelial cells\n",
    "    adata_epi = ad[ad.obs.add_sub == 'epi'].copy()\n",
    "    \n",
    "    cnv.tl.pca(adata_epi)\n",
    "    cnv.pp.neighbors(adata_epi)\n",
    "\n",
    "    res=0.1\n",
    "    \n",
    "    # Cluster only the epithelial cells\n",
    "    print('leiden res', res)\n",
    "    key_added=f'epi_cnv_leiden_res{res}'\n",
    "    cnv.tl.leiden(adata_epi, resolution = res, key_added=key_added)\n",
    "\n",
    "    # Add the epithelial clustering back to the whole CosMx dataset\n",
    "    ad.obs[key_added] = \"non-epi\"\n",
    "    ad.obs.loc[adata_epi.obs_names, key_added] = adata_epi.obs[key_added]\n",
    "\n",
    "    # Plot CNV heatmap with dentrogram and vmin and vmax for comparison.\n",
    "    print('heatmap')\n",
    "    save_heatmap = f\"_CosMx_{sid}_smooth_n_{n_neigh}_groupby-{key_added}.pdf\"\n",
    "    cnv.pl.chromosome_heatmap(ad, groupby=key_added, dendrogram=True, save=save_heatmap, vmin=-.1) \n",
    "\n",
    "    sc.pl.spatial(ad, color=key_added, spot_size=100)"
   ]
  },
  {
   "cell_type": "code",
   "execution_count": null,
   "id": "928b5374-b687-4fd1-b027-2bba20e4f68e",
   "metadata": {},
   "outputs": [],
   "source": [
    "adata"
   ]
  },
  {
   "cell_type": "code",
   "execution_count": null,
   "id": "da89e6ea-25ad-47ca-9501-ea9db81eadbc",
   "metadata": {},
   "outputs": [],
   "source": []
  }
 ],
 "metadata": {
  "kernelspec": {
   "display_name": "scanpy_env",
   "language": "python",
   "name": "scanpy_env"
  },
  "language_info": {
   "codemirror_mode": {
    "name": "ipython",
    "version": 3
   },
   "file_extension": ".py",
   "mimetype": "text/x-python",
   "name": "python",
   "nbconvert_exporter": "python",
   "pygments_lexer": "ipython3",
   "version": "3.10.15"
  }
 },
 "nbformat": 4,
 "nbformat_minor": 5
}
