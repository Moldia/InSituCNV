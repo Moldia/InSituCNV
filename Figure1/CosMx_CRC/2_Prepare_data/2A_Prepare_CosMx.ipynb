{
 "cells": [
  {
   "cell_type": "code",
   "execution_count": 3,
   "id": "08119891-838c-46d1-8f6c-c08b44aa0608",
   "metadata": {},
   "outputs": [],
   "source": [
    "import scanpy as sc\n",
    "import pandas as pd\n",
    "import infercnvpy as cnv\n",
    "import numpy as np \n",
    "\n",
    "import sys\n",
    "import os \n",
    "sys.path.append(os.path.expanduser(f\"~/SSS_mount/insituCNV/InSituCNV\"))\n",
    "import insitucnv as icv"
   ]
  },
  {
   "cell_type": "markdown",
   "id": "9f56d835-2102-4d6b-afbf-adabc4232129",
   "metadata": {},
   "source": [
    "### Functions used \n",
    "______"
   ]
  },
  {
   "cell_type": "code",
   "execution_count": null,
   "id": "76572165-c194-4667-8371-816af72df23d",
   "metadata": {},
   "outputs": [],
   "source": [
    "def add_metadata_to_CosMx_samples(adata, SID):\n",
    "    \n",
    "    # Add cluster metadata\n",
    "    clusters = pd.read_csv(f\"/home/augusta/SSS_mount/insituCNV/data/WTx-CosMx_TVA/round2/{SID}/cluster_metadata.csv\", index_col=0)\n",
    "    cell2clusters = {idx: val for idx, val in clusters.itertuples()}  # Extract string values directly\n",
    "    adata.obs[\"add_sub\"] = adata.obs.index.map(cell2clusters)\n",
    "    print(f'Adding {clusters.columns[0]} as adata.obs[\"add sub\"].')\n",
    "    \n",
    "    print(f\"Removing {adata.obs.add_sub.isna().sum()} cells that were not assigned a cluster.\")\n",
    "    adata = adata[~adata.obs[\"add_sub\"].isna()]\n",
    "    \n",
    "    # Add region-of-interest (ROI) metadata\n",
    "    ROI = pd.read_csv(f\"/home/augusta/SSS_mount/insituCNV/data/WTx-CosMx_TVA/round2/{SID}/{SID}_ROI.csv\", index_col=0)\n",
    "    cell2ROI = dict(zip(ROI.index, ROI['ROI']))\n",
    "    adata.obs['ROI_status'] = adata.obs.index.map(cell2ROI)\n",
    "    adata.obs['healthy_ROI'] = np.where(adata.obs['ROI_status'] == 'REF', True, False)\n",
    "    print('Adding ROI status!')\n",
    "\n",
    "    # Add feature metadata\n",
    "    features_all = pd.read_csv(os.path.expanduser(\"~/SSS_mount/insituCNV/data/WTx-CosMx_TVA/round2/features_all.csv\"), index_col=0)\n",
    "    # features_epi = pd.read_csv(os.path.expanduser(\"~/SSS_mount/insituCNV/data/WTx-CosMx_TVA/round2/features_epi.csv\"), index_col=0)\n",
    "    adata.var['features_all'] = adata.var_names.isin(features_all['features_all'].values)\n",
    "    # adata.var['features_epi'] = adata.var_names.isin(features_epi['features_epi'].values)\n",
    "\n",
    "    return adata"
   ]
  },
  {
   "cell_type": "code",
   "execution_count": 9,
   "id": "05e16665-4208-44d3-b065-d8c609ea8dc9",
   "metadata": {},
   "outputs": [],
   "source": [
    "def process_CosMx_samples(adata):\n",
    "\n",
    "    # Add spatial information (if present in adata.obs)\n",
    "    print('Adding spatial information...')\n",
    "    if \"CenterX_global_px\" in adata.obs and \"CenterY_global_px\" in adata.obs:\n",
    "        adata.obsm[\"spatial\"] = adata.obs[[\"CenterX_global_px\", \"CenterY_global_px\"]].copy().to_numpy()\n",
    "    else:\n",
    "        print('No spatial information found!')\n",
    "                  \n",
    "    # Normalization and scaling\n",
    "    print('Log-normalizing the counts...')\n",
    "    adata.layers['raw'] = adata.X.copy()  # Copy the raw expression data before normalization\n",
    "    sc.pp.normalize_total(adata)  # Normalize counts to total count per cell\n",
    "    sc.pp.log1p(adata)  # Log-transform the data\n",
    "    adata.layers['lognorm'] = adata.X.copy()\n",
    "    \n",
    "\n",
    "    return adata"
   ]
  },
  {
   "cell_type": "code",
   "execution_count": 11,
   "id": "1e7950a6-2a14-40ed-86dd-338193c9afa9",
   "metadata": {},
   "outputs": [],
   "source": [
    "import infercnvpy as cnv\n",
    "import scanpy as sc\n",
    "import numpy as np\n",
    "\n",
    "def DR_smoothing_CosMx_samples(adata, smooth_neigh = 100):\n",
    "    \n",
    "    # Perform PCA using the selected genes for high-grade clustering (the features marked as 'features_all' == True)\n",
    "    print('Computing PCA and nearest neighbors...')\n",
    "    sc.pp.pca(adata, mask_var=adata.var['features_all'] == True) \n",
    "    sc.pp.neighbors(adata, n_pcs=40)  # Compute nearest neighbors using the first 40 PCs\n",
    "\n",
    "    # Smooothing\n",
    "    icv.tl.smooth_data_for_cnv(adata, n_neighbors=smooth_neigh)\n",
    "\n",
    "    if isinstance(adata.uns[\"pca\"][\"params\"][\"use_highly_variable\"], pd.Series):\n",
    "        adata.uns[\"pca\"][\"params\"][\"use_highly_variable\"] = adata.uns[\"pca\"][\"params\"][\"use_highly_variable\"].to_dict()\n",
    "    if isinstance(adata.uns[\"pca\"][\"params\"][\"mask_var\"], pd.Series):\n",
    "        adata.uns[\"pca\"][\"params\"][\"mask_var\"] = adata.uns[\"pca\"][\"params\"][\"mask_var\"].to_dict()\n",
    "\n",
    "    return adata"
   ]
  },
  {
   "cell_type": "markdown",
   "id": "19d23a12-e147-41f4-85c7-a9c3dfb1d25b",
   "metadata": {},
   "source": [
    "### Processing all CosMx datasets\n",
    "_________"
   ]
  },
  {
   "cell_type": "code",
   "execution_count": null,
   "id": "02ea8fcf-1092-4e3f-ac3d-74f4be64d023",
   "metadata": {
    "scrolled": true
   },
   "outputs": [],
   "source": [
    "dataset_paths = {\n",
    "    '221': os.path.expanduser(\"~/SSS_mount/insituCNV/data/WTx-CosMx_TVA/round2/221/adata_221_raw.h5ad\")\n",
    "}\n",
    "\n",
    "SIDs = ['221']\n",
    "\n",
    "for SID in SIDs:\n",
    "\n",
    "    adata = sc.read_h5ad(dataset_paths[SID])\n",
    "    adata = add_metadata_to_CosMx_samples(adata, SID)\n",
    "    adata = icv.pp.add_genomic_positions(adata)\n",
    "    adata = process_CosMx_samples(adata)\n",
    "    adata = DR_smoothing_CosMx_samples(adata, smooth_neigh = 100)\n",
    "   \n",
    "    adata.write(os.path.expanduser(f\"~/SSS_mount/insituCNV/data/WTx-CosMx_TVA/round2/{sid}/adata_{SID}_processed_1.h5ad\"), compression='gzip')\n",
    "    print(SID, 'saved!')"
   ]
  }
 ],
 "metadata": {
  "kernelspec": {
   "display_name": "scanpy_env",
   "language": "python",
   "name": "scanpy_env"
  },
  "language_info": {
   "codemirror_mode": {
    "name": "ipython",
    "version": 3
   },
   "file_extension": ".py",
   "mimetype": "text/x-python",
   "name": "python",
   "nbconvert_exporter": "python",
   "pygments_lexer": "ipython3",
   "version": "3.10.15"
  }
 },
 "nbformat": 4,
 "nbformat_minor": 5
}
