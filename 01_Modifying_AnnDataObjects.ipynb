{
 "cells": [
  {
   "cell_type": "code",
   "execution_count": 1,
   "id": "465eec7b-b06e-4cdc-8538-0f0dbbe13087",
   "metadata": {},
   "outputs": [],
   "source": [
    "import scanpy as sc\n",
    "import os\n",
    "import pandas as pd"
   ]
  },
  {
   "cell_type": "code",
   "execution_count": 2,
   "id": "24307817-3b1a-464b-b366-386279a62b00",
   "metadata": {},
   "outputs": [],
   "source": [
    "import modify_anndata as ma"
   ]
  },
  {
   "cell_type": "code",
   "execution_count": 3,
   "id": "19a632bd-c269-4e1c-af8d-f5b83acddaf3",
   "metadata": {},
   "outputs": [],
   "source": [
    "CRC = \"~/SSS_mount/insituCNV/data/CRC_VAL_epithelial.h5ad\""
   ]
  },
  {
   "cell_type": "code",
   "execution_count": 4,
   "id": "d7903377-9dc5-4de7-a3b7-880d051018da",
   "metadata": {},
   "outputs": [],
   "source": [
    "# Selecting one donor with normal and colorectal cancer cells (according to the cellxgene)\n",
    "\n",
    "# adata = sc.read_h5ad(os.path.expanduser(\"~/SSS_mount/insituCNV/data/CRC_VAL_epithelial.h5ad\"))\n",
    "# adata_d = adata[adata.obs.donor_id == 'HTA11_7956'] \n",
    "# adata_d.write(os.path.expanduser(\"~/SSS_mount/insituCNV/data/CRC_HTA11_7956.h5ad\"), compression = 'gzip')"
   ]
  },
  {
   "cell_type": "markdown",
   "id": "8fe3c600-6828-4bca-8b17-9f8408b62f4c",
   "metadata": {},
   "source": [
    "Two scRNAseq samples to use in this study:"
   ]
  },
  {
   "cell_type": "code",
   "execution_count": 21,
   "id": "7b6e6d4b-8ae5-459e-bdc4-b77cdabe7b9b",
   "metadata": {},
   "outputs": [],
   "source": [
    "GBM_MGH124 = '~/SSS_mount/insituCNV/data/GBmap_MGH124.h5ad' # One GBM donor (higher read depth in this data compared to the colorectal)\n",
    "CRC_HTA11_7956 = \"~/SSS_mount/insituCNV/InSituCNV/CRC_HTA11_7956.h5ad\""
   ]
  },
  {
   "cell_type": "code",
   "execution_count": 6,
   "id": "2488ac6f-0ef4-4b35-8db1-7d0b212b45e4",
   "metadata": {},
   "outputs": [],
   "source": [
    "adata = sc.read_h5ad(os.path.expanduser(GBM_MGH124))"
   ]
  },
  {
   "cell_type": "code",
   "execution_count": 7,
   "id": "926f85d1-0f24-4aba-871b-33c0d727517c",
   "metadata": {},
   "outputs": [
    {
     "data": {
      "text/plain": [
       "AnnData object with n_obs × n_vars = 2744 × 26355\n",
       "    obs: 'author', 'donor_id', 'assay_ontology_term_id', 'cell_type_ontology_term_id', 'development_stage_ontology_term_id', 'disease_ontology_term_id', 'self_reported_ethnicity_ontology_term_id', 'is_primary_data', 'organism_ontology_term_id', 'sex_ontology_term_id', 'annotation_level_1', 'annotation_level_2', 'annotation_level_3', 'gbmap', 'method', 'stage', 'location', 'sector', 'celltype_original', 'EGFR', 'MET', 'p53', 'TERT', 'ATRX', 'PTEN', 'MGMT', 'chr1p19q', 'PDGFR', 'suspension_type', 'tissue_ontology_term_id', 'tissue_type', 'cell_type', 'assay', 'disease', 'organism', 'sex', 'tissue', 'self_reported_ethnicity', 'development_stage', 'observation_joinid'\n",
       "    var: 'feature_types', 'genome', 'highly_variable', 'means', 'dispersions', 'dispersions_norm', 'highly_variable_nbatches', 'highly_variable_intersection', 'feature_is_filtered', 'feature_name', 'feature_reference', 'feature_biotype', 'feature_length'\n",
       "    uns: 'X_approximate_distribution', 'batch_condition', 'citation', 'default_embedding', 'hvg', 'schema_reference', 'schema_version', 'title'\n",
       "    obsm: 'X_umap'"
      ]
     },
     "execution_count": 7,
     "metadata": {},
     "output_type": "execute_result"
    }
   ],
   "source": [
    "adata"
   ]
  },
  {
   "cell_type": "code",
   "execution_count": 8,
   "id": "f2d25b28-ceca-4842-b81a-1a278dbcbdaf",
   "metadata": {},
   "outputs": [
    {
     "name": "stdout",
     "output_type": "stream",
     "text": [
      "Size of the data: \n",
      " 26355 genes \n",
      " 2744 cells \n",
      " 72318120 size of count matrix \n",
      " 8427091 positive positions in the count matrix \n",
      "\n",
      "Raw data found in the AnnData object. \n",
      "\n",
      "Average read depths:\n",
      "raw : 41.51\n"
     ]
    }
   ],
   "source": [
    "ma.data_info(adata)"
   ]
  },
  {
   "cell_type": "markdown",
   "id": "dc0126c6-657d-4434-8dce-65f3e3eadfa2",
   "metadata": {},
   "source": [
    "# Save raw gene count matrices"
   ]
  },
  {
   "cell_type": "markdown",
   "id": "bceb11cf-1ef3-40b7-b07e-98c6a9147227",
   "metadata": {},
   "source": [
    "### Original"
   ]
  },
  {
   "cell_type": "code",
   "execution_count": 9,
   "id": "404bdb98-7936-4b98-a893-f3066436833d",
   "metadata": {},
   "outputs": [
    {
     "name": "stdout",
     "output_type": "stream",
     "text": [
      "Raw count matrix already exists!\n"
     ]
    },
    {
     "data": {
      "text/html": [
       "<div>\n",
       "<style scoped>\n",
       "    .dataframe tbody tr th:only-of-type {\n",
       "        vertical-align: middle;\n",
       "    }\n",
       "\n",
       "    .dataframe tbody tr th {\n",
       "        vertical-align: top;\n",
       "    }\n",
       "\n",
       "    .dataframe thead th {\n",
       "        text-align: right;\n",
       "    }\n",
       "</style>\n",
       "<table border=\"1\" class=\"dataframe\">\n",
       "  <thead>\n",
       "    <tr style=\"text-align: right;\">\n",
       "      <th></th>\n",
       "      <th>ENSG00000269696</th>\n",
       "      <th>ENSG00000230393</th>\n",
       "      <th>ENSG00000165244</th>\n",
       "      <th>ENSG00000173597</th>\n",
       "      <th>ENSG00000158022</th>\n",
       "      <th>ENSG00000213018</th>\n",
       "      <th>ENSG00000167220</th>\n",
       "      <th>ENSG00000231154</th>\n",
       "      <th>ENSG00000258457</th>\n",
       "      <th>ENSG00000126106</th>\n",
       "      <th>...</th>\n",
       "      <th>ENSG00000249128</th>\n",
       "      <th>ENSG00000203690</th>\n",
       "      <th>ENSG00000257164</th>\n",
       "      <th>ENSG00000214043</th>\n",
       "      <th>ENSG00000238212</th>\n",
       "      <th>ENSG00000283083</th>\n",
       "      <th>ENSG00000250447</th>\n",
       "      <th>ENSG00000255117</th>\n",
       "      <th>ENSG00000267777</th>\n",
       "      <th>ENSG00000232316</th>\n",
       "    </tr>\n",
       "  </thead>\n",
       "  <tbody>\n",
       "    <tr>\n",
       "      <th>124_1_1-0</th>\n",
       "      <td>0.0</td>\n",
       "      <td>0.0</td>\n",
       "      <td>0.0</td>\n",
       "      <td>0.0</td>\n",
       "      <td>0.0</td>\n",
       "      <td>0.0</td>\n",
       "      <td>1.0</td>\n",
       "      <td>0.0</td>\n",
       "      <td>0.0</td>\n",
       "      <td>0.0</td>\n",
       "      <td>...</td>\n",
       "      <td>0.0</td>\n",
       "      <td>0.0</td>\n",
       "      <td>0.0</td>\n",
       "      <td>0.0</td>\n",
       "      <td>0.0</td>\n",
       "      <td>0.0</td>\n",
       "      <td>0.0</td>\n",
       "      <td>0.0</td>\n",
       "      <td>0.0</td>\n",
       "      <td>0.0</td>\n",
       "    </tr>\n",
       "    <tr>\n",
       "      <th>124_1_2-0</th>\n",
       "      <td>0.0</td>\n",
       "      <td>0.0</td>\n",
       "      <td>0.0</td>\n",
       "      <td>0.0</td>\n",
       "      <td>0.0</td>\n",
       "      <td>0.0</td>\n",
       "      <td>0.0</td>\n",
       "      <td>0.0</td>\n",
       "      <td>0.0</td>\n",
       "      <td>0.0</td>\n",
       "      <td>...</td>\n",
       "      <td>0.0</td>\n",
       "      <td>0.0</td>\n",
       "      <td>0.0</td>\n",
       "      <td>0.0</td>\n",
       "      <td>0.0</td>\n",
       "      <td>0.0</td>\n",
       "      <td>0.0</td>\n",
       "      <td>0.0</td>\n",
       "      <td>0.0</td>\n",
       "      <td>0.0</td>\n",
       "    </tr>\n",
       "    <tr>\n",
       "      <th>124_1_3-0</th>\n",
       "      <td>0.0</td>\n",
       "      <td>0.0</td>\n",
       "      <td>0.0</td>\n",
       "      <td>0.0</td>\n",
       "      <td>0.0</td>\n",
       "      <td>0.0</td>\n",
       "      <td>0.0</td>\n",
       "      <td>0.0</td>\n",
       "      <td>0.0</td>\n",
       "      <td>0.0</td>\n",
       "      <td>...</td>\n",
       "      <td>0.0</td>\n",
       "      <td>0.0</td>\n",
       "      <td>0.0</td>\n",
       "      <td>0.0</td>\n",
       "      <td>0.0</td>\n",
       "      <td>0.0</td>\n",
       "      <td>0.0</td>\n",
       "      <td>0.0</td>\n",
       "      <td>0.0</td>\n",
       "      <td>0.0</td>\n",
       "    </tr>\n",
       "    <tr>\n",
       "      <th>124_1_4-0</th>\n",
       "      <td>0.0</td>\n",
       "      <td>0.0</td>\n",
       "      <td>0.0</td>\n",
       "      <td>0.0</td>\n",
       "      <td>0.0</td>\n",
       "      <td>0.0</td>\n",
       "      <td>0.0</td>\n",
       "      <td>0.0</td>\n",
       "      <td>0.0</td>\n",
       "      <td>0.0</td>\n",
       "      <td>...</td>\n",
       "      <td>0.0</td>\n",
       "      <td>0.0</td>\n",
       "      <td>0.0</td>\n",
       "      <td>0.0</td>\n",
       "      <td>0.0</td>\n",
       "      <td>0.0</td>\n",
       "      <td>0.0</td>\n",
       "      <td>0.0</td>\n",
       "      <td>0.0</td>\n",
       "      <td>0.0</td>\n",
       "    </tr>\n",
       "    <tr>\n",
       "      <th>124_1_5-0</th>\n",
       "      <td>0.0</td>\n",
       "      <td>0.0</td>\n",
       "      <td>0.0</td>\n",
       "      <td>0.0</td>\n",
       "      <td>0.0</td>\n",
       "      <td>0.0</td>\n",
       "      <td>0.0</td>\n",
       "      <td>0.0</td>\n",
       "      <td>0.0</td>\n",
       "      <td>1.0</td>\n",
       "      <td>...</td>\n",
       "      <td>0.0</td>\n",
       "      <td>0.0</td>\n",
       "      <td>0.0</td>\n",
       "      <td>0.0</td>\n",
       "      <td>0.0</td>\n",
       "      <td>0.0</td>\n",
       "      <td>0.0</td>\n",
       "      <td>0.0</td>\n",
       "      <td>0.0</td>\n",
       "      <td>0.0</td>\n",
       "    </tr>\n",
       "    <tr>\n",
       "      <th>...</th>\n",
       "      <td>...</td>\n",
       "      <td>...</td>\n",
       "      <td>...</td>\n",
       "      <td>...</td>\n",
       "      <td>...</td>\n",
       "      <td>...</td>\n",
       "      <td>...</td>\n",
       "      <td>...</td>\n",
       "      <td>...</td>\n",
       "      <td>...</td>\n",
       "      <td>...</td>\n",
       "      <td>...</td>\n",
       "      <td>...</td>\n",
       "      <td>...</td>\n",
       "      <td>...</td>\n",
       "      <td>...</td>\n",
       "      <td>...</td>\n",
       "      <td>...</td>\n",
       "      <td>...</td>\n",
       "      <td>...</td>\n",
       "      <td>...</td>\n",
       "    </tr>\n",
       "    <tr>\n",
       "      <th>MGH124-P9-H04-0</th>\n",
       "      <td>0.0</td>\n",
       "      <td>0.0</td>\n",
       "      <td>0.0</td>\n",
       "      <td>0.0</td>\n",
       "      <td>0.0</td>\n",
       "      <td>0.0</td>\n",
       "      <td>5.0</td>\n",
       "      <td>0.0</td>\n",
       "      <td>0.0</td>\n",
       "      <td>0.0</td>\n",
       "      <td>...</td>\n",
       "      <td>0.0</td>\n",
       "      <td>0.0</td>\n",
       "      <td>0.0</td>\n",
       "      <td>0.0</td>\n",
       "      <td>0.0</td>\n",
       "      <td>0.0</td>\n",
       "      <td>0.0</td>\n",
       "      <td>0.0</td>\n",
       "      <td>0.0</td>\n",
       "      <td>0.0</td>\n",
       "    </tr>\n",
       "    <tr>\n",
       "      <th>MGH124-P9-H05-0</th>\n",
       "      <td>0.0</td>\n",
       "      <td>0.0</td>\n",
       "      <td>40.0</td>\n",
       "      <td>0.0</td>\n",
       "      <td>0.0</td>\n",
       "      <td>0.0</td>\n",
       "      <td>241.0</td>\n",
       "      <td>0.0</td>\n",
       "      <td>0.0</td>\n",
       "      <td>0.0</td>\n",
       "      <td>...</td>\n",
       "      <td>0.0</td>\n",
       "      <td>0.0</td>\n",
       "      <td>0.0</td>\n",
       "      <td>0.0</td>\n",
       "      <td>0.0</td>\n",
       "      <td>0.0</td>\n",
       "      <td>0.0</td>\n",
       "      <td>0.0</td>\n",
       "      <td>0.0</td>\n",
       "      <td>0.0</td>\n",
       "    </tr>\n",
       "    <tr>\n",
       "      <th>MGH124-P9-H06-0</th>\n",
       "      <td>0.0</td>\n",
       "      <td>0.0</td>\n",
       "      <td>0.0</td>\n",
       "      <td>0.0</td>\n",
       "      <td>7.0</td>\n",
       "      <td>0.0</td>\n",
       "      <td>0.0</td>\n",
       "      <td>0.0</td>\n",
       "      <td>0.0</td>\n",
       "      <td>4.0</td>\n",
       "      <td>...</td>\n",
       "      <td>0.0</td>\n",
       "      <td>0.0</td>\n",
       "      <td>0.0</td>\n",
       "      <td>0.0</td>\n",
       "      <td>0.0</td>\n",
       "      <td>0.0</td>\n",
       "      <td>0.0</td>\n",
       "      <td>0.0</td>\n",
       "      <td>0.0</td>\n",
       "      <td>0.0</td>\n",
       "    </tr>\n",
       "    <tr>\n",
       "      <th>MGH124-P9-H07-0</th>\n",
       "      <td>0.0</td>\n",
       "      <td>0.0</td>\n",
       "      <td>1.0</td>\n",
       "      <td>0.0</td>\n",
       "      <td>0.0</td>\n",
       "      <td>0.0</td>\n",
       "      <td>633.0</td>\n",
       "      <td>0.0</td>\n",
       "      <td>0.0</td>\n",
       "      <td>6.0</td>\n",
       "      <td>...</td>\n",
       "      <td>0.0</td>\n",
       "      <td>0.0</td>\n",
       "      <td>0.0</td>\n",
       "      <td>0.0</td>\n",
       "      <td>0.0</td>\n",
       "      <td>0.0</td>\n",
       "      <td>0.0</td>\n",
       "      <td>0.0</td>\n",
       "      <td>0.0</td>\n",
       "      <td>0.0</td>\n",
       "    </tr>\n",
       "    <tr>\n",
       "      <th>MGH124-P9-H12-0</th>\n",
       "      <td>0.0</td>\n",
       "      <td>0.0</td>\n",
       "      <td>0.0</td>\n",
       "      <td>0.0</td>\n",
       "      <td>0.0</td>\n",
       "      <td>0.0</td>\n",
       "      <td>0.0</td>\n",
       "      <td>0.0</td>\n",
       "      <td>0.0</td>\n",
       "      <td>62.0</td>\n",
       "      <td>...</td>\n",
       "      <td>0.0</td>\n",
       "      <td>0.0</td>\n",
       "      <td>0.0</td>\n",
       "      <td>0.0</td>\n",
       "      <td>0.0</td>\n",
       "      <td>0.0</td>\n",
       "      <td>0.0</td>\n",
       "      <td>0.0</td>\n",
       "      <td>0.0</td>\n",
       "      <td>0.0</td>\n",
       "    </tr>\n",
       "  </tbody>\n",
       "</table>\n",
       "<p>2744 rows × 26355 columns</p>\n",
       "</div>"
      ],
      "text/plain": [
       "                 ENSG00000269696  ENSG00000230393  ENSG00000165244  \\\n",
       "124_1_1-0                    0.0              0.0              0.0   \n",
       "124_1_2-0                    0.0              0.0              0.0   \n",
       "124_1_3-0                    0.0              0.0              0.0   \n",
       "124_1_4-0                    0.0              0.0              0.0   \n",
       "124_1_5-0                    0.0              0.0              0.0   \n",
       "...                          ...              ...              ...   \n",
       "MGH124-P9-H04-0              0.0              0.0              0.0   \n",
       "MGH124-P9-H05-0              0.0              0.0             40.0   \n",
       "MGH124-P9-H06-0              0.0              0.0              0.0   \n",
       "MGH124-P9-H07-0              0.0              0.0              1.0   \n",
       "MGH124-P9-H12-0              0.0              0.0              0.0   \n",
       "\n",
       "                 ENSG00000173597  ENSG00000158022  ENSG00000213018  \\\n",
       "124_1_1-0                    0.0              0.0              0.0   \n",
       "124_1_2-0                    0.0              0.0              0.0   \n",
       "124_1_3-0                    0.0              0.0              0.0   \n",
       "124_1_4-0                    0.0              0.0              0.0   \n",
       "124_1_5-0                    0.0              0.0              0.0   \n",
       "...                          ...              ...              ...   \n",
       "MGH124-P9-H04-0              0.0              0.0              0.0   \n",
       "MGH124-P9-H05-0              0.0              0.0              0.0   \n",
       "MGH124-P9-H06-0              0.0              7.0              0.0   \n",
       "MGH124-P9-H07-0              0.0              0.0              0.0   \n",
       "MGH124-P9-H12-0              0.0              0.0              0.0   \n",
       "\n",
       "                 ENSG00000167220  ENSG00000231154  ENSG00000258457  \\\n",
       "124_1_1-0                    1.0              0.0              0.0   \n",
       "124_1_2-0                    0.0              0.0              0.0   \n",
       "124_1_3-0                    0.0              0.0              0.0   \n",
       "124_1_4-0                    0.0              0.0              0.0   \n",
       "124_1_5-0                    0.0              0.0              0.0   \n",
       "...                          ...              ...              ...   \n",
       "MGH124-P9-H04-0              5.0              0.0              0.0   \n",
       "MGH124-P9-H05-0            241.0              0.0              0.0   \n",
       "MGH124-P9-H06-0              0.0              0.0              0.0   \n",
       "MGH124-P9-H07-0            633.0              0.0              0.0   \n",
       "MGH124-P9-H12-0              0.0              0.0              0.0   \n",
       "\n",
       "                 ENSG00000126106  ...  ENSG00000249128  ENSG00000203690  \\\n",
       "124_1_1-0                    0.0  ...              0.0              0.0   \n",
       "124_1_2-0                    0.0  ...              0.0              0.0   \n",
       "124_1_3-0                    0.0  ...              0.0              0.0   \n",
       "124_1_4-0                    0.0  ...              0.0              0.0   \n",
       "124_1_5-0                    1.0  ...              0.0              0.0   \n",
       "...                          ...  ...              ...              ...   \n",
       "MGH124-P9-H04-0              0.0  ...              0.0              0.0   \n",
       "MGH124-P9-H05-0              0.0  ...              0.0              0.0   \n",
       "MGH124-P9-H06-0              4.0  ...              0.0              0.0   \n",
       "MGH124-P9-H07-0              6.0  ...              0.0              0.0   \n",
       "MGH124-P9-H12-0             62.0  ...              0.0              0.0   \n",
       "\n",
       "                 ENSG00000257164  ENSG00000214043  ENSG00000238212  \\\n",
       "124_1_1-0                    0.0              0.0              0.0   \n",
       "124_1_2-0                    0.0              0.0              0.0   \n",
       "124_1_3-0                    0.0              0.0              0.0   \n",
       "124_1_4-0                    0.0              0.0              0.0   \n",
       "124_1_5-0                    0.0              0.0              0.0   \n",
       "...                          ...              ...              ...   \n",
       "MGH124-P9-H04-0              0.0              0.0              0.0   \n",
       "MGH124-P9-H05-0              0.0              0.0              0.0   \n",
       "MGH124-P9-H06-0              0.0              0.0              0.0   \n",
       "MGH124-P9-H07-0              0.0              0.0              0.0   \n",
       "MGH124-P9-H12-0              0.0              0.0              0.0   \n",
       "\n",
       "                 ENSG00000283083  ENSG00000250447  ENSG00000255117  \\\n",
       "124_1_1-0                    0.0              0.0              0.0   \n",
       "124_1_2-0                    0.0              0.0              0.0   \n",
       "124_1_3-0                    0.0              0.0              0.0   \n",
       "124_1_4-0                    0.0              0.0              0.0   \n",
       "124_1_5-0                    0.0              0.0              0.0   \n",
       "...                          ...              ...              ...   \n",
       "MGH124-P9-H04-0              0.0              0.0              0.0   \n",
       "MGH124-P9-H05-0              0.0              0.0              0.0   \n",
       "MGH124-P9-H06-0              0.0              0.0              0.0   \n",
       "MGH124-P9-H07-0              0.0              0.0              0.0   \n",
       "MGH124-P9-H12-0              0.0              0.0              0.0   \n",
       "\n",
       "                 ENSG00000267777  ENSG00000232316  \n",
       "124_1_1-0                    0.0              0.0  \n",
       "124_1_2-0                    0.0              0.0  \n",
       "124_1_3-0                    0.0              0.0  \n",
       "124_1_4-0                    0.0              0.0  \n",
       "124_1_5-0                    0.0              0.0  \n",
       "...                          ...              ...  \n",
       "MGH124-P9-H04-0              0.0              0.0  \n",
       "MGH124-P9-H05-0              0.0              0.0  \n",
       "MGH124-P9-H06-0              0.0              0.0  \n",
       "MGH124-P9-H07-0              0.0              0.0  \n",
       "MGH124-P9-H12-0              0.0              0.0  \n",
       "\n",
       "[2744 rows x 26355 columns]"
      ]
     },
     "execution_count": 9,
     "metadata": {},
     "output_type": "execute_result"
    }
   ],
   "source": [
    "output_file_path = os.path.expanduser(\"~/SSS_mount/insituCNV/Raw_GeneCountMtx/GBM_MGH124_Raw_GeneCountMtx_original.csv\")\n",
    "ma.create_raw_count_mtx(adata, output_file_path=output_file_path)"
   ]
  },
  {
   "cell_type": "markdown",
   "id": "bb3c7b35-9d59-407f-9a23-caffba32bdf0",
   "metadata": {},
   "source": [
    "### Subsampled"
   ]
  },
  {
   "cell_type": "code",
   "execution_count": 10,
   "id": "8fa8ceef-5d05-462c-8c1b-ca49c7c394a7",
   "metadata": {},
   "outputs": [
    {
     "name": "stdout",
     "output_type": "stream",
     "text": [
      "0.01 :\n",
      "Raw count matrix already exists!\n",
      "0.05 :\n",
      "Raw count matrix already exists!\n",
      "0.1 :\n",
      "Raw count matrix already exists!\n",
      "0.2 :\n",
      "Raw count matrix already exists!\n",
      "0.5 :\n",
      "Raw count matrix already exists!\n",
      "0.8 :\n",
      "Raw count matrix already exists!\n"
     ]
    }
   ],
   "source": [
    "downsampling_factors = [0.01, 0.05, 0.1, 0.2, 0.5, 0.8]\n",
    "\n",
    "for factor in downsampling_factors:\n",
    "    output_file_path = os.path.expanduser(f\"~/SSS_mount/insituCNV/Raw_GeneCountMtx/GBM_MGH124_Raw_GeneCountMtx_subsampled{int(factor*100)}.csv\")\n",
    "    print(factor, ':')\n",
    "    ma.downsample_counts(downsample_factor = factor, adata= adata, output_file_path=output_file_path)"
   ]
  },
  {
   "cell_type": "markdown",
   "id": "5dd2523f-ad42-4247-8460-d01be1ba5c71",
   "metadata": {},
   "source": [
    "## Add the raw and the subsampled count matrices as layers in the AnnData object"
   ]
  },
  {
   "cell_type": "code",
   "execution_count": 11,
   "id": "ebcc9f42-7cc3-48e2-ac37-90b0ad0651c7",
   "metadata": {},
   "outputs": [],
   "source": [
    "adata.layers['raw'] = adata.raw.X.toarray()\n",
    "\n",
    "downsampling_factors = [0.01, 0.05, 0.1, 0.2, 0.5, 0.8]\n",
    "\n",
    "for factor in downsampling_factors:\n",
    "    file_path = os.path.expanduser(f\"~/SSS_mount/insituCNV/Raw_GeneCountMtx/GBM_MGH124_Raw_GeneCountMtx_subsampled{int(factor*100)}.csv\")\n",
    "    layer_name = f\"sub{int(factor*100)}\"\n",
    "    sub_mtx = pd.read_csv(file_path, index_col=0)\n",
    "    adata.layers[layer_name] = sub_mtx"
   ]
  },
  {
   "cell_type": "code",
   "execution_count": 12,
   "id": "e293ad2b-b30f-41bc-a22a-9a15778e03f0",
   "metadata": {},
   "outputs": [
    {
     "data": {
      "text/plain": [
       "AnnData object with n_obs × n_vars = 2744 × 26355\n",
       "    obs: 'author', 'donor_id', 'assay_ontology_term_id', 'cell_type_ontology_term_id', 'development_stage_ontology_term_id', 'disease_ontology_term_id', 'self_reported_ethnicity_ontology_term_id', 'is_primary_data', 'organism_ontology_term_id', 'sex_ontology_term_id', 'annotation_level_1', 'annotation_level_2', 'annotation_level_3', 'gbmap', 'method', 'stage', 'location', 'sector', 'celltype_original', 'EGFR', 'MET', 'p53', 'TERT', 'ATRX', 'PTEN', 'MGMT', 'chr1p19q', 'PDGFR', 'suspension_type', 'tissue_ontology_term_id', 'tissue_type', 'cell_type', 'assay', 'disease', 'organism', 'sex', 'tissue', 'self_reported_ethnicity', 'development_stage', 'observation_joinid'\n",
       "    var: 'feature_types', 'genome', 'highly_variable', 'means', 'dispersions', 'dispersions_norm', 'highly_variable_nbatches', 'highly_variable_intersection', 'feature_is_filtered', 'feature_name', 'feature_reference', 'feature_biotype', 'feature_length'\n",
       "    uns: 'X_approximate_distribution', 'batch_condition', 'citation', 'default_embedding', 'hvg', 'schema_reference', 'schema_version', 'title'\n",
       "    obsm: 'X_umap'\n",
       "    layers: 'raw', 'sub1', 'sub5', 'sub10', 'sub20', 'sub50', 'sub80'"
      ]
     },
     "execution_count": 12,
     "metadata": {},
     "output_type": "execute_result"
    }
   ],
   "source": [
    "adata"
   ]
  },
  {
   "cell_type": "markdown",
   "id": "71831326-6ea6-4143-89e9-4f1192277de0",
   "metadata": {},
   "source": [
    "# Check \"read depth\""
   ]
  },
  {
   "cell_type": "markdown",
   "id": "ed809a1a-098c-4492-8c96-2efe18f8360e",
   "metadata": {},
   "source": [
    "## Average cell x gene count across raw positives"
   ]
  },
  {
   "cell_type": "code",
   "execution_count": 13,
   "id": "b53b12d0-5c64-4c95-9c62-967470c491dc",
   "metadata": {},
   "outputs": [
    {
     "name": "stdout",
     "output_type": "stream",
     "text": [
      "raw : 41.51\n",
      "sub1 : 0.42\n",
      "sub5 : 2.08\n",
      "sub10 : 4.15\n",
      "sub20 : 8.3\n",
      "sub50 : 20.75\n",
      "sub80 : 33.21\n"
     ]
    },
    {
     "data": {
      "text/plain": [
       "{'raw': 41.509876,\n",
       " 'sub1': 0.4151292539738802,\n",
       " 'sub5': 2.075399684185207,\n",
       " 'sub10': 4.15170644294692,\n",
       " 'sub20': 8.301632793570166,\n",
       " 'sub50': 20.754650329514657,\n",
       " 'sub80': 33.208829120274125}"
      ]
     },
     "execution_count": 13,
     "metadata": {},
     "output_type": "execute_result"
    }
   ],
   "source": [
    "ma.calculate_read_depths(adata)"
   ]
  },
  {
   "cell_type": "code",
   "execution_count": 14,
   "id": "9b1ffb41-63e8-48f7-8ab9-21e49090049f",
   "metadata": {},
   "outputs": [
    {
     "name": "stdout",
     "output_type": "stream",
     "text": [
      "Size of the data: \n",
      " 26355 genes \n",
      " 2744 cells \n",
      " 72318120 size of count matrix \n",
      " 8427091 positive positions in the count matrix \n",
      "\n",
      "Raw data found in the AnnData object. \n",
      "\n",
      "Average read depths:\n",
      "raw : 41.51\n",
      "sub1 : 0.42\n",
      "sub5 : 2.08\n",
      "sub10 : 4.15\n",
      "sub20 : 8.3\n",
      "sub50 : 20.75\n",
      "sub80 : 33.21\n"
     ]
    }
   ],
   "source": [
    "ma.data_info(adata)"
   ]
  },
  {
   "cell_type": "markdown",
   "id": "197d23f4-a4cd-4145-944b-9b7bac05397d",
   "metadata": {},
   "source": [
    "## Visualize distributions"
   ]
  },
  {
   "cell_type": "code",
   "execution_count": 15,
   "id": "d833e355-0de5-4a24-b255-163ac8d8c84b",
   "metadata": {},
   "outputs": [
    {
     "data": {
      "image/png": "[encoded data removed]",
      "text/plain": [
       "<Figure size 640x480 with 1 Axes>"
      ]
     },
     "metadata": {},
     "output_type": "display_data"
    }
   ],
   "source": [
    "org_count_mtx = adata.layers['raw']\n",
    "org_count_mtx\n",
    "\n",
    "# sc.pp.calculate_qc_metrics(adata, layer='raw')[1]\n",
    "\n",
    "# Choose the gene column index you are interested in\n",
    "gene_index = 6386  # This can be any index from 0 to number of genes - 1\n",
    "\n",
    "# Extract the counts for the chosen gene\n",
    "gene_counts = org_count_mtx[:, gene_index]\n",
    "gene_counts_positive = gene_counts[gene_counts != 0]\n",
    "\n",
    "import numpy as np\n",
    "import matplotlib.pyplot as plt\n",
    "\n",
    "# Plot the distribution using a histogram\n",
    "plt.hist(gene_counts_positive, bins=100, alpha=0.75, edgecolor='black')\n",
    "plt.title(f'Distribution of counts for gene {gene_index}')\n",
    "plt.xlabel('Counts')\n",
    "plt.ylabel('Frequency')\n",
    "plt.show()"
   ]
  },
  {
   "cell_type": "code",
   "execution_count": 16,
   "id": "a3cd37ac-1bd0-4b5a-881a-252dfb203ed3",
   "metadata": {},
   "outputs": [
    {
     "name": "stdout",
     "output_type": "stream",
     "text": [
      "349807264 total sequencing depth\n",
      "127480 average depth per cell\n",
      "13272 average depth per gene\n",
      "4 average depth per cell per gene\n"
     ]
    }
   ],
   "source": [
    "total_sequencing_depth = org_count_mtx.sum()\n",
    "avg_per_cell_depth = total_sequencing_depth/org_count_mtx.shape[0]\n",
    "avg_per_gene_depth = total_sequencing_depth/org_count_mtx.shape[1]\n",
    "avg_per_cell_per_gene_depth = org_count_mtx.mean()\n",
    "\n",
    "print(int(total_sequencing_depth), 'total sequencing depth')\n",
    "print(int(avg_per_cell_depth), 'average depth per cell')\n",
    "print(int(avg_per_gene_depth), 'average depth per gene')\n",
    "print(int(avg_per_cell_per_gene_depth), 'average depth per cell per gene')"
   ]
  },
  {
   "cell_type": "markdown",
   "id": "a968d5db-b999-458f-9a52-588f07798de6",
   "metadata": {},
   "source": [
    "## Calculating the genes average percentile count value across cells"
   ]
  },
  {
   "cell_type": "code",
   "execution_count": 17,
   "id": "acaf070d-b153-44da-a0e4-047f7a73eeb6",
   "metadata": {},
   "outputs": [],
   "source": [
    "import numpy as np\n",
    "\n",
    "layers = adata.layers.keys()\n",
    "\n",
    "def average_gene_percentile_multiple_layers(adata, layers, percentile):\n",
    "    for layer in layers:\n",
    "        # Get the count matrix from the specified layer\n",
    "        org_count_mtx = adata.layers[layer]\n",
    "        \n",
    "        # Initialize a list to store percentiles\n",
    "        gene_percentile_list = []\n",
    "\n",
    "        # Iterate over each gene (column) in the matrix\n",
    "        for gene_index in range(org_count_mtx.shape[1]):\n",
    "            # Extract the counts for the current gene\n",
    "            if isinstance(org_count_mtx, np.ndarray):\n",
    "                gene_counts = org_count_mtx[:, gene_index]\n",
    "            else:\n",
    "                gene_counts = org_count_mtx[:, gene_index].toarray().flatten()  # Ensure it's a flat array if sparse\n",
    "\n",
    "            # Calculate the specified percentile for the current gene\n",
    "            gene_percentile_value = np.percentile(gene_counts, percentile)\n",
    "            gene_percentile_list.append(gene_percentile_value)\n",
    "        \n",
    "        # Calculate the average percentile value across all genes\n",
    "        average_percentile = np.mean(gene_percentile_list)\n",
    "        \n",
    "        # Print the results for the current layer\n",
    "        print(f'Layer: {layer}, Average {percentile}th percentile count value across all genes: {round(average_percentile, 2)}')"
   ]
  },
  {
   "cell_type": "code",
   "execution_count": 18,
   "id": "e0cee426-136e-4d9c-8dbc-7297a3bceba2",
   "metadata": {},
   "outputs": [
    {
     "name": "stdout",
     "output_type": "stream",
     "text": [
      "Layer: raw, Average 98th percentile count value across all genes: 62.02\n",
      "Layer: sub1, Average 98th percentile count value across all genes: 0.63\n",
      "Layer: sub5, Average 98th percentile count value across all genes: 3.14\n",
      "Layer: sub10, Average 98th percentile count value across all genes: 6.26\n",
      "Layer: sub20, Average 98th percentile count value across all genes: 12.46\n",
      "Layer: sub50, Average 98th percentile count value across all genes: 31.04\n",
      "Layer: sub80, Average 98th percentile count value across all genes: 49.63\n"
     ]
    }
   ],
   "source": [
    "average_gene_percentile_multiple_layers(adata, layers=layers, percentile=98)"
   ]
  },
  {
   "cell_type": "code",
   "execution_count": 19,
   "id": "3e11c9f0-7336-4b36-b576-f105c5e4edf6",
   "metadata": {},
   "outputs": [
    {
     "name": "stdout",
     "output_type": "stream",
     "text": [
      "Layer: raw, Average 95th percentile count value across all genes: 23.89\n",
      "Layer: sub1, Average 95th percentile count value across all genes: 0.21\n",
      "Layer: sub5, Average 95th percentile count value across all genes: 1.19\n",
      "Layer: sub10, Average 95th percentile count value across all genes: 2.4\n",
      "Layer: sub20, Average 95th percentile count value across all genes: 4.8\n",
      "Layer: sub50, Average 95th percentile count value across all genes: 11.98\n",
      "Layer: sub80, Average 95th percentile count value across all genes: 19.13\n"
     ]
    }
   ],
   "source": [
    "average_gene_percentile_multiple_layers(adata, layers=layers, percentile=95)"
   ]
  },
  {
   "cell_type": "code",
   "execution_count": 20,
   "id": "555b049b-4f59-411a-8882-11f701a3130f",
   "metadata": {},
   "outputs": [
    {
     "name": "stdout",
     "output_type": "stream",
     "text": [
      "Size of the data: \n",
      " 26355 genes \n",
      " 2744 cells \n",
      " 72318120 size of count matrix \n",
      " 8427091 positive positions in the count matrix \n",
      "\n",
      "Raw data found in the AnnData object. \n",
      "\n",
      "Average read depths:\n",
      "raw : 41.51\n",
      "sub1 : 0.42\n",
      "sub5 : 2.08\n",
      "sub10 : 4.15\n",
      "sub20 : 8.3\n",
      "sub50 : 20.75\n",
      "sub80 : 33.21\n"
     ]
    }
   ],
   "source": [
    "ma.data_info(adata)"
   ]
  },
  {
   "cell_type": "code",
   "execution_count": null,
   "id": "1b1ae7f5-28df-4e0a-9346-1d4099e655cb",
   "metadata": {},
   "outputs": [],
   "source": []
  }
 ],
 "metadata": {
  "kernelspec": {
   "display_name": "Python3.12.4 (scanpy_env)",
   "language": "python",
   "name": "scanpy_env"
  },
  "language_info": {
   "codemirror_mode": {
    "name": "ipython",
    "version": 3
   },
   "file_extension": ".py",
   "mimetype": "text/x-python",
   "name": "python",
   "nbconvert_exporter": "python",
   "pygments_lexer": "ipython3",
   "version": "3.12.4"
  }
 },
 "nbformat": 4,
 "nbformat_minor": 5
}
